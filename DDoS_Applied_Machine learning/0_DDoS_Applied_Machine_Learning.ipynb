{
  "nbformat": 4,
  "nbformat_minor": 0,
  "metadata": {
    "colab": {
      "name": "0.DDoS_Applied Machine Learning.ipynb",
      "provenance": [],
      "collapsed_sections": []
    },
    "kernelspec": {
      "name": "python3",
      "display_name": "Python 3"
    },
    "language_info": {
      "name": "python"
    }
  },
  "cells": [
    {
      "cell_type": "code",
      "execution_count": null,
      "metadata": {
        "colab": {
          "base_uri": "https://localhost:8080/",
          "height": 322
        },
        "id": "7b8yjyvAp8_c",
        "outputId": "a7d55da9-0eee-4537-b1bd-8c9f8e83a59e"
      },
      "outputs": [
        {
          "output_type": "execute_result",
          "data": {
            "text/html": [
              "\n",
              "  <div id=\"df-a9878fa2-5a18-479c-b588-edc734e826a6\">\n",
              "    <div class=\"colab-df-container\">\n",
              "      <div>\n",
              "<style scoped>\n",
              "    .dataframe tbody tr th:only-of-type {\n",
              "        vertical-align: middle;\n",
              "    }\n",
              "\n",
              "    .dataframe tbody tr th {\n",
              "        vertical-align: top;\n",
              "    }\n",
              "\n",
              "    .dataframe thead th {\n",
              "        text-align: right;\n",
              "    }\n",
              "</style>\n",
              "<table border=\"1\" class=\"dataframe\">\n",
              "  <thead>\n",
              "    <tr style=\"text-align: right;\">\n",
              "      <th></th>\n",
              "      <th>Flow Duration</th>\n",
              "      <th>Tot Fwd Pkts</th>\n",
              "      <th>Tot Bwd Pkts</th>\n",
              "      <th>TotLen Fwd Pkts</th>\n",
              "      <th>TotLen Bwd Pkts</th>\n",
              "      <th>Fwd Pkt Len Max</th>\n",
              "      <th>Fwd Pkt Len Min</th>\n",
              "      <th>Fwd Pkt Len Mean</th>\n",
              "      <th>Fwd Pkt Len Std</th>\n",
              "      <th>Bwd Pkt Len Max</th>\n",
              "      <th>Bwd Pkt Len Min</th>\n",
              "      <th>Bwd Pkt Len Mean</th>\n",
              "      <th>Bwd Pkt Len Std</th>\n",
              "      <th>Flow Byts/s</th>\n",
              "      <th>Flow Pkts/s</th>\n",
              "      <th>Flow IAT Mean</th>\n",
              "      <th>Flow IAT Std</th>\n",
              "      <th>Flow IAT Max</th>\n",
              "      <th>Flow IAT Min</th>\n",
              "      <th>Fwd IAT Tot</th>\n",
              "      <th>Fwd IAT Mean</th>\n",
              "      <th>Fwd IAT Std</th>\n",
              "      <th>Fwd IAT Max</th>\n",
              "      <th>Fwd IAT Min</th>\n",
              "      <th>Bwd IAT Tot</th>\n",
              "      <th>Bwd IAT Mean</th>\n",
              "      <th>Bwd IAT Std</th>\n",
              "      <th>Bwd IAT Max</th>\n",
              "      <th>Bwd IAT Min</th>\n",
              "      <th>Fwd URG Flags</th>\n",
              "      <th>Bwd URG Flags</th>\n",
              "      <th>Fwd Header Len</th>\n",
              "      <th>Bwd Header Len</th>\n",
              "      <th>Fwd Pkts/s</th>\n",
              "      <th>Bwd Pkts/s</th>\n",
              "      <th>Pkt Len Min</th>\n",
              "      <th>Pkt Len Max</th>\n",
              "      <th>Pkt Len Mean</th>\n",
              "      <th>Pkt Len Std</th>\n",
              "      <th>Pkt Len Var</th>\n",
              "      <th>FIN Flag Cnt</th>\n",
              "      <th>SYN Flag Cnt</th>\n",
              "      <th>RST Flag Cnt</th>\n",
              "      <th>PSH Flag Cnt</th>\n",
              "      <th>ACK Flag Cnt</th>\n",
              "      <th>URG Flag Cnt</th>\n",
              "      <th>CWE Flag Count</th>\n",
              "      <th>ECE Flag Cnt</th>\n",
              "      <th>Down/Up Ratio</th>\n",
              "      <th>Pkt Size Avg</th>\n",
              "      <th>Fwd Seg Size Avg</th>\n",
              "      <th>Bwd Seg Size Avg</th>\n",
              "      <th>Subflow Fwd Pkts</th>\n",
              "      <th>Subflow Fwd Byts</th>\n",
              "      <th>Subflow Bwd Pkts</th>\n",
              "      <th>Subflow Bwd Byts</th>\n",
              "      <th>Fwd Act Data Pkts</th>\n",
              "      <th>Fwd Seg Size Min</th>\n",
              "      <th>Active Mean</th>\n",
              "      <th>Active Std</th>\n",
              "      <th>Active Max</th>\n",
              "      <th>Active Min</th>\n",
              "      <th>Idle Mean</th>\n",
              "      <th>Idle Std</th>\n",
              "      <th>Idle Max</th>\n",
              "      <th>Idle Min</th>\n",
              "      <th>Label</th>\n",
              "    </tr>\n",
              "  </thead>\n",
              "  <tbody>\n",
              "    <tr>\n",
              "      <th>0</th>\n",
              "      <td>3268</td>\n",
              "      <td>1</td>\n",
              "      <td>3</td>\n",
              "      <td>34</td>\n",
              "      <td>690</td>\n",
              "      <td>34</td>\n",
              "      <td>34</td>\n",
              "      <td>34.000000</td>\n",
              "      <td>0.000000</td>\n",
              "      <td>334</td>\n",
              "      <td>34</td>\n",
              "      <td>230.000000</td>\n",
              "      <td>169.846990</td>\n",
              "      <td>221542.227700</td>\n",
              "      <td>1223.990208</td>\n",
              "      <td>1.089333e+03</td>\n",
              "      <td>1.813599e+03</td>\n",
              "      <td>3183</td>\n",
              "      <td>3</td>\n",
              "      <td>0</td>\n",
              "      <td>0.000000e+00</td>\n",
              "      <td>0.000000e+00</td>\n",
              "      <td>0</td>\n",
              "      <td>0</td>\n",
              "      <td>3268</td>\n",
              "      <td>1634.00000</td>\n",
              "      <td>2306.582320</td>\n",
              "      <td>3265</td>\n",
              "      <td>3</td>\n",
              "      <td>0</td>\n",
              "      <td>0</td>\n",
              "      <td>8</td>\n",
              "      <td>24</td>\n",
              "      <td>305.997552</td>\n",
              "      <td>917.992656</td>\n",
              "      <td>34</td>\n",
              "      <td>334</td>\n",
              "      <td>151.600000</td>\n",
              "      <td>161.086312</td>\n",
              "      <td>2.594880e+04</td>\n",
              "      <td>0</td>\n",
              "      <td>0</td>\n",
              "      <td>0</td>\n",
              "      <td>0</td>\n",
              "      <td>0</td>\n",
              "      <td>0</td>\n",
              "      <td>0</td>\n",
              "      <td>0</td>\n",
              "      <td>3</td>\n",
              "      <td>189.500000</td>\n",
              "      <td>34.000000</td>\n",
              "      <td>230.000000</td>\n",
              "      <td>44</td>\n",
              "      <td>124937</td>\n",
              "      <td>40</td>\n",
              "      <td>1071</td>\n",
              "      <td>1</td>\n",
              "      <td>0</td>\n",
              "      <td>0.0</td>\n",
              "      <td>0.000</td>\n",
              "      <td>0</td>\n",
              "      <td>0</td>\n",
              "      <td>0.0</td>\n",
              "      <td>0.0</td>\n",
              "      <td>0</td>\n",
              "      <td>0</td>\n",
              "      <td>0</td>\n",
              "    </tr>\n",
              "    <tr>\n",
              "      <th>1</th>\n",
              "      <td>3203</td>\n",
              "      <td>1</td>\n",
              "      <td>3</td>\n",
              "      <td>30</td>\n",
              "      <td>422</td>\n",
              "      <td>30</td>\n",
              "      <td>30</td>\n",
              "      <td>30.000000</td>\n",
              "      <td>0.000000</td>\n",
              "      <td>248</td>\n",
              "      <td>30</td>\n",
              "      <td>140.666667</td>\n",
              "      <td>109.038220</td>\n",
              "      <td>141117.702200</td>\n",
              "      <td>1248.829223</td>\n",
              "      <td>1.067667e+03</td>\n",
              "      <td>1.617743e+03</td>\n",
              "      <td>2934</td>\n",
              "      <td>66</td>\n",
              "      <td>0</td>\n",
              "      <td>0.000000e+00</td>\n",
              "      <td>0.000000e+00</td>\n",
              "      <td>0</td>\n",
              "      <td>0</td>\n",
              "      <td>3203</td>\n",
              "      <td>1601.50000</td>\n",
              "      <td>1977.777667</td>\n",
              "      <td>3000</td>\n",
              "      <td>203</td>\n",
              "      <td>0</td>\n",
              "      <td>0</td>\n",
              "      <td>8</td>\n",
              "      <td>24</td>\n",
              "      <td>312.207306</td>\n",
              "      <td>936.621917</td>\n",
              "      <td>30</td>\n",
              "      <td>248</td>\n",
              "      <td>96.400000</td>\n",
              "      <td>98.075481</td>\n",
              "      <td>9.618800e+03</td>\n",
              "      <td>0</td>\n",
              "      <td>0</td>\n",
              "      <td>0</td>\n",
              "      <td>0</td>\n",
              "      <td>0</td>\n",
              "      <td>0</td>\n",
              "      <td>0</td>\n",
              "      <td>0</td>\n",
              "      <td>3</td>\n",
              "      <td>120.500000</td>\n",
              "      <td>30.000000</td>\n",
              "      <td>140.666667</td>\n",
              "      <td>44</td>\n",
              "      <td>124937</td>\n",
              "      <td>40</td>\n",
              "      <td>1071</td>\n",
              "      <td>1</td>\n",
              "      <td>0</td>\n",
              "      <td>0.0</td>\n",
              "      <td>0.000</td>\n",
              "      <td>0</td>\n",
              "      <td>0</td>\n",
              "      <td>0.0</td>\n",
              "      <td>0.0</td>\n",
              "      <td>0</td>\n",
              "      <td>0</td>\n",
              "      <td>0</td>\n",
              "    </tr>\n",
              "    <tr>\n",
              "      <th>2</th>\n",
              "      <td>3737838</td>\n",
              "      <td>15</td>\n",
              "      <td>15</td>\n",
              "      <td>1067</td>\n",
              "      <td>32637</td>\n",
              "      <td>517</td>\n",
              "      <td>0</td>\n",
              "      <td>71.133333</td>\n",
              "      <td>171.958411</td>\n",
              "      <td>5200</td>\n",
              "      <td>0</td>\n",
              "      <td>2175.800000</td>\n",
              "      <td>2055.257794</td>\n",
              "      <td>9016.977194</td>\n",
              "      <td>8.026030</td>\n",
              "      <td>1.288910e+05</td>\n",
              "      <td>5.210152e+05</td>\n",
              "      <td>2656111</td>\n",
              "      <td>-13</td>\n",
              "      <td>2724397</td>\n",
              "      <td>1.945998e+05</td>\n",
              "      <td>7.090675e+05</td>\n",
              "      <td>2658098</td>\n",
              "      <td>204</td>\n",
              "      <td>3728212</td>\n",
              "      <td>266300.85710</td>\n",
              "      <td>738974.183200</td>\n",
              "      <td>2657883</td>\n",
              "      <td>1</td>\n",
              "      <td>0</td>\n",
              "      <td>0</td>\n",
              "      <td>300</td>\n",
              "      <td>324</td>\n",
              "      <td>4.013015</td>\n",
              "      <td>4.013015</td>\n",
              "      <td>0</td>\n",
              "      <td>5200</td>\n",
              "      <td>1087.225806</td>\n",
              "      <td>1770.073308</td>\n",
              "      <td>3.133160e+06</td>\n",
              "      <td>0</td>\n",
              "      <td>1</td>\n",
              "      <td>0</td>\n",
              "      <td>0</td>\n",
              "      <td>0</td>\n",
              "      <td>0</td>\n",
              "      <td>0</td>\n",
              "      <td>0</td>\n",
              "      <td>1</td>\n",
              "      <td>1123.466667</td>\n",
              "      <td>71.133333</td>\n",
              "      <td>2175.800000</td>\n",
              "      <td>107</td>\n",
              "      <td>1071</td>\n",
              "      <td>149</td>\n",
              "      <td>439537</td>\n",
              "      <td>4</td>\n",
              "      <td>0</td>\n",
              "      <td>0.0</td>\n",
              "      <td>0.000</td>\n",
              "      <td>0</td>\n",
              "      <td>0</td>\n",
              "      <td>0.0</td>\n",
              "      <td>0.0</td>\n",
              "      <td>0</td>\n",
              "      <td>0</td>\n",
              "      <td>0</td>\n",
              "    </tr>\n",
              "    <tr>\n",
              "      <th>3</th>\n",
              "      <td>283085</td>\n",
              "      <td>16</td>\n",
              "      <td>18</td>\n",
              "      <td>1067</td>\n",
              "      <td>39137</td>\n",
              "      <td>517</td>\n",
              "      <td>0</td>\n",
              "      <td>66.687500</td>\n",
              "      <td>167.076716</td>\n",
              "      <td>6500</td>\n",
              "      <td>0</td>\n",
              "      <td>2174.277778</td>\n",
              "      <td>2035.046749</td>\n",
              "      <td>142020.947800</td>\n",
              "      <td>120.105269</td>\n",
              "      <td>8.578333e+03</td>\n",
              "      <td>3.536203e+04</td>\n",
              "      <td>203893</td>\n",
              "      <td>-12</td>\n",
              "      <td>269338</td>\n",
              "      <td>1.795587e+04</td>\n",
              "      <td>5.214134e+04</td>\n",
              "      <td>205283</td>\n",
              "      <td>302</td>\n",
              "      <td>276797</td>\n",
              "      <td>16282.17647</td>\n",
              "      <td>49024.475670</td>\n",
              "      <td>205236</td>\n",
              "      <td>2</td>\n",
              "      <td>0</td>\n",
              "      <td>0</td>\n",
              "      <td>320</td>\n",
              "      <td>384</td>\n",
              "      <td>56.520126</td>\n",
              "      <td>63.585142</td>\n",
              "      <td>0</td>\n",
              "      <td>6500</td>\n",
              "      <td>1148.685714</td>\n",
              "      <td>1797.112746</td>\n",
              "      <td>3.229614e+06</td>\n",
              "      <td>0</td>\n",
              "      <td>1</td>\n",
              "      <td>0</td>\n",
              "      <td>0</td>\n",
              "      <td>0</td>\n",
              "      <td>0</td>\n",
              "      <td>0</td>\n",
              "      <td>0</td>\n",
              "      <td>1</td>\n",
              "      <td>1182.470588</td>\n",
              "      <td>66.687500</td>\n",
              "      <td>2174.277778</td>\n",
              "      <td>5</td>\n",
              "      <td>66</td>\n",
              "      <td>5</td>\n",
              "      <td>758</td>\n",
              "      <td>4</td>\n",
              "      <td>0</td>\n",
              "      <td>0.0</td>\n",
              "      <td>0.000</td>\n",
              "      <td>0</td>\n",
              "      <td>0</td>\n",
              "      <td>0.0</td>\n",
              "      <td>0.0</td>\n",
              "      <td>0</td>\n",
              "      <td>0</td>\n",
              "      <td>0</td>\n",
              "    </tr>\n",
              "    <tr>\n",
              "      <th>4</th>\n",
              "      <td>109993357</td>\n",
              "      <td>27</td>\n",
              "      <td>1</td>\n",
              "      <td>862</td>\n",
              "      <td>38</td>\n",
              "      <td>76</td>\n",
              "      <td>28</td>\n",
              "      <td>31.925926</td>\n",
              "      <td>12.848005</td>\n",
              "      <td>38</td>\n",
              "      <td>38</td>\n",
              "      <td>38.000000</td>\n",
              "      <td>0.000000</td>\n",
              "      <td>8.182312</td>\n",
              "      <td>0.254561</td>\n",
              "      <td>4.073828e+06</td>\n",
              "      <td>1.680000e+07</td>\n",
              "      <td>86500000</td>\n",
              "      <td>16</td>\n",
              "      <td>110000000</td>\n",
              "      <td>4.230441e+06</td>\n",
              "      <td>1.710000e+07</td>\n",
              "      <td>86500000</td>\n",
              "      <td>16</td>\n",
              "      <td>0</td>\n",
              "      <td>0.00000</td>\n",
              "      <td>0.000000</td>\n",
              "      <td>0</td>\n",
              "      <td>0</td>\n",
              "      <td>0</td>\n",
              "      <td>0</td>\n",
              "      <td>216</td>\n",
              "      <td>8</td>\n",
              "      <td>0.245469</td>\n",
              "      <td>0.009091</td>\n",
              "      <td>28</td>\n",
              "      <td>76</td>\n",
              "      <td>32.344828</td>\n",
              "      <td>12.479343</td>\n",
              "      <td>1.557340e+02</td>\n",
              "      <td>0</td>\n",
              "      <td>0</td>\n",
              "      <td>0</td>\n",
              "      <td>0</td>\n",
              "      <td>0</td>\n",
              "      <td>0</td>\n",
              "      <td>0</td>\n",
              "      <td>0</td>\n",
              "      <td>0</td>\n",
              "      <td>33.500000</td>\n",
              "      <td>31.925926</td>\n",
              "      <td>38.000000</td>\n",
              "      <td>1</td>\n",
              "      <td>0</td>\n",
              "      <td>1</td>\n",
              "      <td>0</td>\n",
              "      <td>27</td>\n",
              "      <td>0</td>\n",
              "      <td>3131995.0</td>\n",
              "      <td>4416426.321</td>\n",
              "      <td>6254880</td>\n",
              "      <td>9110</td>\n",
              "      <td>51400000.0</td>\n",
              "      <td>49600000.0</td>\n",
              "      <td>86500000</td>\n",
              "      <td>16300000</td>\n",
              "      <td>0</td>\n",
              "    </tr>\n",
              "  </tbody>\n",
              "</table>\n",
              "</div>\n",
              "      <button class=\"colab-df-convert\" onclick=\"convertToInteractive('df-a9878fa2-5a18-479c-b588-edc734e826a6')\"\n",
              "              title=\"Convert this dataframe to an interactive table.\"\n",
              "              style=\"display:none;\">\n",
              "        \n",
              "  <svg xmlns=\"http://www.w3.org/2000/svg\" height=\"24px\"viewBox=\"0 0 24 24\"\n",
              "       width=\"24px\">\n",
              "    <path d=\"M0 0h24v24H0V0z\" fill=\"none\"/>\n",
              "    <path d=\"M18.56 5.44l.94 2.06.94-2.06 2.06-.94-2.06-.94-.94-2.06-.94 2.06-2.06.94zm-11 1L8.5 8.5l.94-2.06 2.06-.94-2.06-.94L8.5 2.5l-.94 2.06-2.06.94zm10 10l.94 2.06.94-2.06 2.06-.94-2.06-.94-.94-2.06-.94 2.06-2.06.94z\"/><path d=\"M17.41 7.96l-1.37-1.37c-.4-.4-.92-.59-1.43-.59-.52 0-1.04.2-1.43.59L10.3 9.45l-7.72 7.72c-.78.78-.78 2.05 0 2.83L4 21.41c.39.39.9.59 1.41.59.51 0 1.02-.2 1.41-.59l7.78-7.78 2.81-2.81c.8-.78.8-2.07 0-2.86zM5.41 20L4 18.59l7.72-7.72 1.47 1.35L5.41 20z\"/>\n",
              "  </svg>\n",
              "      </button>\n",
              "      \n",
              "  <style>\n",
              "    .colab-df-container {\n",
              "      display:flex;\n",
              "      flex-wrap:wrap;\n",
              "      gap: 12px;\n",
              "    }\n",
              "\n",
              "    .colab-df-convert {\n",
              "      background-color: #E8F0FE;\n",
              "      border: none;\n",
              "      border-radius: 50%;\n",
              "      cursor: pointer;\n",
              "      display: none;\n",
              "      fill: #1967D2;\n",
              "      height: 32px;\n",
              "      padding: 0 0 0 0;\n",
              "      width: 32px;\n",
              "    }\n",
              "\n",
              "    .colab-df-convert:hover {\n",
              "      background-color: #E2EBFA;\n",
              "      box-shadow: 0px 1px 2px rgba(60, 64, 67, 0.3), 0px 1px 3px 1px rgba(60, 64, 67, 0.15);\n",
              "      fill: #174EA6;\n",
              "    }\n",
              "\n",
              "    [theme=dark] .colab-df-convert {\n",
              "      background-color: #3B4455;\n",
              "      fill: #D2E3FC;\n",
              "    }\n",
              "\n",
              "    [theme=dark] .colab-df-convert:hover {\n",
              "      background-color: #434B5C;\n",
              "      box-shadow: 0px 1px 3px 1px rgba(0, 0, 0, 0.15);\n",
              "      filter: drop-shadow(0px 1px 2px rgba(0, 0, 0, 0.3));\n",
              "      fill: #FFFFFF;\n",
              "    }\n",
              "  </style>\n",
              "\n",
              "      <script>\n",
              "        const buttonEl =\n",
              "          document.querySelector('#df-a9878fa2-5a18-479c-b588-edc734e826a6 button.colab-df-convert');\n",
              "        buttonEl.style.display =\n",
              "          google.colab.kernel.accessAllowed ? 'block' : 'none';\n",
              "\n",
              "        async function convertToInteractive(key) {\n",
              "          const element = document.querySelector('#df-a9878fa2-5a18-479c-b588-edc734e826a6');\n",
              "          const dataTable =\n",
              "            await google.colab.kernel.invokeFunction('convertToInteractive',\n",
              "                                                     [key], {});\n",
              "          if (!dataTable) return;\n",
              "\n",
              "          const docLinkHtml = 'Like what you see? Visit the ' +\n",
              "            '<a target=\"_blank\" href=https://colab.research.google.com/notebooks/data_table.ipynb>data table notebook</a>'\n",
              "            + ' to learn more about interactive tables.';\n",
              "          element.innerHTML = '';\n",
              "          dataTable['output_type'] = 'display_data';\n",
              "          await google.colab.output.renderOutput(dataTable, element);\n",
              "          const docLink = document.createElement('div');\n",
              "          docLink.innerHTML = docLinkHtml;\n",
              "          element.appendChild(docLink);\n",
              "        }\n",
              "      </script>\n",
              "    </div>\n",
              "  </div>\n",
              "  "
            ],
            "text/plain": [
              "   Flow Duration  Tot Fwd Pkts  Tot Bwd Pkts  ...  Idle Max  Idle Min  Label\n",
              "0           3268             1             3  ...         0         0      0\n",
              "1           3203             1             3  ...         0         0      0\n",
              "2        3737838            15            15  ...         0         0      0\n",
              "3         283085            16            18  ...         0         0      0\n",
              "4      109993357            27             1  ...  86500000  16300000      0\n",
              "\n",
              "[5 rows x 67 columns]"
            ]
          },
          "metadata": {},
          "execution_count": 2
        }
      ],
      "source": [
        "import matplotlib.pyplot as plt\n",
        "import numpy as np\n",
        "import pandas as pd\n",
        "import seaborn as sns\n",
        "%matplotlib inline\n",
        "\n",
        "DDoS = pd.read_csv('/content/MY_Final_Dataset_csv.csv')\n",
        "DDoS.head()"
      ]
    },
    {
      "cell_type": "code",
      "source": [
        "DDoS.isnull().sum()"
      ],
      "metadata": {
        "colab": {
          "base_uri": "https://localhost:8080/"
        },
        "id": "0qPgEm1Gqc6L",
        "outputId": "8eef92d2-7069-4d44-fa53-cb45517e32c4"
      },
      "execution_count": null,
      "outputs": [
        {
          "output_type": "execute_result",
          "data": {
            "text/plain": [
              "Flow Duration      0\n",
              "Tot Fwd Pkts       0\n",
              "Tot Bwd Pkts       0\n",
              "TotLen Fwd Pkts    0\n",
              "TotLen Bwd Pkts    0\n",
              "                  ..\n",
              "Idle Mean          0\n",
              "Idle Std           0\n",
              "Idle Max           0\n",
              "Idle Min           0\n",
              "Label              0\n",
              "Length: 67, dtype: int64"
            ]
          },
          "metadata": {},
          "execution_count": 3
        }
      ]
    },
    {
      "cell_type": "code",
      "source": [
        "\n",
        "from sklearn.model_selection import train_test_split\n",
        "features = DDoS.drop('Label', axis=1)\n",
        "labels = DDoS['Label']\n",
        "\n",
        "X_train, X_test, y_train, y_test = train_test_split(features, labels, test_size=0.4, random_state=42)\n",
        "X_val, X_test, y_val, y_test = train_test_split(X_test, y_test, test_size=0.5, random_state=42)"
      ],
      "metadata": {
        "id": "nII9KIsJqhrW"
      },
      "execution_count": null,
      "outputs": []
    },
    {
      "cell_type": "code",
      "source": [
        "for dataset in [y_train, y_val, y_test]:\n",
        "    print(round(len(dataset) / len(labels), 2))"
      ],
      "metadata": {
        "colab": {
          "base_uri": "https://localhost:8080/"
        },
        "id": "yknRVjtMqmgR",
        "outputId": "1cec178b-89ff-4622-f6b4-e3c272e3cf2f"
      },
      "execution_count": null,
      "outputs": [
        {
          "output_type": "stream",
          "name": "stdout",
          "text": [
            "0.6\n",
            "0.2\n",
            "0.2\n"
          ]
        }
      ]
    },
    {
      "cell_type": "code",
      "source": [
        "X_train.to_csv('train_features.csv', index=False)\n",
        "X_val.to_csv('val_features.csv', index=False)\n",
        "X_test.to_csv('test_features.csv', index=False)\n",
        "\n",
        "y_train.to_csv('train_labels.csv', index=False)\n",
        "y_val.to_csv('val_labels.csv', index=False)\n",
        "y_test.to_csv('test_labels.csv', index=False)"
      ],
      "metadata": {
        "id": "n6s3t6qPqqE4"
      },
      "execution_count": null,
      "outputs": []
    },
    {
      "cell_type": "code",
      "source": [
        "import joblib\n",
        "import pandas as pd\n",
        "from sklearn.linear_model import LogisticRegression\n",
        "from sklearn.model_selection import GridSearchCV\n",
        "import warnings\n",
        "warnings.filterwarnings('ignore', category=FutureWarning)\n",
        "warnings.filterwarnings('ignore', category=DeprecationWarning)\n",
        "\n",
        "tr_features = pd.read_csv('train_features.csv')\n",
        "tr_labels = pd.read_csv('train_labels.csv')\n",
        "def print_results(results):\n",
        "    print('BEST PARAMS: {}\\n'.format(results.best_params_))\n",
        "\n",
        "    means = results.cv_results_['mean_test_score']\n",
        "    stds = results.cv_results_['std_test_score']\n",
        "    for mean, std, params in zip(means, stds, results.cv_results_['params']):\n",
        "        print('{} (+/-{}) for {}'.format(round(mean, 3), round(std * 2, 3), params))\n",
        "\n",
        "lr = LogisticRegression()\n",
        "parameters = {\n",
        "    'C': [0.001, 0.01, 0.1, 1, 10, 100, 1000]\n",
        "}\n",
        "\n",
        "cv = GridSearchCV(lr, parameters, cv=5)\n",
        "cv.fit(tr_features, tr_labels.values.ravel())\n",
        "\n",
        "print_results(cv)\n",
        "\n"
      ],
      "metadata": {
        "colab": {
          "base_uri": "https://localhost:8080/"
        },
        "id": "m2HMumM5q_CP",
        "outputId": "12f1cf7d-e700-40c8-9150-039d7050a555"
      },
      "execution_count": null,
      "outputs": [
        {
          "output_type": "stream",
          "name": "stderr",
          "text": [
            "/usr/local/lib/python3.7/dist-packages/sklearn/linear_model/_logistic.py:818: ConvergenceWarning: lbfgs failed to converge (status=1):\n",
            "STOP: TOTAL NO. of ITERATIONS REACHED LIMIT.\n",
            "\n",
            "Increase the number of iterations (max_iter) or scale the data as shown in:\n",
            "    https://scikit-learn.org/stable/modules/preprocessing.html\n",
            "Please also refer to the documentation for alternative solver options:\n",
            "    https://scikit-learn.org/stable/modules/linear_model.html#logistic-regression\n",
            "  extra_warning_msg=_LOGISTIC_SOLVER_CONVERGENCE_MSG,\n",
            "/usr/local/lib/python3.7/dist-packages/sklearn/linear_model/_logistic.py:818: ConvergenceWarning: lbfgs failed to converge (status=1):\n",
            "STOP: TOTAL NO. of ITERATIONS REACHED LIMIT.\n",
            "\n",
            "Increase the number of iterations (max_iter) or scale the data as shown in:\n",
            "    https://scikit-learn.org/stable/modules/preprocessing.html\n",
            "Please also refer to the documentation for alternative solver options:\n",
            "    https://scikit-learn.org/stable/modules/linear_model.html#logistic-regression\n",
            "  extra_warning_msg=_LOGISTIC_SOLVER_CONVERGENCE_MSG,\n",
            "/usr/local/lib/python3.7/dist-packages/sklearn/linear_model/_logistic.py:818: ConvergenceWarning: lbfgs failed to converge (status=1):\n",
            "STOP: TOTAL NO. of ITERATIONS REACHED LIMIT.\n",
            "\n",
            "Increase the number of iterations (max_iter) or scale the data as shown in:\n",
            "    https://scikit-learn.org/stable/modules/preprocessing.html\n",
            "Please also refer to the documentation for alternative solver options:\n",
            "    https://scikit-learn.org/stable/modules/linear_model.html#logistic-regression\n",
            "  extra_warning_msg=_LOGISTIC_SOLVER_CONVERGENCE_MSG,\n",
            "/usr/local/lib/python3.7/dist-packages/sklearn/linear_model/_logistic.py:818: ConvergenceWarning: lbfgs failed to converge (status=1):\n",
            "STOP: TOTAL NO. of ITERATIONS REACHED LIMIT.\n",
            "\n",
            "Increase the number of iterations (max_iter) or scale the data as shown in:\n",
            "    https://scikit-learn.org/stable/modules/preprocessing.html\n",
            "Please also refer to the documentation for alternative solver options:\n",
            "    https://scikit-learn.org/stable/modules/linear_model.html#logistic-regression\n",
            "  extra_warning_msg=_LOGISTIC_SOLVER_CONVERGENCE_MSG,\n",
            "/usr/local/lib/python3.7/dist-packages/sklearn/linear_model/_logistic.py:818: ConvergenceWarning: lbfgs failed to converge (status=1):\n",
            "STOP: TOTAL NO. of ITERATIONS REACHED LIMIT.\n",
            "\n",
            "Increase the number of iterations (max_iter) or scale the data as shown in:\n",
            "    https://scikit-learn.org/stable/modules/preprocessing.html\n",
            "Please also refer to the documentation for alternative solver options:\n",
            "    https://scikit-learn.org/stable/modules/linear_model.html#logistic-regression\n",
            "  extra_warning_msg=_LOGISTIC_SOLVER_CONVERGENCE_MSG,\n",
            "/usr/local/lib/python3.7/dist-packages/sklearn/linear_model/_logistic.py:818: ConvergenceWarning: lbfgs failed to converge (status=1):\n",
            "STOP: TOTAL NO. of ITERATIONS REACHED LIMIT.\n",
            "\n",
            "Increase the number of iterations (max_iter) or scale the data as shown in:\n",
            "    https://scikit-learn.org/stable/modules/preprocessing.html\n",
            "Please also refer to the documentation for alternative solver options:\n",
            "    https://scikit-learn.org/stable/modules/linear_model.html#logistic-regression\n",
            "  extra_warning_msg=_LOGISTIC_SOLVER_CONVERGENCE_MSG,\n",
            "/usr/local/lib/python3.7/dist-packages/sklearn/linear_model/_logistic.py:818: ConvergenceWarning: lbfgs failed to converge (status=1):\n",
            "STOP: TOTAL NO. of ITERATIONS REACHED LIMIT.\n",
            "\n",
            "Increase the number of iterations (max_iter) or scale the data as shown in:\n",
            "    https://scikit-learn.org/stable/modules/preprocessing.html\n",
            "Please also refer to the documentation for alternative solver options:\n",
            "    https://scikit-learn.org/stable/modules/linear_model.html#logistic-regression\n",
            "  extra_warning_msg=_LOGISTIC_SOLVER_CONVERGENCE_MSG,\n",
            "/usr/local/lib/python3.7/dist-packages/sklearn/linear_model/_logistic.py:818: ConvergenceWarning: lbfgs failed to converge (status=1):\n",
            "STOP: TOTAL NO. of ITERATIONS REACHED LIMIT.\n",
            "\n",
            "Increase the number of iterations (max_iter) or scale the data as shown in:\n",
            "    https://scikit-learn.org/stable/modules/preprocessing.html\n",
            "Please also refer to the documentation for alternative solver options:\n",
            "    https://scikit-learn.org/stable/modules/linear_model.html#logistic-regression\n",
            "  extra_warning_msg=_LOGISTIC_SOLVER_CONVERGENCE_MSG,\n",
            "/usr/local/lib/python3.7/dist-packages/sklearn/linear_model/_logistic.py:818: ConvergenceWarning: lbfgs failed to converge (status=1):\n",
            "STOP: TOTAL NO. of ITERATIONS REACHED LIMIT.\n",
            "\n",
            "Increase the number of iterations (max_iter) or scale the data as shown in:\n",
            "    https://scikit-learn.org/stable/modules/preprocessing.html\n",
            "Please also refer to the documentation for alternative solver options:\n",
            "    https://scikit-learn.org/stable/modules/linear_model.html#logistic-regression\n",
            "  extra_warning_msg=_LOGISTIC_SOLVER_CONVERGENCE_MSG,\n",
            "/usr/local/lib/python3.7/dist-packages/sklearn/linear_model/_logistic.py:818: ConvergenceWarning: lbfgs failed to converge (status=1):\n",
            "STOP: TOTAL NO. of ITERATIONS REACHED LIMIT.\n",
            "\n",
            "Increase the number of iterations (max_iter) or scale the data as shown in:\n",
            "    https://scikit-learn.org/stable/modules/preprocessing.html\n",
            "Please also refer to the documentation for alternative solver options:\n",
            "    https://scikit-learn.org/stable/modules/linear_model.html#logistic-regression\n",
            "  extra_warning_msg=_LOGISTIC_SOLVER_CONVERGENCE_MSG,\n",
            "/usr/local/lib/python3.7/dist-packages/sklearn/linear_model/_logistic.py:818: ConvergenceWarning: lbfgs failed to converge (status=1):\n",
            "STOP: TOTAL NO. of ITERATIONS REACHED LIMIT.\n",
            "\n",
            "Increase the number of iterations (max_iter) or scale the data as shown in:\n",
            "    https://scikit-learn.org/stable/modules/preprocessing.html\n",
            "Please also refer to the documentation for alternative solver options:\n",
            "    https://scikit-learn.org/stable/modules/linear_model.html#logistic-regression\n",
            "  extra_warning_msg=_LOGISTIC_SOLVER_CONVERGENCE_MSG,\n",
            "/usr/local/lib/python3.7/dist-packages/sklearn/linear_model/_logistic.py:818: ConvergenceWarning: lbfgs failed to converge (status=1):\n",
            "STOP: TOTAL NO. of ITERATIONS REACHED LIMIT.\n",
            "\n",
            "Increase the number of iterations (max_iter) or scale the data as shown in:\n",
            "    https://scikit-learn.org/stable/modules/preprocessing.html\n",
            "Please also refer to the documentation for alternative solver options:\n",
            "    https://scikit-learn.org/stable/modules/linear_model.html#logistic-regression\n",
            "  extra_warning_msg=_LOGISTIC_SOLVER_CONVERGENCE_MSG,\n",
            "/usr/local/lib/python3.7/dist-packages/sklearn/linear_model/_logistic.py:818: ConvergenceWarning: lbfgs failed to converge (status=2):\n",
            "ABNORMAL_TERMINATION_IN_LNSRCH.\n",
            "\n",
            "Increase the number of iterations (max_iter) or scale the data as shown in:\n",
            "    https://scikit-learn.org/stable/modules/preprocessing.html\n",
            "Please also refer to the documentation for alternative solver options:\n",
            "    https://scikit-learn.org/stable/modules/linear_model.html#logistic-regression\n",
            "  extra_warning_msg=_LOGISTIC_SOLVER_CONVERGENCE_MSG,\n",
            "/usr/local/lib/python3.7/dist-packages/sklearn/linear_model/_logistic.py:818: ConvergenceWarning: lbfgs failed to converge (status=1):\n",
            "STOP: TOTAL NO. of ITERATIONS REACHED LIMIT.\n",
            "\n",
            "Increase the number of iterations (max_iter) or scale the data as shown in:\n",
            "    https://scikit-learn.org/stable/modules/preprocessing.html\n",
            "Please also refer to the documentation for alternative solver options:\n",
            "    https://scikit-learn.org/stable/modules/linear_model.html#logistic-regression\n",
            "  extra_warning_msg=_LOGISTIC_SOLVER_CONVERGENCE_MSG,\n",
            "/usr/local/lib/python3.7/dist-packages/sklearn/linear_model/_logistic.py:818: ConvergenceWarning: lbfgs failed to converge (status=1):\n",
            "STOP: TOTAL NO. of ITERATIONS REACHED LIMIT.\n",
            "\n",
            "Increase the number of iterations (max_iter) or scale the data as shown in:\n",
            "    https://scikit-learn.org/stable/modules/preprocessing.html\n",
            "Please also refer to the documentation for alternative solver options:\n",
            "    https://scikit-learn.org/stable/modules/linear_model.html#logistic-regression\n",
            "  extra_warning_msg=_LOGISTIC_SOLVER_CONVERGENCE_MSG,\n",
            "/usr/local/lib/python3.7/dist-packages/sklearn/linear_model/_logistic.py:818: ConvergenceWarning: lbfgs failed to converge (status=1):\n",
            "STOP: TOTAL NO. of ITERATIONS REACHED LIMIT.\n",
            "\n",
            "Increase the number of iterations (max_iter) or scale the data as shown in:\n",
            "    https://scikit-learn.org/stable/modules/preprocessing.html\n",
            "Please also refer to the documentation for alternative solver options:\n",
            "    https://scikit-learn.org/stable/modules/linear_model.html#logistic-regression\n",
            "  extra_warning_msg=_LOGISTIC_SOLVER_CONVERGENCE_MSG,\n",
            "/usr/local/lib/python3.7/dist-packages/sklearn/linear_model/_logistic.py:818: ConvergenceWarning: lbfgs failed to converge (status=1):\n",
            "STOP: TOTAL NO. of ITERATIONS REACHED LIMIT.\n",
            "\n",
            "Increase the number of iterations (max_iter) or scale the data as shown in:\n",
            "    https://scikit-learn.org/stable/modules/preprocessing.html\n",
            "Please also refer to the documentation for alternative solver options:\n",
            "    https://scikit-learn.org/stable/modules/linear_model.html#logistic-regression\n",
            "  extra_warning_msg=_LOGISTIC_SOLVER_CONVERGENCE_MSG,\n",
            "/usr/local/lib/python3.7/dist-packages/sklearn/linear_model/_logistic.py:818: ConvergenceWarning: lbfgs failed to converge (status=1):\n",
            "STOP: TOTAL NO. of ITERATIONS REACHED LIMIT.\n",
            "\n",
            "Increase the number of iterations (max_iter) or scale the data as shown in:\n",
            "    https://scikit-learn.org/stable/modules/preprocessing.html\n",
            "Please also refer to the documentation for alternative solver options:\n",
            "    https://scikit-learn.org/stable/modules/linear_model.html#logistic-regression\n",
            "  extra_warning_msg=_LOGISTIC_SOLVER_CONVERGENCE_MSG,\n",
            "/usr/local/lib/python3.7/dist-packages/sklearn/linear_model/_logistic.py:818: ConvergenceWarning: lbfgs failed to converge (status=1):\n",
            "STOP: TOTAL NO. of ITERATIONS REACHED LIMIT.\n",
            "\n",
            "Increase the number of iterations (max_iter) or scale the data as shown in:\n",
            "    https://scikit-learn.org/stable/modules/preprocessing.html\n",
            "Please also refer to the documentation for alternative solver options:\n",
            "    https://scikit-learn.org/stable/modules/linear_model.html#logistic-regression\n",
            "  extra_warning_msg=_LOGISTIC_SOLVER_CONVERGENCE_MSG,\n",
            "/usr/local/lib/python3.7/dist-packages/sklearn/linear_model/_logistic.py:818: ConvergenceWarning: lbfgs failed to converge (status=1):\n",
            "STOP: TOTAL NO. of ITERATIONS REACHED LIMIT.\n",
            "\n",
            "Increase the number of iterations (max_iter) or scale the data as shown in:\n",
            "    https://scikit-learn.org/stable/modules/preprocessing.html\n",
            "Please also refer to the documentation for alternative solver options:\n",
            "    https://scikit-learn.org/stable/modules/linear_model.html#logistic-regression\n",
            "  extra_warning_msg=_LOGISTIC_SOLVER_CONVERGENCE_MSG,\n",
            "/usr/local/lib/python3.7/dist-packages/sklearn/linear_model/_logistic.py:818: ConvergenceWarning: lbfgs failed to converge (status=1):\n",
            "STOP: TOTAL NO. of ITERATIONS REACHED LIMIT.\n",
            "\n",
            "Increase the number of iterations (max_iter) or scale the data as shown in:\n",
            "    https://scikit-learn.org/stable/modules/preprocessing.html\n",
            "Please also refer to the documentation for alternative solver options:\n",
            "    https://scikit-learn.org/stable/modules/linear_model.html#logistic-regression\n",
            "  extra_warning_msg=_LOGISTIC_SOLVER_CONVERGENCE_MSG,\n",
            "/usr/local/lib/python3.7/dist-packages/sklearn/linear_model/_logistic.py:818: ConvergenceWarning: lbfgs failed to converge (status=2):\n",
            "ABNORMAL_TERMINATION_IN_LNSRCH.\n",
            "\n",
            "Increase the number of iterations (max_iter) or scale the data as shown in:\n",
            "    https://scikit-learn.org/stable/modules/preprocessing.html\n",
            "Please also refer to the documentation for alternative solver options:\n",
            "    https://scikit-learn.org/stable/modules/linear_model.html#logistic-regression\n",
            "  extra_warning_msg=_LOGISTIC_SOLVER_CONVERGENCE_MSG,\n",
            "/usr/local/lib/python3.7/dist-packages/sklearn/linear_model/_logistic.py:818: ConvergenceWarning: lbfgs failed to converge (status=1):\n",
            "STOP: TOTAL NO. of ITERATIONS REACHED LIMIT.\n",
            "\n",
            "Increase the number of iterations (max_iter) or scale the data as shown in:\n",
            "    https://scikit-learn.org/stable/modules/preprocessing.html\n",
            "Please also refer to the documentation for alternative solver options:\n",
            "    https://scikit-learn.org/stable/modules/linear_model.html#logistic-regression\n",
            "  extra_warning_msg=_LOGISTIC_SOLVER_CONVERGENCE_MSG,\n",
            "/usr/local/lib/python3.7/dist-packages/sklearn/linear_model/_logistic.py:818: ConvergenceWarning: lbfgs failed to converge (status=2):\n",
            "ABNORMAL_TERMINATION_IN_LNSRCH.\n",
            "\n",
            "Increase the number of iterations (max_iter) or scale the data as shown in:\n",
            "    https://scikit-learn.org/stable/modules/preprocessing.html\n",
            "Please also refer to the documentation for alternative solver options:\n",
            "    https://scikit-learn.org/stable/modules/linear_model.html#logistic-regression\n",
            "  extra_warning_msg=_LOGISTIC_SOLVER_CONVERGENCE_MSG,\n",
            "/usr/local/lib/python3.7/dist-packages/sklearn/linear_model/_logistic.py:818: ConvergenceWarning: lbfgs failed to converge (status=1):\n",
            "STOP: TOTAL NO. of ITERATIONS REACHED LIMIT.\n",
            "\n",
            "Increase the number of iterations (max_iter) or scale the data as shown in:\n",
            "    https://scikit-learn.org/stable/modules/preprocessing.html\n",
            "Please also refer to the documentation for alternative solver options:\n",
            "    https://scikit-learn.org/stable/modules/linear_model.html#logistic-regression\n",
            "  extra_warning_msg=_LOGISTIC_SOLVER_CONVERGENCE_MSG,\n",
            "/usr/local/lib/python3.7/dist-packages/sklearn/linear_model/_logistic.py:818: ConvergenceWarning: lbfgs failed to converge (status=1):\n",
            "STOP: TOTAL NO. of ITERATIONS REACHED LIMIT.\n",
            "\n",
            "Increase the number of iterations (max_iter) or scale the data as shown in:\n",
            "    https://scikit-learn.org/stable/modules/preprocessing.html\n",
            "Please also refer to the documentation for alternative solver options:\n",
            "    https://scikit-learn.org/stable/modules/linear_model.html#logistic-regression\n",
            "  extra_warning_msg=_LOGISTIC_SOLVER_CONVERGENCE_MSG,\n",
            "/usr/local/lib/python3.7/dist-packages/sklearn/linear_model/_logistic.py:818: ConvergenceWarning: lbfgs failed to converge (status=1):\n",
            "STOP: TOTAL NO. of ITERATIONS REACHED LIMIT.\n",
            "\n",
            "Increase the number of iterations (max_iter) or scale the data as shown in:\n",
            "    https://scikit-learn.org/stable/modules/preprocessing.html\n",
            "Please also refer to the documentation for alternative solver options:\n",
            "    https://scikit-learn.org/stable/modules/linear_model.html#logistic-regression\n",
            "  extra_warning_msg=_LOGISTIC_SOLVER_CONVERGENCE_MSG,\n",
            "/usr/local/lib/python3.7/dist-packages/sklearn/linear_model/_logistic.py:818: ConvergenceWarning: lbfgs failed to converge (status=1):\n",
            "STOP: TOTAL NO. of ITERATIONS REACHED LIMIT.\n",
            "\n",
            "Increase the number of iterations (max_iter) or scale the data as shown in:\n",
            "    https://scikit-learn.org/stable/modules/preprocessing.html\n",
            "Please also refer to the documentation for alternative solver options:\n",
            "    https://scikit-learn.org/stable/modules/linear_model.html#logistic-regression\n",
            "  extra_warning_msg=_LOGISTIC_SOLVER_CONVERGENCE_MSG,\n",
            "/usr/local/lib/python3.7/dist-packages/sklearn/linear_model/_logistic.py:818: ConvergenceWarning: lbfgs failed to converge (status=2):\n",
            "ABNORMAL_TERMINATION_IN_LNSRCH.\n",
            "\n",
            "Increase the number of iterations (max_iter) or scale the data as shown in:\n",
            "    https://scikit-learn.org/stable/modules/preprocessing.html\n",
            "Please also refer to the documentation for alternative solver options:\n",
            "    https://scikit-learn.org/stable/modules/linear_model.html#logistic-regression\n",
            "  extra_warning_msg=_LOGISTIC_SOLVER_CONVERGENCE_MSG,\n",
            "/usr/local/lib/python3.7/dist-packages/sklearn/linear_model/_logistic.py:818: ConvergenceWarning: lbfgs failed to converge (status=1):\n",
            "STOP: TOTAL NO. of ITERATIONS REACHED LIMIT.\n",
            "\n",
            "Increase the number of iterations (max_iter) or scale the data as shown in:\n",
            "    https://scikit-learn.org/stable/modules/preprocessing.html\n",
            "Please also refer to the documentation for alternative solver options:\n",
            "    https://scikit-learn.org/stable/modules/linear_model.html#logistic-regression\n",
            "  extra_warning_msg=_LOGISTIC_SOLVER_CONVERGENCE_MSG,\n",
            "/usr/local/lib/python3.7/dist-packages/sklearn/linear_model/_logistic.py:818: ConvergenceWarning: lbfgs failed to converge (status=2):\n",
            "ABNORMAL_TERMINATION_IN_LNSRCH.\n",
            "\n",
            "Increase the number of iterations (max_iter) or scale the data as shown in:\n",
            "    https://scikit-learn.org/stable/modules/preprocessing.html\n",
            "Please also refer to the documentation for alternative solver options:\n",
            "    https://scikit-learn.org/stable/modules/linear_model.html#logistic-regression\n",
            "  extra_warning_msg=_LOGISTIC_SOLVER_CONVERGENCE_MSG,\n",
            "/usr/local/lib/python3.7/dist-packages/sklearn/linear_model/_logistic.py:818: ConvergenceWarning: lbfgs failed to converge (status=2):\n",
            "ABNORMAL_TERMINATION_IN_LNSRCH.\n",
            "\n",
            "Increase the number of iterations (max_iter) or scale the data as shown in:\n",
            "    https://scikit-learn.org/stable/modules/preprocessing.html\n",
            "Please also refer to the documentation for alternative solver options:\n",
            "    https://scikit-learn.org/stable/modules/linear_model.html#logistic-regression\n",
            "  extra_warning_msg=_LOGISTIC_SOLVER_CONVERGENCE_MSG,\n",
            "/usr/local/lib/python3.7/dist-packages/sklearn/linear_model/_logistic.py:818: ConvergenceWarning: lbfgs failed to converge (status=1):\n",
            "STOP: TOTAL NO. of ITERATIONS REACHED LIMIT.\n",
            "\n",
            "Increase the number of iterations (max_iter) or scale the data as shown in:\n",
            "    https://scikit-learn.org/stable/modules/preprocessing.html\n",
            "Please also refer to the documentation for alternative solver options:\n",
            "    https://scikit-learn.org/stable/modules/linear_model.html#logistic-regression\n",
            "  extra_warning_msg=_LOGISTIC_SOLVER_CONVERGENCE_MSG,\n"
          ]
        },
        {
          "output_type": "stream",
          "name": "stdout",
          "text": [
            "BEST PARAMS: {'C': 100}\n",
            "\n",
            "0.999 (+/-0.001) for {'C': 0.001}\n",
            "0.999 (+/-0.001) for {'C': 0.01}\n",
            "1.0 (+/-0.001) for {'C': 0.1}\n",
            "1.0 (+/-0.001) for {'C': 1}\n",
            "1.0 (+/-0.001) for {'C': 10}\n",
            "1.0 (+/-0.001) for {'C': 100}\n",
            "0.999 (+/-0.001) for {'C': 1000}\n"
          ]
        },
        {
          "output_type": "stream",
          "name": "stderr",
          "text": [
            "/usr/local/lib/python3.7/dist-packages/sklearn/linear_model/_logistic.py:818: ConvergenceWarning: lbfgs failed to converge (status=1):\n",
            "STOP: TOTAL NO. of ITERATIONS REACHED LIMIT.\n",
            "\n",
            "Increase the number of iterations (max_iter) or scale the data as shown in:\n",
            "    https://scikit-learn.org/stable/modules/preprocessing.html\n",
            "Please also refer to the documentation for alternative solver options:\n",
            "    https://scikit-learn.org/stable/modules/linear_model.html#logistic-regression\n",
            "  extra_warning_msg=_LOGISTIC_SOLVER_CONVERGENCE_MSG,\n"
          ]
        }
      ]
    },
    {
      "cell_type": "code",
      "source": [
        "cv.best_estimator_"
      ],
      "metadata": {
        "colab": {
          "base_uri": "https://localhost:8080/"
        },
        "id": "2D64VPCyrgUy",
        "outputId": "9707714d-65c9-4343-9a08-96e85a2da16c"
      },
      "execution_count": null,
      "outputs": [
        {
          "output_type": "execute_result",
          "data": {
            "text/plain": [
              "LogisticRegression(C=100)"
            ]
          },
          "metadata": {},
          "execution_count": 8
        }
      ]
    },
    {
      "cell_type": "code",
      "source": [
        "joblib.dump(cv.best_estimator_, 'LR_model.pkl')"
      ],
      "metadata": {
        "colab": {
          "base_uri": "https://localhost:8080/"
        },
        "id": "tMDFqAExrmdE",
        "outputId": "669dfae9-bc00-4509-8242-b15487aa09e2"
      },
      "execution_count": null,
      "outputs": [
        {
          "output_type": "execute_result",
          "data": {
            "text/plain": [
              "['LR_model.pkl']"
            ]
          },
          "metadata": {},
          "execution_count": 9
        }
      ]
    },
    {
      "cell_type": "code",
      "source": [
        "import joblib\n",
        "import pandas as pd\n",
        "from sklearn.model_selection import GridSearchCV\n",
        "from sklearn.svm import SVC\n",
        "import warnings\n",
        "warnings.filterwarnings('ignore', category=FutureWarning)\n",
        "warnings.filterwarnings('ignore', category=DeprecationWarning)\n",
        "\n",
        "tr_features = pd.read_csv('train_features.csv')\n",
        "tr_labels = pd.read_csv('train_labels.csv')\n",
        "\n",
        "def print_results(results):\n",
        "    print('BEST PARAMS: {}\\n'.format(results.best_params_))\n",
        "\n",
        "    means = results.cv_results_['mean_test_score']\n",
        "    stds = results.cv_results_['std_test_score']\n",
        "    for mean, std, params in zip(means, stds, results.cv_results_['params']):\n",
        "        print('{} (+/-{}) for {}'.format(round(mean, 3), round(std * 2, 3), params))\n",
        "\n",
        "svc = SVC()\n",
        "parameters = {\n",
        "    'kernel': ['linear', 'rbf'],\n",
        "    'C': [0.1, 1, 10]\n",
        "}\n",
        "\n",
        "cv = GridSearchCV(svc, parameters, cv=5)\n",
        "cv.fit(tr_features, tr_labels.values.ravel())\n",
        "\n",
        "print_results(cv)"
      ],
      "metadata": {
        "colab": {
          "base_uri": "https://localhost:8080/"
        },
        "id": "_7UYJEoDr2Bz",
        "outputId": "6675b3a8-7196-4e1d-fb8b-a80f4a35b018"
      },
      "execution_count": null,
      "outputs": [
        {
          "output_type": "stream",
          "name": "stdout",
          "text": [
            "BEST PARAMS: {'C': 0.1, 'kernel': 'linear'}\n",
            "\n",
            "1.0 (+/-0.001) for {'C': 0.1, 'kernel': 'linear'}\n",
            "0.579 (+/-0.0) for {'C': 0.1, 'kernel': 'rbf'}\n",
            "1.0 (+/-0.001) for {'C': 1, 'kernel': 'linear'}\n",
            "0.635 (+/-0.015) for {'C': 1, 'kernel': 'rbf'}\n",
            "1.0 (+/-0.001) for {'C': 10, 'kernel': 'linear'}\n",
            "0.735 (+/-0.037) for {'C': 10, 'kernel': 'rbf'}\n"
          ]
        }
      ]
    },
    {
      "cell_type": "code",
      "source": [
        "cv.best_estimator_"
      ],
      "metadata": {
        "colab": {
          "base_uri": "https://localhost:8080/"
        },
        "id": "h7-j-NY5sgIX",
        "outputId": "ee8d2ddb-c9ab-439e-deff-f8ca9a298123"
      },
      "execution_count": null,
      "outputs": [
        {
          "output_type": "execute_result",
          "data": {
            "text/plain": [
              "SVC(C=0.1, kernel='linear')"
            ]
          },
          "metadata": {},
          "execution_count": 11
        }
      ]
    },
    {
      "cell_type": "code",
      "source": [
        "joblib.dump(cv.best_estimator_, 'SVM_model.pkl')"
      ],
      "metadata": {
        "colab": {
          "base_uri": "https://localhost:8080/"
        },
        "id": "9j42wS6zslAh",
        "outputId": "94106233-8f53-40f4-bd33-ee30746fa15c"
      },
      "execution_count": null,
      "outputs": [
        {
          "output_type": "execute_result",
          "data": {
            "text/plain": [
              "['SVM_model.pkl']"
            ]
          },
          "metadata": {},
          "execution_count": 12
        }
      ]
    },
    {
      "cell_type": "code",
      "source": [
        "import joblib\n",
        "import pandas as pd\n",
        "from sklearn.model_selection import GridSearchCV\n",
        "from sklearn.neural_network import MLPClassifier\n",
        "import warnings\n",
        "warnings.filterwarnings('ignore', category=FutureWarning)\n",
        "warnings.filterwarnings('ignore', category=DeprecationWarning)\n",
        "\n",
        "tr_features = pd.read_csv('train_features.csv')\n",
        "tr_labels = pd.read_csv('train_labels.csv')"
      ],
      "metadata": {
        "id": "Shu5ajEksriD"
      },
      "execution_count": null,
      "outputs": []
    },
    {
      "cell_type": "code",
      "source": [
        "def print_results(results):\n",
        "    print('BEST PARAMS: {}\\n'.format(results.best_params_))\n",
        "\n",
        "    means = results.cv_results_['mean_test_score']\n",
        "    stds = results.cv_results_['std_test_score']\n",
        "    for mean, std, params in zip(means, stds, results.cv_results_['params']):\n",
        "        print('{} (+/-{}) for {}'.format(round(mean, 3), round(std * 2, 3), params))\n",
        "\n",
        "mlp = MLPClassifier()\n",
        "parameters = {\n",
        "    'hidden_layer_sizes': [(10,), (50,), (100,)],\n",
        "    'activation': ['relu', 'tanh', 'logistic'],\n",
        "    'learning_rate': ['constant', 'invscaling', 'adaptive']\n",
        "}\n",
        "\n",
        "cv = GridSearchCV(mlp, parameters, cv=5)\n",
        "cv.fit(tr_features, tr_labels.values.ravel())\n",
        "\n",
        "print_results(cv) "
      ],
      "metadata": {
        "colab": {
          "base_uri": "https://localhost:8080/"
        },
        "id": "jM26MI7pt77O",
        "outputId": "7103caa4-1083-4b58-ce48-7ff3cacb0606"
      },
      "execution_count": null,
      "outputs": [
        {
          "output_type": "stream",
          "name": "stderr",
          "text": [
            "/usr/local/lib/python3.7/dist-packages/sklearn/neural_network/_multilayer_perceptron.py:696: ConvergenceWarning: Stochastic Optimizer: Maximum iterations (200) reached and the optimization hasn't converged yet.\n",
            "  ConvergenceWarning,\n",
            "/usr/local/lib/python3.7/dist-packages/sklearn/neural_network/_multilayer_perceptron.py:696: ConvergenceWarning: Stochastic Optimizer: Maximum iterations (200) reached and the optimization hasn't converged yet.\n",
            "  ConvergenceWarning,\n",
            "/usr/local/lib/python3.7/dist-packages/sklearn/neural_network/_multilayer_perceptron.py:696: ConvergenceWarning: Stochastic Optimizer: Maximum iterations (200) reached and the optimization hasn't converged yet.\n",
            "  ConvergenceWarning,\n",
            "/usr/local/lib/python3.7/dist-packages/sklearn/neural_network/_multilayer_perceptron.py:696: ConvergenceWarning: Stochastic Optimizer: Maximum iterations (200) reached and the optimization hasn't converged yet.\n",
            "  ConvergenceWarning,\n"
          ]
        },
        {
          "output_type": "stream",
          "name": "stdout",
          "text": [
            "BEST PARAMS: {'activation': 'relu', 'hidden_layer_sizes': (100,), 'learning_rate': 'invscaling'}\n",
            "\n",
            "0.999 (+/-0.002) for {'activation': 'relu', 'hidden_layer_sizes': (10,), 'learning_rate': 'constant'}\n",
            "0.997 (+/-0.007) for {'activation': 'relu', 'hidden_layer_sizes': (10,), 'learning_rate': 'invscaling'}\n",
            "0.997 (+/-0.006) for {'activation': 'relu', 'hidden_layer_sizes': (10,), 'learning_rate': 'adaptive'}\n",
            "0.999 (+/-0.002) for {'activation': 'relu', 'hidden_layer_sizes': (50,), 'learning_rate': 'constant'}\n",
            "0.999 (+/-0.003) for {'activation': 'relu', 'hidden_layer_sizes': (50,), 'learning_rate': 'invscaling'}\n",
            "0.999 (+/-0.002) for {'activation': 'relu', 'hidden_layer_sizes': (50,), 'learning_rate': 'adaptive'}\n",
            "0.999 (+/-0.002) for {'activation': 'relu', 'hidden_layer_sizes': (100,), 'learning_rate': 'constant'}\n",
            "1.0 (+/-0.001) for {'activation': 'relu', 'hidden_layer_sizes': (100,), 'learning_rate': 'invscaling'}\n",
            "0.999 (+/-0.001) for {'activation': 'relu', 'hidden_layer_sizes': (100,), 'learning_rate': 'adaptive'}\n",
            "0.995 (+/-0.005) for {'activation': 'tanh', 'hidden_layer_sizes': (10,), 'learning_rate': 'constant'}\n",
            "0.997 (+/-0.003) for {'activation': 'tanh', 'hidden_layer_sizes': (10,), 'learning_rate': 'invscaling'}\n",
            "0.997 (+/-0.006) for {'activation': 'tanh', 'hidden_layer_sizes': (10,), 'learning_rate': 'adaptive'}\n",
            "0.998 (+/-0.003) for {'activation': 'tanh', 'hidden_layer_sizes': (50,), 'learning_rate': 'constant'}\n",
            "0.998 (+/-0.002) for {'activation': 'tanh', 'hidden_layer_sizes': (50,), 'learning_rate': 'invscaling'}\n",
            "0.998 (+/-0.002) for {'activation': 'tanh', 'hidden_layer_sizes': (50,), 'learning_rate': 'adaptive'}\n",
            "0.999 (+/-0.002) for {'activation': 'tanh', 'hidden_layer_sizes': (100,), 'learning_rate': 'constant'}\n",
            "0.999 (+/-0.001) for {'activation': 'tanh', 'hidden_layer_sizes': (100,), 'learning_rate': 'invscaling'}\n",
            "0.999 (+/-0.002) for {'activation': 'tanh', 'hidden_layer_sizes': (100,), 'learning_rate': 'adaptive'}\n",
            "0.996 (+/-0.003) for {'activation': 'logistic', 'hidden_layer_sizes': (10,), 'learning_rate': 'constant'}\n",
            "0.999 (+/-0.001) for {'activation': 'logistic', 'hidden_layer_sizes': (10,), 'learning_rate': 'invscaling'}\n",
            "0.995 (+/-0.003) for {'activation': 'logistic', 'hidden_layer_sizes': (10,), 'learning_rate': 'adaptive'}\n",
            "0.999 (+/-0.002) for {'activation': 'logistic', 'hidden_layer_sizes': (50,), 'learning_rate': 'constant'}\n",
            "0.998 (+/-0.002) for {'activation': 'logistic', 'hidden_layer_sizes': (50,), 'learning_rate': 'invscaling'}\n",
            "0.998 (+/-0.003) for {'activation': 'logistic', 'hidden_layer_sizes': (50,), 'learning_rate': 'adaptive'}\n",
            "0.999 (+/-0.002) for {'activation': 'logistic', 'hidden_layer_sizes': (100,), 'learning_rate': 'constant'}\n",
            "0.999 (+/-0.002) for {'activation': 'logistic', 'hidden_layer_sizes': (100,), 'learning_rate': 'invscaling'}\n",
            "0.999 (+/-0.001) for {'activation': 'logistic', 'hidden_layer_sizes': (100,), 'learning_rate': 'adaptive'}\n"
          ]
        }
      ]
    },
    {
      "cell_type": "code",
      "source": [
        "cv.best_estimator_"
      ],
      "metadata": {
        "colab": {
          "base_uri": "https://localhost:8080/"
        },
        "id": "IqQy_daWwsgJ",
        "outputId": "51cf40b3-835e-473d-a1a9-536dadc2a7c0"
      },
      "execution_count": null,
      "outputs": [
        {
          "output_type": "execute_result",
          "data": {
            "text/plain": [
              "MLPClassifier(learning_rate='invscaling')"
            ]
          },
          "metadata": {},
          "execution_count": 15
        }
      ]
    },
    {
      "cell_type": "code",
      "source": [
        "joblib.dump(cv.best_estimator_, 'MLP_model.pkl')"
      ],
      "metadata": {
        "colab": {
          "base_uri": "https://localhost:8080/"
        },
        "id": "sqKKTpIZw5nP",
        "outputId": "49b311ed-620a-46cc-cf09-18dc9d8bb873"
      },
      "execution_count": null,
      "outputs": [
        {
          "output_type": "execute_result",
          "data": {
            "text/plain": [
              "['MLP_model.pkl']"
            ]
          },
          "metadata": {},
          "execution_count": 16
        }
      ]
    },
    {
      "cell_type": "code",
      "source": [
        "import joblib\n",
        "import pandas as pd\n",
        "from sklearn.ensemble import RandomForestClassifier\n",
        "from sklearn.model_selection import GridSearchCV\n",
        "import warnings\n",
        "warnings.filterwarnings('ignore', category=FutureWarning)\n",
        "warnings.filterwarnings('ignore', category=DeprecationWarning)\n",
        "\n",
        "tr_features = pd.read_csv('train_features.csv')\n",
        "tr_labels = pd.read_csv('train_labels.csv')\n",
        "\n",
        "def print_results(results):\n",
        "    print('BEST PARAMS: {}\\n'.format(results.best_params_))\n",
        "\n",
        "    means = results.cv_results_['mean_test_score']\n",
        "    stds = results.cv_results_['std_test_score']\n",
        "    for mean, std, params in zip(means, stds, results.cv_results_['params']):\n",
        "        print('{} (+/-{}) for {}'.format(round(mean, 3), round(std * 2, 3), params))\n",
        "\n",
        "rf = RandomForestClassifier()\n",
        "parameters = {\n",
        "    'n_estimators': [5, 50, 250],\n",
        "    'max_depth': [2, 4, 8, 16, 32, None]\n",
        "}\n",
        "\n",
        "cv = GridSearchCV(rf, parameters, cv=5)\n",
        "cv.fit(tr_features, tr_labels.values.ravel())\n",
        "\n",
        "print_results(cv)"
      ],
      "metadata": {
        "colab": {
          "base_uri": "https://localhost:8080/"
        },
        "id": "CR4GvYt5xAMQ",
        "outputId": "c542d4a5-5210-41c2-dee0-ea0c24fc9d09"
      },
      "execution_count": null,
      "outputs": [
        {
          "output_type": "stream",
          "name": "stdout",
          "text": [
            "BEST PARAMS: {'max_depth': 4, 'n_estimators': 250}\n",
            "\n",
            "0.996 (+/-0.012) for {'max_depth': 2, 'n_estimators': 5}\n",
            "0.999 (+/-0.001) for {'max_depth': 2, 'n_estimators': 50}\n",
            "0.999 (+/-0.001) for {'max_depth': 2, 'n_estimators': 250}\n",
            "0.999 (+/-0.002) for {'max_depth': 4, 'n_estimators': 5}\n",
            "1.0 (+/-0.001) for {'max_depth': 4, 'n_estimators': 50}\n",
            "1.0 (+/-0.0) for {'max_depth': 4, 'n_estimators': 250}\n",
            "1.0 (+/-0.001) for {'max_depth': 8, 'n_estimators': 5}\n",
            "1.0 (+/-0.0) for {'max_depth': 8, 'n_estimators': 50}\n",
            "1.0 (+/-0.0) for {'max_depth': 8, 'n_estimators': 250}\n",
            "1.0 (+/-0.001) for {'max_depth': 16, 'n_estimators': 5}\n",
            "1.0 (+/-0.0) for {'max_depth': 16, 'n_estimators': 50}\n",
            "1.0 (+/-0.0) for {'max_depth': 16, 'n_estimators': 250}\n",
            "1.0 (+/-0.001) for {'max_depth': 32, 'n_estimators': 5}\n",
            "1.0 (+/-0.0) for {'max_depth': 32, 'n_estimators': 50}\n",
            "1.0 (+/-0.0) for {'max_depth': 32, 'n_estimators': 250}\n",
            "1.0 (+/-0.002) for {'max_depth': None, 'n_estimators': 5}\n",
            "1.0 (+/-0.0) for {'max_depth': None, 'n_estimators': 50}\n",
            "1.0 (+/-0.0) for {'max_depth': None, 'n_estimators': 250}\n"
          ]
        }
      ]
    },
    {
      "cell_type": "code",
      "source": [
        "cv.best_estimator_"
      ],
      "metadata": {
        "colab": {
          "base_uri": "https://localhost:8080/"
        },
        "id": "hkA6McfWxlFs",
        "outputId": "80803e18-6b48-4e2e-9ebc-aa9ca07a4f88"
      },
      "execution_count": null,
      "outputs": [
        {
          "output_type": "execute_result",
          "data": {
            "text/plain": [
              "RandomForestClassifier(max_depth=4, n_estimators=250)"
            ]
          },
          "metadata": {},
          "execution_count": 18
        }
      ]
    },
    {
      "cell_type": "code",
      "source": [
        "joblib.dump(cv.best_estimator_, 'RF_model.pkl')"
      ],
      "metadata": {
        "colab": {
          "base_uri": "https://localhost:8080/"
        },
        "id": "cvd8fLISxnBF",
        "outputId": "cdb3d326-2d46-47a1-f7ce-730d658051ef"
      },
      "execution_count": null,
      "outputs": [
        {
          "output_type": "execute_result",
          "data": {
            "text/plain": [
              "['RF_model.pkl']"
            ]
          },
          "metadata": {},
          "execution_count": 19
        }
      ]
    },
    {
      "cell_type": "code",
      "source": [
        "import joblib\n",
        "import pandas as pd\n",
        "from sklearn.ensemble import GradientBoostingClassifier\n",
        "from sklearn.model_selection import GridSearchCV\n",
        "import warnings\n",
        "warnings.filterwarnings('ignore', category=FutureWarning)\n",
        "warnings.filterwarnings('ignore', category=DeprecationWarning)\n",
        "\n",
        "tr_features = pd.read_csv('train_features.csv')\n",
        "tr_labels = pd.read_csv('train_labels.csv')\n",
        "\n",
        "def print_results(results):\n",
        "    print('BEST PARAMS: {}\\n'.format(results.best_params_))\n",
        "\n",
        "    means = results.cv_results_['mean_test_score']\n",
        "    stds = results.cv_results_['std_test_score']\n",
        "    for mean, std, params in zip(means, stds, results.cv_results_['params']):\n",
        "        print('{} (+/-{}) for {}'.format(round(mean, 3), round(std * 2, 3), params))\n",
        "        \n",
        "        \n",
        "gb = GradientBoostingClassifier()\n",
        "parameters = {\n",
        "    'n_estimators': [5, 50, 250, 500],\n",
        "    'max_depth': [1, 3, 5, 7, 9],\n",
        "    'learning_rate': [0.01, 0.1, 1, 10, 100]\n",
        "}\n",
        "\n",
        "cv = GridSearchCV(gb, parameters, cv=5)\n",
        "cv.fit(tr_features, tr_labels.values.ravel())\n",
        "\n",
        "print_results(cv)"
      ],
      "metadata": {
        "colab": {
          "base_uri": "https://localhost:8080/"
        },
        "id": "mRb0aAVFxtlj",
        "outputId": "709ecdfd-2bec-47dc-a33b-a8dfd13e36f9"
      },
      "execution_count": null,
      "outputs": [
        {
          "output_type": "stream",
          "name": "stdout",
          "text": [
            "BEST PARAMS: {'learning_rate': 0.01, 'max_depth': 3, 'n_estimators': 50}\n",
            "\n",
            "0.579 (+/-0.0) for {'learning_rate': 0.01, 'max_depth': 1, 'n_estimators': 5}\n",
            "0.999 (+/-0.002) for {'learning_rate': 0.01, 'max_depth': 1, 'n_estimators': 50}\n",
            "0.999 (+/-0.002) for {'learning_rate': 0.01, 'max_depth': 1, 'n_estimators': 250}\n",
            "0.999 (+/-0.002) for {'learning_rate': 0.01, 'max_depth': 1, 'n_estimators': 500}\n",
            "0.579 (+/-0.0) for {'learning_rate': 0.01, 'max_depth': 3, 'n_estimators': 5}\n",
            "1.0 (+/-0.0) for {'learning_rate': 0.01, 'max_depth': 3, 'n_estimators': 50}\n",
            "1.0 (+/-0.0) for {'learning_rate': 0.01, 'max_depth': 3, 'n_estimators': 250}\n",
            "1.0 (+/-0.0) for {'learning_rate': 0.01, 'max_depth': 3, 'n_estimators': 500}\n",
            "0.579 (+/-0.0) for {'learning_rate': 0.01, 'max_depth': 5, 'n_estimators': 5}\n",
            "1.0 (+/-0.0) for {'learning_rate': 0.01, 'max_depth': 5, 'n_estimators': 50}\n",
            "1.0 (+/-0.0) for {'learning_rate': 0.01, 'max_depth': 5, 'n_estimators': 250}\n",
            "1.0 (+/-0.0) for {'learning_rate': 0.01, 'max_depth': 5, 'n_estimators': 500}\n",
            "0.579 (+/-0.0) for {'learning_rate': 0.01, 'max_depth': 7, 'n_estimators': 5}\n",
            "1.0 (+/-0.0) for {'learning_rate': 0.01, 'max_depth': 7, 'n_estimators': 50}\n",
            "1.0 (+/-0.0) for {'learning_rate': 0.01, 'max_depth': 7, 'n_estimators': 250}\n",
            "1.0 (+/-0.0) for {'learning_rate': 0.01, 'max_depth': 7, 'n_estimators': 500}\n",
            "0.579 (+/-0.0) for {'learning_rate': 0.01, 'max_depth': 9, 'n_estimators': 5}\n",
            "1.0 (+/-0.0) for {'learning_rate': 0.01, 'max_depth': 9, 'n_estimators': 50}\n",
            "1.0 (+/-0.0) for {'learning_rate': 0.01, 'max_depth': 9, 'n_estimators': 250}\n",
            "1.0 (+/-0.0) for {'learning_rate': 0.01, 'max_depth': 9, 'n_estimators': 500}\n",
            "0.999 (+/-0.002) for {'learning_rate': 0.1, 'max_depth': 1, 'n_estimators': 5}\n",
            "0.999 (+/-0.002) for {'learning_rate': 0.1, 'max_depth': 1, 'n_estimators': 50}\n",
            "1.0 (+/-0.0) for {'learning_rate': 0.1, 'max_depth': 1, 'n_estimators': 250}\n",
            "1.0 (+/-0.0) for {'learning_rate': 0.1, 'max_depth': 1, 'n_estimators': 500}\n",
            "1.0 (+/-0.002) for {'learning_rate': 0.1, 'max_depth': 3, 'n_estimators': 5}\n",
            "1.0 (+/-0.0) for {'learning_rate': 0.1, 'max_depth': 3, 'n_estimators': 50}\n",
            "1.0 (+/-0.0) for {'learning_rate': 0.1, 'max_depth': 3, 'n_estimators': 250}\n",
            "1.0 (+/-0.0) for {'learning_rate': 0.1, 'max_depth': 3, 'n_estimators': 500}\n",
            "1.0 (+/-0.0) for {'learning_rate': 0.1, 'max_depth': 5, 'n_estimators': 5}\n",
            "1.0 (+/-0.0) for {'learning_rate': 0.1, 'max_depth': 5, 'n_estimators': 50}\n",
            "1.0 (+/-0.0) for {'learning_rate': 0.1, 'max_depth': 5, 'n_estimators': 250}\n",
            "1.0 (+/-0.0) for {'learning_rate': 0.1, 'max_depth': 5, 'n_estimators': 500}\n",
            "1.0 (+/-0.002) for {'learning_rate': 0.1, 'max_depth': 7, 'n_estimators': 5}\n",
            "1.0 (+/-0.0) for {'learning_rate': 0.1, 'max_depth': 7, 'n_estimators': 50}\n",
            "1.0 (+/-0.0) for {'learning_rate': 0.1, 'max_depth': 7, 'n_estimators': 250}\n",
            "1.0 (+/-0.0) for {'learning_rate': 0.1, 'max_depth': 7, 'n_estimators': 500}\n",
            "1.0 (+/-0.001) for {'learning_rate': 0.1, 'max_depth': 9, 'n_estimators': 5}\n",
            "1.0 (+/-0.0) for {'learning_rate': 0.1, 'max_depth': 9, 'n_estimators': 50}\n",
            "1.0 (+/-0.0) for {'learning_rate': 0.1, 'max_depth': 9, 'n_estimators': 250}\n",
            "1.0 (+/-0.0) for {'learning_rate': 0.1, 'max_depth': 9, 'n_estimators': 500}\n",
            "0.999 (+/-0.002) for {'learning_rate': 1, 'max_depth': 1, 'n_estimators': 5}\n",
            "1.0 (+/-0.0) for {'learning_rate': 1, 'max_depth': 1, 'n_estimators': 50}\n",
            "1.0 (+/-0.0) for {'learning_rate': 1, 'max_depth': 1, 'n_estimators': 250}\n",
            "1.0 (+/-0.0) for {'learning_rate': 1, 'max_depth': 1, 'n_estimators': 500}\n",
            "1.0 (+/-0.0) for {'learning_rate': 1, 'max_depth': 3, 'n_estimators': 5}\n",
            "1.0 (+/-0.0) for {'learning_rate': 1, 'max_depth': 3, 'n_estimators': 50}\n",
            "1.0 (+/-0.0) for {'learning_rate': 1, 'max_depth': 3, 'n_estimators': 250}\n",
            "1.0 (+/-0.0) for {'learning_rate': 1, 'max_depth': 3, 'n_estimators': 500}\n",
            "1.0 (+/-0.0) for {'learning_rate': 1, 'max_depth': 5, 'n_estimators': 5}\n",
            "1.0 (+/-0.001) for {'learning_rate': 1, 'max_depth': 5, 'n_estimators': 50}\n",
            "1.0 (+/-0.0) for {'learning_rate': 1, 'max_depth': 5, 'n_estimators': 250}\n",
            "1.0 (+/-0.0) for {'learning_rate': 1, 'max_depth': 5, 'n_estimators': 500}\n",
            "1.0 (+/-0.0) for {'learning_rate': 1, 'max_depth': 7, 'n_estimators': 5}\n",
            "1.0 (+/-0.0) for {'learning_rate': 1, 'max_depth': 7, 'n_estimators': 50}\n",
            "1.0 (+/-0.0) for {'learning_rate': 1, 'max_depth': 7, 'n_estimators': 250}\n",
            "1.0 (+/-0.0) for {'learning_rate': 1, 'max_depth': 7, 'n_estimators': 500}\n",
            "1.0 (+/-0.0) for {'learning_rate': 1, 'max_depth': 9, 'n_estimators': 5}\n",
            "1.0 (+/-0.0) for {'learning_rate': 1, 'max_depth': 9, 'n_estimators': 50}\n",
            "1.0 (+/-0.0) for {'learning_rate': 1, 'max_depth': 9, 'n_estimators': 250}\n",
            "1.0 (+/-0.0) for {'learning_rate': 1, 'max_depth': 9, 'n_estimators': 500}\n",
            "0.916 (+/-0.337) for {'learning_rate': 10, 'max_depth': 1, 'n_estimators': 5}\n",
            "0.916 (+/-0.337) for {'learning_rate': 10, 'max_depth': 1, 'n_estimators': 50}\n",
            "0.916 (+/-0.337) for {'learning_rate': 10, 'max_depth': 1, 'n_estimators': 250}\n",
            "0.916 (+/-0.337) for {'learning_rate': 10, 'max_depth': 1, 'n_estimators': 500}\n",
            "1.0 (+/-0.0) for {'learning_rate': 10, 'max_depth': 3, 'n_estimators': 5}\n",
            "1.0 (+/-0.001) for {'learning_rate': 10, 'max_depth': 3, 'n_estimators': 50}\n",
            "1.0 (+/-0.001) for {'learning_rate': 10, 'max_depth': 3, 'n_estimators': 250}\n",
            "1.0 (+/-0.002) for {'learning_rate': 10, 'max_depth': 3, 'n_estimators': 500}\n",
            "1.0 (+/-0.002) for {'learning_rate': 10, 'max_depth': 5, 'n_estimators': 5}\n",
            "1.0 (+/-0.001) for {'learning_rate': 10, 'max_depth': 5, 'n_estimators': 50}\n",
            "1.0 (+/-0.002) for {'learning_rate': 10, 'max_depth': 5, 'n_estimators': 250}\n",
            "1.0 (+/-0.001) for {'learning_rate': 10, 'max_depth': 5, 'n_estimators': 500}\n",
            "1.0 (+/-0.0) for {'learning_rate': 10, 'max_depth': 7, 'n_estimators': 5}\n",
            "1.0 (+/-0.002) for {'learning_rate': 10, 'max_depth': 7, 'n_estimators': 50}\n",
            "1.0 (+/-0.0) for {'learning_rate': 10, 'max_depth': 7, 'n_estimators': 250}\n",
            "1.0 (+/-0.001) for {'learning_rate': 10, 'max_depth': 7, 'n_estimators': 500}\n",
            "0.999 (+/-0.002) for {'learning_rate': 10, 'max_depth': 9, 'n_estimators': 5}\n",
            "1.0 (+/-0.001) for {'learning_rate': 10, 'max_depth': 9, 'n_estimators': 50}\n",
            "1.0 (+/-0.001) for {'learning_rate': 10, 'max_depth': 9, 'n_estimators': 250}\n",
            "1.0 (+/-0.001) for {'learning_rate': 10, 'max_depth': 9, 'n_estimators': 500}\n",
            "0.916 (+/-0.337) for {'learning_rate': 100, 'max_depth': 1, 'n_estimators': 5}\n",
            "0.916 (+/-0.337) for {'learning_rate': 100, 'max_depth': 1, 'n_estimators': 50}\n",
            "0.916 (+/-0.337) for {'learning_rate': 100, 'max_depth': 1, 'n_estimators': 250}\n",
            "0.916 (+/-0.337) for {'learning_rate': 100, 'max_depth': 1, 'n_estimators': 500}\n",
            "1.0 (+/-0.002) for {'learning_rate': 100, 'max_depth': 3, 'n_estimators': 5}\n",
            "1.0 (+/-0.001) for {'learning_rate': 100, 'max_depth': 3, 'n_estimators': 50}\n",
            "1.0 (+/-0.001) for {'learning_rate': 100, 'max_depth': 3, 'n_estimators': 250}\n",
            "1.0 (+/-0.0) for {'learning_rate': 100, 'max_depth': 3, 'n_estimators': 500}\n",
            "0.999 (+/-0.002) for {'learning_rate': 100, 'max_depth': 5, 'n_estimators': 5}\n",
            "1.0 (+/-0.001) for {'learning_rate': 100, 'max_depth': 5, 'n_estimators': 50}\n",
            "1.0 (+/-0.001) for {'learning_rate': 100, 'max_depth': 5, 'n_estimators': 250}\n",
            "1.0 (+/-0.002) for {'learning_rate': 100, 'max_depth': 5, 'n_estimators': 500}\n",
            "0.999 (+/-0.002) for {'learning_rate': 100, 'max_depth': 7, 'n_estimators': 5}\n",
            "1.0 (+/-0.001) for {'learning_rate': 100, 'max_depth': 7, 'n_estimators': 50}\n",
            "0.999 (+/-0.002) for {'learning_rate': 100, 'max_depth': 7, 'n_estimators': 250}\n",
            "1.0 (+/-0.001) for {'learning_rate': 100, 'max_depth': 7, 'n_estimators': 500}\n",
            "1.0 (+/-0.001) for {'learning_rate': 100, 'max_depth': 9, 'n_estimators': 5}\n",
            "1.0 (+/-0.001) for {'learning_rate': 100, 'max_depth': 9, 'n_estimators': 50}\n",
            "1.0 (+/-0.001) for {'learning_rate': 100, 'max_depth': 9, 'n_estimators': 250}\n",
            "1.0 (+/-0.001) for {'learning_rate': 100, 'max_depth': 9, 'n_estimators': 500}\n"
          ]
        }
      ]
    },
    {
      "cell_type": "code",
      "source": [
        "cv.best_estimator_"
      ],
      "metadata": {
        "colab": {
          "base_uri": "https://localhost:8080/"
        },
        "id": "yvAVr3rI0Hcd",
        "outputId": "ea7ea871-bd01-4bff-bbea-7ff0acc4fe39"
      },
      "execution_count": null,
      "outputs": [
        {
          "output_type": "execute_result",
          "data": {
            "text/plain": [
              "GradientBoostingClassifier(learning_rate=0.01, n_estimators=50)"
            ]
          },
          "metadata": {},
          "execution_count": 21
        }
      ]
    },
    {
      "cell_type": "code",
      "source": [
        "joblib.dump(cv.best_estimator_, 'GB_model.pkl')"
      ],
      "metadata": {
        "colab": {
          "base_uri": "https://localhost:8080/"
        },
        "id": "a5NhKTzn1Hyd",
        "outputId": "a7dfc9d0-34cc-4974-c5a8-f046938fa9fc"
      },
      "execution_count": null,
      "outputs": [
        {
          "output_type": "execute_result",
          "data": {
            "text/plain": [
              "['GB_model.pkl']"
            ]
          },
          "metadata": {},
          "execution_count": 22
        }
      ]
    },
    {
      "cell_type": "code",
      "source": [
        "import joblib\n",
        "import pandas as pd\n",
        "from sklearn.metrics import accuracy_score, precision_score, recall_score\n",
        "from time import time\n",
        "\n",
        "val_features = pd.read_csv('val_features.csv')\n",
        "val_labels = pd.read_csv('val_labels.csv')\n",
        "\n",
        "te_features = pd.read_csv('test_features.csv')\n",
        "te_labels = pd.read_csv('test_labels.csv')"
      ],
      "metadata": {
        "id": "hfTo3MSM1Ouh"
      },
      "execution_count": null,
      "outputs": []
    },
    {
      "cell_type": "code",
      "source": [
        "models = {}\n",
        "\n",
        "for mdl in ['LR', 'SVM', 'MLP', 'RF', 'GB']:\n",
        "    models[mdl] = joblib.load('{}_model.pkl'.format(mdl))"
      ],
      "metadata": {
        "id": "6L4aghdf1isT"
      },
      "execution_count": null,
      "outputs": []
    },
    {
      "cell_type": "code",
      "source": [
        "def evaluate_model(name, model, features, labels):\n",
        "    start = time()\n",
        "    pred = model.predict(features)\n",
        "    end = time()\n",
        "    accuracy = round(accuracy_score(labels, pred), 3)\n",
        "    precision = round(precision_score(labels, pred), 3)\n",
        "    recall = round(recall_score(labels, pred), 3)\n",
        "    print('{} -- Accuracy: {} / Precision: {} / Recall: {} / Latency: {}ms'.format(name,\n",
        "                                                                                   accuracy,\n",
        "                                                                                   precision,\n",
        "                                                                                   recall,\n",
        "                                                                                   round((end - start)*1000, 1)))"
      ],
      "metadata": {
        "id": "4nJr1o_f1tDJ"
      },
      "execution_count": null,
      "outputs": []
    },
    {
      "cell_type": "code",
      "source": [
        "for name, mdl in models.items():\n",
        "    evaluate_model(name, mdl, val_features, val_labels)"
      ],
      "metadata": {
        "colab": {
          "base_uri": "https://localhost:8080/"
        },
        "id": "WfJDgym01xq0",
        "outputId": "c36983b0-ed14-4042-ca81-f16b4ae8561d"
      },
      "execution_count": null,
      "outputs": [
        {
          "output_type": "stream",
          "name": "stdout",
          "text": [
            "LR -- Accuracy: 1.0 / Precision: 1.0 / Recall: 0.999 / Latency: 11.1ms\n",
            "SVM -- Accuracy: 1.0 / Precision: 1.0 / Recall: 0.999 / Latency: 7.5ms\n",
            "MLP -- Accuracy: 0.998 / Precision: 0.998 / Recall: 0.997 / Latency: 9.9ms\n",
            "RF -- Accuracy: 1.0 / Precision: 1.0 / Recall: 0.999 / Latency: 100.5ms\n",
            "GB -- Accuracy: 1.0 / Precision: 1.0 / Recall: 0.999 / Latency: 8.0ms\n"
          ]
        }
      ]
    },
    {
      "cell_type": "code",
      "source": [
        "evaluate_model('Random Forest', models['RF'], te_features, te_labels)"
      ],
      "metadata": {
        "colab": {
          "base_uri": "https://localhost:8080/"
        },
        "id": "ZTPetf-815wn",
        "outputId": "68897846-c1b4-478d-d647-6024ef4c676e"
      },
      "execution_count": null,
      "outputs": [
        {
          "output_type": "stream",
          "name": "stdout",
          "text": [
            "Random Forest -- Accuracy: 1.0 / Precision: 1.0 / Recall: 0.999 / Latency: 84.3ms\n"
          ]
        }
      ]
    }
  ]
}