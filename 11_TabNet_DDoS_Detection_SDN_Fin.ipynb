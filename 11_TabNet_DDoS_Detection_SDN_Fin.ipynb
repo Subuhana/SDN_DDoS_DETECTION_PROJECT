{
  "nbformat": 4,
  "nbformat_minor": 0,
  "metadata": {
    "colab": {
      "name": "11.TabNet_DDoS_Detection_SDN_Fin.ipynb",
      "provenance": [],
      "collapsed_sections": []
    },
    "kernelspec": {
      "name": "python3",
      "display_name": "Python 3"
    },
    "language_info": {
      "name": "python"
    }
  },
  "cells": [
    {
      "cell_type": "code",
      "execution_count": 1,
      "metadata": {
        "id": "enlaQ4Sc2Ai3"
      },
      "outputs": [],
      "source": [
        "import numpy as np\n",
        "import pandas as pd\n",
        "import matplotlib.pyplot as plt"
      ]
    },
    {
      "cell_type": "code",
      "source": [
        "DDoS=pd.read_csv('/content/dataset_sdn.csv')"
      ],
      "metadata": {
        "id": "QPXNQ9rI2V2J"
      },
      "execution_count": 2,
      "outputs": []
    },
    {
      "cell_type": "code",
      "source": [
        "DDoS.Protocol.unique()\n",
        "DDoS['Protocol'] = DDoS['Protocol'].replace('TCP', '0')\n",
        "DDoS['Protocol'] = DDoS['Protocol'].replace('UDP', '1')\n",
        "DDoS['Protocol'] = DDoS['Protocol'].replace('ICMP', '2')\n",
        "DDoS.Protocol.unique()"
      ],
      "metadata": {
        "colab": {
          "base_uri": "https://localhost:8080/"
        },
        "id": "a36Pv8G32Ydp",
        "outputId": "f11ccec5-dfe8-4379-e9dd-86fa2ed7af9d"
      },
      "execution_count": 3,
      "outputs": [
        {
          "output_type": "execute_result",
          "data": {
            "text/plain": [
              "array(['1', '0', '2'], dtype=object)"
            ]
          },
          "metadata": {},
          "execution_count": 3
        }
      ]
    },
    {
      "cell_type": "code",
      "source": [
        "DDoS['src'] = DDoS['src'].replace('10.0.0.0', '0')\n",
        "DDoS['src'] = DDoS['src'].replace('10.0.0.2', '1')\n",
        "DDoS['src'] = DDoS['src'].replace('10.0.0.4', '2')\n",
        "DDoS['src'] = DDoS['src'].replace('10.0.0.10', '3')\n",
        "DDoS['src'] = DDoS['src'].replace('10.0.0.5', '4')\n",
        "DDoS['src'] = DDoS['src'].replace('10.0.0.13', '5')\n",
        "DDoS['src'] = DDoS['src'].replace('10.0.0.6', '6')\n",
        "DDoS['src'] = DDoS['src'].replace('10.0.0.11', '7')\n",
        "DDoS['src'] = DDoS['src'].replace('10.0.0.20', '8')\n",
        "DDoS['src'] = DDoS['src'].replace('10.0.0.18', '9')\n",
        "DDoS['src'] = DDoS['src'].replace('10.0.0.12', '10')\n",
        "DDoS['src'] = DDoS['src'].replace('10.0.0.14', '11')\n",
        "DDoS['src'] = DDoS['src'].replace('10.0.0.15', '12')\n",
        "DDoS['src'] = DDoS['src'].replace('10.0.0.16', '13')\n",
        "DDoS['src'] = DDoS['src'].replace('10.0.0.17', '14')\n",
        "DDoS['src'] = DDoS['src'].replace('10.0.0.1', '15')\n",
        "DDoS['src'] = DDoS['src'].replace('10.0.0.3', '16')\n",
        "DDoS['src'] = DDoS['src'].replace('10.0.0.8', '17')\n",
        "DDoS['src'] = DDoS['src'].replace('10.0.0.7', '18')\n",
        "DDoS['src'] = DDoS['src'].replace('10.0.0.9', '19')\n",
        "DDoS.src.unique()"
      ],
      "metadata": {
        "colab": {
          "base_uri": "https://localhost:8080/"
        },
        "id": "A7NUbamt2a_6",
        "outputId": "bdcde421-d896-4aa8-84c6-c0207151d845"
      },
      "execution_count": 4,
      "outputs": [
        {
          "output_type": "execute_result",
          "data": {
            "text/plain": [
              "array(['15', '1', '2', '3', '16', '4', '5', '6', '8', '7', '10', '9',\n",
              "       '17', '18', '19', '11', '12', '13', '14'], dtype=object)"
            ]
          },
          "metadata": {},
          "execution_count": 4
        }
      ]
    },
    {
      "cell_type": "code",
      "source": [
        "DDoS['dst'] = DDoS['dst'].replace('10.0.0.8', '0')\n",
        "DDoS['dst'] = DDoS['dst'].replace('10.0.0.7', '1')\n",
        "DDoS['dst'] = DDoS['dst'].replace('10.0.0.2', '2')\n",
        "DDoS['dst'] = DDoS['dst'].replace('10.0.0.4', '3')\n",
        "DDoS['dst'] = DDoS['dst'].replace('10.0.0.6', '4')\n",
        "DDoS['dst'] = DDoS['dst'].replace('10.0.0.10', '5')\n",
        "DDoS['dst'] = DDoS['dst'].replace('10.0.0.3', '6')\n",
        "DDoS['dst'] = DDoS['dst'].replace('10.0.0.6', '7')\n",
        "DDoS['dst'] = DDoS['dst'].replace('10.0.0.5', '8')\n",
        "DDoS['dst'] = DDoS['dst'].replace('10.0.0.9', '9')\n",
        "DDoS['dst'] = DDoS['dst'].replace('10.0.0.12', '10')\n",
        "DDoS['dst'] = DDoS['dst'].replace('10.0.0.13', '11')\n",
        "DDoS['dst'] = DDoS['dst'].replace('10.0.0.14', '12')\n",
        "DDoS['dst'] = DDoS['dst'].replace('10.0.0.11', '13')\n",
        "DDoS['dst'] = DDoS['dst'].replace('10.0.0.16', '14')\n",
        "DDoS['dst'] = DDoS['dst'].replace('10.0.0.1', '15')\n",
        "DDoS['dst'] = DDoS['dst'].replace('10.0.0.15', '16')\n",
        "DDoS['dst'] = DDoS['dst'].replace('10.0.0.17', '17')\n",
        "DDoS['dst'] = DDoS['dst'].replace('10.0.0.18', '18')\n",
        "DDoS.dst.unique()"
      ],
      "metadata": {
        "colab": {
          "base_uri": "https://localhost:8080/"
        },
        "id": "ab_6OGd72lY1",
        "outputId": "7c87d11b-03da-4e0e-ed60-d31dc5a5de81"
      },
      "execution_count": 5,
      "outputs": [
        {
          "output_type": "execute_result",
          "data": {
            "text/plain": [
              "array(['0', '1', '6', '8', '5', '11', '15', '13', '2', '3', '9', '4',\n",
              "       '12', '16', '10', '14', '17', '18'], dtype=object)"
            ]
          },
          "metadata": {},
          "execution_count": 5
        }
      ]
    },
    {
      "cell_type": "code",
      "source": [
        "DDoS[\"rx_kbps\"] = DDoS[\"rx_kbps\"].fillna(DDoS[\"rx_kbps\"].mean())"
      ],
      "metadata": {
        "id": "p3Hm2MB72mMb"
      },
      "execution_count": 6,
      "outputs": []
    },
    {
      "cell_type": "code",
      "source": [
        "DDoS[\"tot_kbps\"] = DDoS[\"tot_kbps\"].fillna(DDoS[\"tot_kbps\"].mean())"
      ],
      "metadata": {
        "id": "ix1Mpqvd2pJ_"
      },
      "execution_count": 7,
      "outputs": []
    },
    {
      "cell_type": "code",
      "source": [
        "DDoS['label'].value_counts()"
      ],
      "metadata": {
        "colab": {
          "base_uri": "https://localhost:8080/"
        },
        "id": "ZiGsUbEW2rY0",
        "outputId": "f98540a8-475c-4c45-d603-4df85a658784"
      },
      "execution_count": 8,
      "outputs": [
        {
          "output_type": "execute_result",
          "data": {
            "text/plain": [
              "0    63561\n",
              "1    40784\n",
              "Name: label, dtype: int64"
            ]
          },
          "metadata": {},
          "execution_count": 8
        }
      ]
    },
    {
      "cell_type": "code",
      "source": [
        "DDoS.groupby([\"dt\",\"src\"]).label.count()"
      ],
      "metadata": {
        "colab": {
          "base_uri": "https://localhost:8080/"
        },
        "id": "LyT4Ynk82uaA",
        "outputId": "ecb01616-5046-4668-c01d-e0680d7b0861"
      },
      "execution_count": 9,
      "outputs": [
        {
          "output_type": "execute_result",
          "data": {
            "text/plain": [
              "dt     src\n",
              "2488   15      54\n",
              "2518   15      56\n",
              "       7      168\n",
              "2548   1       56\n",
              "       15      56\n",
              "             ... \n",
              "42905  17       8\n",
              "       18       8\n",
              "       4       16\n",
              "42935  17       8\n",
              "       4        8\n",
              "Name: label, Length: 3657, dtype: int64"
            ]
          },
          "metadata": {},
          "execution_count": 9
        }
      ]
    },
    {
      "cell_type": "code",
      "source": [
        "from sklearn.model_selection import train_test_split\n",
        "X = DDoS[['src','dst','dt', 'switch', 'pktcount', 'bytecount', 'dur', 'dur_nsec', 'tot_dur',\n",
        "       'flows', 'packetins', 'pktperflow', 'byteperflow', 'pktrate',\n",
        "       'Pairflow','Protocol' ,'port_no', 'tx_bytes', 'rx_bytes', 'tx_kbps', 'rx_kbps',\n",
        "       'tot_kbps']]\n",
        "y = DDoS['label']\n",
        "\n",
        "X_train, X_test, y_train, y_test = train_test_split(X, y, test_size=0.2, random_state=42)"
      ],
      "metadata": {
        "id": "kKILCGtN2w5n"
      },
      "execution_count": 10,
      "outputs": []
    },
    {
      "cell_type": "code",
      "source": [
        "# Feature scaling (or standardization)\n",
        "from sklearn.preprocessing import StandardScaler\n",
        "scaler = StandardScaler()\n",
        "X_train = scaler.fit_transform(X_train)\n",
        "X_test = scaler.transform(X_test)"
      ],
      "metadata": {
        "id": "vR6vFjA_29uY"
      },
      "execution_count": 11,
      "outputs": []
    },
    {
      "cell_type": "code",
      "source": [
        "!pip install pytorch-tabnet"
      ],
      "metadata": {
        "colab": {
          "base_uri": "https://localhost:8080/"
        },
        "id": "eIDDLwkT3Re_",
        "outputId": "e7e2dda9-31c3-4f27-f1a7-5fcc1dd702e3"
      },
      "execution_count": 12,
      "outputs": [
        {
          "output_type": "stream",
          "name": "stdout",
          "text": [
            "Collecting pytorch-tabnet\n",
            "  Downloading pytorch_tabnet-3.1.1-py3-none-any.whl (39 kB)\n",
            "Requirement already satisfied: scipy>1.4 in /usr/local/lib/python3.7/dist-packages (from pytorch-tabnet) (1.4.1)\n",
            "Requirement already satisfied: numpy<2.0,>=1.17 in /usr/local/lib/python3.7/dist-packages (from pytorch-tabnet) (1.21.6)\n",
            "Requirement already satisfied: scikit_learn>0.21 in /usr/local/lib/python3.7/dist-packages (from pytorch-tabnet) (1.0.2)\n",
            "Requirement already satisfied: torch<2.0,>=1.2 in /usr/local/lib/python3.7/dist-packages (from pytorch-tabnet) (1.10.0+cu111)\n",
            "Requirement already satisfied: tqdm<5.0,>=4.36 in /usr/local/lib/python3.7/dist-packages (from pytorch-tabnet) (4.64.0)\n",
            "Requirement already satisfied: joblib>=0.11 in /usr/local/lib/python3.7/dist-packages (from scikit_learn>0.21->pytorch-tabnet) (1.1.0)\n",
            "Requirement already satisfied: threadpoolctl>=2.0.0 in /usr/local/lib/python3.7/dist-packages (from scikit_learn>0.21->pytorch-tabnet) (3.1.0)\n",
            "Requirement already satisfied: typing-extensions in /usr/local/lib/python3.7/dist-packages (from torch<2.0,>=1.2->pytorch-tabnet) (4.1.1)\n",
            "Installing collected packages: pytorch-tabnet\n",
            "Successfully installed pytorch-tabnet-3.1.1\n"
          ]
        }
      ]
    },
    {
      "cell_type": "code",
      "source": [
        "from pytorch_tabnet.tab_model import TabNetClassifier\n",
        "import torch\n",
        "\n",
        "from sklearn.metrics import roc_auc_score, accuracy_score"
      ],
      "metadata": {
        "id": "bVEpp7nZ3VvW"
      },
      "execution_count": 14,
      "outputs": []
    },
    {
      "cell_type": "code",
      "source": [
        "# define the model\n",
        "model= TabNetClassifier(optimizer_fn=torch.optim.Adam,n_d=8,n_a=8,n_steps=3,\n",
        "                       optimizer_params=dict(lr=2e-2),\n",
        "                       scheduler_params={\"step_size\":10, # how to use learning rate scheduler\n",
        "                                         \"gamma\":0.9},\n",
        "                       scheduler_fn=torch.optim.lr_scheduler.StepLR,\n",
        "                       mask_type='entmax'\n",
        "                      )"
      ],
      "metadata": {
        "colab": {
          "base_uri": "https://localhost:8080/"
        },
        "id": "jFdfh_qH3bnH",
        "outputId": "04efd06c-07f5-4a4f-9160-d00ccf0ac061"
      },
      "execution_count": 15,
      "outputs": [
        {
          "output_type": "stream",
          "name": "stdout",
          "text": [
            "Device used : cpu\n"
          ]
        }
      ]
    },
    {
      "cell_type": "code",
      "source": [
        "# fit the model \n",
        "model.fit(\n",
        "    X_train,y_train,\n",
        "    eval_set=[(X_train, y_train), (X_test, y_test)],\n",
        "    eval_name=['train', 'valid'],\n",
        "    eval_metric=['auc','accuracy'],\n",
        "    max_epochs=30 , patience=15,\n",
        "    batch_size=256, virtual_batch_size=128,\n",
        "    num_workers=0,\n",
        "    weights=1,\n",
        "    drop_last=False\n",
        ")        "
      ],
      "metadata": {
        "colab": {
          "base_uri": "https://localhost:8080/"
        },
        "id": "ONNCgja83gOM",
        "outputId": "b5656f2d-ce73-43d2-c935-4a1010ceeaf8"
      },
      "execution_count": 16,
      "outputs": [
        {
          "output_type": "stream",
          "name": "stdout",
          "text": [
            "epoch 0  | loss: 0.17353 | train_auc: 0.99512 | train_accuracy: 0.96893 | valid_auc: 0.99492 | valid_accuracy: 0.96641 |  0:00:07s\n",
            "epoch 1  | loss: 0.08647 | train_auc: 0.96953 | train_accuracy: 0.68115 | valid_auc: 0.96942 | valid_accuracy: 0.68734 |  0:00:15s\n",
            "epoch 2  | loss: 0.07154 | train_auc: 0.99762 | train_accuracy: 0.97434 | valid_auc: 0.99743 | valid_accuracy: 0.97293 |  0:00:22s\n",
            "epoch 3  | loss: 0.05524 | train_auc: 0.9907  | train_accuracy: 0.86313 | valid_auc: 0.99011 | valid_accuracy: 0.85859 |  0:00:29s\n",
            "epoch 4  | loss: 0.0486  | train_auc: 0.99735 | train_accuracy: 0.96919 | valid_auc: 0.99727 | valid_accuracy: 0.96837 |  0:00:37s\n",
            "epoch 5  | loss: 0.03763 | train_auc: 0.98961 | train_accuracy: 0.81202 | valid_auc: 0.98921 | valid_accuracy: 0.81408 |  0:00:46s\n",
            "epoch 6  | loss: 0.04932 | train_auc: 0.99423 | train_accuracy: 0.84721 | valid_auc: 0.99359 | valid_accuracy: 0.84733 |  0:00:53s\n",
            "epoch 7  | loss: 0.04139 | train_auc: 0.97306 | train_accuracy: 0.80616 | valid_auc: 0.97293 | valid_accuracy: 0.80876 |  0:01:00s\n",
            "epoch 8  | loss: 0.0342  | train_auc: 0.98351 | train_accuracy: 0.75466 | valid_auc: 0.98279 | valid_accuracy: 0.75974 |  0:01:13s\n",
            "epoch 9  | loss: 0.03739 | train_auc: 0.99816 | train_accuracy: 0.90887 | valid_auc: 0.9981  | valid_accuracy: 0.90742 |  0:01:29s\n",
            "epoch 10 | loss: 0.02802 | train_auc: 0.99968 | train_accuracy: 0.99121 | valid_auc: 0.99958 | valid_accuracy: 0.99008 |  0:01:41s\n",
            "epoch 11 | loss: 0.02831 | train_auc: 0.99259 | train_accuracy: 0.81572 | valid_auc: 0.99213 | valid_accuracy: 0.81724 |  0:01:48s\n",
            "epoch 12 | loss: 0.02939 | train_auc: 0.98117 | train_accuracy: 0.66405 | valid_auc: 0.98113 | valid_accuracy: 0.66937 |  0:01:55s\n",
            "epoch 13 | loss: 0.02724 | train_auc: 0.99899 | train_accuracy: 0.98382 | valid_auc: 0.99893 | valid_accuracy: 0.98308 |  0:02:03s\n",
            "epoch 14 | loss: 0.02659 | train_auc: 0.99772 | train_accuracy: 0.96341 | valid_auc: 0.99802 | valid_accuracy: 0.96411 |  0:02:10s\n",
            "epoch 15 | loss: 0.02368 | train_auc: 0.98935 | train_accuracy: 0.86827 | valid_auc: 0.98917 | valid_accuracy: 0.86914 |  0:02:17s\n",
            "epoch 16 | loss: 0.02668 | train_auc: 0.9846  | train_accuracy: 0.93064 | valid_auc: 0.98414 | valid_accuracy: 0.93181 |  0:02:27s\n",
            "epoch 17 | loss: 0.02917 | train_auc: 0.99537 | train_accuracy: 0.97852 | valid_auc: 0.99544 | valid_accuracy: 0.97892 |  0:02:35s\n",
            "epoch 18 | loss: 0.02317 | train_auc: 0.99324 | train_accuracy: 0.94939 | valid_auc: 0.99373 | valid_accuracy: 0.94983 |  0:02:42s\n",
            "epoch 19 | loss: 0.02414 | train_auc: 0.9987  | train_accuracy: 0.96996 | valid_auc: 0.99868 | valid_accuracy: 0.97101 |  0:02:49s\n",
            "epoch 20 | loss: 0.01979 | train_auc: 0.95655 | train_accuracy: 0.66515 | valid_auc: 0.95536 | valid_accuracy: 0.66922 |  0:02:56s\n",
            "epoch 21 | loss: 0.02012 | train_auc: 0.99896 | train_accuracy: 0.97099 | valid_auc: 0.99892 | valid_accuracy: 0.96943 |  0:03:04s\n",
            "epoch 22 | loss: 0.02061 | train_auc: 0.99678 | train_accuracy: 0.9615  | valid_auc: 0.99664 | valid_accuracy: 0.96229 |  0:03:11s\n",
            "epoch 23 | loss: 0.01823 | train_auc: 0.99117 | train_accuracy: 0.92297 | valid_auc: 0.99151 | valid_accuracy: 0.92304 |  0:03:19s\n",
            "epoch 24 | loss: 0.02465 | train_auc: 0.9946  | train_accuracy: 0.93513 | valid_auc: 0.99436 | valid_accuracy: 0.93464 |  0:03:26s\n",
            "epoch 25 | loss: 0.01791 | train_auc: 0.99943 | train_accuracy: 0.98969 | valid_auc: 0.99944 | valid_accuracy: 0.98912 |  0:03:34s\n",
            "\n",
            "Early stopping occurred at epoch 25 with best_epoch = 10 and best_valid_accuracy = 0.99008\n",
            "Best weights from best epoch are automatically used!\n"
          ]
        }
      ]
    },
    {
      "cell_type": "code",
      "source": [
        "# plot losses\n",
        "plt.plot(model.history['loss'])\n",
        "plt.title('TabNet Model loss')\n",
        "plt.ylabel('loss')\n",
        "plt.xlabel('Epoch')\n",
        "plt.legend(['Train', 'Test'], loc='lower right')\n",
        "plt.savefig('TabNet Model loss.png')\n",
        "plt.show()"
      ],
      "metadata": {
        "id": "2z-evZLD3tmo"
      },
      "execution_count": null,
      "outputs": []
    },
    {
      "cell_type": "code",
      "source": [
        "# plot accuracy\n",
        "plt.plot(model.history['train_accuracy'])\n",
        "plt.plot(model.history['valid_accuracy'])\n",
        "plt.title('TabNet Model Accuracy')\n",
        "plt.ylabel('Accuracy')\n",
        "plt.xlabel('Epoch')\n",
        "plt.legend(['Train', 'Test'], loc='lower right')\n",
        "plt.savefig('TabNet Model Accuracy.png')\n",
        "plt.show()"
      ],
      "metadata": {
        "id": "iBSvdh8R3zD2"
      },
      "execution_count": null,
      "outputs": []
    },
    {
      "cell_type": "code",
      "source": [
        "# plot learning rates\n",
        "plt.plot(model.history['lr'])"
      ],
      "metadata": {
        "id": "PgsnBDyr31lP"
      },
      "execution_count": null,
      "outputs": []
    },
    {
      "cell_type": "code",
      "source": [
        "# plot auc\n",
        "plt.plot(model.history['train_auc'])\n",
        "plt.plot(model.history['valid_auc'])"
      ],
      "metadata": {
        "id": "MNyEhZtT36Jj"
      },
      "execution_count": null,
      "outputs": []
    },
    {
      "cell_type": "code",
      "source": [
        "preds = model.predict_proba(X_test)\n",
        "test_auc = roc_auc_score(y_score=preds[:,1], y_true=y_test)\n",
        "\n",
        "\n",
        "preds_valid = model.predict_proba(X_test)\n",
        "valid_auc = roc_auc_score(y_score=preds_valid[:,1], y_true=y_test)\n",
        "\n",
        "print(f\"BEST VALID SCORE FOR {DDoS} : {model.best_cost}\")\n",
        "print(f\"FINAL TEST SCORE FOR {DDoS} : {test_auc}\")"
      ],
      "metadata": {
        "colab": {
          "base_uri": "https://localhost:8080/"
        },
        "id": "bfaAkziP4Fgt",
        "outputId": "22913e02-5f92-4a70-ed32-324f091b6e1a"
      },
      "execution_count": 17,
      "outputs": [
        {
          "output_type": "stream",
          "name": "stdout",
          "text": [
            "BEST VALID SCORE FOR            dt  switch src dst  pktcount  bytecount  dur   dur_nsec  \\\n",
            "0       11425       1  15   0     45304   48294064  100  716000000   \n",
            "1       11605       1  15   0    126395  134737070  280  734000000   \n",
            "2       11425       1   1   0     90333   96294978  200  744000000   \n",
            "3       11425       1   1   0     90333   96294978  200  744000000   \n",
            "4       11425       1   1   0     90333   96294978  200  744000000   \n",
            "...       ...     ...  ..  ..       ...        ...  ...        ...   \n",
            "104340   5262       3   4   1        79       7742   81  842000000   \n",
            "104341   5262       3   4   1        79       7742   81  842000000   \n",
            "104342   5262       3   7   8        31       3038   31  805000000   \n",
            "104343   5262       3   7   8        31       3038   31  805000000   \n",
            "104344   5262       3   7   8        31       3038   31  805000000   \n",
            "\n",
            "             tot_dur  flows  ...  pktrate  Pairflow  Protocol  port_no  \\\n",
            "0       1.010000e+11      3  ...      451         0         1        3   \n",
            "1       2.810000e+11      2  ...      451         0         1        4   \n",
            "2       2.010000e+11      3  ...      451         0         1        1   \n",
            "3       2.010000e+11      3  ...      451         0         1        2   \n",
            "4       2.010000e+11      3  ...      451         0         1        3   \n",
            "...              ...    ...  ...      ...       ...       ...      ...   \n",
            "104340  8.184200e+10      5  ...        0         0         2        1   \n",
            "104341  8.184200e+10      5  ...        0         0         2        3   \n",
            "104342  3.180500e+10      5  ...        1         0         2        2   \n",
            "104343  3.180500e+10      5  ...        1         0         2        1   \n",
            "104344  3.180500e+10      5  ...        1         0         2        3   \n",
            "\n",
            "         tx_bytes rx_bytes  tx_kbps  rx_kbps  tot_kbps  label  \n",
            "0       143928631     3917        0      0.0       0.0      0  \n",
            "1            3842     3520        0      0.0       0.0      0  \n",
            "2            3795     1242        0      0.0       0.0      0  \n",
            "3            3688     1492        0      0.0       0.0      0  \n",
            "4            3413     3665        0      0.0       0.0      0  \n",
            "...           ...      ...      ...      ...       ...    ...  \n",
            "104340      15209    12720        1      1.0       2.0      0  \n",
            "104341      15099    14693        1      1.0       2.0      0  \n",
            "104342       3409     3731        0      0.0       0.0      0  \n",
            "104343      15209    12720        1      1.0       2.0      0  \n",
            "104344      15099    14693        1      1.0       2.0      0  \n",
            "\n",
            "[104345 rows x 23 columns] : 0.9900809813599118\n",
            "FINAL TEST SCORE FOR            dt  switch src dst  pktcount  bytecount  dur   dur_nsec  \\\n",
            "0       11425       1  15   0     45304   48294064  100  716000000   \n",
            "1       11605       1  15   0    126395  134737070  280  734000000   \n",
            "2       11425       1   1   0     90333   96294978  200  744000000   \n",
            "3       11425       1   1   0     90333   96294978  200  744000000   \n",
            "4       11425       1   1   0     90333   96294978  200  744000000   \n",
            "...       ...     ...  ..  ..       ...        ...  ...        ...   \n",
            "104340   5262       3   4   1        79       7742   81  842000000   \n",
            "104341   5262       3   4   1        79       7742   81  842000000   \n",
            "104342   5262       3   7   8        31       3038   31  805000000   \n",
            "104343   5262       3   7   8        31       3038   31  805000000   \n",
            "104344   5262       3   7   8        31       3038   31  805000000   \n",
            "\n",
            "             tot_dur  flows  ...  pktrate  Pairflow  Protocol  port_no  \\\n",
            "0       1.010000e+11      3  ...      451         0         1        3   \n",
            "1       2.810000e+11      2  ...      451         0         1        4   \n",
            "2       2.010000e+11      3  ...      451         0         1        1   \n",
            "3       2.010000e+11      3  ...      451         0         1        2   \n",
            "4       2.010000e+11      3  ...      451         0         1        3   \n",
            "...              ...    ...  ...      ...       ...       ...      ...   \n",
            "104340  8.184200e+10      5  ...        0         0         2        1   \n",
            "104341  8.184200e+10      5  ...        0         0         2        3   \n",
            "104342  3.180500e+10      5  ...        1         0         2        2   \n",
            "104343  3.180500e+10      5  ...        1         0         2        1   \n",
            "104344  3.180500e+10      5  ...        1         0         2        3   \n",
            "\n",
            "         tx_bytes rx_bytes  tx_kbps  rx_kbps  tot_kbps  label  \n",
            "0       143928631     3917        0      0.0       0.0      0  \n",
            "1            3842     3520        0      0.0       0.0      0  \n",
            "2            3795     1242        0      0.0       0.0      0  \n",
            "3            3688     1492        0      0.0       0.0      0  \n",
            "4            3413     3665        0      0.0       0.0      0  \n",
            "...           ...      ...      ...      ...       ...    ...  \n",
            "104340      15209    12720        1      1.0       2.0      0  \n",
            "104341      15099    14693        1      1.0       2.0      0  \n",
            "104342       3409     3731        0      0.0       0.0      0  \n",
            "104343      15209    12720        1      1.0       2.0      0  \n",
            "104344      15099    14693        1      1.0       2.0      0  \n",
            "\n",
            "[104345 rows x 23 columns] : 0.9995772731860891\n"
          ]
        }
      ]
    },
    {
      "cell_type": "code",
      "source": [
        "# local explainability and masks\n",
        "explain_matrix, masks = model.explain(X_test)"
      ],
      "metadata": {
        "id": "NS5PYjVv4eUC"
      },
      "execution_count": 18,
      "outputs": []
    },
    {
      "cell_type": "code",
      "source": [
        "fig, axs = plt.subplots(1, 3, figsize=(20,20))\n",
        "\n",
        "for i in range(3):\n",
        "    axs[i].imshow(masks[i][:23])\n",
        "    axs[i].set_title(f\"mask {i}\")"
      ],
      "metadata": {
        "colab": {
          "base_uri": "https://localhost:8080/",
          "height": 407
        },
        "id": "_BGUxDrA57v_",
        "outputId": "1593ee91-4050-4048-d884-1f780d5bfb9e"
      },
      "execution_count": 19,
      "outputs": [
        {
          "output_type": "display_data",
          "data": {
            "text/plain": [
              "<Figure size 1440x1440 with 3 Axes>"
            ],
            "image/png": "[encoded data removed]"
          },
          "metadata": {
            "needs_background": "light"
          }
        }
      ]
    },
    {
      "cell_type": "code",
      "source": [
        "#prediction\n",
        "y_pred = model.predict(X_test)"
      ],
      "metadata": {
        "id": "DZ7Q10tc6EoD"
      },
      "execution_count": 20,
      "outputs": []
    },
    {
      "cell_type": "code",
      "source": [
        "# determine best accuracy for test set\n",
        "preds = model.predict(X_test)\n",
        "test_acc = accuracy_score(preds, y_test)\n",
        "print(f\"BEST ACCURACY SCORE ON TEST SET : {test_acc}\")"
      ],
      "metadata": {
        "colab": {
          "base_uri": "https://localhost:8080/"
        },
        "id": "oXD2RCtV6Lht",
        "outputId": "c77812c4-95fc-424f-e580-0d8da5ea6ef4"
      },
      "execution_count": 21,
      "outputs": [
        {
          "output_type": "stream",
          "name": "stdout",
          "text": [
            "BEST ACCURACY SCORE ON TEST SET : 0.9900809813599118\n"
          ]
        }
      ]
    }
  ]
}