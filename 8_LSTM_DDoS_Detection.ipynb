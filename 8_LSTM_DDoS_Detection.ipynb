{
  "nbformat": 4,
  "nbformat_minor": 0,
  "metadata": {
    "colab": {
      "name": "8.LSTM_DDoS_Detection.ipynb",
      "provenance": []
    },
    "kernelspec": {
      "name": "python3",
      "display_name": "Python 3"
    },
    "language_info": {
      "name": "python"
    }
  },
  "cells": [
    {
      "cell_type": "code",
      "execution_count": 1,
      "metadata": {
        "id": "HhCLwu5ejN6O"
      },
      "outputs": [],
      "source": [
        "import numpy as np\n",
        "import pandas as pd\n",
        "import matplotlib.pyplot as plt\n",
        "\n",
        "import seaborn as sns; sns.set()"
      ]
    },
    {
      "cell_type": "code",
      "source": [
        "from keras.models import Sequential, load_model\n",
        "from keras.layers import Dense, LSTM\n",
        "from tensorflow.keras.utils import plot_model\n",
        "from keras.utils import np_utils\n",
        "\n",
        "from sklearn.model_selection import train_test_split\n",
        "from sklearn.preprocessing import  StandardScaler\n",
        "from sklearn.metrics import confusion_matrix"
      ],
      "metadata": {
        "id": "Nj5XMqZkjabQ"
      },
      "execution_count": 2,
      "outputs": []
    },
    {
      "cell_type": "code",
      "source": [
        "DDoS=pd.read_csv('/content/dataset_sdn.csv')"
      ],
      "metadata": {
        "id": "GVLLbSGJjfCe"
      },
      "execution_count": 3,
      "outputs": []
    },
    {
      "cell_type": "code",
      "source": [
        "DDoS.Protocol.unique()\n",
        "DDoS['Protocol'] = DDoS['Protocol'].replace('TCP', '0')\n",
        "DDoS['Protocol'] = DDoS['Protocol'].replace('UDP', '1')\n",
        "DDoS['Protocol'] = DDoS['Protocol'].replace('ICMP', '2')\n",
        "DDoS.Protocol.unique()"
      ],
      "metadata": {
        "colab": {
          "base_uri": "https://localhost:8080/"
        },
        "id": "h4E1cGmtjhjw",
        "outputId": "086345f0-ff12-43ca-fb7c-1815df7e7c72"
      },
      "execution_count": 4,
      "outputs": [
        {
          "output_type": "execute_result",
          "data": {
            "text/plain": [
              "array(['1', '0', '2'], dtype=object)"
            ]
          },
          "metadata": {},
          "execution_count": 4
        }
      ]
    },
    {
      "cell_type": "code",
      "source": [
        "DDoS[\"rx_kbps\"] = DDoS[\"rx_kbps\"].fillna(DDoS[\"rx_kbps\"].mean())"
      ],
      "metadata": {
        "id": "P_ft8agKjkIT"
      },
      "execution_count": 5,
      "outputs": []
    },
    {
      "cell_type": "code",
      "source": [
        "DDoS[\"tot_kbps\"] = DDoS[\"tot_kbps\"].fillna(DDoS[\"tot_kbps\"].mean())"
      ],
      "metadata": {
        "id": "dgYb3QnBjnCM"
      },
      "execution_count": 6,
      "outputs": []
    },
    {
      "cell_type": "code",
      "source": [
        "from sklearn.model_selection import train_test_split\n",
        "X = DDoS[['dt', 'switch', 'pktcount', 'bytecount', 'dur', 'dur_nsec', 'tot_dur',\n",
        "       'flows', 'packetins', 'pktperflow', 'byteperflow', 'pktrate',\n",
        "       'Pairflow','Protocol' ,'port_no', 'tx_bytes', 'rx_bytes', 'tx_kbps', 'rx_kbps',\n",
        "       'tot_kbps']]\n",
        "y = DDoS['label']\n",
        "\n",
        "X_train, X_test, y_train, y_test = train_test_split(X, y, test_size=0.4, random_state=42)"
      ],
      "metadata": {
        "id": "KgWYTovtjpwi"
      },
      "execution_count": 7,
      "outputs": []
    },
    {
      "cell_type": "code",
      "source": [
        "# Feature scaling (or standardization)\n",
        "from sklearn.preprocessing import StandardScaler\n",
        "scaler = StandardScaler()\n",
        "X_train = scaler.fit_transform(X_train)\n",
        "X_test = scaler.transform(X_test)"
      ],
      "metadata": {
        "id": "dZz2FQfbjtxP"
      },
      "execution_count": 8,
      "outputs": []
    },
    {
      "cell_type": "code",
      "source": [
        "# reshape inputs for LSTM [samples, timesteps, features]\n",
        "\n",
        "\n",
        "X_train = X_train.reshape(X_train.shape[0], 1, X_train.shape[1])\n",
        "print(\"Training data shape:\", X_train.shape)\n",
        "X_test = X_test.reshape(X_test.shape[0], 1, X_test.shape[1])\n",
        "print(\"Test data shape:\", X_test.shape)"
      ],
      "metadata": {
        "colab": {
          "base_uri": "https://localhost:8080/"
        },
        "id": "9uveSMnBjwWj",
        "outputId": "8ea89d39-1244-4efc-80ce-4d7f34330bcb"
      },
      "execution_count": 9,
      "outputs": [
        {
          "output_type": "stream",
          "name": "stdout",
          "text": [
            "Training data shape: (62607, 1, 20)\n",
            "Test data shape: (41738, 1, 20)\n"
          ]
        }
      ]
    },
    {
      "cell_type": "code",
      "source": [
        "def create_baseline():\n",
        "    model = Sequential()\n",
        "    \n",
        "    model.add(LSTM(20, activation='tanh', kernel_regularizer='l2'))\n",
        "    model.add(Dense(64, activation = 'relu', kernel_regularizer='l2'))\n",
        "    model.add(Dense(1, activation = 'sigmoid', kernel_regularizer='l2'))\n",
        "    \n",
        "    model.compile(loss = 'binary_crossentropy', optimizer = 'adam', metrics = ['accuracy'])\n",
        "    \n",
        "    return model"
      ],
      "metadata": {
        "id": "m2aJoKByjzmr"
      },
      "execution_count": 10,
      "outputs": []
    },
    {
      "cell_type": "code",
      "source": [
        "model = create_baseline()"
      ],
      "metadata": {
        "id": "UA58clO5j3Vj"
      },
      "execution_count": 11,
      "outputs": []
    },
    {
      "cell_type": "code",
      "source": [
        "history = model.fit(X_train, y_train, epochs = 50,validation_split=0.2,verbose = 1)"
      ],
      "metadata": {
        "colab": {
          "base_uri": "https://localhost:8080/"
        },
        "id": "D8p1IZ0mj68k",
        "outputId": "63ba876c-3d35-4f7e-f243-ce64d312d368"
      },
      "execution_count": 12,
      "outputs": [
        {
          "output_type": "stream",
          "name": "stdout",
          "text": [
            "Epoch 1/50\n",
            "1566/1566 [==============================] - 14s 6ms/step - loss: 0.5152 - accuracy: 0.8648 - val_loss: 0.4070 - val_accuracy: 0.9284\n",
            "Epoch 2/50\n",
            "1566/1566 [==============================] - 9s 6ms/step - loss: 0.3903 - accuracy: 0.9351 - val_loss: 0.3840 - val_accuracy: 0.9377\n",
            "Epoch 3/50\n",
            "1566/1566 [==============================] - 12s 8ms/step - loss: 0.3737 - accuracy: 0.9386 - val_loss: 0.3703 - val_accuracy: 0.9390\n",
            "Epoch 4/50\n",
            "1566/1566 [==============================] - 9s 6ms/step - loss: 0.3642 - accuracy: 0.9383 - val_loss: 0.3650 - val_accuracy: 0.9322\n",
            "Epoch 5/50\n",
            "1566/1566 [==============================] - 6s 4ms/step - loss: 0.3571 - accuracy: 0.9389 - val_loss: 0.3595 - val_accuracy: 0.9376\n",
            "Epoch 6/50\n",
            "1566/1566 [==============================] - 7s 5ms/step - loss: 0.3532 - accuracy: 0.9391 - val_loss: 0.3544 - val_accuracy: 0.9428\n",
            "Epoch 7/50\n",
            "1566/1566 [==============================] - 8s 5ms/step - loss: 0.3506 - accuracy: 0.9394 - val_loss: 0.3528 - val_accuracy: 0.9392\n",
            "Epoch 8/50\n",
            "1566/1566 [==============================] - 7s 4ms/step - loss: 0.3482 - accuracy: 0.9400 - val_loss: 0.3506 - val_accuracy: 0.9372\n",
            "Epoch 9/50\n",
            "1566/1566 [==============================] - 6s 4ms/step - loss: 0.3461 - accuracy: 0.9409 - val_loss: 0.3466 - val_accuracy: 0.9409\n",
            "Epoch 10/50\n",
            "1566/1566 [==============================] - 9s 6ms/step - loss: 0.3445 - accuracy: 0.9419 - val_loss: 0.3455 - val_accuracy: 0.9415\n",
            "Epoch 11/50\n",
            "1566/1566 [==============================] - 8s 5ms/step - loss: 0.3434 - accuracy: 0.9422 - val_loss: 0.3438 - val_accuracy: 0.9414\n",
            "Epoch 12/50\n",
            "1566/1566 [==============================] - 5s 3ms/step - loss: 0.3421 - accuracy: 0.9421 - val_loss: 0.3439 - val_accuracy: 0.9399\n",
            "Epoch 13/50\n",
            "1566/1566 [==============================] - 8s 5ms/step - loss: 0.3407 - accuracy: 0.9424 - val_loss: 0.3429 - val_accuracy: 0.9423\n",
            "Epoch 14/50\n",
            "1566/1566 [==============================] - 7s 5ms/step - loss: 0.3398 - accuracy: 0.9423 - val_loss: 0.3413 - val_accuracy: 0.9435\n",
            "Epoch 15/50\n",
            "1566/1566 [==============================] - 7s 4ms/step - loss: 0.3388 - accuracy: 0.9423 - val_loss: 0.3417 - val_accuracy: 0.9391\n",
            "Epoch 16/50\n",
            "1566/1566 [==============================] - 8s 5ms/step - loss: 0.3383 - accuracy: 0.9428 - val_loss: 0.3397 - val_accuracy: 0.9436\n",
            "Epoch 17/50\n",
            "1566/1566 [==============================] - 8s 5ms/step - loss: 0.3373 - accuracy: 0.9428 - val_loss: 0.3389 - val_accuracy: 0.9407\n",
            "Epoch 18/50\n",
            "1566/1566 [==============================] - 7s 4ms/step - loss: 0.3371 - accuracy: 0.9421 - val_loss: 0.3375 - val_accuracy: 0.9447\n",
            "Epoch 19/50\n",
            "1566/1566 [==============================] - 7s 4ms/step - loss: 0.3366 - accuracy: 0.9423 - val_loss: 0.3388 - val_accuracy: 0.9413\n",
            "Epoch 20/50\n",
            "1566/1566 [==============================] - 6s 4ms/step - loss: 0.3365 - accuracy: 0.9432 - val_loss: 0.3394 - val_accuracy: 0.9428\n",
            "Epoch 21/50\n",
            "1566/1566 [==============================] - 5s 3ms/step - loss: 0.3363 - accuracy: 0.9428 - val_loss: 0.3392 - val_accuracy: 0.9423\n",
            "Epoch 22/50\n",
            "1566/1566 [==============================] - 5s 3ms/step - loss: 0.3362 - accuracy: 0.9432 - val_loss: 0.3386 - val_accuracy: 0.9437\n",
            "Epoch 23/50\n",
            "1566/1566 [==============================] - 6s 4ms/step - loss: 0.3361 - accuracy: 0.9427 - val_loss: 0.3373 - val_accuracy: 0.9425\n",
            "Epoch 24/50\n",
            "1566/1566 [==============================] - 5s 3ms/step - loss: 0.3364 - accuracy: 0.9417 - val_loss: 0.3377 - val_accuracy: 0.9416\n",
            "Epoch 25/50\n",
            "1566/1566 [==============================] - 7s 4ms/step - loss: 0.3359 - accuracy: 0.9433 - val_loss: 0.3426 - val_accuracy: 0.9380\n",
            "Epoch 26/50\n",
            "1566/1566 [==============================] - 7s 4ms/step - loss: 0.3361 - accuracy: 0.9420 - val_loss: 0.3391 - val_accuracy: 0.9452\n",
            "Epoch 27/50\n",
            "1566/1566 [==============================] - 6s 4ms/step - loss: 0.3362 - accuracy: 0.9426 - val_loss: 0.3381 - val_accuracy: 0.9431\n",
            "Epoch 28/50\n",
            "1566/1566 [==============================] - 5s 3ms/step - loss: 0.3358 - accuracy: 0.9431 - val_loss: 0.3398 - val_accuracy: 0.9396\n",
            "Epoch 29/50\n",
            "1566/1566 [==============================] - 5s 3ms/step - loss: 0.3361 - accuracy: 0.9427 - val_loss: 0.3389 - val_accuracy: 0.9411\n",
            "Epoch 30/50\n",
            "1566/1566 [==============================] - 6s 4ms/step - loss: 0.3362 - accuracy: 0.9427 - val_loss: 0.3387 - val_accuracy: 0.9422\n",
            "Epoch 31/50\n",
            "1566/1566 [==============================] - 5s 3ms/step - loss: 0.3361 - accuracy: 0.9425 - val_loss: 0.3381 - val_accuracy: 0.9425\n",
            "Epoch 32/50\n",
            "1566/1566 [==============================] - 6s 4ms/step - loss: 0.3361 - accuracy: 0.9424 - val_loss: 0.3384 - val_accuracy: 0.9413\n",
            "Epoch 33/50\n",
            "1566/1566 [==============================] - 6s 4ms/step - loss: 0.3359 - accuracy: 0.9426 - val_loss: 0.3390 - val_accuracy: 0.9399\n",
            "Epoch 34/50\n",
            "1566/1566 [==============================] - 6s 4ms/step - loss: 0.3357 - accuracy: 0.9428 - val_loss: 0.3381 - val_accuracy: 0.9427\n",
            "Epoch 35/50\n",
            "1566/1566 [==============================] - 6s 4ms/step - loss: 0.3362 - accuracy: 0.9427 - val_loss: 0.3375 - val_accuracy: 0.9417\n",
            "Epoch 36/50\n",
            "1566/1566 [==============================] - 5s 3ms/step - loss: 0.3363 - accuracy: 0.9420 - val_loss: 0.3384 - val_accuracy: 0.9422\n",
            "Epoch 37/50\n",
            "1566/1566 [==============================] - 6s 4ms/step - loss: 0.3362 - accuracy: 0.9425 - val_loss: 0.3372 - val_accuracy: 0.9422\n",
            "Epoch 38/50\n",
            "1566/1566 [==============================] - 6s 4ms/step - loss: 0.3358 - accuracy: 0.9432 - val_loss: 0.3428 - val_accuracy: 0.9364\n",
            "Epoch 39/50\n",
            "1566/1566 [==============================] - 6s 4ms/step - loss: 0.3361 - accuracy: 0.9427 - val_loss: 0.3388 - val_accuracy: 0.9428\n",
            "Epoch 40/50\n",
            "1566/1566 [==============================] - 6s 4ms/step - loss: 0.3359 - accuracy: 0.9432 - val_loss: 0.3395 - val_accuracy: 0.9403\n",
            "Epoch 41/50\n",
            "1566/1566 [==============================] - 6s 4ms/step - loss: 0.3361 - accuracy: 0.9428 - val_loss: 0.3378 - val_accuracy: 0.9395\n",
            "Epoch 42/50\n",
            "1566/1566 [==============================] - 6s 4ms/step - loss: 0.3361 - accuracy: 0.9426 - val_loss: 0.3383 - val_accuracy: 0.9423\n",
            "Epoch 43/50\n",
            "1566/1566 [==============================] - 6s 4ms/step - loss: 0.3360 - accuracy: 0.9429 - val_loss: 0.3390 - val_accuracy: 0.9436\n",
            "Epoch 44/50\n",
            "1566/1566 [==============================] - 6s 4ms/step - loss: 0.3362 - accuracy: 0.9424 - val_loss: 0.3386 - val_accuracy: 0.9435\n",
            "Epoch 45/50\n",
            "1566/1566 [==============================] - 6s 4ms/step - loss: 0.3360 - accuracy: 0.9431 - val_loss: 0.3388 - val_accuracy: 0.9422\n",
            "Epoch 46/50\n",
            "1566/1566 [==============================] - 7s 4ms/step - loss: 0.3359 - accuracy: 0.9433 - val_loss: 0.3371 - val_accuracy: 0.9432\n",
            "Epoch 47/50\n",
            "1566/1566 [==============================] - 7s 4ms/step - loss: 0.3359 - accuracy: 0.9419 - val_loss: 0.3389 - val_accuracy: 0.9399\n",
            "Epoch 48/50\n",
            "1566/1566 [==============================] - 7s 4ms/step - loss: 0.3361 - accuracy: 0.9420 - val_loss: 0.3372 - val_accuracy: 0.9424\n",
            "Epoch 49/50\n",
            "1566/1566 [==============================] - 6s 4ms/step - loss: 0.3359 - accuracy: 0.9435 - val_loss: 0.3379 - val_accuracy: 0.9420\n",
            "Epoch 50/50\n",
            "1566/1566 [==============================] - 6s 4ms/step - loss: 0.3361 - accuracy: 0.9425 - val_loss: 0.3415 - val_accuracy: 0.9421\n"
          ]
        }
      ]
    },
    {
      "cell_type": "code",
      "source": [
        "# Plot training & validation accuracy values\n",
        "plt.plot(history.history['accuracy'])\n",
        "plt.plot(history.history['val_accuracy'])\n",
        "plt.title('LSTM Model Accuracy')\n",
        "plt.ylabel('Accuracy')\n",
        "plt.xlabel('Epoch')\n",
        "plt.legend(['Train', 'Test'], loc='lower right')\n",
        "plt.savefig('LSTM Model Accuracy.png')\n",
        "plt.show()"
      ],
      "metadata": {
        "colab": {
          "base_uri": "https://localhost:8080/",
          "height": 301
        },
        "id": "bYDx1yl4kJRX",
        "outputId": "cc0adf76-1be4-49e9-e103-232ec64bc3ed"
      },
      "execution_count": 13,
      "outputs": [
        {
          "output_type": "display_data",
          "data": {
            "text/plain": [
              "<Figure size 432x288 with 1 Axes>"
            ],
            "image/png": "[encoded data removed]"
          },
          "metadata": {
            "needs_background": "light"
          }
        }
      ]
    },
    {
      "cell_type": "code",
      "source": [
        "# Plot training & validation loss values\n",
        "plt.plot(history.history['loss'])\n",
        "plt.plot(history.history['val_loss'])\n",
        "plt.title('LSTM Model  Loss')\n",
        "plt.ylabel('Loss')\n",
        "plt.xlabel('Epoch')\n",
        "plt.legend(['Train', 'Test'], loc='upper left')\n",
        "plt.savefig('LSTM Model Loss.png')\n",
        "plt.show()"
      ],
      "metadata": {
        "colab": {
          "base_uri": "https://localhost:8080/",
          "height": 301
        },
        "id": "BP9RFLkrkRh0",
        "outputId": "253a46ea-c272-430e-c5ca-97efa313c5ae"
      },
      "execution_count": 14,
      "outputs": [
        {
          "output_type": "display_data",
          "data": {
            "text/plain": [
              "<Figure size 432x288 with 1 Axes>"
            ],
            "image/png": "[encoded data removed]"
          },
          "metadata": {
            "needs_background": "light"
          }
        }
      ]
    },
    {
      "cell_type": "code",
      "source": [
        "predict = model.predict(X_test, verbose=1)"
      ],
      "metadata": {
        "colab": {
          "base_uri": "https://localhost:8080/"
        },
        "id": "V88eLQfXkcYL",
        "outputId": "6ee6ad69-50f6-42d1-9702-21fca2a8a3f0"
      },
      "execution_count": 15,
      "outputs": [
        {
          "output_type": "stream",
          "name": "stdout",
          "text": [
            "1305/1305 [==============================] - 3s 2ms/step\n"
          ]
        }
      ]
    },
    {
      "cell_type": "code",
      "source": [
        "tp = 0\n",
        "tn = 0\n",
        "fp = 0\n",
        "fn = 0\n",
        "predictn = predict.flatten().round()\n",
        "predictn = predictn.tolist()\n",
        "Y_testn = y_test.tolist()\n",
        "for i in range(len(Y_testn)):\n",
        "  if predictn[i]==1 and Y_testn[i]==1:\n",
        "    tp+=1\n",
        "  elif predictn[i]==0 and Y_testn[i]==0:\n",
        "    tn+=1\n",
        "  elif predictn[i]==0 and Y_testn[i]==1:\n",
        "    fp+=1\n",
        "  elif predictn[i]==1 and Y_testn[i]==0:\n",
        "    fn+=1"
      ],
      "metadata": {
        "id": "OP11bzclkdrT"
      },
      "execution_count": 16,
      "outputs": []
    },
    {
      "cell_type": "code",
      "source": [
        "to_heat_map =[[tn,fp],[fn,tp]]\n",
        "to_heat_map = pd.DataFrame(to_heat_map, index = [\"Normal\",\"Attack\"],columns = [\"Normal\",\"Attack\"])\n",
        "ax = sns.heatmap(to_heat_map,annot=True, fmt=\"d\")"
      ],
      "metadata": {
        "colab": {
          "base_uri": "https://localhost:8080/",
          "height": 268
        },
        "id": "ZgQPIQ6WkiOG",
        "outputId": "bdb4543a-f513-4cca-a3d5-73eb2dbf1f6b"
      },
      "execution_count": 17,
      "outputs": [
        {
          "output_type": "display_data",
          "data": {
            "text/plain": [
              "<Figure size 432x288 with 2 Axes>"
            ],
            "image/png": "[encoded data removed]"
          },
          "metadata": {
            "needs_background": "light"
          }
        }
      ]
    },
    {
      "cell_type": "code",
      "source": [
        "scores = model.evaluate(X_test, y_test, verbose=0)\n",
        "print(\"%s: %.2f%%\" % (model.metrics_names[1], scores[1]*100))"
      ],
      "metadata": {
        "colab": {
          "base_uri": "https://localhost:8080/"
        },
        "id": "j8VQMvRlkl_r",
        "outputId": "3855a603-07d5-499b-fae0-9068ea937ffa"
      },
      "execution_count": 18,
      "outputs": [
        {
          "output_type": "stream",
          "name": "stdout",
          "text": [
            "accuracy: 94.37%\n"
          ]
        }
      ]
    }
  ]
}