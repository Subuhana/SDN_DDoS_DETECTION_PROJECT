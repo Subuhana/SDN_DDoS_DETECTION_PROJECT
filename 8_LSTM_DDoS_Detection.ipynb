{
  "nbformat": 4,
  "nbformat_minor": 0,
  "metadata": {
    "colab": {
      "name": "8.LSTM_DDoS_Detection.ipynb",
      "provenance": [],
      "collapsed_sections": []
    },
    "kernelspec": {
      "name": "python3",
      "display_name": "Python 3"
    },
    "language_info": {
      "name": "python"
    }
  },
  "cells": [
    {
      "cell_type": "code",
      "execution_count": 1,
      "metadata": {
        "id": "-qkPt-2rG1__"
      },
      "outputs": [],
      "source": [
        "import numpy as np\n",
        "import pandas as pd\n",
        "import matplotlib.pyplot as plt\n",
        "\n",
        "import seaborn as sns; sns.set()"
      ]
    },
    {
      "cell_type": "code",
      "source": [
        "from keras.models import Sequential, load_model\n",
        "from keras.layers import Dense, LSTM\n",
        "from tensorflow.keras.utils import plot_model\n",
        "from keras.utils import np_utils\n",
        "\n",
        "from sklearn.model_selection import train_test_split\n",
        "from sklearn.preprocessing import  StandardScaler\n",
        "from sklearn.metrics import confusion_matrix"
      ],
      "metadata": {
        "id": "aL19ABtjHCH_"
      },
      "execution_count": 2,
      "outputs": []
    },
    {
      "cell_type": "code",
      "source": [
        "DDoS=pd.read_csv('/content/dataset_sdn.csv')"
      ],
      "metadata": {
        "id": "pPy-4VxiHEqD"
      },
      "execution_count": 3,
      "outputs": []
    },
    {
      "cell_type": "code",
      "source": [
        "DDoS.Protocol.unique()\n",
        "DDoS['Protocol'] = DDoS['Protocol'].replace('TCP', '0')\n",
        "DDoS['Protocol'] = DDoS['Protocol'].replace('UDP', '1')\n",
        "DDoS['Protocol'] = DDoS['Protocol'].replace('ICMP', '2')\n",
        "DDoS.Protocol.unique()"
      ],
      "metadata": {
        "colab": {
          "base_uri": "https://localhost:8080/"
        },
        "id": "Qs8TK3qJHHPf",
        "outputId": "0e2fd0d9-1cdf-411d-c898-e5b3d5c48e9f"
      },
      "execution_count": 4,
      "outputs": [
        {
          "output_type": "execute_result",
          "data": {
            "text/plain": [
              "array(['1', '0', '2'], dtype=object)"
            ]
          },
          "metadata": {},
          "execution_count": 4
        }
      ]
    },
    {
      "cell_type": "code",
      "source": [
        "DDoS['src'] = DDoS['src'].replace('10.0.0.0', '0')\n",
        "DDoS['src'] = DDoS['src'].replace('10.0.0.2', '1')\n",
        "DDoS['src'] = DDoS['src'].replace('10.0.0.4', '2')\n",
        "DDoS['src'] = DDoS['src'].replace('10.0.0.10', '3')\n",
        "DDoS['src'] = DDoS['src'].replace('10.0.0.5', '4')\n",
        "DDoS['src'] = DDoS['src'].replace('10.0.0.13', '5')\n",
        "DDoS['src'] = DDoS['src'].replace('10.0.0.6', '6')\n",
        "DDoS['src'] = DDoS['src'].replace('10.0.0.11', '7')\n",
        "DDoS['src'] = DDoS['src'].replace('10.0.0.20', '8')\n",
        "DDoS['src'] = DDoS['src'].replace('10.0.0.18', '9')\n",
        "DDoS['src'] = DDoS['src'].replace('10.0.0.12', '10')\n",
        "DDoS['src'] = DDoS['src'].replace('10.0.0.1', '11')\n",
        "DDoS['src'] = DDoS['src'].replace('10.0.0.3', '12')\n",
        "DDoS['src'] = DDoS['src'].replace('10.0.0.8', '13')\n",
        "DDoS['src'] = DDoS['src'].replace('10.0.0.7', '14')\n",
        "DDoS['src'] = DDoS['src'].replace('10.0.0.9', '15')\n",
        "DDoS['src'] = DDoS['src'].replace('10.0.0.14', '16')\n",
        "DDoS['src'] = DDoS['src'].replace('10.0.0.15', '17')\n",
        "DDoS['src'] = DDoS['src'].replace('10.0.0.16', '18')\n",
        "DDoS['src'] = DDoS['src'].replace('10.0.0.17', '19')\n",
        "DDoS.src.unique()"
      ],
      "metadata": {
        "colab": {
          "base_uri": "https://localhost:8080/"
        },
        "id": "jaZIcFyIHKN0",
        "outputId": "806dc95b-5370-4795-f65b-4bbf644674c6"
      },
      "execution_count": 14,
      "outputs": [
        {
          "output_type": "execute_result",
          "data": {
            "text/plain": [
              "array(['11', '1', '2', '3', '12', '4', '5', '6', '8', '7', '10', '9',\n",
              "       '13', '14', '15', '16', '17', '18', '19'], dtype=object)"
            ]
          },
          "metadata": {},
          "execution_count": 14
        }
      ]
    },
    {
      "cell_type": "code",
      "source": [
        "DDoS['dst'] = DDoS['dst'].replace('10.0.0.8', '0')\n",
        "DDoS['dst'] = DDoS['dst'].replace('10.0.0.7', '1')\n",
        "DDoS['dst'] = DDoS['dst'].replace('10.0.0.2', '2')\n",
        "DDoS['dst'] = DDoS['dst'].replace('10.0.0.4', '3')\n",
        "DDoS['dst'] = DDoS['dst'].replace('10.0.0.6', '4')\n",
        "DDoS['dst'] = DDoS['dst'].replace('10.0.0.10', '5')\n",
        "DDoS['dst'] = DDoS['dst'].replace('10.0.0.3', '6')\n",
        "DDoS['dst'] = DDoS['dst'].replace('10.0.0.6', '7')\n",
        "DDoS['dst'] = DDoS['dst'].replace('10.0.0.5', '8')\n",
        "DDoS['dst'] = DDoS['dst'].replace('10.0.0.9', '9')\n",
        "DDoS['dst'] = DDoS['dst'].replace('10.0.0.12', '10')\n",
        "DDoS['dst'] = DDoS['dst'].replace('10.0.0.13', '11')\n",
        "DDoS['dst'] = DDoS['dst'].replace('10.0.0.14', '12')\n",
        "DDoS['dst'] = DDoS['dst'].replace('10.0.0.11', '13')\n",
        "DDoS['dst'] = DDoS['dst'].replace('10.0.0.16', '14')\n",
        "DDoS['dst'] = DDoS['dst'].replace('10.0.0.1', '15')\n",
        "DDoS['dst'] = DDoS['dst'].replace('10.0.0.15', '16')\n",
        "DDoS['dst'] = DDoS['dst'].replace('10.0.0.17', '17')\n",
        "DDoS['dst'] = DDoS['dst'].replace('10.0.0.18', '18')\n",
        "DDoS.dst.unique()"
      ],
      "metadata": {
        "colab": {
          "base_uri": "https://localhost:8080/"
        },
        "id": "aECNoiZaHQUa",
        "outputId": "dee09903-6788-4771-a09f-41d1a3c4e51d"
      },
      "execution_count": 16,
      "outputs": [
        {
          "output_type": "execute_result",
          "data": {
            "text/plain": [
              "array(['0', '1', '6', '8', '5', '11', '15', '13', '2', '3', '9', '4',\n",
              "       '12', '16', '10', '14', '17', '18'], dtype=object)"
            ]
          },
          "metadata": {},
          "execution_count": 16
        }
      ]
    },
    {
      "cell_type": "code",
      "source": [
        "DDoS[\"rx_kbps\"] = DDoS[\"rx_kbps\"].fillna(DDoS[\"rx_kbps\"].mean())"
      ],
      "metadata": {
        "id": "0yfWzwzeHTnC"
      },
      "execution_count": 17,
      "outputs": []
    },
    {
      "cell_type": "code",
      "source": [
        "DDoS[\"tot_kbps\"] = DDoS[\"tot_kbps\"].fillna(DDoS[\"tot_kbps\"].mean())"
      ],
      "metadata": {
        "id": "suFhYGD1Hq_V"
      },
      "execution_count": 18,
      "outputs": []
    },
    {
      "cell_type": "code",
      "source": [
        "from sklearn.model_selection import train_test_split\n",
        "X = DDoS[['src','dst','dt', 'switch', 'pktcount', 'bytecount', 'dur', 'dur_nsec', 'tot_dur',\n",
        "       'flows', 'packetins', 'pktperflow', 'byteperflow', 'pktrate',\n",
        "       'Pairflow','Protocol' ,'port_no', 'tx_bytes', 'rx_bytes', 'tx_kbps', 'rx_kbps',\n",
        "       'tot_kbps']]\n",
        "y = DDoS['label']\n",
        "\n",
        "X_train, X_test, y_train, y_test = train_test_split(X, y, test_size=0.4, random_state=42)"
      ],
      "metadata": {
        "id": "45CyjmOTHvcD"
      },
      "execution_count": 19,
      "outputs": []
    },
    {
      "cell_type": "code",
      "source": [
        "# Feature scaling (or standardization)\n",
        "from sklearn.preprocessing import StandardScaler\n",
        "scaler = StandardScaler()\n",
        "X_train = scaler.fit_transform(X_train)\n",
        "X_test = scaler.transform(X_test)"
      ],
      "metadata": {
        "id": "jh5bAxOdH0Mo"
      },
      "execution_count": 20,
      "outputs": []
    },
    {
      "cell_type": "code",
      "source": [
        "# reshape inputs for LSTM [samples, timesteps, features]\n",
        "\n",
        "\n",
        "X_train = X_train.reshape(X_train.shape[0], 1, X_train.shape[1])\n",
        "print(\"Training data shape:\", X_train.shape)\n",
        "X_test = X_test.reshape(X_test.shape[0], 1, X_test.shape[1])\n",
        "print(\"Test data shape:\", X_test.shape)"
      ],
      "metadata": {
        "colab": {
          "base_uri": "https://localhost:8080/"
        },
        "id": "_8r3NN_-Izso",
        "outputId": "c046cf87-197c-40ce-e04a-3145c5fda00a"
      },
      "execution_count": 21,
      "outputs": [
        {
          "output_type": "stream",
          "name": "stdout",
          "text": [
            "Training data shape: (62607, 1, 22)\n",
            "Test data shape: (41738, 1, 22)\n"
          ]
        }
      ]
    },
    {
      "cell_type": "code",
      "source": [
        "def create_baseline():\n",
        "    model = Sequential()\n",
        "    \n",
        "    model.add(LSTM(22, activation='tanh', kernel_regularizer='l2'))\n",
        "    model.add(Dense(64, activation = 'relu', kernel_regularizer='l2'))\n",
        "    model.add(Dense(1, activation = 'sigmoid', kernel_regularizer='l2'))\n",
        "    \n",
        "    model.compile(loss = 'binary_crossentropy', optimizer = 'adam', metrics = ['accuracy'])\n",
        "    \n",
        "    return model"
      ],
      "metadata": {
        "id": "3oTOCClrI4Sn"
      },
      "execution_count": 22,
      "outputs": []
    },
    {
      "cell_type": "code",
      "source": [
        "model = create_baseline()"
      ],
      "metadata": {
        "id": "6KZVCp4MJBKt"
      },
      "execution_count": 23,
      "outputs": []
    },
    {
      "cell_type": "code",
      "source": [
        "history = model.fit(X_train, y_train, epochs = 50,validation_split=0.2,verbose = 1)"
      ],
      "metadata": {
        "colab": {
          "base_uri": "https://localhost:8080/"
        },
        "id": "8-QaFINuJEZ5",
        "outputId": "dfee6e7b-c8b9-49b3-fd08-2efe0eae5c93"
      },
      "execution_count": 24,
      "outputs": [
        {
          "output_type": "stream",
          "name": "stdout",
          "text": [
            "Epoch 1/50\n",
            "1566/1566 [==============================] - 11s 4ms/step - loss: 0.5046 - accuracy: 0.8793 - val_loss: 0.4058 - val_accuracy: 0.9294\n",
            "Epoch 2/50\n",
            "1566/1566 [==============================] - 9s 6ms/step - loss: 0.3856 - accuracy: 0.9385 - val_loss: 0.3772 - val_accuracy: 0.9419\n",
            "Epoch 3/50\n",
            "1566/1566 [==============================] - 7s 5ms/step - loss: 0.3679 - accuracy: 0.9439 - val_loss: 0.3655 - val_accuracy: 0.9441\n",
            "Epoch 4/50\n",
            "1566/1566 [==============================] - 8s 5ms/step - loss: 0.3591 - accuracy: 0.9441 - val_loss: 0.3584 - val_accuracy: 0.9457\n",
            "Epoch 5/50\n",
            "1566/1566 [==============================] - 10s 7ms/step - loss: 0.3536 - accuracy: 0.9453 - val_loss: 0.3533 - val_accuracy: 0.9457\n",
            "Epoch 6/50\n",
            "1566/1566 [==============================] - 7s 5ms/step - loss: 0.3498 - accuracy: 0.9456 - val_loss: 0.3523 - val_accuracy: 0.9406\n",
            "Epoch 7/50\n",
            "1566/1566 [==============================] - 8s 5ms/step - loss: 0.3476 - accuracy: 0.9463 - val_loss: 0.3495 - val_accuracy: 0.9431\n",
            "Epoch 8/50\n",
            "1566/1566 [==============================] - 8s 5ms/step - loss: 0.3460 - accuracy: 0.9446 - val_loss: 0.3480 - val_accuracy: 0.9462\n",
            "Epoch 9/50\n",
            "1566/1566 [==============================] - 9s 6ms/step - loss: 0.3445 - accuracy: 0.9456 - val_loss: 0.3465 - val_accuracy: 0.9446\n",
            "Epoch 10/50\n",
            "1566/1566 [==============================] - 7s 4ms/step - loss: 0.3433 - accuracy: 0.9451 - val_loss: 0.3440 - val_accuracy: 0.9455\n",
            "Epoch 11/50\n",
            "1566/1566 [==============================] - 6s 4ms/step - loss: 0.3418 - accuracy: 0.9456 - val_loss: 0.3447 - val_accuracy: 0.9411\n",
            "Epoch 12/50\n",
            "1566/1566 [==============================] - 10s 6ms/step - loss: 0.3407 - accuracy: 0.9453 - val_loss: 0.3419 - val_accuracy: 0.9440\n",
            "Epoch 13/50\n",
            "1566/1566 [==============================] - 6s 4ms/step - loss: 0.3395 - accuracy: 0.9444 - val_loss: 0.3411 - val_accuracy: 0.9494\n",
            "Epoch 14/50\n",
            "1566/1566 [==============================] - 10s 6ms/step - loss: 0.3385 - accuracy: 0.9453 - val_loss: 0.3398 - val_accuracy: 0.9475\n",
            "Epoch 15/50\n",
            "1566/1566 [==============================] - 10s 6ms/step - loss: 0.3371 - accuracy: 0.9456 - val_loss: 0.3385 - val_accuracy: 0.9462\n",
            "Epoch 16/50\n",
            "1566/1566 [==============================] - 8s 5ms/step - loss: 0.3363 - accuracy: 0.9461 - val_loss: 0.3387 - val_accuracy: 0.9437\n",
            "Epoch 17/50\n",
            "1566/1566 [==============================] - 6s 4ms/step - loss: 0.3359 - accuracy: 0.9451 - val_loss: 0.3374 - val_accuracy: 0.9450\n",
            "Epoch 18/50\n",
            "1566/1566 [==============================] - 7s 4ms/step - loss: 0.3354 - accuracy: 0.9450 - val_loss: 0.3383 - val_accuracy: 0.9408\n",
            "Epoch 19/50\n",
            "1566/1566 [==============================] - 6s 4ms/step - loss: 0.3347 - accuracy: 0.9457 - val_loss: 0.3374 - val_accuracy: 0.9451\n",
            "Epoch 20/50\n",
            "1566/1566 [==============================] - 7s 4ms/step - loss: 0.3344 - accuracy: 0.9449 - val_loss: 0.3433 - val_accuracy: 0.9395\n",
            "Epoch 21/50\n",
            "1566/1566 [==============================] - 6s 4ms/step - loss: 0.3345 - accuracy: 0.9445 - val_loss: 0.3386 - val_accuracy: 0.9455\n",
            "Epoch 22/50\n",
            "1566/1566 [==============================] - 7s 4ms/step - loss: 0.3345 - accuracy: 0.9450 - val_loss: 0.3365 - val_accuracy: 0.9419\n",
            "Epoch 23/50\n",
            "1566/1566 [==============================] - 6s 4ms/step - loss: 0.3345 - accuracy: 0.9448 - val_loss: 0.3371 - val_accuracy: 0.9436\n",
            "Epoch 24/50\n",
            "1566/1566 [==============================] - 6s 4ms/step - loss: 0.3343 - accuracy: 0.9457 - val_loss: 0.3377 - val_accuracy: 0.9432\n",
            "Epoch 25/50\n",
            "1566/1566 [==============================] - 7s 4ms/step - loss: 0.3343 - accuracy: 0.9449 - val_loss: 0.3391 - val_accuracy: 0.9422\n",
            "Epoch 26/50\n",
            "1566/1566 [==============================] - 7s 4ms/step - loss: 0.3343 - accuracy: 0.9454 - val_loss: 0.3375 - val_accuracy: 0.9407\n",
            "Epoch 27/50\n",
            "1566/1566 [==============================] - 7s 4ms/step - loss: 0.3340 - accuracy: 0.9452 - val_loss: 0.3363 - val_accuracy: 0.9437\n",
            "Epoch 28/50\n",
            "1566/1566 [==============================] - 6s 4ms/step - loss: 0.3343 - accuracy: 0.9441 - val_loss: 0.3364 - val_accuracy: 0.9435\n",
            "Epoch 29/50\n",
            "1566/1566 [==============================] - 6s 4ms/step - loss: 0.3345 - accuracy: 0.9447 - val_loss: 0.3363 - val_accuracy: 0.9427\n",
            "Epoch 30/50\n",
            "1566/1566 [==============================] - 6s 4ms/step - loss: 0.3338 - accuracy: 0.9451 - val_loss: 0.3390 - val_accuracy: 0.9413\n",
            "Epoch 31/50\n",
            "1566/1566 [==============================] - 6s 4ms/step - loss: 0.3343 - accuracy: 0.9438 - val_loss: 0.3369 - val_accuracy: 0.9427\n",
            "Epoch 32/50\n",
            "1566/1566 [==============================] - 7s 4ms/step - loss: 0.3342 - accuracy: 0.9449 - val_loss: 0.3366 - val_accuracy: 0.9436\n",
            "Epoch 33/50\n",
            "1566/1566 [==============================] - 6s 4ms/step - loss: 0.3340 - accuracy: 0.9458 - val_loss: 0.3370 - val_accuracy: 0.9419\n",
            "Epoch 34/50\n",
            "1566/1566 [==============================] - 6s 4ms/step - loss: 0.3343 - accuracy: 0.9447 - val_loss: 0.3357 - val_accuracy: 0.9461\n",
            "Epoch 35/50\n",
            "1566/1566 [==============================] - 6s 4ms/step - loss: 0.3342 - accuracy: 0.9448 - val_loss: 0.3386 - val_accuracy: 0.9415\n",
            "Epoch 36/50\n",
            "1566/1566 [==============================] - 7s 4ms/step - loss: 0.3343 - accuracy: 0.9450 - val_loss: 0.3359 - val_accuracy: 0.9439\n",
            "Epoch 37/50\n",
            "1566/1566 [==============================] - 7s 4ms/step - loss: 0.3343 - accuracy: 0.9450 - val_loss: 0.3366 - val_accuracy: 0.9420\n",
            "Epoch 38/50\n",
            "1566/1566 [==============================] - 6s 4ms/step - loss: 0.3344 - accuracy: 0.9450 - val_loss: 0.3360 - val_accuracy: 0.9447\n",
            "Epoch 39/50\n",
            "1566/1566 [==============================] - 6s 4ms/step - loss: 0.3340 - accuracy: 0.9453 - val_loss: 0.3366 - val_accuracy: 0.9432\n",
            "Epoch 40/50\n",
            "1566/1566 [==============================] - 6s 4ms/step - loss: 0.3342 - accuracy: 0.9449 - val_loss: 0.3364 - val_accuracy: 0.9430\n",
            "Epoch 41/50\n",
            "1566/1566 [==============================] - 6s 4ms/step - loss: 0.3344 - accuracy: 0.9443 - val_loss: 0.3365 - val_accuracy: 0.9435\n",
            "Epoch 42/50\n",
            "1566/1566 [==============================] - 6s 4ms/step - loss: 0.3343 - accuracy: 0.9451 - val_loss: 0.3358 - val_accuracy: 0.9458\n",
            "Epoch 43/50\n",
            "1566/1566 [==============================] - 6s 4ms/step - loss: 0.3342 - accuracy: 0.9449 - val_loss: 0.3355 - val_accuracy: 0.9468\n",
            "Epoch 44/50\n",
            "1566/1566 [==============================] - 7s 5ms/step - loss: 0.3342 - accuracy: 0.9453 - val_loss: 0.3361 - val_accuracy: 0.9451\n",
            "Epoch 45/50\n",
            "1566/1566 [==============================] - 7s 4ms/step - loss: 0.3341 - accuracy: 0.9454 - val_loss: 0.3354 - val_accuracy: 0.9439\n",
            "Epoch 46/50\n",
            "1566/1566 [==============================] - 7s 4ms/step - loss: 0.3342 - accuracy: 0.9446 - val_loss: 0.3359 - val_accuracy: 0.9431\n",
            "Epoch 47/50\n",
            "1566/1566 [==============================] - 6s 4ms/step - loss: 0.3343 - accuracy: 0.9447 - val_loss: 0.3359 - val_accuracy: 0.9425\n",
            "Epoch 48/50\n",
            "1566/1566 [==============================] - 8s 5ms/step - loss: 0.3339 - accuracy: 0.9453 - val_loss: 0.3354 - val_accuracy: 0.9445\n",
            "Epoch 49/50\n",
            "1566/1566 [==============================] - 6s 4ms/step - loss: 0.3343 - accuracy: 0.9445 - val_loss: 0.3371 - val_accuracy: 0.9454\n",
            "Epoch 50/50\n",
            "1566/1566 [==============================] - 6s 4ms/step - loss: 0.3343 - accuracy: 0.9454 - val_loss: 0.3358 - val_accuracy: 0.9421\n"
          ]
        }
      ]
    },
    {
      "cell_type": "code",
      "source": [
        "# Plot training & validation accuracy values\n",
        "plt.plot(history.history['accuracy'])\n",
        "plt.plot(history.history['val_accuracy'])\n",
        "plt.title('LSTM Model Accuracy')\n",
        "plt.ylabel('Accuracy')\n",
        "plt.xlabel('Epoch')\n",
        "plt.legend(['Train', 'Test'], loc='lower right')\n",
        "plt.savefig('LSTM Model Accuracy.png')\n",
        "plt.show()"
      ],
      "metadata": {
        "colab": {
          "base_uri": "https://localhost:8080/",
          "height": 301
        },
        "id": "HLxxnzEzJKoS",
        "outputId": "31931b5e-6bd3-4b9d-c31a-85a180ad98cc"
      },
      "execution_count": 25,
      "outputs": [
        {
          "output_type": "display_data",
          "data": {
            "text/plain": [
              "<Figure size 432x288 with 1 Axes>"
            ],
            "image/png": "[encoded data removed]"
          },
          "metadata": {
            "needs_background": "light"
          }
        }
      ]
    },
    {
      "cell_type": "code",
      "source": [
        "# Plot training & validation loss values\n",
        "plt.plot(history.history['loss'])\n",
        "plt.plot(history.history['val_loss'])\n",
        "plt.title('LSTM Model  Loss')\n",
        "plt.ylabel('Loss')\n",
        "plt.xlabel('Epoch')\n",
        "plt.legend(['Train', 'Test'], loc='upper left')\n",
        "plt.savefig('LSTM Model Loss.png')\n",
        "plt.show()"
      ],
      "metadata": {
        "colab": {
          "base_uri": "https://localhost:8080/",
          "height": 301
        },
        "id": "E2VUWe9PJP6n",
        "outputId": "b42d422e-0a89-48b9-ab73-545e736b1fd5"
      },
      "execution_count": 26,
      "outputs": [
        {
          "output_type": "display_data",
          "data": {
            "text/plain": [
              "<Figure size 432x288 with 1 Axes>"
            ],
            "image/png": "[encoded data removed]"
          },
          "metadata": {
            "needs_background": "light"
          }
        }
      ]
    },
    {
      "cell_type": "code",
      "source": [
        "predict = model.predict(X_test, verbose=1)"
      ],
      "metadata": {
        "colab": {
          "base_uri": "https://localhost:8080/"
        },
        "id": "MEtU82pQJVun",
        "outputId": "3c596873-3aea-4478-fc4e-c2629a4a5486"
      },
      "execution_count": 27,
      "outputs": [
        {
          "output_type": "stream",
          "name": "stdout",
          "text": [
            "1305/1305 [==============================] - 3s 2ms/step\n"
          ]
        }
      ]
    },
    {
      "cell_type": "code",
      "source": [
        "tp = 0\n",
        "tn = 0\n",
        "fp = 0\n",
        "fn = 0\n",
        "predictn = predict.flatten().round()\n",
        "predictn = predictn.tolist()\n",
        "Y_testn = y_test.tolist()\n",
        "for i in range(len(Y_testn)):\n",
        "  if predictn[i]==1 and Y_testn[i]==1:\n",
        "    tp+=1\n",
        "  elif predictn[i]==0 and Y_testn[i]==0:\n",
        "    tn+=1\n",
        "  elif predictn[i]==0 and Y_testn[i]==1:\n",
        "    fp+=1\n",
        "  elif predictn[i]==1 and Y_testn[i]==0:\n",
        "    fn+=1"
      ],
      "metadata": {
        "id": "cVSmSinEJZus"
      },
      "execution_count": 28,
      "outputs": []
    },
    {
      "cell_type": "code",
      "source": [
        "to_heat_map =[[tn,fp],[fn,tp]]\n",
        "to_heat_map = pd.DataFrame(to_heat_map, index = [\"Normal\",\"Attack\"],columns = [\"Normal\",\"Attack\"])\n",
        "ax = sns.heatmap(to_heat_map,annot=True, fmt=\"d\")"
      ],
      "metadata": {
        "colab": {
          "base_uri": "https://localhost:8080/",
          "height": 268
        },
        "id": "o4xyxmggJecM",
        "outputId": "987c9e1e-99de-4dc3-d6c5-c9b21de982c4"
      },
      "execution_count": 29,
      "outputs": [
        {
          "output_type": "display_data",
          "data": {
            "text/plain": [
              "<Figure size 432x288 with 2 Axes>"
            ],
            "image/png": "[encoded data removed]"
          },
          "metadata": {
            "needs_background": "light"
          }
        }
      ]
    },
    {
      "cell_type": "code",
      "source": [
        "scores = model.evaluate(X_test, y_test, verbose=0)\n",
        "print(\"%s: %.2f%%\" % (model.metrics_names[1], scores[1]*100))"
      ],
      "metadata": {
        "colab": {
          "base_uri": "https://localhost:8080/"
        },
        "id": "87E118EQJiSp",
        "outputId": "77fb6166-8409-48b3-f96d-9f0ee38e6d89"
      },
      "execution_count": 30,
      "outputs": [
        {
          "output_type": "stream",
          "name": "stdout",
          "text": [
            "accuracy: 94.43%\n"
          ]
        }
      ]
    }
  ]
}