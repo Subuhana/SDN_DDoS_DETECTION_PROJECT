{
  "nbformat": 4,
  "nbformat_minor": 0,
  "metadata": {
    "colab": {
      "name": "6.DBSCAN_DDoS_Detection_Fin.ipynb",
      "provenance": [],
      "collapsed_sections": []
    },
    "kernelspec": {
      "name": "python3",
      "display_name": "Python 3"
    },
    "language_info": {
      "name": "python"
    }
  },
  "cells": [
    {
      "cell_type": "code",
      "execution_count": null,
      "metadata": {
        "id": "2jIhEgHxVOdO"
      },
      "outputs": [],
      "source": [
        "import pandas as pd\n",
        "from sklearn.preprocessing import StandardScaler\n",
        "from sklearn.model_selection import train_test_split\n",
        "from sklearn.cluster import DBSCAN"
      ]
    },
    {
      "cell_type": "code",
      "source": [
        "DDoS = pd.read_csv('/content/dataset_sdn.csv')"
      ],
      "metadata": {
        "id": "KQ5zrnfGVgcr"
      },
      "execution_count": null,
      "outputs": []
    },
    {
      "cell_type": "code",
      "source": [
        "DDoS.Protocol.unique()\n",
        "DDoS['Protocol'] = DDoS['Protocol'].replace('TCP', '0')\n",
        "DDoS['Protocol'] = DDoS['Protocol'].replace('UDP', '1')\n",
        "DDoS['Protocol'] = DDoS['Protocol'].replace('ICMP', '2')\n",
        "DDoS.Protocol.unique()"
      ],
      "metadata": {
        "colab": {
          "base_uri": "https://localhost:8080/"
        },
        "id": "2dRnyy23Vjd9",
        "outputId": "871c9122-82bc-44be-8006-fb9890312fb8"
      },
      "execution_count": null,
      "outputs": [
        {
          "output_type": "execute_result",
          "data": {
            "text/plain": [
              "array(['1', '0', '2'], dtype=object)"
            ]
          },
          "metadata": {},
          "execution_count": 3
        }
      ]
    },
    {
      "cell_type": "code",
      "source": [
        "DDoS[\"rx_kbps\"] = DDoS[\"rx_kbps\"].fillna(DDoS[\"rx_kbps\"].mean())\n",
        "DDoS[\"tot_kbps\"] = DDoS[\"tot_kbps\"].fillna(DDoS[\"tot_kbps\"].mean())"
      ],
      "metadata": {
        "id": "TsgbYrgLVkRP"
      },
      "execution_count": null,
      "outputs": []
    },
    {
      "cell_type": "code",
      "source": [
        "X=DDoS[['dt', 'switch', 'pktcount', 'bytecount', 'dur', 'tot_dur',\n",
        "       'flows', 'packetins', 'pktperflow', 'byteperflow', 'pktrate',\n",
        "       'Pairflow','Protocol' ,'port_no', 'tx_bytes', 'rx_bytes', 'tx_kbps', 'rx_kbps',\n",
        "       'tot_kbps']]"
      ],
      "metadata": {
        "id": "M1ghtoYxVnSO"
      },
      "execution_count": null,
      "outputs": []
    },
    {
      "cell_type": "code",
      "source": [
        "from sklearn.decomposition import PCA\n",
        "pca = PCA(2)\n",
        "#Transform the data\n",
        "X_principal = pca.fit_transform(X)\n",
        "X_principal = pd.DataFrame(X_principal)\n",
        "X_principal.columns = ['P1', 'P2']\n",
        "print(X_principal.head())\n"
      ],
      "metadata": {
        "colab": {
          "base_uri": "https://localhost:8080/"
        },
        "id": "v2F8KjhcWj8M",
        "outputId": "032cd6be-c6b8-45fc-cca9-19408298e80d"
      },
      "execution_count": null,
      "outputs": [
        {
          "output_type": "stream",
          "name": "stdout",
          "text": [
            "             P1            P2\n",
            "0 -2.208865e+11  4.733184e+07\n",
            "1 -4.088650e+10 -1.100853e+08\n",
            "2 -1.208865e+11 -1.019126e+08\n",
            "3 -1.208865e+11 -1.019126e+08\n",
            "4 -1.208865e+11 -1.019123e+08\n"
          ]
        }
      ]
    },
    {
      "cell_type": "code",
      "source": [
        "model=DBSCAN(eps=0.5,min_samples=10).fit(X_principal)"
      ],
      "metadata": {
        "id": "BBKJFBIiVyGk"
      },
      "execution_count": null,
      "outputs": []
    },
    {
      "cell_type": "code",
      "source": [
        "colors=model.labels_\n",
        "plt.scatter(X_principal['P1'], X_principal['P2'], c=colors)"
      ],
      "metadata": {
        "colab": {
          "base_uri": "https://localhost:8080/",
          "height": 306
        },
        "id": "fVMIklVjWFOU",
        "outputId": "04c263ae-caa4-466d-fd2d-a0a0e8e0d79a"
      },
      "execution_count": null,
      "outputs": [
        {
          "output_type": "execute_result",
          "data": {
            "text/plain": [
              "<matplotlib.collections.PathCollection at 0x7fedfb119e10>"
            ]
          },
          "metadata": {},
          "execution_count": 32
        },
        {
          "output_type": "display_data",
          "data": {
            "image/png": "[encoded data removed]",
            "text/plain": [
              "<Figure size 432x288 with 1 Axes>"
            ]
          },
          "metadata": {
            "needs_background": "light"
          }
        }
      ]
    },
    {
      "cell_type": "code",
      "source": [
        "outliers=DDoS[model.labels_==1]\n",
        "print(outliers)"
      ],
      "metadata": {
        "colab": {
          "base_uri": "https://localhost:8080/"
        },
        "id": "vmIel_pRYhYI",
        "outputId": "fa8255b1-2635-4610-bc88-bcb421e841a0"
      },
      "execution_count": null,
      "outputs": [
        {
          "output_type": "stream",
          "name": "stdout",
          "text": [
            "[[-1.20886500e+11 -1.01912593e+08]\n",
            " [-1.20886500e+11 -1.01912632e+08]\n",
            " [-1.20886500e+11 -1.01912335e+08]\n",
            " [-1.20886500e+11 -1.01912552e+08]\n",
            " [-1.20886500e+11 -1.01912335e+08]\n",
            " [-1.20886500e+11 -1.01912746e+08]\n",
            " [-1.20886500e+11 -1.01912335e+08]\n",
            " [-1.20886500e+11 -1.01912157e+08]\n",
            " [-1.20886500e+11 -1.01912157e+08]\n",
            " [-1.20886500e+11 -1.01912593e+08]\n",
            " [-1.20886500e+11 -1.01912612e+08]\n",
            " [-1.20886500e+11 -1.01912335e+08]\n",
            " [-1.20886500e+11 -1.01912442e+08]\n",
            " [-1.20886500e+11 -1.01912157e+08]\n",
            " [-1.20886500e+11 -1.01912548e+08]\n",
            " [-1.20886500e+11 -1.01912503e+08]\n",
            " [-1.20886500e+11 -1.01912335e+08]\n",
            " [-1.20886500e+11 -1.01912612e+08]\n",
            " [-1.20886500e+11 -1.01912157e+08]\n",
            " [-1.20886500e+11 -1.01912157e+08]\n",
            " [-1.20886500e+11 -1.01912552e+08]\n",
            " [-1.20886500e+11 -1.01912503e+08]\n",
            " [-1.20886500e+11 -1.01912528e+08]]\n"
          ]
        }
      ]
    },
    {
      "cell_type": "code",
      "source": [
        "labels = model.fit_predict(X_principal)"
      ],
      "metadata": {
        "id": "QR8xaL1QZOCt"
      },
      "execution_count": null,
      "outputs": []
    },
    {
      "cell_type": "code",
      "source": [
        "from sklearn import metrics\n",
        "print(metrics.silhouette_score(X_principal,labels))"
      ],
      "metadata": {
        "colab": {
          "base_uri": "https://localhost:8080/"
        },
        "id": "D3PFDvtkblVX",
        "outputId": "70854dbc-7d78-40ba-b926-138d24031a47"
      },
      "execution_count": null,
      "outputs": [
        {
          "output_type": "stream",
          "name": "stdout",
          "text": [
            "-0.3992365429798315\n"
          ]
        }
      ]
    }
  ]
}