{
  "nbformat": 4,
  "nbformat_minor": 0,
  "metadata": {
    "colab": {
      "name": "11.TabNet_DDoS_Detection_FINAL.ipynb",
      "provenance": [],
      "collapsed_sections": []
    },
    "kernelspec": {
      "name": "python3",
      "display_name": "Python 3"
    },
    "language_info": {
      "name": "python"
    }
  },
  "cells": [
    {
      "cell_type": "code",
      "execution_count": 1,
      "metadata": {
        "id": "JbpTroQELDiB"
      },
      "outputs": [],
      "source": [
        "import numpy as np\n",
        "import pandas as pd\n",
        "import matplotlib.pyplot as plt\n",
        "\n",
        "import seaborn as sns; sns.set()"
      ]
    },
    {
      "cell_type": "code",
      "source": [
        "DDoS=pd.read_csv('/content/dataset_sdn.csv')"
      ],
      "metadata": {
        "id": "kC1l_hafLLMo"
      },
      "execution_count": 2,
      "outputs": []
    },
    {
      "cell_type": "code",
      "source": [
        "DDoS.Protocol.unique()\n",
        "DDoS['Protocol'] = DDoS['Protocol'].replace('TCP', '0')\n",
        "DDoS['Protocol'] = DDoS['Protocol'].replace('UDP', '1')\n",
        "DDoS['Protocol'] = DDoS['Protocol'].replace('ICMP', '2')\n",
        "DDoS.Protocol.unique()"
      ],
      "metadata": {
        "colab": {
          "base_uri": "https://localhost:8080/"
        },
        "id": "B43M7vTaLObF",
        "outputId": "c40cadd8-61d6-4f10-daa5-213f82fa6bd0"
      },
      "execution_count": 3,
      "outputs": [
        {
          "output_type": "execute_result",
          "data": {
            "text/plain": [
              "array(['1', '0', '2'], dtype=object)"
            ]
          },
          "metadata": {},
          "execution_count": 3
        }
      ]
    },
    {
      "cell_type": "code",
      "source": [
        "DDoS['src'] = DDoS['src'].replace('10.0.0.0', '0')\n",
        "DDoS['src'] = DDoS['src'].replace('10.0.0.2', '1')\n",
        "DDoS['src'] = DDoS['src'].replace('10.0.0.4', '2')\n",
        "DDoS['src'] = DDoS['src'].replace('10.0.0.10', '3')\n",
        "DDoS['src'] = DDoS['src'].replace('10.0.0.5', '4')\n",
        "DDoS['src'] = DDoS['src'].replace('10.0.0.13', '5')\n",
        "DDoS['src'] = DDoS['src'].replace('10.0.0.6', '6')\n",
        "DDoS['src'] = DDoS['src'].replace('10.0.0.11', '7')\n",
        "DDoS['src'] = DDoS['src'].replace('10.0.0.20', '8')\n",
        "DDoS['src'] = DDoS['src'].replace('10.0.0.18', '9')\n",
        "DDoS['src'] = DDoS['src'].replace('10.0.0.12', '10')\n",
        "DDoS['src'] = DDoS['src'].replace('10.0.0.14', '11')\n",
        "DDoS['src'] = DDoS['src'].replace('10.0.0.15', '12')\n",
        "DDoS['src'] = DDoS['src'].replace('10.0.0.16', '13')\n",
        "DDoS['src'] = DDoS['src'].replace('10.0.0.17', '14')\n",
        "DDoS['src'] = DDoS['src'].replace('10.0.0.1', '15')\n",
        "DDoS['src'] = DDoS['src'].replace('10.0.0.3', '16')\n",
        "DDoS['src'] = DDoS['src'].replace('10.0.0.8', '17')\n",
        "DDoS['src'] = DDoS['src'].replace('10.0.0.7', '18')\n",
        "DDoS['src'] = DDoS['src'].replace('10.0.0.9', '19')\n",
        "DDoS.src.unique()"
      ],
      "metadata": {
        "colab": {
          "base_uri": "https://localhost:8080/"
        },
        "id": "gfS25FiDLQ_l",
        "outputId": "db98a10f-5888-43bf-c59b-4b327093a41c"
      },
      "execution_count": 4,
      "outputs": [
        {
          "output_type": "execute_result",
          "data": {
            "text/plain": [
              "array(['15', '1', '2', '3', '16', '4', '5', '6', '8', '7', '10', '9',\n",
              "       '17', '18', '19', '11', '12', '13', '14'], dtype=object)"
            ]
          },
          "metadata": {},
          "execution_count": 4
        }
      ]
    },
    {
      "cell_type": "code",
      "source": [
        "DDoS['dst'] = DDoS['dst'].replace('10.0.0.8', '0')\n",
        "DDoS['dst'] = DDoS['dst'].replace('10.0.0.7', '1')\n",
        "DDoS['dst'] = DDoS['dst'].replace('10.0.0.2', '2')\n",
        "DDoS['dst'] = DDoS['dst'].replace('10.0.0.4', '3')\n",
        "DDoS['dst'] = DDoS['dst'].replace('10.0.0.6', '4')\n",
        "DDoS['dst'] = DDoS['dst'].replace('10.0.0.10', '5')\n",
        "DDoS['dst'] = DDoS['dst'].replace('10.0.0.3', '6')\n",
        "DDoS['dst'] = DDoS['dst'].replace('10.0.0.6', '7')\n",
        "DDoS['dst'] = DDoS['dst'].replace('10.0.0.5', '8')\n",
        "DDoS['dst'] = DDoS['dst'].replace('10.0.0.9', '9')\n",
        "DDoS['dst'] = DDoS['dst'].replace('10.0.0.12', '10')\n",
        "DDoS['dst'] = DDoS['dst'].replace('10.0.0.13', '11')\n",
        "DDoS['dst'] = DDoS['dst'].replace('10.0.0.14', '12')\n",
        "DDoS['dst'] = DDoS['dst'].replace('10.0.0.11', '13')\n",
        "DDoS['dst'] = DDoS['dst'].replace('10.0.0.16', '14')\n",
        "DDoS['dst'] = DDoS['dst'].replace('10.0.0.1', '15')\n",
        "DDoS['dst'] = DDoS['dst'].replace('10.0.0.15', '16')\n",
        "DDoS['dst'] = DDoS['dst'].replace('10.0.0.17', '17')\n",
        "DDoS['dst'] = DDoS['dst'].replace('10.0.0.18', '18')\n",
        "DDoS.dst.unique()"
      ],
      "metadata": {
        "colab": {
          "base_uri": "https://localhost:8080/"
        },
        "id": "9hIqxfo2LVV0",
        "outputId": "1c6c1932-c2b2-47db-9ce5-0f0e72531e11"
      },
      "execution_count": 5,
      "outputs": [
        {
          "output_type": "execute_result",
          "data": {
            "text/plain": [
              "array(['0', '1', '6', '8', '5', '11', '15', '13', '2', '3', '9', '4',\n",
              "       '12', '16', '10', '14', '17', '18'], dtype=object)"
            ]
          },
          "metadata": {},
          "execution_count": 5
        }
      ]
    },
    {
      "cell_type": "code",
      "source": [
        "DDoS[\"rx_kbps\"] = DDoS[\"rx_kbps\"].fillna(DDoS[\"rx_kbps\"].mean())"
      ],
      "metadata": {
        "id": "Ra3wi_8BLZPG"
      },
      "execution_count": 6,
      "outputs": []
    },
    {
      "cell_type": "code",
      "source": [
        "DDoS[\"tot_kbps\"] = DDoS[\"tot_kbps\"].fillna(DDoS[\"tot_kbps\"].mean())"
      ],
      "metadata": {
        "id": "aG5rH8ESLcUy"
      },
      "execution_count": 7,
      "outputs": []
    },
    {
      "cell_type": "code",
      "source": [
        "DDoS['label'].value_counts()"
      ],
      "metadata": {
        "colab": {
          "base_uri": "https://localhost:8080/"
        },
        "id": "emPYdcYbLfiQ",
        "outputId": "9d8ec4cf-15d1-437b-8720-00afd1f371e2"
      },
      "execution_count": 9,
      "outputs": [
        {
          "output_type": "execute_result",
          "data": {
            "text/plain": [
              "0    63561\n",
              "1    40784\n",
              "Name: label, dtype: int64"
            ]
          },
          "metadata": {},
          "execution_count": 9
        }
      ]
    },
    {
      "cell_type": "code",
      "source": [
        "DDoS.groupby([\"dt\",\"src\"]).count()"
      ],
      "metadata": {
        "colab": {
          "base_uri": "https://localhost:8080/",
          "height": 519
        },
        "id": "oBYActvbLiDt",
        "outputId": "68156043-7651-405d-e6ea-ed70b332728a"
      },
      "execution_count": 10,
      "outputs": [
        {
          "output_type": "execute_result",
          "data": {
            "text/plain": [
              "           switch  dst  pktcount  bytecount  dur  dur_nsec  tot_dur  flows  \\\n",
              "dt    src                                                                    \n",
              "2488  15       54   54        54         54   54        54       54     54   \n",
              "2518  15       56   56        56         56   56        56       56     56   \n",
              "      7       168  168       168        168  168       168      168    168   \n",
              "2548  1        56   56        56         56   56        56       56     56   \n",
              "      15       56   56        56         56   56        56       56     56   \n",
              "...           ...  ...       ...        ...  ...       ...      ...    ...   \n",
              "42905 17        8    8         8          8    8         8        8      8   \n",
              "      18        8    8         8          8    8         8        8      8   \n",
              "      4        16   16        16         16   16        16       16     16   \n",
              "42935 17        8    8         8          8    8         8        8      8   \n",
              "      4         8    8         8          8    8         8        8      8   \n",
              "\n",
              "           packetins  pktperflow  ...  pktrate  Pairflow  Protocol  port_no  \\\n",
              "dt    src                         ...                                         \n",
              "2488  15          54          54  ...       54        54        54       54   \n",
              "2518  15          56          56  ...       56        56        56       56   \n",
              "      7          168         168  ...      168       168       168      168   \n",
              "2548  1           56          56  ...       56        56        56       56   \n",
              "      15          56          56  ...       56        56        56       56   \n",
              "...              ...         ...  ...      ...       ...       ...      ...   \n",
              "42905 17           8           8  ...        8         8         8        8   \n",
              "      18           8           8  ...        8         8         8        8   \n",
              "      4           16          16  ...       16        16        16       16   \n",
              "42935 17           8           8  ...        8         8         8        8   \n",
              "      4            8           8  ...        8         8         8        8   \n",
              "\n",
              "           tx_bytes  rx_bytes  tx_kbps  rx_kbps  tot_kbps  label  \n",
              "dt    src                                                         \n",
              "2488  15         54        54       54       54        54     54  \n",
              "2518  15         56        56       56       56        56     56  \n",
              "      7         168       168      168      168       168    168  \n",
              "2548  1          56        56       56       56        56     56  \n",
              "      15         56        56       56       56        56     56  \n",
              "...             ...       ...      ...      ...       ...    ...  \n",
              "42905 17          8         8        8        8         8      8  \n",
              "      18          8         8        8        8         8      8  \n",
              "      4          16        16       16       16        16     16  \n",
              "42935 17          8         8        8        8         8      8  \n",
              "      4           8         8        8        8         8      8  \n",
              "\n",
              "[3657 rows x 21 columns]"
            ],
            "text/html": [
              "\n",
              "  <div id=\"df-4651cca5-0f67-4bb0-b577-f777d6bda0a2\">\n",
              "    <div class=\"colab-df-container\">\n",
              "      <div>\n",
              "<style scoped>\n",
              "    .dataframe tbody tr th:only-of-type {\n",
              "        vertical-align: middle;\n",
              "    }\n",
              "\n",
              "    .dataframe tbody tr th {\n",
              "        vertical-align: top;\n",
              "    }\n",
              "\n",
              "    .dataframe thead th {\n",
              "        text-align: right;\n",
              "    }\n",
              "</style>\n",
              "<table border=\"1\" class=\"dataframe\">\n",
              "  <thead>\n",
              "    <tr style=\"text-align: right;\">\n",
              "      <th></th>\n",
              "      <th></th>\n",
              "      <th>switch</th>\n",
              "      <th>dst</th>\n",
              "      <th>pktcount</th>\n",
              "      <th>bytecount</th>\n",
              "      <th>dur</th>\n",
              "      <th>dur_nsec</th>\n",
              "      <th>tot_dur</th>\n",
              "      <th>flows</th>\n",
              "      <th>packetins</th>\n",
              "      <th>pktperflow</th>\n",
              "      <th>...</th>\n",
              "      <th>pktrate</th>\n",
              "      <th>Pairflow</th>\n",
              "      <th>Protocol</th>\n",
              "      <th>port_no</th>\n",
              "      <th>tx_bytes</th>\n",
              "      <th>rx_bytes</th>\n",
              "      <th>tx_kbps</th>\n",
              "      <th>rx_kbps</th>\n",
              "      <th>tot_kbps</th>\n",
              "      <th>label</th>\n",
              "    </tr>\n",
              "    <tr>\n",
              "      <th>dt</th>\n",
              "      <th>src</th>\n",
              "      <th></th>\n",
              "      <th></th>\n",
              "      <th></th>\n",
              "      <th></th>\n",
              "      <th></th>\n",
              "      <th></th>\n",
              "      <th></th>\n",
              "      <th></th>\n",
              "      <th></th>\n",
              "      <th></th>\n",
              "      <th></th>\n",
              "      <th></th>\n",
              "      <th></th>\n",
              "      <th></th>\n",
              "      <th></th>\n",
              "      <th></th>\n",
              "      <th></th>\n",
              "      <th></th>\n",
              "      <th></th>\n",
              "      <th></th>\n",
              "      <th></th>\n",
              "    </tr>\n",
              "  </thead>\n",
              "  <tbody>\n",
              "    <tr>\n",
              "      <th>2488</th>\n",
              "      <th>15</th>\n",
              "      <td>54</td>\n",
              "      <td>54</td>\n",
              "      <td>54</td>\n",
              "      <td>54</td>\n",
              "      <td>54</td>\n",
              "      <td>54</td>\n",
              "      <td>54</td>\n",
              "      <td>54</td>\n",
              "      <td>54</td>\n",
              "      <td>54</td>\n",
              "      <td>...</td>\n",
              "      <td>54</td>\n",
              "      <td>54</td>\n",
              "      <td>54</td>\n",
              "      <td>54</td>\n",
              "      <td>54</td>\n",
              "      <td>54</td>\n",
              "      <td>54</td>\n",
              "      <td>54</td>\n",
              "      <td>54</td>\n",
              "      <td>54</td>\n",
              "    </tr>\n",
              "    <tr>\n",
              "      <th rowspan=\"2\" valign=\"top\">2518</th>\n",
              "      <th>15</th>\n",
              "      <td>56</td>\n",
              "      <td>56</td>\n",
              "      <td>56</td>\n",
              "      <td>56</td>\n",
              "      <td>56</td>\n",
              "      <td>56</td>\n",
              "      <td>56</td>\n",
              "      <td>56</td>\n",
              "      <td>56</td>\n",
              "      <td>56</td>\n",
              "      <td>...</td>\n",
              "      <td>56</td>\n",
              "      <td>56</td>\n",
              "      <td>56</td>\n",
              "      <td>56</td>\n",
              "      <td>56</td>\n",
              "      <td>56</td>\n",
              "      <td>56</td>\n",
              "      <td>56</td>\n",
              "      <td>56</td>\n",
              "      <td>56</td>\n",
              "    </tr>\n",
              "    <tr>\n",
              "      <th>7</th>\n",
              "      <td>168</td>\n",
              "      <td>168</td>\n",
              "      <td>168</td>\n",
              "      <td>168</td>\n",
              "      <td>168</td>\n",
              "      <td>168</td>\n",
              "      <td>168</td>\n",
              "      <td>168</td>\n",
              "      <td>168</td>\n",
              "      <td>168</td>\n",
              "      <td>...</td>\n",
              "      <td>168</td>\n",
              "      <td>168</td>\n",
              "      <td>168</td>\n",
              "      <td>168</td>\n",
              "      <td>168</td>\n",
              "      <td>168</td>\n",
              "      <td>168</td>\n",
              "      <td>168</td>\n",
              "      <td>168</td>\n",
              "      <td>168</td>\n",
              "    </tr>\n",
              "    <tr>\n",
              "      <th rowspan=\"2\" valign=\"top\">2548</th>\n",
              "      <th>1</th>\n",
              "      <td>56</td>\n",
              "      <td>56</td>\n",
              "      <td>56</td>\n",
              "      <td>56</td>\n",
              "      <td>56</td>\n",
              "      <td>56</td>\n",
              "      <td>56</td>\n",
              "      <td>56</td>\n",
              "      <td>56</td>\n",
              "      <td>56</td>\n",
              "      <td>...</td>\n",
              "      <td>56</td>\n",
              "      <td>56</td>\n",
              "      <td>56</td>\n",
              "      <td>56</td>\n",
              "      <td>56</td>\n",
              "      <td>56</td>\n",
              "      <td>56</td>\n",
              "      <td>56</td>\n",
              "      <td>56</td>\n",
              "      <td>56</td>\n",
              "    </tr>\n",
              "    <tr>\n",
              "      <th>15</th>\n",
              "      <td>56</td>\n",
              "      <td>56</td>\n",
              "      <td>56</td>\n",
              "      <td>56</td>\n",
              "      <td>56</td>\n",
              "      <td>56</td>\n",
              "      <td>56</td>\n",
              "      <td>56</td>\n",
              "      <td>56</td>\n",
              "      <td>56</td>\n",
              "      <td>...</td>\n",
              "      <td>56</td>\n",
              "      <td>56</td>\n",
              "      <td>56</td>\n",
              "      <td>56</td>\n",
              "      <td>56</td>\n",
              "      <td>56</td>\n",
              "      <td>56</td>\n",
              "      <td>56</td>\n",
              "      <td>56</td>\n",
              "      <td>56</td>\n",
              "    </tr>\n",
              "    <tr>\n",
              "      <th>...</th>\n",
              "      <th>...</th>\n",
              "      <td>...</td>\n",
              "      <td>...</td>\n",
              "      <td>...</td>\n",
              "      <td>...</td>\n",
              "      <td>...</td>\n",
              "      <td>...</td>\n",
              "      <td>...</td>\n",
              "      <td>...</td>\n",
              "      <td>...</td>\n",
              "      <td>...</td>\n",
              "      <td>...</td>\n",
              "      <td>...</td>\n",
              "      <td>...</td>\n",
              "      <td>...</td>\n",
              "      <td>...</td>\n",
              "      <td>...</td>\n",
              "      <td>...</td>\n",
              "      <td>...</td>\n",
              "      <td>...</td>\n",
              "      <td>...</td>\n",
              "      <td>...</td>\n",
              "    </tr>\n",
              "    <tr>\n",
              "      <th rowspan=\"3\" valign=\"top\">42905</th>\n",
              "      <th>17</th>\n",
              "      <td>8</td>\n",
              "      <td>8</td>\n",
              "      <td>8</td>\n",
              "      <td>8</td>\n",
              "      <td>8</td>\n",
              "      <td>8</td>\n",
              "      <td>8</td>\n",
              "      <td>8</td>\n",
              "      <td>8</td>\n",
              "      <td>8</td>\n",
              "      <td>...</td>\n",
              "      <td>8</td>\n",
              "      <td>8</td>\n",
              "      <td>8</td>\n",
              "      <td>8</td>\n",
              "      <td>8</td>\n",
              "      <td>8</td>\n",
              "      <td>8</td>\n",
              "      <td>8</td>\n",
              "      <td>8</td>\n",
              "      <td>8</td>\n",
              "    </tr>\n",
              "    <tr>\n",
              "      <th>18</th>\n",
              "      <td>8</td>\n",
              "      <td>8</td>\n",
              "      <td>8</td>\n",
              "      <td>8</td>\n",
              "      <td>8</td>\n",
              "      <td>8</td>\n",
              "      <td>8</td>\n",
              "      <td>8</td>\n",
              "      <td>8</td>\n",
              "      <td>8</td>\n",
              "      <td>...</td>\n",
              "      <td>8</td>\n",
              "      <td>8</td>\n",
              "      <td>8</td>\n",
              "      <td>8</td>\n",
              "      <td>8</td>\n",
              "      <td>8</td>\n",
              "      <td>8</td>\n",
              "      <td>8</td>\n",
              "      <td>8</td>\n",
              "      <td>8</td>\n",
              "    </tr>\n",
              "    <tr>\n",
              "      <th>4</th>\n",
              "      <td>16</td>\n",
              "      <td>16</td>\n",
              "      <td>16</td>\n",
              "      <td>16</td>\n",
              "      <td>16</td>\n",
              "      <td>16</td>\n",
              "      <td>16</td>\n",
              "      <td>16</td>\n",
              "      <td>16</td>\n",
              "      <td>16</td>\n",
              "      <td>...</td>\n",
              "      <td>16</td>\n",
              "      <td>16</td>\n",
              "      <td>16</td>\n",
              "      <td>16</td>\n",
              "      <td>16</td>\n",
              "      <td>16</td>\n",
              "      <td>16</td>\n",
              "      <td>16</td>\n",
              "      <td>16</td>\n",
              "      <td>16</td>\n",
              "    </tr>\n",
              "    <tr>\n",
              "      <th rowspan=\"2\" valign=\"top\">42935</th>\n",
              "      <th>17</th>\n",
              "      <td>8</td>\n",
              "      <td>8</td>\n",
              "      <td>8</td>\n",
              "      <td>8</td>\n",
              "      <td>8</td>\n",
              "      <td>8</td>\n",
              "      <td>8</td>\n",
              "      <td>8</td>\n",
              "      <td>8</td>\n",
              "      <td>8</td>\n",
              "      <td>...</td>\n",
              "      <td>8</td>\n",
              "      <td>8</td>\n",
              "      <td>8</td>\n",
              "      <td>8</td>\n",
              "      <td>8</td>\n",
              "      <td>8</td>\n",
              "      <td>8</td>\n",
              "      <td>8</td>\n",
              "      <td>8</td>\n",
              "      <td>8</td>\n",
              "    </tr>\n",
              "    <tr>\n",
              "      <th>4</th>\n",
              "      <td>8</td>\n",
              "      <td>8</td>\n",
              "      <td>8</td>\n",
              "      <td>8</td>\n",
              "      <td>8</td>\n",
              "      <td>8</td>\n",
              "      <td>8</td>\n",
              "      <td>8</td>\n",
              "      <td>8</td>\n",
              "      <td>8</td>\n",
              "      <td>...</td>\n",
              "      <td>8</td>\n",
              "      <td>8</td>\n",
              "      <td>8</td>\n",
              "      <td>8</td>\n",
              "      <td>8</td>\n",
              "      <td>8</td>\n",
              "      <td>8</td>\n",
              "      <td>8</td>\n",
              "      <td>8</td>\n",
              "      <td>8</td>\n",
              "    </tr>\n",
              "  </tbody>\n",
              "</table>\n",
              "<p>3657 rows × 21 columns</p>\n",
              "</div>\n",
              "      <button class=\"colab-df-convert\" onclick=\"convertToInteractive('df-4651cca5-0f67-4bb0-b577-f777d6bda0a2')\"\n",
              "              title=\"Convert this dataframe to an interactive table.\"\n",
              "              style=\"display:none;\">\n",
              "        \n",
              "  <svg xmlns=\"http://www.w3.org/2000/svg\" height=\"24px\"viewBox=\"0 0 24 24\"\n",
              "       width=\"24px\">\n",
              "    <path d=\"M0 0h24v24H0V0z\" fill=\"none\"/>\n",
              "    <path d=\"M18.56 5.44l.94 2.06.94-2.06 2.06-.94-2.06-.94-.94-2.06-.94 2.06-2.06.94zm-11 1L8.5 8.5l.94-2.06 2.06-.94-2.06-.94L8.5 2.5l-.94 2.06-2.06.94zm10 10l.94 2.06.94-2.06 2.06-.94-2.06-.94-.94-2.06-.94 2.06-2.06.94z\"/><path d=\"M17.41 7.96l-1.37-1.37c-.4-.4-.92-.59-1.43-.59-.52 0-1.04.2-1.43.59L10.3 9.45l-7.72 7.72c-.78.78-.78 2.05 0 2.83L4 21.41c.39.39.9.59 1.41.59.51 0 1.02-.2 1.41-.59l7.78-7.78 2.81-2.81c.8-.78.8-2.07 0-2.86zM5.41 20L4 18.59l7.72-7.72 1.47 1.35L5.41 20z\"/>\n",
              "  </svg>\n",
              "      </button>\n",
              "      \n",
              "  <style>\n",
              "    .colab-df-container {\n",
              "      display:flex;\n",
              "      flex-wrap:wrap;\n",
              "      gap: 12px;\n",
              "    }\n",
              "\n",
              "    .colab-df-convert {\n",
              "      background-color: #E8F0FE;\n",
              "      border: none;\n",
              "      border-radius: 50%;\n",
              "      cursor: pointer;\n",
              "      display: none;\n",
              "      fill: #1967D2;\n",
              "      height: 32px;\n",
              "      padding: 0 0 0 0;\n",
              "      width: 32px;\n",
              "    }\n",
              "\n",
              "    .colab-df-convert:hover {\n",
              "      background-color: #E2EBFA;\n",
              "      box-shadow: 0px 1px 2px rgba(60, 64, 67, 0.3), 0px 1px 3px 1px rgba(60, 64, 67, 0.15);\n",
              "      fill: #174EA6;\n",
              "    }\n",
              "\n",
              "    [theme=dark] .colab-df-convert {\n",
              "      background-color: #3B4455;\n",
              "      fill: #D2E3FC;\n",
              "    }\n",
              "\n",
              "    [theme=dark] .colab-df-convert:hover {\n",
              "      background-color: #434B5C;\n",
              "      box-shadow: 0px 1px 3px 1px rgba(0, 0, 0, 0.15);\n",
              "      filter: drop-shadow(0px 1px 2px rgba(0, 0, 0, 0.3));\n",
              "      fill: #FFFFFF;\n",
              "    }\n",
              "  </style>\n",
              "\n",
              "      <script>\n",
              "        const buttonEl =\n",
              "          document.querySelector('#df-4651cca5-0f67-4bb0-b577-f777d6bda0a2 button.colab-df-convert');\n",
              "        buttonEl.style.display =\n",
              "          google.colab.kernel.accessAllowed ? 'block' : 'none';\n",
              "\n",
              "        async function convertToInteractive(key) {\n",
              "          const element = document.querySelector('#df-4651cca5-0f67-4bb0-b577-f777d6bda0a2');\n",
              "          const dataTable =\n",
              "            await google.colab.kernel.invokeFunction('convertToInteractive',\n",
              "                                                     [key], {});\n",
              "          if (!dataTable) return;\n",
              "\n",
              "          const docLinkHtml = 'Like what you see? Visit the ' +\n",
              "            '<a target=\"_blank\" href=https://colab.research.google.com/notebooks/data_table.ipynb>data table notebook</a>'\n",
              "            + ' to learn more about interactive tables.';\n",
              "          element.innerHTML = '';\n",
              "          dataTable['output_type'] = 'display_data';\n",
              "          await google.colab.output.renderOutput(dataTable, element);\n",
              "          const docLink = document.createElement('div');\n",
              "          docLink.innerHTML = docLinkHtml;\n",
              "          element.appendChild(docLink);\n",
              "        }\n",
              "      </script>\n",
              "    </div>\n",
              "  </div>\n",
              "  "
            ]
          },
          "metadata": {},
          "execution_count": 10
        }
      ]
    },
    {
      "cell_type": "code",
      "source": [
        "DDoS.groupby([\"dt\",\"src\"]).label.count()"
      ],
      "metadata": {
        "colab": {
          "base_uri": "https://localhost:8080/"
        },
        "id": "JziBcZgULk6C",
        "outputId": "0442393e-81e0-433a-8c81-4e0ed6018fb8"
      },
      "execution_count": 11,
      "outputs": [
        {
          "output_type": "execute_result",
          "data": {
            "text/plain": [
              "dt     src\n",
              "2488   15      54\n",
              "2518   15      56\n",
              "       7      168\n",
              "2548   1       56\n",
              "       15      56\n",
              "             ... \n",
              "42905  17       8\n",
              "       18       8\n",
              "       4       16\n",
              "42935  17       8\n",
              "       4        8\n",
              "Name: label, Length: 3657, dtype: int64"
            ]
          },
          "metadata": {},
          "execution_count": 11
        }
      ]
    },
    {
      "cell_type": "code",
      "source": [
        "from sklearn.model_selection import train_test_split\n",
        "X = DDoS[['src','dst','dt', 'switch', 'pktcount', 'bytecount', 'dur', 'dur_nsec', 'tot_dur',\n",
        "       'flows', 'packetins', 'pktperflow', 'byteperflow', 'pktrate',\n",
        "       'Pairflow','Protocol' ,'port_no', 'tx_bytes', 'rx_bytes', 'tx_kbps', 'rx_kbps',\n",
        "       'tot_kbps']]\n",
        "y = DDoS['label']\n",
        "\n",
        "X_train, X_test, y_train, y_test = train_test_split(X, y, test_size=0.2, random_state=42)"
      ],
      "metadata": {
        "id": "gyJpPERILnx-"
      },
      "execution_count": 12,
      "outputs": []
    },
    {
      "cell_type": "code",
      "source": [
        "# Feature scaling (or standardization)\n",
        "from sklearn.preprocessing import StandardScaler\n",
        "scaler = StandardScaler()\n",
        "X_train = scaler.fit_transform(X_train)\n",
        "X_test = scaler.transform(X_test)"
      ],
      "metadata": {
        "id": "ekU0eN1HL1Vn"
      },
      "execution_count": 13,
      "outputs": []
    },
    {
      "cell_type": "code",
      "source": [
        "!pip install pytorch-tabnet"
      ],
      "metadata": {
        "colab": {
          "base_uri": "https://localhost:8080/"
        },
        "id": "lIJAxNPKL4ZW",
        "outputId": "421ca8cb-a4f3-4013-b048-85ed7448af79"
      },
      "execution_count": 14,
      "outputs": [
        {
          "output_type": "stream",
          "name": "stdout",
          "text": [
            "Collecting pytorch-tabnet\n",
            "  Downloading pytorch_tabnet-3.1.1-py3-none-any.whl (39 kB)\n",
            "Requirement already satisfied: torch<2.0,>=1.2 in /usr/local/lib/python3.7/dist-packages (from pytorch-tabnet) (1.10.0+cu111)\n",
            "Requirement already satisfied: scipy>1.4 in /usr/local/lib/python3.7/dist-packages (from pytorch-tabnet) (1.4.1)\n",
            "Requirement already satisfied: scikit_learn>0.21 in /usr/local/lib/python3.7/dist-packages (from pytorch-tabnet) (1.0.2)\n",
            "Requirement already satisfied: tqdm<5.0,>=4.36 in /usr/local/lib/python3.7/dist-packages (from pytorch-tabnet) (4.64.0)\n",
            "Requirement already satisfied: numpy<2.0,>=1.17 in /usr/local/lib/python3.7/dist-packages (from pytorch-tabnet) (1.21.5)\n",
            "Requirement already satisfied: threadpoolctl>=2.0.0 in /usr/local/lib/python3.7/dist-packages (from scikit_learn>0.21->pytorch-tabnet) (3.1.0)\n",
            "Requirement already satisfied: joblib>=0.11 in /usr/local/lib/python3.7/dist-packages (from scikit_learn>0.21->pytorch-tabnet) (1.1.0)\n",
            "Requirement already satisfied: typing-extensions in /usr/local/lib/python3.7/dist-packages (from torch<2.0,>=1.2->pytorch-tabnet) (4.1.1)\n",
            "Installing collected packages: pytorch-tabnet\n",
            "Successfully installed pytorch-tabnet-3.1.1\n"
          ]
        }
      ]
    },
    {
      "cell_type": "code",
      "source": [
        "from pytorch_tabnet.tab_model import TabNetClassifier\n",
        "import torch\n",
        "\n",
        "from sklearn.preprocessing import LabelEncoder\n",
        "from sklearn.metrics import roc_auc_score, accuracy_score"
      ],
      "metadata": {
        "id": "QTv7z7zfL7oA"
      },
      "execution_count": 15,
      "outputs": []
    },
    {
      "cell_type": "code",
      "source": [
        "# define the model\n",
        "clf1_nopreproc = TabNetClassifier(optimizer_fn=torch.optim.Adam,\n",
        "                       optimizer_params=dict(lr=2e-2),\n",
        "                       scheduler_params={\"step_size\":10, # how to use learning rate scheduler\n",
        "                                         \"gamma\":0.9},\n",
        "                       scheduler_fn=torch.optim.lr_scheduler.StepLR,\n",
        "                       mask_type='entmax')"
      ],
      "metadata": {
        "colab": {
          "base_uri": "https://localhost:8080/"
        },
        "id": "V49WI6q_L_0U",
        "outputId": "9b6f98a3-ed0d-4f27-9f22-d7f6a1bd864c"
      },
      "execution_count": 22,
      "outputs": [
        {
          "output_type": "stream",
          "name": "stdout",
          "text": [
            "Device used : cpu\n"
          ]
        }
      ]
    },
    {
      "cell_type": "code",
      "source": [
        "# fit the model \n",
        "clf1_nopreproc.fit(\n",
        "    X_train,y_train,\n",
        "    eval_set=[(X_train, y_train), (X_test, y_test)],\n",
        "    eval_name=['train', 'valid'],\n",
        "    eval_metric=['auc','accuracy'],\n",
        "    max_epochs=50 , patience=50,\n",
        "    batch_size=256, virtual_batch_size=128,\n",
        "    num_workers=0,\n",
        "    weights=1,\n",
        "    drop_last=False\n",
        ")        "
      ],
      "metadata": {
        "colab": {
          "base_uri": "https://localhost:8080/"
        },
        "id": "pAeuM20oMJAy",
        "outputId": "4c2813cf-aa43-47b3-d7e1-d48fb50c9011"
      },
      "execution_count": 23,
      "outputs": [
        {
          "output_type": "stream",
          "name": "stdout",
          "text": [
            "epoch 0  | loss: 0.17353 | train_auc: 0.99512 | train_accuracy: 0.96893 | valid_auc: 0.99492 | valid_accuracy: 0.96641 |  0:00:08s\n",
            "epoch 1  | loss: 0.08647 | train_auc: 0.96953 | train_accuracy: 0.68115 | valid_auc: 0.96942 | valid_accuracy: 0.68734 |  0:00:17s\n",
            "epoch 2  | loss: 0.07154 | train_auc: 0.99762 | train_accuracy: 0.97434 | valid_auc: 0.99743 | valid_accuracy: 0.97293 |  0:00:26s\n",
            "epoch 3  | loss: 0.05524 | train_auc: 0.9907  | train_accuracy: 0.86313 | valid_auc: 0.99011 | valid_accuracy: 0.85859 |  0:00:34s\n",
            "epoch 4  | loss: 0.0486  | train_auc: 0.99735 | train_accuracy: 0.96919 | valid_auc: 0.99727 | valid_accuracy: 0.96837 |  0:00:43s\n",
            "epoch 5  | loss: 0.03763 | train_auc: 0.98961 | train_accuracy: 0.81202 | valid_auc: 0.98921 | valid_accuracy: 0.81408 |  0:00:52s\n",
            "epoch 6  | loss: 0.04932 | train_auc: 0.99423 | train_accuracy: 0.84721 | valid_auc: 0.99359 | valid_accuracy: 0.84733 |  0:01:01s\n",
            "epoch 7  | loss: 0.04139 | train_auc: 0.97306 | train_accuracy: 0.80616 | valid_auc: 0.97293 | valid_accuracy: 0.80876 |  0:01:09s\n",
            "epoch 8  | loss: 0.0342  | train_auc: 0.98351 | train_accuracy: 0.75466 | valid_auc: 0.98279 | valid_accuracy: 0.75974 |  0:01:18s\n",
            "epoch 9  | loss: 0.03739 | train_auc: 0.99816 | train_accuracy: 0.90887 | valid_auc: 0.9981  | valid_accuracy: 0.90742 |  0:01:27s\n",
            "epoch 10 | loss: 0.02802 | train_auc: 0.99968 | train_accuracy: 0.99121 | valid_auc: 0.99958 | valid_accuracy: 0.99008 |  0:01:35s\n",
            "epoch 11 | loss: 0.02831 | train_auc: 0.99259 | train_accuracy: 0.81572 | valid_auc: 0.99213 | valid_accuracy: 0.81724 |  0:01:44s\n",
            "epoch 12 | loss: 0.02939 | train_auc: 0.98117 | train_accuracy: 0.66405 | valid_auc: 0.98113 | valid_accuracy: 0.66937 |  0:01:53s\n",
            "epoch 13 | loss: 0.02724 | train_auc: 0.99899 | train_accuracy: 0.98382 | valid_auc: 0.99893 | valid_accuracy: 0.98308 |  0:02:01s\n",
            "epoch 14 | loss: 0.02659 | train_auc: 0.99772 | train_accuracy: 0.96341 | valid_auc: 0.99802 | valid_accuracy: 0.96411 |  0:02:10s\n",
            "epoch 15 | loss: 0.02368 | train_auc: 0.98935 | train_accuracy: 0.86827 | valid_auc: 0.98917 | valid_accuracy: 0.86914 |  0:02:19s\n",
            "epoch 16 | loss: 0.02668 | train_auc: 0.9846  | train_accuracy: 0.93064 | valid_auc: 0.98414 | valid_accuracy: 0.93181 |  0:02:28s\n",
            "epoch 17 | loss: 0.02917 | train_auc: 0.99537 | train_accuracy: 0.97852 | valid_auc: 0.99544 | valid_accuracy: 0.97892 |  0:02:36s\n",
            "epoch 18 | loss: 0.02317 | train_auc: 0.99324 | train_accuracy: 0.94939 | valid_auc: 0.99373 | valid_accuracy: 0.94983 |  0:02:45s\n",
            "epoch 19 | loss: 0.02414 | train_auc: 0.9987  | train_accuracy: 0.96996 | valid_auc: 0.99868 | valid_accuracy: 0.97101 |  0:02:54s\n",
            "epoch 20 | loss: 0.01979 | train_auc: 0.95655 | train_accuracy: 0.66515 | valid_auc: 0.95536 | valid_accuracy: 0.66922 |  0:03:02s\n",
            "epoch 21 | loss: 0.02012 | train_auc: 0.99896 | train_accuracy: 0.97099 | valid_auc: 0.99892 | valid_accuracy: 0.96943 |  0:03:11s\n",
            "epoch 22 | loss: 0.02061 | train_auc: 0.99678 | train_accuracy: 0.9615  | valid_auc: 0.99664 | valid_accuracy: 0.96229 |  0:03:20s\n",
            "epoch 23 | loss: 0.01823 | train_auc: 0.99117 | train_accuracy: 0.92297 | valid_auc: 0.99151 | valid_accuracy: 0.92304 |  0:03:28s\n",
            "epoch 24 | loss: 0.02465 | train_auc: 0.9946  | train_accuracy: 0.93513 | valid_auc: 0.99436 | valid_accuracy: 0.93464 |  0:03:37s\n",
            "epoch 25 | loss: 0.01791 | train_auc: 0.99943 | train_accuracy: 0.98969 | valid_auc: 0.99944 | valid_accuracy: 0.98912 |  0:03:46s\n",
            "epoch 26 | loss: 0.01714 | train_auc: 0.99636 | train_accuracy: 0.95995 | valid_auc: 0.9964  | valid_accuracy: 0.96066 |  0:03:54s\n",
            "epoch 27 | loss: 0.0193  | train_auc: 0.9808  | train_accuracy: 0.67646 | valid_auc: 0.98235 | valid_accuracy: 0.68187 |  0:04:03s\n",
            "epoch 28 | loss: 0.01636 | train_auc: 0.94912 | train_accuracy: 0.68179 | valid_auc: 0.95199 | valid_accuracy: 0.68647 |  0:04:12s\n",
            "epoch 29 | loss: 0.01607 | train_auc: 0.99911 | train_accuracy: 0.97781 | valid_auc: 0.99919 | valid_accuracy: 0.97853 |  0:04:21s\n",
            "epoch 30 | loss: 0.01348 | train_auc: 0.99766 | train_accuracy: 0.9686  | valid_auc: 0.9979  | valid_accuracy: 0.96933 |  0:04:29s\n",
            "epoch 31 | loss: 0.01607 | train_auc: 0.99921 | train_accuracy: 0.98227 | valid_auc: 0.99943 | valid_accuracy: 0.98289 |  0:04:38s\n",
            "epoch 32 | loss: 0.01494 | train_auc: 0.99542 | train_accuracy: 0.95418 | valid_auc: 0.99564 | valid_accuracy: 0.95472 |  0:04:46s\n",
            "epoch 33 | loss: 0.01576 | train_auc: 0.99969 | train_accuracy: 0.98922 | valid_auc: 0.99973 | valid_accuracy: 0.98893 |  0:04:55s\n",
            "epoch 34 | loss: 0.01344 | train_auc: 0.99664 | train_accuracy: 0.95001 | valid_auc: 0.99661 | valid_accuracy: 0.94892 |  0:05:04s\n",
            "epoch 35 | loss: 0.01683 | train_auc: 0.9991  | train_accuracy: 0.96361 | valid_auc: 0.99919 | valid_accuracy: 0.9644  |  0:05:13s\n",
            "epoch 36 | loss: 0.01615 | train_auc: 0.99913 | train_accuracy: 0.94906 | valid_auc: 0.99924 | valid_accuracy: 0.9493  |  0:05:22s\n",
            "epoch 37 | loss: 0.01319 | train_auc: 0.99247 | train_accuracy: 0.81473 | valid_auc: 0.99275 | valid_accuracy: 0.8205  |  0:05:31s\n",
            "epoch 38 | loss: 0.01267 | train_auc: 0.97095 | train_accuracy: 0.64659 | valid_auc: 0.9713  | valid_accuracy: 0.65236 |  0:05:40s\n",
            "epoch 39 | loss: 0.0146  | train_auc: 0.86954 | train_accuracy: 0.67351 | valid_auc: 0.87374 | valid_accuracy: 0.67828 |  0:05:49s\n",
            "epoch 40 | loss: 0.01296 | train_auc: 0.99949 | train_accuracy: 0.987   | valid_auc: 0.99951 | valid_accuracy: 0.98663 |  0:05:57s\n",
            "epoch 41 | loss: 0.01376 | train_auc: 0.96036 | train_accuracy: 0.60875 | valid_auc: 0.96056 | valid_accuracy: 0.61474 |  0:06:06s\n",
            "epoch 42 | loss: 0.0201  | train_auc: 0.99629 | train_accuracy: 0.96032 | valid_auc: 0.9964  | valid_accuracy: 0.96085 |  0:06:15s\n",
            "epoch 43 | loss: 0.01033 | train_auc: 0.99466 | train_accuracy: 0.93863 | valid_auc: 0.99481 | valid_accuracy: 0.94087 |  0:06:24s\n",
            "epoch 44 | loss: 0.01485 | train_auc: 0.99823 | train_accuracy: 0.96241 | valid_auc: 0.99839 | valid_accuracy: 0.96382 |  0:06:32s\n",
            "epoch 45 | loss: 0.01654 | train_auc: 0.98065 | train_accuracy: 0.88285 | valid_auc: 0.98027 | valid_accuracy: 0.88303 |  0:06:41s\n",
            "epoch 46 | loss: 0.01253 | train_auc: 0.99    | train_accuracy: 0.9116  | valid_auc: 0.98955 | valid_accuracy: 0.91106 |  0:06:50s\n",
            "epoch 47 | loss: 0.0137  | train_auc: 0.99477 | train_accuracy: 0.94969 | valid_auc: 0.99452 | valid_accuracy: 0.94782 |  0:06:58s\n",
            "epoch 48 | loss: 0.01282 | train_auc: 0.89626 | train_accuracy: 0.62539 | valid_auc: 0.89593 | valid_accuracy: 0.63098 |  0:07:07s\n",
            "epoch 49 | loss: 0.01429 | train_auc: 0.98836 | train_accuracy: 0.92631 | valid_auc: 0.98814 | valid_accuracy: 0.92712 |  0:07:16s\n",
            "Stop training because you reached max_epochs = 50 with best_epoch = 10 and best_valid_accuracy = 0.99008\n",
            "Best weights from best epoch are automatically used!\n"
          ]
        }
      ]
    },
    {
      "cell_type": "code",
      "source": [
        "# plot losses\n",
        "plt.plot(clf1_nopreproc.history['loss'])\n",
        "plt.title('TabNet Model loss')\n",
        "plt.ylabel('loss')\n",
        "plt.xlabel('Epoch')\n",
        "plt.legend(['Train', 'Test'], loc='lower right')\n",
        "plt.savefig('TabNet Model loss.png')\n",
        "plt.show()"
      ],
      "metadata": {
        "colab": {
          "base_uri": "https://localhost:8080/",
          "height": 301
        },
        "id": "MIxm4mTEMUFb",
        "outputId": "de8e7d28-54af-4a34-a364-434c9ea6abe3"
      },
      "execution_count": 24,
      "outputs": [
        {
          "output_type": "display_data",
          "data": {
            "text/plain": [
              "<Figure size 432x288 with 1 Axes>"
            ],
            "image/png": "[encoded data removed]"
          },
          "metadata": {
            "needs_background": "light"
          }
        }
      ]
    },
    {
      "cell_type": "code",
      "source": [
        "# plot accuracy\n",
        "plt.plot(clf1_nopreproc.history['train_accuracy'])\n",
        "plt.plot(clf1_nopreproc.history['valid_accuracy'])\n",
        "plt.title('TabNet Model Accuracy')\n",
        "plt.ylabel('Accuracy')\n",
        "plt.xlabel('Epoch')\n",
        "plt.legend(['Train', 'Test'], loc='lower right')\n",
        "plt.savefig('TabNet Model Accuracy.png')\n",
        "plt.show()"
      ],
      "metadata": {
        "colab": {
          "base_uri": "https://localhost:8080/",
          "height": 301
        },
        "id": "07kh1NB3MbYA",
        "outputId": "faabdade-e391-4efd-8448-69f44009133a"
      },
      "execution_count": 25,
      "outputs": [
        {
          "output_type": "display_data",
          "data": {
            "text/plain": [
              "<Figure size 432x288 with 1 Axes>"
            ],
            "image/png": "[encoded data removed]"
          },
          "metadata": {
            "needs_background": "light"
          }
        }
      ]
    },
    {
      "cell_type": "code",
      "source": [
        "# find and plot feature importance\n",
        "y_pred = clf1_nopreproc.predict(X_test)"
      ],
      "metadata": {
        "id": "q8onSfeaMeXL"
      },
      "execution_count": 26,
      "outputs": []
    },
    {
      "cell_type": "code",
      "source": [
        "# determine best accuracy for test set\n",
        "preds = clf1_nopreproc.predict(X_test)\n",
        "test_acc = accuracy_score(preds, y_test)\n",
        "print(f\"BEST ACCURACY SCORE ON TEST SET : {test_acc}\")"
      ],
      "metadata": {
        "colab": {
          "base_uri": "https://localhost:8080/"
        },
        "id": "R5JMYBhlMhgU",
        "outputId": "b8063663-2159-4638-9d8d-ce080cc3e2b3"
      },
      "execution_count": 27,
      "outputs": [
        {
          "output_type": "stream",
          "name": "stdout",
          "text": [
            "BEST ACCURACY SCORE ON TEST SET : 0.9900809813599118\n"
          ]
        }
      ]
    }
  ]
}