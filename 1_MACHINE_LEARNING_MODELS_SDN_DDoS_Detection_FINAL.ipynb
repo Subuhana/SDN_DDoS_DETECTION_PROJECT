{
  "nbformat": 4,
  "nbformat_minor": 0,
  "metadata": {
    "colab": {
      "name": "1_MACHINE LEARNING MODELS_SDN_DDoS_Detection_FINAL.ipynb",
      "provenance": [],
      "collapsed_sections": []
    },
    "kernelspec": {
      "name": "python3",
      "display_name": "Python 3"
    },
    "language_info": {
      "name": "python"
    }
  },
  "cells": [
    {
      "cell_type": "code",
      "execution_count": 3,
      "metadata": {
        "id": "a5-qiCnliWv3"
      },
      "outputs": [],
      "source": [
        "import matplotlib.pyplot as plt\n",
        "import numpy as np\n",
        "import pandas as pd\n",
        "import seaborn as sns\n",
        "%matplotlib inline\n",
        "\n"
      ]
    },
    {
      "cell_type": "code",
      "source": [
        "DDoS = pd.read_csv('/content/dataset_sdn.csv')\n",
        "DDoS.head()"
      ],
      "metadata": {
        "colab": {
          "base_uri": "https://localhost:8080/",
          "height": 299
        },
        "id": "hQAHRbrii-e-",
        "outputId": "62774ddd-1342-496d-a075-fbae6702f53f"
      },
      "execution_count": 4,
      "outputs": [
        {
          "output_type": "execute_result",
          "data": {
            "text/plain": [
              "      dt  switch       src       dst  pktcount  bytecount  dur   dur_nsec  \\\n",
              "0  11425       1  10.0.0.1  10.0.0.8     45304   48294064  100  716000000   \n",
              "1  11605       1  10.0.0.1  10.0.0.8    126395  134737070  280  734000000   \n",
              "2  11425       1  10.0.0.2  10.0.0.8     90333   96294978  200  744000000   \n",
              "3  11425       1  10.0.0.2  10.0.0.8     90333   96294978  200  744000000   \n",
              "4  11425       1  10.0.0.2  10.0.0.8     90333   96294978  200  744000000   \n",
              "\n",
              "        tot_dur  flows  ...  pktrate  Pairflow  Protocol  port_no   tx_bytes  \\\n",
              "0  1.010000e+11      3  ...      451         0       UDP        3  143928631   \n",
              "1  2.810000e+11      2  ...      451         0       UDP        4       3842   \n",
              "2  2.010000e+11      3  ...      451         0       UDP        1       3795   \n",
              "3  2.010000e+11      3  ...      451         0       UDP        2       3688   \n",
              "4  2.010000e+11      3  ...      451         0       UDP        3       3413   \n",
              "\n",
              "  rx_bytes  tx_kbps  rx_kbps  tot_kbps  label  \n",
              "0     3917        0      0.0       0.0      0  \n",
              "1     3520        0      0.0       0.0      0  \n",
              "2     1242        0      0.0       0.0      0  \n",
              "3     1492        0      0.0       0.0      0  \n",
              "4     3665        0      0.0       0.0      0  \n",
              "\n",
              "[5 rows x 23 columns]"
            ],
            "text/html": [
              "\n",
              "  <div id=\"df-b62c624e-459d-45c5-94cd-b719bb418e72\">\n",
              "    <div class=\"colab-df-container\">\n",
              "      <div>\n",
              "<style scoped>\n",
              "    .dataframe tbody tr th:only-of-type {\n",
              "        vertical-align: middle;\n",
              "    }\n",
              "\n",
              "    .dataframe tbody tr th {\n",
              "        vertical-align: top;\n",
              "    }\n",
              "\n",
              "    .dataframe thead th {\n",
              "        text-align: right;\n",
              "    }\n",
              "</style>\n",
              "<table border=\"1\" class=\"dataframe\">\n",
              "  <thead>\n",
              "    <tr style=\"text-align: right;\">\n",
              "      <th></th>\n",
              "      <th>dt</th>\n",
              "      <th>switch</th>\n",
              "      <th>src</th>\n",
              "      <th>dst</th>\n",
              "      <th>pktcount</th>\n",
              "      <th>bytecount</th>\n",
              "      <th>dur</th>\n",
              "      <th>dur_nsec</th>\n",
              "      <th>tot_dur</th>\n",
              "      <th>flows</th>\n",
              "      <th>...</th>\n",
              "      <th>pktrate</th>\n",
              "      <th>Pairflow</th>\n",
              "      <th>Protocol</th>\n",
              "      <th>port_no</th>\n",
              "      <th>tx_bytes</th>\n",
              "      <th>rx_bytes</th>\n",
              "      <th>tx_kbps</th>\n",
              "      <th>rx_kbps</th>\n",
              "      <th>tot_kbps</th>\n",
              "      <th>label</th>\n",
              "    </tr>\n",
              "  </thead>\n",
              "  <tbody>\n",
              "    <tr>\n",
              "      <th>0</th>\n",
              "      <td>11425</td>\n",
              "      <td>1</td>\n",
              "      <td>10.0.0.1</td>\n",
              "      <td>10.0.0.8</td>\n",
              "      <td>45304</td>\n",
              "      <td>48294064</td>\n",
              "      <td>100</td>\n",
              "      <td>716000000</td>\n",
              "      <td>1.010000e+11</td>\n",
              "      <td>3</td>\n",
              "      <td>...</td>\n",
              "      <td>451</td>\n",
              "      <td>0</td>\n",
              "      <td>UDP</td>\n",
              "      <td>3</td>\n",
              "      <td>143928631</td>\n",
              "      <td>3917</td>\n",
              "      <td>0</td>\n",
              "      <td>0.0</td>\n",
              "      <td>0.0</td>\n",
              "      <td>0</td>\n",
              "    </tr>\n",
              "    <tr>\n",
              "      <th>1</th>\n",
              "      <td>11605</td>\n",
              "      <td>1</td>\n",
              "      <td>10.0.0.1</td>\n",
              "      <td>10.0.0.8</td>\n",
              "      <td>126395</td>\n",
              "      <td>134737070</td>\n",
              "      <td>280</td>\n",
              "      <td>734000000</td>\n",
              "      <td>2.810000e+11</td>\n",
              "      <td>2</td>\n",
              "      <td>...</td>\n",
              "      <td>451</td>\n",
              "      <td>0</td>\n",
              "      <td>UDP</td>\n",
              "      <td>4</td>\n",
              "      <td>3842</td>\n",
              "      <td>3520</td>\n",
              "      <td>0</td>\n",
              "      <td>0.0</td>\n",
              "      <td>0.0</td>\n",
              "      <td>0</td>\n",
              "    </tr>\n",
              "    <tr>\n",
              "      <th>2</th>\n",
              "      <td>11425</td>\n",
              "      <td>1</td>\n",
              "      <td>10.0.0.2</td>\n",
              "      <td>10.0.0.8</td>\n",
              "      <td>90333</td>\n",
              "      <td>96294978</td>\n",
              "      <td>200</td>\n",
              "      <td>744000000</td>\n",
              "      <td>2.010000e+11</td>\n",
              "      <td>3</td>\n",
              "      <td>...</td>\n",
              "      <td>451</td>\n",
              "      <td>0</td>\n",
              "      <td>UDP</td>\n",
              "      <td>1</td>\n",
              "      <td>3795</td>\n",
              "      <td>1242</td>\n",
              "      <td>0</td>\n",
              "      <td>0.0</td>\n",
              "      <td>0.0</td>\n",
              "      <td>0</td>\n",
              "    </tr>\n",
              "    <tr>\n",
              "      <th>3</th>\n",
              "      <td>11425</td>\n",
              "      <td>1</td>\n",
              "      <td>10.0.0.2</td>\n",
              "      <td>10.0.0.8</td>\n",
              "      <td>90333</td>\n",
              "      <td>96294978</td>\n",
              "      <td>200</td>\n",
              "      <td>744000000</td>\n",
              "      <td>2.010000e+11</td>\n",
              "      <td>3</td>\n",
              "      <td>...</td>\n",
              "      <td>451</td>\n",
              "      <td>0</td>\n",
              "      <td>UDP</td>\n",
              "      <td>2</td>\n",
              "      <td>3688</td>\n",
              "      <td>1492</td>\n",
              "      <td>0</td>\n",
              "      <td>0.0</td>\n",
              "      <td>0.0</td>\n",
              "      <td>0</td>\n",
              "    </tr>\n",
              "    <tr>\n",
              "      <th>4</th>\n",
              "      <td>11425</td>\n",
              "      <td>1</td>\n",
              "      <td>10.0.0.2</td>\n",
              "      <td>10.0.0.8</td>\n",
              "      <td>90333</td>\n",
              "      <td>96294978</td>\n",
              "      <td>200</td>\n",
              "      <td>744000000</td>\n",
              "      <td>2.010000e+11</td>\n",
              "      <td>3</td>\n",
              "      <td>...</td>\n",
              "      <td>451</td>\n",
              "      <td>0</td>\n",
              "      <td>UDP</td>\n",
              "      <td>3</td>\n",
              "      <td>3413</td>\n",
              "      <td>3665</td>\n",
              "      <td>0</td>\n",
              "      <td>0.0</td>\n",
              "      <td>0.0</td>\n",
              "      <td>0</td>\n",
              "    </tr>\n",
              "  </tbody>\n",
              "</table>\n",
              "<p>5 rows × 23 columns</p>\n",
              "</div>\n",
              "      <button class=\"colab-df-convert\" onclick=\"convertToInteractive('df-b62c624e-459d-45c5-94cd-b719bb418e72')\"\n",
              "              title=\"Convert this dataframe to an interactive table.\"\n",
              "              style=\"display:none;\">\n",
              "        \n",
              "  <svg xmlns=\"http://www.w3.org/2000/svg\" height=\"24px\"viewBox=\"0 0 24 24\"\n",
              "       width=\"24px\">\n",
              "    <path d=\"M0 0h24v24H0V0z\" fill=\"none\"/>\n",
              "    <path d=\"M18.56 5.44l.94 2.06.94-2.06 2.06-.94-2.06-.94-.94-2.06-.94 2.06-2.06.94zm-11 1L8.5 8.5l.94-2.06 2.06-.94-2.06-.94L8.5 2.5l-.94 2.06-2.06.94zm10 10l.94 2.06.94-2.06 2.06-.94-2.06-.94-.94-2.06-.94 2.06-2.06.94z\"/><path d=\"M17.41 7.96l-1.37-1.37c-.4-.4-.92-.59-1.43-.59-.52 0-1.04.2-1.43.59L10.3 9.45l-7.72 7.72c-.78.78-.78 2.05 0 2.83L4 21.41c.39.39.9.59 1.41.59.51 0 1.02-.2 1.41-.59l7.78-7.78 2.81-2.81c.8-.78.8-2.07 0-2.86zM5.41 20L4 18.59l7.72-7.72 1.47 1.35L5.41 20z\"/>\n",
              "  </svg>\n",
              "      </button>\n",
              "      \n",
              "  <style>\n",
              "    .colab-df-container {\n",
              "      display:flex;\n",
              "      flex-wrap:wrap;\n",
              "      gap: 12px;\n",
              "    }\n",
              "\n",
              "    .colab-df-convert {\n",
              "      background-color: #E8F0FE;\n",
              "      border: none;\n",
              "      border-radius: 50%;\n",
              "      cursor: pointer;\n",
              "      display: none;\n",
              "      fill: #1967D2;\n",
              "      height: 32px;\n",
              "      padding: 0 0 0 0;\n",
              "      width: 32px;\n",
              "    }\n",
              "\n",
              "    .colab-df-convert:hover {\n",
              "      background-color: #E2EBFA;\n",
              "      box-shadow: 0px 1px 2px rgba(60, 64, 67, 0.3), 0px 1px 3px 1px rgba(60, 64, 67, 0.15);\n",
              "      fill: #174EA6;\n",
              "    }\n",
              "\n",
              "    [theme=dark] .colab-df-convert {\n",
              "      background-color: #3B4455;\n",
              "      fill: #D2E3FC;\n",
              "    }\n",
              "\n",
              "    [theme=dark] .colab-df-convert:hover {\n",
              "      background-color: #434B5C;\n",
              "      box-shadow: 0px 1px 3px 1px rgba(0, 0, 0, 0.15);\n",
              "      filter: drop-shadow(0px 1px 2px rgba(0, 0, 0, 0.3));\n",
              "      fill: #FFFFFF;\n",
              "    }\n",
              "  </style>\n",
              "\n",
              "      <script>\n",
              "        const buttonEl =\n",
              "          document.querySelector('#df-b62c624e-459d-45c5-94cd-b719bb418e72 button.colab-df-convert');\n",
              "        buttonEl.style.display =\n",
              "          google.colab.kernel.accessAllowed ? 'block' : 'none';\n",
              "\n",
              "        async function convertToInteractive(key) {\n",
              "          const element = document.querySelector('#df-b62c624e-459d-45c5-94cd-b719bb418e72');\n",
              "          const dataTable =\n",
              "            await google.colab.kernel.invokeFunction('convertToInteractive',\n",
              "                                                     [key], {});\n",
              "          if (!dataTable) return;\n",
              "\n",
              "          const docLinkHtml = 'Like what you see? Visit the ' +\n",
              "            '<a target=\"_blank\" href=https://colab.research.google.com/notebooks/data_table.ipynb>data table notebook</a>'\n",
              "            + ' to learn more about interactive tables.';\n",
              "          element.innerHTML = '';\n",
              "          dataTable['output_type'] = 'display_data';\n",
              "          await google.colab.output.renderOutput(dataTable, element);\n",
              "          const docLink = document.createElement('div');\n",
              "          docLink.innerHTML = docLinkHtml;\n",
              "          element.appendChild(docLink);\n",
              "        }\n",
              "      </script>\n",
              "    </div>\n",
              "  </div>\n",
              "  "
            ]
          },
          "metadata": {},
          "execution_count": 4
        }
      ]
    },
    {
      "cell_type": "code",
      "source": [
        "DDoS.columns"
      ],
      "metadata": {
        "colab": {
          "base_uri": "https://localhost:8080/"
        },
        "id": "RryH5uRyifLT",
        "outputId": "93b135fa-5a79-419c-d2f1-1bbb1d685ad2"
      },
      "execution_count": 5,
      "outputs": [
        {
          "output_type": "execute_result",
          "data": {
            "text/plain": [
              "Index(['dt', 'switch', 'src', 'dst', 'pktcount', 'bytecount', 'dur',\n",
              "       'dur_nsec', 'tot_dur', 'flows', 'packetins', 'pktperflow',\n",
              "       'byteperflow', 'pktrate', 'Pairflow', 'Protocol', 'port_no', 'tx_bytes',\n",
              "       'rx_bytes', 'tx_kbps', 'rx_kbps', 'tot_kbps', 'label'],\n",
              "      dtype='object')"
            ]
          },
          "metadata": {},
          "execution_count": 5
        }
      ]
    },
    {
      "cell_type": "code",
      "source": [
        "#Transformations of categorical features\n",
        "DDoS['Protocol'] = DDoS['Protocol'].astype('category')\n",
        "DDoS['src'] = DDoS['src'].astype('category')\n",
        "DDoS['dst'] = DDoS['dst'].astype('category')\n",
        "\n",
        "cat_columns = DDoS.select_dtypes(['category']).columns\n",
        "DDoS[cat_columns] = DDoS[cat_columns].apply(lambda x: x.cat.codes)"
      ],
      "metadata": {
        "id": "yYm2tvbrijs9"
      },
      "execution_count": 6,
      "outputs": []
    },
    {
      "cell_type": "code",
      "source": [
        "DDoS[\"rx_kbps\"] = DDoS[\"rx_kbps\"].fillna(DDoS[\"rx_kbps\"].mean())"
      ],
      "metadata": {
        "id": "xeLtI806irDT"
      },
      "execution_count": 7,
      "outputs": []
    },
    {
      "cell_type": "code",
      "source": [
        "DDoS[\"tot_kbps\"] = DDoS[\"tot_kbps\"].fillna(DDoS[\"tot_kbps\"].mean())"
      ],
      "metadata": {
        "id": "5bOr9iJlitQI"
      },
      "execution_count": 8,
      "outputs": []
    },
    {
      "cell_type": "code",
      "source": [
        "from sklearn.model_selection import train_test_split\n",
        "X = DDoS[['src','dst','dt', 'switch', 'pktcount', 'bytecount', 'dur', 'dur_nsec', 'tot_dur',\n",
        "       'flows', 'packetins', 'pktperflow', 'byteperflow', 'pktrate',\n",
        "       'Pairflow','Protocol' ,'port_no', 'tx_bytes', 'rx_bytes', 'tx_kbps', 'rx_kbps',\n",
        "       'tot_kbps']]\n",
        "y = DDoS['label']\n",
        "\n",
        "X_train, X_test, y_train, y_test = train_test_split(X, y, test_size=0.2, random_state=42)"
      ],
      "metadata": {
        "id": "SC3ApXXaivaJ"
      },
      "execution_count": 9,
      "outputs": []
    },
    {
      "cell_type": "code",
      "source": [
        "# Feature scaling (or standardization)\n",
        "from sklearn.preprocessing import StandardScaler\n",
        "scaler = StandardScaler()\n",
        "X_train = scaler.fit_transform(X_train)\n",
        "X_test = scaler.transform(X_test)"
      ],
      "metadata": {
        "id": "Xf5CtIPviyU5"
      },
      "execution_count": 10,
      "outputs": []
    },
    {
      "cell_type": "code",
      "source": [
        "from sklearn.linear_model import LogisticRegression\n",
        "model1=LogisticRegression()\n",
        "\n",
        "#fit the model\n",
        "model1.fit(X_train,y_train)\n",
        "\n",
        "#predict\n",
        "pred1 = model1.predict(X_test)\n",
        "\n",
        "from sklearn.metrics import accuracy_score\n",
        "from sklearn.metrics import precision_score\n",
        "from sklearn.metrics import recall_score\n",
        "from sklearn.metrics import f1_score\n",
        "accuracy1 = accuracy_score(y_test, pred1)\n",
        "print(' accuracy of Logistic regression = ', accuracy1)\n",
        "\n",
        "precision1 = precision_score(y_test, pred1)\n",
        "print(' precision of Logistic regression = ', precision1)\n",
        "\n",
        "recall1 = recall_score(y_test, pred1)\n",
        "print(' recall of Logistic regression = ',recall1 )\n",
        "\n",
        "f11=f1_score(y_test, pred1, average='macro')\n",
        "print('f1 score of Logistic regression = ',f11)\n",
        "\n",
        "# # Creating confusion matrix for evaluation\n",
        "from sklearn.metrics import confusion_matrix\n",
        "cm = confusion_matrix(y_test, pred1)\n",
        "\n",
        "\n",
        "\n",
        "# # Print out confusion matrix and results\n",
        "print(\"confusion matrix of Logistic regression =\", cm)"
      ],
      "metadata": {
        "colab": {
          "base_uri": "https://localhost:8080/"
        },
        "id": "umklE7L0i1DF",
        "outputId": "04f1eb2e-0d0d-40e9-92c4-5d0b7749fd54"
      },
      "execution_count": 11,
      "outputs": [
        {
          "output_type": "stream",
          "name": "stdout",
          "text": [
            " accuracy of Logistic regression =  0.7699937706646222\n",
            " precision of Logistic regression =  0.7249025668592931\n",
            " recall of Logistic regression =  0.6620842027740272\n",
            "f1 score of Logistic regression =  0.754257209178409\n",
            "confusion matrix of Logistic regression = [[10675  2047]\n",
            " [ 2753  5394]]\n"
          ]
        }
      ]
    },
    {
      "cell_type": "code",
      "source": [
        "#ALGORITHM Gaussian NB\n",
        "from sklearn.naive_bayes import GaussianNB\n",
        "ML=GaussianNB()\n",
        "\n",
        "#FIT DATA\n",
        "ML=ML.fit(X_train,y_train)\n",
        "#2.TESTING\n",
        "result=ML.predict(X_test)\n",
        "print(\"Prediction using GUASSIAN NB=\",result)\n",
        "\n",
        "# # Creating confusion matrix for evaluation\n",
        "from sklearn.metrics import confusion_matrix\n",
        "cm1 = confusion_matrix(y_test, result)\n",
        "\n",
        "# # Print out confusion matrix and results\n",
        "print(\"confusion matrix of GAussian NB =\", cm1)\n",
        "\n",
        "accuracy = accuracy_score(y_test, result)\n",
        "print('accuracy of GAussian NB = ',accuracy)\n",
        "\n",
        "precision = precision_score(y_test, result)\n",
        "print('precision of GAussian NB =',precision)\n",
        "\n",
        "recall = recall_score(y_test, result)\n",
        "print('recall of GAussian NB =', recall)\n",
        "\n",
        "f12=f1_score(y_test, result, average='macro')\n",
        "print('f1 score of Logistic Gaussian NB = ',f12)"
      ],
      "metadata": {
        "colab": {
          "base_uri": "https://localhost:8080/"
        },
        "id": "OclgLfn6jGz4",
        "outputId": "1529cb09-62c0-40fe-c56f-263314e92ab9"
      },
      "execution_count": 12,
      "outputs": [
        {
          "output_type": "stream",
          "name": "stdout",
          "text": [
            "Prediction using GUASSIAN NB= [0 0 1 ... 0 0 1]\n",
            "confusion matrix of GAussian NB = [[8923 3799]\n",
            " [3245 4902]]\n",
            "accuracy of GAussian NB =  0.662465858450333\n",
            "precision of GAussian NB = 0.5633835191357315\n",
            "recall of GAussian NB = 0.6016938750460292\n",
            "f1 score of Logistic Gaussian NB =  0.6494518044638574\n"
          ]
        }
      ]
    },
    {
      "cell_type": "code",
      "source": [
        "# SVM\n",
        "from sklearn.svm import SVC\n",
        "# Fitting SVM with the training set\n",
        "classifier = SVC(kernel='linear', random_state=0)\n",
        "classifier.fit(X_train, y_train)\n",
        "\n",
        "# Testing the model by classifying the test set\n",
        "y_pred2 = classifier.predict(X_test)\n",
        "\n",
        "# # Creating confusion matrix for evaluation\n",
        "cm2 = confusion_matrix(y_test, y_pred2)\n",
        "\n",
        "# # Print out confusion matrix and results\n",
        "print(\"confusion matrix of SVM =\", cm2)\n",
        "\n",
        "accuracy = accuracy_score(y_test, y_pred2)\n",
        "print('accuracy of SVM = ',accuracy)\n",
        "\n",
        "precision = precision_score(y_test, y_pred2)\n",
        "print('precision of SVM =',precision)\n",
        "\n",
        "recall = recall_score(y_test, y_pred2)\n",
        "print('recall of SVM =', recall)\n",
        "\n",
        "f13=f1_score(y_test, y_pred2, average='macro')\n",
        "print('f1 score of SVM = ',f13)"
      ],
      "metadata": {
        "colab": {
          "base_uri": "https://localhost:8080/"
        },
        "id": "6oI4XlCtjM6H",
        "outputId": "3cbd8886-693d-452c-e4bd-f4c04906b43d"
      },
      "execution_count": 13,
      "outputs": [
        {
          "output_type": "stream",
          "name": "stdout",
          "text": [
            "confusion matrix of SVM = [[11062  1660]\n",
            " [ 2828  5319]]\n",
            "accuracy of SVM =  0.7849441755714217\n",
            "precision of SVM = 0.7621435735778764\n",
            "recall of SVM = 0.6528783601325642\n",
            "f1 score of SVM =  0.7673233102870802\n"
          ]
        }
      ]
    },
    {
      "cell_type": "code",
      "source": [
        "#algorithm(decision tree)\n",
        "from sklearn.tree import DecisionTreeClassifier\n",
        "Model3=DecisionTreeClassifier()\n",
        "#fit data\n",
        "Model3=Model3.fit(X_train,y_train)\n",
        "#testing\n",
        "result3=Model3.predict(X_test)\n",
        "\n",
        "# # Creating confusion matrix for evaluation\n",
        "cm2 = confusion_matrix(y_test, result3)\n",
        " # Print out confusion matrix and report\n",
        "print('Confusion matrix of DT =' ,cm2)\n",
        "\n",
        "accuracy3 = accuracy_score(y_test,result3)\n",
        "print('accuracy of DT = ',accuracy3)\n",
        "\n",
        "precision3 = precision_score(y_test, result3)\n",
        "print('precision of DT =',precision3)\n",
        "\n",
        "recall3 = recall_score(y_test, result3)\n",
        "print('recall of DT =', recall3)"
      ],
      "metadata": {
        "colab": {
          "base_uri": "https://localhost:8080/"
        },
        "id": "qkCa-b_VjRWd",
        "outputId": "e491d6d7-1b25-4b44-9e33-818d84e4214a"
      },
      "execution_count": 14,
      "outputs": [
        {
          "output_type": "stream",
          "name": "stdout",
          "text": [
            "Confusion matrix of DT = [[12722     0]\n",
            " [    0  8147]]\n",
            "accuracy of DT =  1.0\n",
            "precision of DT = 1.0\n",
            "recall of DT = 1.0\n"
          ]
        }
      ]
    },
    {
      "cell_type": "code",
      "source": [
        "#Algorithm Randomforest\n",
        "\n",
        "from sklearn.ensemble import RandomForestClassifier\n",
        "Model4=RandomForestClassifier()\n",
        "#fit data\n",
        "Model4=Model4.fit(X_train,y_train)\n",
        "#testing\n",
        "result4=Model4.predict(X_test)\n",
        "\n",
        "# # Creating confusion matrix for evaluation\n",
        "cm4 = confusion_matrix(y_test, result4)\n",
        " # Print out confusion matrix and report\n",
        "print('Confusion matrix of RF =' ,cm4)\n",
        "\n",
        "accuracy4 = accuracy_score(y_test,result4)\n",
        "print('accuracy of RF = ',accuracy4)\n",
        "\n",
        "precision4 = precision_score(y_test, result4)\n",
        "print('precision of RF =',precision4)\n",
        "\n",
        "recall4 = recall_score(y_test, result4)\n",
        "print('recall of RF =', recall4)\n",
        "\n",
        "f15=f1_score(y_test, result4, average='macro')\n",
        "print('f1 score of RF = ',f15)"
      ],
      "metadata": {
        "colab": {
          "base_uri": "https://localhost:8080/"
        },
        "id": "pQi5wlX3jVID",
        "outputId": "f272dfe9-cf89-46f1-be85-669df4343c51"
      },
      "execution_count": 17,
      "outputs": [
        {
          "output_type": "stream",
          "name": "stdout",
          "text": [
            "Confusion matrix of RF = [[12722     0]\n",
            " [    0  8147]]\n",
            "accuracy of RF =  1.0\n",
            "precision of RF = 1.0\n",
            "recall of RF = 1.0\n",
            "f1 score of RF =  1.0\n"
          ]
        }
      ]
    },
    {
      "cell_type": "code",
      "source": [
        "#algorithm Gradient Boosting\n",
        "from sklearn.ensemble import GradientBoostingClassifier\n",
        "\n",
        "\n",
        "Model5 = GradientBoostingClassifier(n_estimators=100, learning_rate=1.0,  max_depth=1, random_state=0).fit(X_train, y_train)\n",
        "\n",
        "#testing\n",
        "result5=Model5.predict(X_test)\n",
        "\n",
        "# # Creating confusion matrix for evaluation\n",
        "cm5 = confusion_matrix(y_test, result5)\n",
        " # Print out confusion matrix and report\n",
        "print('Confusion matrix of Gradient Boosting =' ,cm5)\n",
        "\n",
        "accuracy5 = accuracy_score(y_test,result5)\n",
        "print('accuracy of Gradient Boosting = ',accuracy5)\n",
        "\n",
        "precision5 = precision_score(y_test, result4)\n",
        "print('precision of Gradient Boosting =',precision5)\n",
        "\n",
        "recall5 = recall_score(y_test, result4)\n",
        "print('recall of Gradient Boosting =', recall5)\n",
        "\n",
        "f15=f1_score(y_test, result5, average='macro')\n",
        "print('f1 score of Gradient Boosting = ',f15)"
      ],
      "metadata": {
        "colab": {
          "base_uri": "https://localhost:8080/"
        },
        "id": "6QeHgJtQjahG",
        "outputId": "fa3b34ca-9ad1-4974-9d77-2867332268af"
      },
      "execution_count": 18,
      "outputs": [
        {
          "output_type": "stream",
          "name": "stdout",
          "text": [
            "Confusion matrix of Gradient Boosting = [[12555   167]\n",
            " [   78  8069]]\n",
            "accuracy of Gradient Boosting =  0.9882600987110067\n",
            "precision of Gradient Boosting = 1.0\n",
            "recall of Gradient Boosting = 1.0\n",
            "f1 score of Gradient Boosting =  0.9876913427811314\n"
          ]
        }
      ]
    }
  ]
}