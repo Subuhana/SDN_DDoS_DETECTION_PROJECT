{
  "nbformat": 4,
  "nbformat_minor": 0,
  "metadata": {
    "colab": {
      "name": "11.TabNet_Pytorch_DDoS.ipynb",
      "provenance": [],
      "collapsed_sections": []
    },
    "kernelspec": {
      "name": "python3",
      "display_name": "Python 3"
    },
    "language_info": {
      "name": "python"
    }
  },
  "cells": [
    {
      "cell_type": "code",
      "execution_count": 1,
      "metadata": {
        "id": "niVzROzCsMJV"
      },
      "outputs": [],
      "source": [
        "import numpy as np\n",
        "import pandas as pd\n",
        "import matplotlib.pyplot as plt\n",
        "\n",
        "import seaborn as sns; sns.set()"
      ]
    },
    {
      "cell_type": "code",
      "source": [
        "DDoS=pd.read_csv('/content/dataset_sdn.csv')"
      ],
      "metadata": {
        "id": "5qq2YSbksfgr"
      },
      "execution_count": 2,
      "outputs": []
    },
    {
      "cell_type": "code",
      "source": [
        "DDoS.Protocol.unique()\n",
        "DDoS['Protocol'] = DDoS['Protocol'].replace('TCP', '0')\n",
        "DDoS['Protocol'] = DDoS['Protocol'].replace('UDP', '1')\n",
        "DDoS['Protocol'] = DDoS['Protocol'].replace('ICMP', '2')\n",
        "DDoS.Protocol.unique()"
      ],
      "metadata": {
        "colab": {
          "base_uri": "https://localhost:8080/"
        },
        "id": "WnlAbHkhsjSe",
        "outputId": "5e33be0a-1eee-4846-b0db-ed9371797939"
      },
      "execution_count": 3,
      "outputs": [
        {
          "output_type": "execute_result",
          "data": {
            "text/plain": [
              "array(['1', '0', '2'], dtype=object)"
            ]
          },
          "metadata": {},
          "execution_count": 3
        }
      ]
    },
    {
      "cell_type": "code",
      "source": [
        "DDoS['src'] = DDoS['src'].replace('10.0.0.0', '0')\n",
        "DDoS['src'] = DDoS['src'].replace('10.0.0.2', '1')\n",
        "DDoS['src'] = DDoS['src'].replace('10.0.0.4', '2')\n",
        "DDoS['src'] = DDoS['src'].replace('10.0.0.10', '3')\n",
        "DDoS['src'] = DDoS['src'].replace('10.0.0.5', '4')\n",
        "DDoS['src'] = DDoS['src'].replace('10.0.0.13', '5')\n",
        "DDoS['src'] = DDoS['src'].replace('10.0.0.6', '6')\n",
        "DDoS['src'] = DDoS['src'].replace('10.0.0.11', '7')\n",
        "DDoS['src'] = DDoS['src'].replace('10.0.0.20', '8')\n",
        "DDoS['src'] = DDoS['src'].replace('10.0.0.18', '9')\n",
        "DDoS['src'] = DDoS['src'].replace('10.0.0.12', '10')\n",
        "DDoS['src'] = DDoS['src'].replace('10.0.0.14', '11')\n",
        "DDoS['src'] = DDoS['src'].replace('10.0.0.15', '12')\n",
        "DDoS['src'] = DDoS['src'].replace('10.0.0.16', '13')\n",
        "DDoS['src'] = DDoS['src'].replace('10.0.0.17', '14')\n",
        "DDoS['src'] = DDoS['src'].replace('10.0.0.1', '15')\n",
        "DDoS['src'] = DDoS['src'].replace('10.0.0.3', '16')\n",
        "DDoS['src'] = DDoS['src'].replace('10.0.0.8', '17')\n",
        "DDoS['src'] = DDoS['src'].replace('10.0.0.7', '18')\n",
        "DDoS['src'] = DDoS['src'].replace('10.0.0.9', '19')\n",
        "DDoS.src.unique()"
      ],
      "metadata": {
        "colab": {
          "base_uri": "https://localhost:8080/"
        },
        "id": "PxmAJbVysnug",
        "outputId": "fc86f5b2-72a0-4c49-d8cf-f7d837400799"
      },
      "execution_count": 4,
      "outputs": [
        {
          "output_type": "execute_result",
          "data": {
            "text/plain": [
              "array(['15', '1', '2', '3', '16', '4', '5', '6', '8', '7', '10', '9',\n",
              "       '17', '18', '19', '11', '12', '13', '14'], dtype=object)"
            ]
          },
          "metadata": {},
          "execution_count": 4
        }
      ]
    },
    {
      "cell_type": "code",
      "source": [
        "DDoS['dst'] = DDoS['dst'].replace('10.0.0.8', '0')\n",
        "DDoS['dst'] = DDoS['dst'].replace('10.0.0.7', '1')\n",
        "DDoS['dst'] = DDoS['dst'].replace('10.0.0.2', '2')\n",
        "DDoS['dst'] = DDoS['dst'].replace('10.0.0.4', '3')\n",
        "DDoS['dst'] = DDoS['dst'].replace('10.0.0.6', '4')\n",
        "DDoS['dst'] = DDoS['dst'].replace('10.0.0.10', '5')\n",
        "DDoS['dst'] = DDoS['dst'].replace('10.0.0.3', '6')\n",
        "DDoS['dst'] = DDoS['dst'].replace('10.0.0.6', '7')\n",
        "DDoS['dst'] = DDoS['dst'].replace('10.0.0.5', '8')\n",
        "DDoS['dst'] = DDoS['dst'].replace('10.0.0.9', '9')\n",
        "DDoS['dst'] = DDoS['dst'].replace('10.0.0.12', '10')\n",
        "DDoS['dst'] = DDoS['dst'].replace('10.0.0.13', '11')\n",
        "DDoS['dst'] = DDoS['dst'].replace('10.0.0.14', '12')\n",
        "DDoS['dst'] = DDoS['dst'].replace('10.0.0.11', '13')\n",
        "DDoS['dst'] = DDoS['dst'].replace('10.0.0.16', '14')\n",
        "DDoS['dst'] = DDoS['dst'].replace('10.0.0.1', '15')\n",
        "DDoS['dst'] = DDoS['dst'].replace('10.0.0.15', '16')\n",
        "DDoS['dst'] = DDoS['dst'].replace('10.0.0.17', '17')\n",
        "DDoS['dst'] = DDoS['dst'].replace('10.0.0.18', '18')\n",
        "DDoS.dst.unique()"
      ],
      "metadata": {
        "colab": {
          "base_uri": "https://localhost:8080/"
        },
        "id": "Bbej-y1HsrY-",
        "outputId": "012fa267-4b35-4781-dae0-e3b7c0624298"
      },
      "execution_count": 5,
      "outputs": [
        {
          "output_type": "execute_result",
          "data": {
            "text/plain": [
              "array(['0', '1', '6', '8', '5', '11', '15', '13', '2', '3', '9', '4',\n",
              "       '12', '16', '10', '14', '17', '18'], dtype=object)"
            ]
          },
          "metadata": {},
          "execution_count": 5
        }
      ]
    },
    {
      "cell_type": "code",
      "source": [
        "DDoS[\"rx_kbps\"] = DDoS[\"rx_kbps\"].fillna(DDoS[\"rx_kbps\"].mean())"
      ],
      "metadata": {
        "id": "sBlAp6Nrswht"
      },
      "execution_count": 6,
      "outputs": []
    },
    {
      "cell_type": "code",
      "source": [
        "DDoS[\"tot_kbps\"] = DDoS[\"tot_kbps\"].fillna(DDoS[\"tot_kbps\"].mean())"
      ],
      "metadata": {
        "id": "ztBAl2lis0qq"
      },
      "execution_count": 7,
      "outputs": []
    },
    {
      "cell_type": "code",
      "source": [
        "DDoS['label'].value_counts()"
      ],
      "metadata": {
        "colab": {
          "base_uri": "https://localhost:8080/"
        },
        "id": "8QrmC_-Bs3gM",
        "outputId": "8287a159-f616-4c7f-dade-96d9307c2905"
      },
      "execution_count": 8,
      "outputs": [
        {
          "output_type": "execute_result",
          "data": {
            "text/plain": [
              "0    63561\n",
              "1    40784\n",
              "Name: label, dtype: int64"
            ]
          },
          "metadata": {},
          "execution_count": 8
        }
      ]
    },
    {
      "cell_type": "code",
      "source": [
        "DDoS.groupby([\"dt\",\"src\"]).count()"
      ],
      "metadata": {
        "colab": {
          "base_uri": "https://localhost:8080/",
          "height": 519
        },
        "id": "ocit9rj8s8K6",
        "outputId": "7a741713-9dd6-4116-8f8c-0933c39f3508"
      },
      "execution_count": 9,
      "outputs": [
        {
          "output_type": "execute_result",
          "data": {
            "text/plain": [
              "           switch  dst  pktcount  bytecount  dur  dur_nsec  tot_dur  flows  \\\n",
              "dt    src                                                                    \n",
              "2488  15       54   54        54         54   54        54       54     54   \n",
              "2518  15       56   56        56         56   56        56       56     56   \n",
              "      7       168  168       168        168  168       168      168    168   \n",
              "2548  1        56   56        56         56   56        56       56     56   \n",
              "      15       56   56        56         56   56        56       56     56   \n",
              "...           ...  ...       ...        ...  ...       ...      ...    ...   \n",
              "42905 17        8    8         8          8    8         8        8      8   \n",
              "      18        8    8         8          8    8         8        8      8   \n",
              "      4        16   16        16         16   16        16       16     16   \n",
              "42935 17        8    8         8          8    8         8        8      8   \n",
              "      4         8    8         8          8    8         8        8      8   \n",
              "\n",
              "           packetins  pktperflow  ...  pktrate  Pairflow  Protocol  port_no  \\\n",
              "dt    src                         ...                                         \n",
              "2488  15          54          54  ...       54        54        54       54   \n",
              "2518  15          56          56  ...       56        56        56       56   \n",
              "      7          168         168  ...      168       168       168      168   \n",
              "2548  1           56          56  ...       56        56        56       56   \n",
              "      15          56          56  ...       56        56        56       56   \n",
              "...              ...         ...  ...      ...       ...       ...      ...   \n",
              "42905 17           8           8  ...        8         8         8        8   \n",
              "      18           8           8  ...        8         8         8        8   \n",
              "      4           16          16  ...       16        16        16       16   \n",
              "42935 17           8           8  ...        8         8         8        8   \n",
              "      4            8           8  ...        8         8         8        8   \n",
              "\n",
              "           tx_bytes  rx_bytes  tx_kbps  rx_kbps  tot_kbps  label  \n",
              "dt    src                                                         \n",
              "2488  15         54        54       54       54        54     54  \n",
              "2518  15         56        56       56       56        56     56  \n",
              "      7         168       168      168      168       168    168  \n",
              "2548  1          56        56       56       56        56     56  \n",
              "      15         56        56       56       56        56     56  \n",
              "...             ...       ...      ...      ...       ...    ...  \n",
              "42905 17          8         8        8        8         8      8  \n",
              "      18          8         8        8        8         8      8  \n",
              "      4          16        16       16       16        16     16  \n",
              "42935 17          8         8        8        8         8      8  \n",
              "      4           8         8        8        8         8      8  \n",
              "\n",
              "[3657 rows x 21 columns]"
            ],
            "text/html": [
              "\n",
              "  <div id=\"df-c7c3eee5-ffc3-4149-9e1a-0418efdc9c86\">\n",
              "    <div class=\"colab-df-container\">\n",
              "      <div>\n",
              "<style scoped>\n",
              "    .dataframe tbody tr th:only-of-type {\n",
              "        vertical-align: middle;\n",
              "    }\n",
              "\n",
              "    .dataframe tbody tr th {\n",
              "        vertical-align: top;\n",
              "    }\n",
              "\n",
              "    .dataframe thead th {\n",
              "        text-align: right;\n",
              "    }\n",
              "</style>\n",
              "<table border=\"1\" class=\"dataframe\">\n",
              "  <thead>\n",
              "    <tr style=\"text-align: right;\">\n",
              "      <th></th>\n",
              "      <th></th>\n",
              "      <th>switch</th>\n",
              "      <th>dst</th>\n",
              "      <th>pktcount</th>\n",
              "      <th>bytecount</th>\n",
              "      <th>dur</th>\n",
              "      <th>dur_nsec</th>\n",
              "      <th>tot_dur</th>\n",
              "      <th>flows</th>\n",
              "      <th>packetins</th>\n",
              "      <th>pktperflow</th>\n",
              "      <th>...</th>\n",
              "      <th>pktrate</th>\n",
              "      <th>Pairflow</th>\n",
              "      <th>Protocol</th>\n",
              "      <th>port_no</th>\n",
              "      <th>tx_bytes</th>\n",
              "      <th>rx_bytes</th>\n",
              "      <th>tx_kbps</th>\n",
              "      <th>rx_kbps</th>\n",
              "      <th>tot_kbps</th>\n",
              "      <th>label</th>\n",
              "    </tr>\n",
              "    <tr>\n",
              "      <th>dt</th>\n",
              "      <th>src</th>\n",
              "      <th></th>\n",
              "      <th></th>\n",
              "      <th></th>\n",
              "      <th></th>\n",
              "      <th></th>\n",
              "      <th></th>\n",
              "      <th></th>\n",
              "      <th></th>\n",
              "      <th></th>\n",
              "      <th></th>\n",
              "      <th></th>\n",
              "      <th></th>\n",
              "      <th></th>\n",
              "      <th></th>\n",
              "      <th></th>\n",
              "      <th></th>\n",
              "      <th></th>\n",
              "      <th></th>\n",
              "      <th></th>\n",
              "      <th></th>\n",
              "      <th></th>\n",
              "    </tr>\n",
              "  </thead>\n",
              "  <tbody>\n",
              "    <tr>\n",
              "      <th>2488</th>\n",
              "      <th>15</th>\n",
              "      <td>54</td>\n",
              "      <td>54</td>\n",
              "      <td>54</td>\n",
              "      <td>54</td>\n",
              "      <td>54</td>\n",
              "      <td>54</td>\n",
              "      <td>54</td>\n",
              "      <td>54</td>\n",
              "      <td>54</td>\n",
              "      <td>54</td>\n",
              "      <td>...</td>\n",
              "      <td>54</td>\n",
              "      <td>54</td>\n",
              "      <td>54</td>\n",
              "      <td>54</td>\n",
              "      <td>54</td>\n",
              "      <td>54</td>\n",
              "      <td>54</td>\n",
              "      <td>54</td>\n",
              "      <td>54</td>\n",
              "      <td>54</td>\n",
              "    </tr>\n",
              "    <tr>\n",
              "      <th rowspan=\"2\" valign=\"top\">2518</th>\n",
              "      <th>15</th>\n",
              "      <td>56</td>\n",
              "      <td>56</td>\n",
              "      <td>56</td>\n",
              "      <td>56</td>\n",
              "      <td>56</td>\n",
              "      <td>56</td>\n",
              "      <td>56</td>\n",
              "      <td>56</td>\n",
              "      <td>56</td>\n",
              "      <td>56</td>\n",
              "      <td>...</td>\n",
              "      <td>56</td>\n",
              "      <td>56</td>\n",
              "      <td>56</td>\n",
              "      <td>56</td>\n",
              "      <td>56</td>\n",
              "      <td>56</td>\n",
              "      <td>56</td>\n",
              "      <td>56</td>\n",
              "      <td>56</td>\n",
              "      <td>56</td>\n",
              "    </tr>\n",
              "    <tr>\n",
              "      <th>7</th>\n",
              "      <td>168</td>\n",
              "      <td>168</td>\n",
              "      <td>168</td>\n",
              "      <td>168</td>\n",
              "      <td>168</td>\n",
              "      <td>168</td>\n",
              "      <td>168</td>\n",
              "      <td>168</td>\n",
              "      <td>168</td>\n",
              "      <td>168</td>\n",
              "      <td>...</td>\n",
              "      <td>168</td>\n",
              "      <td>168</td>\n",
              "      <td>168</td>\n",
              "      <td>168</td>\n",
              "      <td>168</td>\n",
              "      <td>168</td>\n",
              "      <td>168</td>\n",
              "      <td>168</td>\n",
              "      <td>168</td>\n",
              "      <td>168</td>\n",
              "    </tr>\n",
              "    <tr>\n",
              "      <th rowspan=\"2\" valign=\"top\">2548</th>\n",
              "      <th>1</th>\n",
              "      <td>56</td>\n",
              "      <td>56</td>\n",
              "      <td>56</td>\n",
              "      <td>56</td>\n",
              "      <td>56</td>\n",
              "      <td>56</td>\n",
              "      <td>56</td>\n",
              "      <td>56</td>\n",
              "      <td>56</td>\n",
              "      <td>56</td>\n",
              "      <td>...</td>\n",
              "      <td>56</td>\n",
              "      <td>56</td>\n",
              "      <td>56</td>\n",
              "      <td>56</td>\n",
              "      <td>56</td>\n",
              "      <td>56</td>\n",
              "      <td>56</td>\n",
              "      <td>56</td>\n",
              "      <td>56</td>\n",
              "      <td>56</td>\n",
              "    </tr>\n",
              "    <tr>\n",
              "      <th>15</th>\n",
              "      <td>56</td>\n",
              "      <td>56</td>\n",
              "      <td>56</td>\n",
              "      <td>56</td>\n",
              "      <td>56</td>\n",
              "      <td>56</td>\n",
              "      <td>56</td>\n",
              "      <td>56</td>\n",
              "      <td>56</td>\n",
              "      <td>56</td>\n",
              "      <td>...</td>\n",
              "      <td>56</td>\n",
              "      <td>56</td>\n",
              "      <td>56</td>\n",
              "      <td>56</td>\n",
              "      <td>56</td>\n",
              "      <td>56</td>\n",
              "      <td>56</td>\n",
              "      <td>56</td>\n",
              "      <td>56</td>\n",
              "      <td>56</td>\n",
              "    </tr>\n",
              "    <tr>\n",
              "      <th>...</th>\n",
              "      <th>...</th>\n",
              "      <td>...</td>\n",
              "      <td>...</td>\n",
              "      <td>...</td>\n",
              "      <td>...</td>\n",
              "      <td>...</td>\n",
              "      <td>...</td>\n",
              "      <td>...</td>\n",
              "      <td>...</td>\n",
              "      <td>...</td>\n",
              "      <td>...</td>\n",
              "      <td>...</td>\n",
              "      <td>...</td>\n",
              "      <td>...</td>\n",
              "      <td>...</td>\n",
              "      <td>...</td>\n",
              "      <td>...</td>\n",
              "      <td>...</td>\n",
              "      <td>...</td>\n",
              "      <td>...</td>\n",
              "      <td>...</td>\n",
              "      <td>...</td>\n",
              "    </tr>\n",
              "    <tr>\n",
              "      <th rowspan=\"3\" valign=\"top\">42905</th>\n",
              "      <th>17</th>\n",
              "      <td>8</td>\n",
              "      <td>8</td>\n",
              "      <td>8</td>\n",
              "      <td>8</td>\n",
              "      <td>8</td>\n",
              "      <td>8</td>\n",
              "      <td>8</td>\n",
              "      <td>8</td>\n",
              "      <td>8</td>\n",
              "      <td>8</td>\n",
              "      <td>...</td>\n",
              "      <td>8</td>\n",
              "      <td>8</td>\n",
              "      <td>8</td>\n",
              "      <td>8</td>\n",
              "      <td>8</td>\n",
              "      <td>8</td>\n",
              "      <td>8</td>\n",
              "      <td>8</td>\n",
              "      <td>8</td>\n",
              "      <td>8</td>\n",
              "    </tr>\n",
              "    <tr>\n",
              "      <th>18</th>\n",
              "      <td>8</td>\n",
              "      <td>8</td>\n",
              "      <td>8</td>\n",
              "      <td>8</td>\n",
              "      <td>8</td>\n",
              "      <td>8</td>\n",
              "      <td>8</td>\n",
              "      <td>8</td>\n",
              "      <td>8</td>\n",
              "      <td>8</td>\n",
              "      <td>...</td>\n",
              "      <td>8</td>\n",
              "      <td>8</td>\n",
              "      <td>8</td>\n",
              "      <td>8</td>\n",
              "      <td>8</td>\n",
              "      <td>8</td>\n",
              "      <td>8</td>\n",
              "      <td>8</td>\n",
              "      <td>8</td>\n",
              "      <td>8</td>\n",
              "    </tr>\n",
              "    <tr>\n",
              "      <th>4</th>\n",
              "      <td>16</td>\n",
              "      <td>16</td>\n",
              "      <td>16</td>\n",
              "      <td>16</td>\n",
              "      <td>16</td>\n",
              "      <td>16</td>\n",
              "      <td>16</td>\n",
              "      <td>16</td>\n",
              "      <td>16</td>\n",
              "      <td>16</td>\n",
              "      <td>...</td>\n",
              "      <td>16</td>\n",
              "      <td>16</td>\n",
              "      <td>16</td>\n",
              "      <td>16</td>\n",
              "      <td>16</td>\n",
              "      <td>16</td>\n",
              "      <td>16</td>\n",
              "      <td>16</td>\n",
              "      <td>16</td>\n",
              "      <td>16</td>\n",
              "    </tr>\n",
              "    <tr>\n",
              "      <th rowspan=\"2\" valign=\"top\">42935</th>\n",
              "      <th>17</th>\n",
              "      <td>8</td>\n",
              "      <td>8</td>\n",
              "      <td>8</td>\n",
              "      <td>8</td>\n",
              "      <td>8</td>\n",
              "      <td>8</td>\n",
              "      <td>8</td>\n",
              "      <td>8</td>\n",
              "      <td>8</td>\n",
              "      <td>8</td>\n",
              "      <td>...</td>\n",
              "      <td>8</td>\n",
              "      <td>8</td>\n",
              "      <td>8</td>\n",
              "      <td>8</td>\n",
              "      <td>8</td>\n",
              "      <td>8</td>\n",
              "      <td>8</td>\n",
              "      <td>8</td>\n",
              "      <td>8</td>\n",
              "      <td>8</td>\n",
              "    </tr>\n",
              "    <tr>\n",
              "      <th>4</th>\n",
              "      <td>8</td>\n",
              "      <td>8</td>\n",
              "      <td>8</td>\n",
              "      <td>8</td>\n",
              "      <td>8</td>\n",
              "      <td>8</td>\n",
              "      <td>8</td>\n",
              "      <td>8</td>\n",
              "      <td>8</td>\n",
              "      <td>8</td>\n",
              "      <td>...</td>\n",
              "      <td>8</td>\n",
              "      <td>8</td>\n",
              "      <td>8</td>\n",
              "      <td>8</td>\n",
              "      <td>8</td>\n",
              "      <td>8</td>\n",
              "      <td>8</td>\n",
              "      <td>8</td>\n",
              "      <td>8</td>\n",
              "      <td>8</td>\n",
              "    </tr>\n",
              "  </tbody>\n",
              "</table>\n",
              "<p>3657 rows × 21 columns</p>\n",
              "</div>\n",
              "      <button class=\"colab-df-convert\" onclick=\"convertToInteractive('df-c7c3eee5-ffc3-4149-9e1a-0418efdc9c86')\"\n",
              "              title=\"Convert this dataframe to an interactive table.\"\n",
              "              style=\"display:none;\">\n",
              "        \n",
              "  <svg xmlns=\"http://www.w3.org/2000/svg\" height=\"24px\"viewBox=\"0 0 24 24\"\n",
              "       width=\"24px\">\n",
              "    <path d=\"M0 0h24v24H0V0z\" fill=\"none\"/>\n",
              "    <path d=\"M18.56 5.44l.94 2.06.94-2.06 2.06-.94-2.06-.94-.94-2.06-.94 2.06-2.06.94zm-11 1L8.5 8.5l.94-2.06 2.06-.94-2.06-.94L8.5 2.5l-.94 2.06-2.06.94zm10 10l.94 2.06.94-2.06 2.06-.94-2.06-.94-.94-2.06-.94 2.06-2.06.94z\"/><path d=\"M17.41 7.96l-1.37-1.37c-.4-.4-.92-.59-1.43-.59-.52 0-1.04.2-1.43.59L10.3 9.45l-7.72 7.72c-.78.78-.78 2.05 0 2.83L4 21.41c.39.39.9.59 1.41.59.51 0 1.02-.2 1.41-.59l7.78-7.78 2.81-2.81c.8-.78.8-2.07 0-2.86zM5.41 20L4 18.59l7.72-7.72 1.47 1.35L5.41 20z\"/>\n",
              "  </svg>\n",
              "      </button>\n",
              "      \n",
              "  <style>\n",
              "    .colab-df-container {\n",
              "      display:flex;\n",
              "      flex-wrap:wrap;\n",
              "      gap: 12px;\n",
              "    }\n",
              "\n",
              "    .colab-df-convert {\n",
              "      background-color: #E8F0FE;\n",
              "      border: none;\n",
              "      border-radius: 50%;\n",
              "      cursor: pointer;\n",
              "      display: none;\n",
              "      fill: #1967D2;\n",
              "      height: 32px;\n",
              "      padding: 0 0 0 0;\n",
              "      width: 32px;\n",
              "    }\n",
              "\n",
              "    .colab-df-convert:hover {\n",
              "      background-color: #E2EBFA;\n",
              "      box-shadow: 0px 1px 2px rgba(60, 64, 67, 0.3), 0px 1px 3px 1px rgba(60, 64, 67, 0.15);\n",
              "      fill: #174EA6;\n",
              "    }\n",
              "\n",
              "    [theme=dark] .colab-df-convert {\n",
              "      background-color: #3B4455;\n",
              "      fill: #D2E3FC;\n",
              "    }\n",
              "\n",
              "    [theme=dark] .colab-df-convert:hover {\n",
              "      background-color: #434B5C;\n",
              "      box-shadow: 0px 1px 3px 1px rgba(0, 0, 0, 0.15);\n",
              "      filter: drop-shadow(0px 1px 2px rgba(0, 0, 0, 0.3));\n",
              "      fill: #FFFFFF;\n",
              "    }\n",
              "  </style>\n",
              "\n",
              "      <script>\n",
              "        const buttonEl =\n",
              "          document.querySelector('#df-c7c3eee5-ffc3-4149-9e1a-0418efdc9c86 button.colab-df-convert');\n",
              "        buttonEl.style.display =\n",
              "          google.colab.kernel.accessAllowed ? 'block' : 'none';\n",
              "\n",
              "        async function convertToInteractive(key) {\n",
              "          const element = document.querySelector('#df-c7c3eee5-ffc3-4149-9e1a-0418efdc9c86');\n",
              "          const dataTable =\n",
              "            await google.colab.kernel.invokeFunction('convertToInteractive',\n",
              "                                                     [key], {});\n",
              "          if (!dataTable) return;\n",
              "\n",
              "          const docLinkHtml = 'Like what you see? Visit the ' +\n",
              "            '<a target=\"_blank\" href=https://colab.research.google.com/notebooks/data_table.ipynb>data table notebook</a>'\n",
              "            + ' to learn more about interactive tables.';\n",
              "          element.innerHTML = '';\n",
              "          dataTable['output_type'] = 'display_data';\n",
              "          await google.colab.output.renderOutput(dataTable, element);\n",
              "          const docLink = document.createElement('div');\n",
              "          docLink.innerHTML = docLinkHtml;\n",
              "          element.appendChild(docLink);\n",
              "        }\n",
              "      </script>\n",
              "    </div>\n",
              "  </div>\n",
              "  "
            ]
          },
          "metadata": {},
          "execution_count": 9
        }
      ]
    },
    {
      "cell_type": "code",
      "source": [
        "DDoS.groupby([\"dt\",\"src\"]).label.count()"
      ],
      "metadata": {
        "colab": {
          "base_uri": "https://localhost:8080/"
        },
        "id": "n-9MCR8-tEVl",
        "outputId": "2a413b73-e893-48bc-d98e-727a94908abd"
      },
      "execution_count": 10,
      "outputs": [
        {
          "output_type": "execute_result",
          "data": {
            "text/plain": [
              "dt     src\n",
              "2488   15      54\n",
              "2518   15      56\n",
              "       7      168\n",
              "2548   1       56\n",
              "       15      56\n",
              "             ... \n",
              "42905  17       8\n",
              "       18       8\n",
              "       4       16\n",
              "42935  17       8\n",
              "       4        8\n",
              "Name: label, Length: 3657, dtype: int64"
            ]
          },
          "metadata": {},
          "execution_count": 10
        }
      ]
    },
    {
      "cell_type": "code",
      "source": [
        "from sklearn.model_selection import train_test_split\n",
        "X = DDoS[['src','dst','dt', 'switch', 'pktcount', 'bytecount', 'dur', 'dur_nsec', 'tot_dur',\n",
        "       'flows', 'packetins', 'pktperflow', 'byteperflow', 'pktrate',\n",
        "       'Pairflow','Protocol' ,'port_no', 'tx_bytes', 'rx_bytes', 'tx_kbps', 'rx_kbps',\n",
        "       'tot_kbps']]\n",
        "y = DDoS['label']\n",
        "\n",
        "X_train, X_test, y_train, y_test = train_test_split(X, y, test_size=0.2, random_state=42)"
      ],
      "metadata": {
        "id": "LLVBoDetv5UW"
      },
      "execution_count": 11,
      "outputs": []
    },
    {
      "cell_type": "code",
      "source": [
        "# Feature scaling (or standardization)\n",
        "from sklearn.preprocessing import StandardScaler\n",
        "scaler = StandardScaler()\n",
        "X_train = scaler.fit_transform(X_train)\n",
        "X_test = scaler.transform(X_test)"
      ],
      "metadata": {
        "id": "WUbkNTlfv_FS"
      },
      "execution_count": 12,
      "outputs": []
    },
    {
      "cell_type": "code",
      "source": [
        "\n",
        "!pip install pytorch-tabnet"
      ],
      "metadata": {
        "colab": {
          "base_uri": "https://localhost:8080/"
        },
        "id": "dLjGrMBSwDS-",
        "outputId": "a7b923c2-2ebb-441c-90cd-fdbc8228b473"
      },
      "execution_count": 14,
      "outputs": [
        {
          "output_type": "stream",
          "name": "stdout",
          "text": [
            "Collecting pytorch-tabnet\n",
            "  Downloading pytorch_tabnet-3.1.1-py3-none-any.whl (39 kB)\n",
            "Requirement already satisfied: numpy<2.0,>=1.17 in /usr/local/lib/python3.7/dist-packages (from pytorch-tabnet) (1.21.5)\n",
            "Requirement already satisfied: scikit_learn>0.21 in /usr/local/lib/python3.7/dist-packages (from pytorch-tabnet) (1.0.2)\n",
            "Requirement already satisfied: torch<2.0,>=1.2 in /usr/local/lib/python3.7/dist-packages (from pytorch-tabnet) (1.10.0+cu111)\n",
            "Requirement already satisfied: scipy>1.4 in /usr/local/lib/python3.7/dist-packages (from pytorch-tabnet) (1.4.1)\n",
            "Requirement already satisfied: tqdm<5.0,>=4.36 in /usr/local/lib/python3.7/dist-packages (from pytorch-tabnet) (4.64.0)\n",
            "Requirement already satisfied: joblib>=0.11 in /usr/local/lib/python3.7/dist-packages (from scikit_learn>0.21->pytorch-tabnet) (1.1.0)\n",
            "Requirement already satisfied: threadpoolctl>=2.0.0 in /usr/local/lib/python3.7/dist-packages (from scikit_learn>0.21->pytorch-tabnet) (3.1.0)\n",
            "Requirement already satisfied: typing-extensions in /usr/local/lib/python3.7/dist-packages (from torch<2.0,>=1.2->pytorch-tabnet) (4.1.1)\n",
            "Installing collected packages: pytorch-tabnet\n",
            "Successfully installed pytorch-tabnet-3.1.1\n"
          ]
        }
      ]
    },
    {
      "cell_type": "code",
      "source": [
        "from pytorch_tabnet.tab_model import TabNetClassifier\n",
        "import torch\n",
        "\n",
        "from sklearn.preprocessing import LabelEncoder\n",
        "from sklearn.metrics import roc_auc_score, accuracy_score\n"
      ],
      "metadata": {
        "id": "lL9JVKtSwdrG"
      },
      "execution_count": 15,
      "outputs": []
    },
    {
      "cell_type": "code",
      "source": [
        "# define the model\n",
        "clf1_nopreproc = TabNetClassifier(optimizer_fn=torch.optim.Adam,\n",
        "                       optimizer_params=dict(lr=2e-2),\n",
        "                       scheduler_params={\"step_size\":10, # how to use learning rate scheduler\n",
        "                                         \"gamma\":0.9},\n",
        "                       scheduler_fn=torch.optim.lr_scheduler.StepLR,\n",
        "                       mask_type='entmax' # \"sparsemax\"\n",
        "                      )"
      ],
      "metadata": {
        "colab": {
          "base_uri": "https://localhost:8080/"
        },
        "id": "nIyIp09fwjI7",
        "outputId": "ee4127d8-184a-4363-e020-420dcb817bca"
      },
      "execution_count": 16,
      "outputs": [
        {
          "output_type": "stream",
          "name": "stdout",
          "text": [
            "Device used : cpu\n"
          ]
        }
      ]
    },
    {
      "cell_type": "code",
      "source": [
        "# fit the model \n",
        "clf1_nopreproc.fit(\n",
        "    X_train,y_train,\n",
        "    eval_set=[(X_train, y_train), (X_test, y_test)],\n",
        "    eval_name=['train', 'valid'],\n",
        "    eval_metric=['auc','accuracy'],\n",
        "    max_epochs=20 , patience=50,\n",
        "    batch_size=256, virtual_batch_size=128,\n",
        "    num_workers=0,\n",
        "    weights=1,\n",
        "    drop_last=False\n",
        ")        "
      ],
      "metadata": {
        "colab": {
          "base_uri": "https://localhost:8080/"
        },
        "id": "MZCC7APjwsWK",
        "outputId": "6026e92a-a389-468b-bf69-ac617621201d"
      },
      "execution_count": 19,
      "outputs": [
        {
          "output_type": "stream",
          "name": "stdout",
          "text": [
            "epoch 0  | loss: 0.08283 | train_auc: 0.99032 | train_accuracy: 0.92342 | valid_auc: 0.99013 | valid_accuracy: 0.9207  |  0:00:12s\n",
            "epoch 1  | loss: 0.06577 | train_auc: 0.97454 | train_accuracy: 0.8366  | valid_auc: 0.97328 | valid_accuracy: 0.83612 |  0:00:24s\n",
            "epoch 2  | loss: 0.05351 | train_auc: 0.98183 | train_accuracy: 0.88546 | valid_auc: 0.98089 | valid_accuracy: 0.88073 |  0:00:34s\n",
            "epoch 3  | loss: 0.05517 | train_auc: 0.98772 | train_accuracy: 0.75494 | valid_auc: 0.98622 | valid_accuracy: 0.75576 |  0:00:47s\n",
            "epoch 4  | loss: 0.04095 | train_auc: 0.99153 | train_accuracy: 0.87426 | valid_auc: 0.99155 | valid_accuracy: 0.87354 |  0:01:03s\n",
            "epoch 5  | loss: 0.04234 | train_auc: 0.90158 | train_accuracy: 0.60208 | valid_auc: 0.9008  | valid_accuracy: 0.60578 |  0:01:13s\n",
            "epoch 6  | loss: 0.03726 | train_auc: 0.99954 | train_accuracy: 0.98934 | valid_auc: 0.99943 | valid_accuracy: 0.98778 |  0:01:28s\n",
            "epoch 7  | loss: 0.03677 | train_auc: 0.9832  | train_accuracy: 0.8302  | valid_auc: 0.98214 | valid_accuracy: 0.82476 |  0:01:41s\n",
            "epoch 8  | loss: 0.03708 | train_auc: 0.99741 | train_accuracy: 0.92914 | valid_auc: 0.99748 | valid_accuracy: 0.92985 |  0:01:50s\n",
            "epoch 9  | loss: 0.02563 | train_auc: 0.98754 | train_accuracy: 0.89625 | valid_auc: 0.98764 | valid_accuracy: 0.89722 |  0:02:00s\n",
            "epoch 10 | loss: 0.02681 | train_auc: 0.99679 | train_accuracy: 0.96831 | valid_auc: 0.99671 | valid_accuracy: 0.96833 |  0:02:12s\n",
            "epoch 11 | loss: 0.0258  | train_auc: 0.9987  | train_accuracy: 0.98113 | valid_auc: 0.99863 | valid_accuracy: 0.98126 |  0:02:22s\n",
            "epoch 12 | loss: 0.02485 | train_auc: 0.99865 | train_accuracy: 0.97254 | valid_auc: 0.99843 | valid_accuracy: 0.97221 |  0:02:32s\n",
            "epoch 13 | loss: 0.02811 | train_auc: 0.99639 | train_accuracy: 0.96568 | valid_auc: 0.99644 | valid_accuracy: 0.96579 |  0:02:42s\n",
            "epoch 14 | loss: 0.02513 | train_auc: 0.98656 | train_accuracy: 0.94408 | valid_auc: 0.98621 | valid_accuracy: 0.94212 |  0:03:03s\n",
            "epoch 15 | loss: 0.02744 | train_auc: 0.98774 | train_accuracy: 0.7377  | valid_auc: 0.98768 | valid_accuracy: 0.73688 |  0:03:17s\n",
            "epoch 16 | loss: 0.02442 | train_auc: 0.99735 | train_accuracy: 0.97973 | valid_auc: 0.99712 | valid_accuracy: 0.97968 |  0:03:36s\n",
            "epoch 17 | loss: 0.02135 | train_auc: 0.99476 | train_accuracy: 0.96649 | valid_auc: 0.99484 | valid_accuracy: 0.9678  |  0:03:48s\n",
            "epoch 18 | loss: 0.02378 | train_auc: 0.99613 | train_accuracy: 0.88064 | valid_auc: 0.99654 | valid_accuracy: 0.88155 |  0:03:58s\n",
            "epoch 19 | loss: 0.01933 | train_auc: 0.97266 | train_accuracy: 0.67704 | valid_auc: 0.97249 | valid_accuracy: 0.68197 |  0:04:11s\n",
            "Stop training because you reached max_epochs = 20 with best_epoch = 6 and best_valid_accuracy = 0.98778\n",
            "Best weights from best epoch are automatically used!\n"
          ]
        }
      ]
    },
    {
      "cell_type": "code",
      "source": [
        "# plot losses\n",
        "plt.plot(clf1_nopreproc.history['loss'])\n",
        "plt.title('TabNet Model loss')\n",
        "plt.ylabel('loss')\n",
        "plt.xlabel('Epoch')\n",
        "plt.legend(['Train', 'Test'], loc='lower right')\n",
        "plt.savefig('TabNet Model loss.png')\n",
        "plt.show()"
      ],
      "metadata": {
        "colab": {
          "base_uri": "https://localhost:8080/",
          "height": 301
        },
        "id": "2KSIUy0yxBZx",
        "outputId": "00857bd3-bc98-43d4-c6f9-b82eb2fc10a0"
      },
      "execution_count": 32,
      "outputs": [
        {
          "output_type": "display_data",
          "data": {
            "text/plain": [
              "<Figure size 432x288 with 1 Axes>"
            ],
            "image/png": "[encoded data removed]"
          },
          "metadata": {
            "needs_background": "light"
          }
        }
      ]
    },
    {
      "cell_type": "code",
      "source": [
        "# plot accuracy\n",
        "plt.plot(clf1_nopreproc.history['train_accuracy'])\n",
        "plt.plot(clf1_nopreproc.history['valid_accuracy'])\n",
        "plt.title('TabNet Model Accuracy')\n",
        "plt.ylabel('Accuracy')\n",
        "plt.xlabel('Epoch')\n",
        "plt.legend(['Train', 'Test'], loc='lower right')\n",
        "plt.savefig('TabNet Model Accuracy.png')\n",
        "plt.show()"
      ],
      "metadata": {
        "colab": {
          "base_uri": "https://localhost:8080/",
          "height": 301
        },
        "id": "j1bhlYzBxH-S",
        "outputId": "f2be12c2-0dda-453e-b5d6-ef22277f0a3d"
      },
      "execution_count": 28,
      "outputs": [
        {
          "output_type": "display_data",
          "data": {
            "text/plain": [
              "<Figure size 432x288 with 1 Axes>"
            ],
            "image/png": "[encoded data removed]"
          },
          "metadata": {
            "needs_background": "light"
          }
        }
      ]
    },
    {
      "cell_type": "code",
      "source": [
        "# find and plot feature importance\n",
        "y_pred = clf1_nopreproc.predict(X_test)"
      ],
      "metadata": {
        "id": "xoM17ShQxLdQ"
      },
      "execution_count": 29,
      "outputs": []
    },
    {
      "cell_type": "code",
      "source": [
        "# determine best accuracy for test set\n",
        "preds = clf1_nopreproc.predict(X_test)\n",
        "test_acc = accuracy_score(preds, y_test)\n",
        "print(f\"BEST ACCURACY SCORE ON TEST SET : {test_acc}\")"
      ],
      "metadata": {
        "colab": {
          "base_uri": "https://localhost:8080/"
        },
        "id": "MkxuhpkIxc5G",
        "outputId": "db278d63-abcd-4f47-a477-9cd4594a0d56"
      },
      "execution_count": 30,
      "outputs": [
        {
          "output_type": "stream",
          "name": "stdout",
          "text": [
            "BEST ACCURACY SCORE ON TEST SET : 0.9788681776798122\n"
          ]
        }
      ]
    }
  ]
}