{
  "nbformat": 4,
  "nbformat_minor": 0,
  "metadata": {
    "colab": {
      "name": "0.ML_DDoS_DETECTION_SDN_DDoS.ipynb",
      "provenance": [],
      "collapsed_sections": []
    },
    "kernelspec": {
      "name": "python3",
      "display_name": "Python 3"
    },
    "language_info": {
      "name": "python"
    }
  },
  "cells": [
    {
      "cell_type": "code",
      "execution_count": null,
      "metadata": {
        "colab": {
          "base_uri": "https://localhost:8080/",
          "height": 322
        },
        "id": "lRGc2ajWcQDv",
        "outputId": "d38e04b0-7e47-424c-fda2-1b4efdb0a9c2"
      },
      "outputs": [
        {
          "output_type": "execute_result",
          "data": {
            "text/html": [
              "\n",
              "  <div id=\"df-db4ea5c4-579d-4d43-9a0d-e8509401d8d1\">\n",
              "    <div class=\"colab-df-container\">\n",
              "      <div>\n",
              "<style scoped>\n",
              "    .dataframe tbody tr th:only-of-type {\n",
              "        vertical-align: middle;\n",
              "    }\n",
              "\n",
              "    .dataframe tbody tr th {\n",
              "        vertical-align: top;\n",
              "    }\n",
              "\n",
              "    .dataframe thead th {\n",
              "        text-align: right;\n",
              "    }\n",
              "</style>\n",
              "<table border=\"1\" class=\"dataframe\">\n",
              "  <thead>\n",
              "    <tr style=\"text-align: right;\">\n",
              "      <th></th>\n",
              "      <th>Flow Duration</th>\n",
              "      <th>Tot Fwd Pkts</th>\n",
              "      <th>Tot Bwd Pkts</th>\n",
              "      <th>TotLen Fwd Pkts</th>\n",
              "      <th>TotLen Bwd Pkts</th>\n",
              "      <th>Fwd Pkt Len Max</th>\n",
              "      <th>Fwd Pkt Len Min</th>\n",
              "      <th>Fwd Pkt Len Mean</th>\n",
              "      <th>Fwd Pkt Len Std</th>\n",
              "      <th>Bwd Pkt Len Max</th>\n",
              "      <th>Bwd Pkt Len Min</th>\n",
              "      <th>Bwd Pkt Len Mean</th>\n",
              "      <th>Bwd Pkt Len Std</th>\n",
              "      <th>Flow Byts/s</th>\n",
              "      <th>Flow Pkts/s</th>\n",
              "      <th>Flow IAT Mean</th>\n",
              "      <th>Flow IAT Std</th>\n",
              "      <th>Flow IAT Max</th>\n",
              "      <th>Flow IAT Min</th>\n",
              "      <th>Fwd IAT Tot</th>\n",
              "      <th>Fwd IAT Mean</th>\n",
              "      <th>Fwd IAT Std</th>\n",
              "      <th>Fwd IAT Max</th>\n",
              "      <th>Fwd IAT Min</th>\n",
              "      <th>Bwd IAT Tot</th>\n",
              "      <th>Bwd IAT Mean</th>\n",
              "      <th>Bwd IAT Std</th>\n",
              "      <th>Bwd IAT Max</th>\n",
              "      <th>Bwd IAT Min</th>\n",
              "      <th>Fwd URG Flags</th>\n",
              "      <th>Bwd URG Flags</th>\n",
              "      <th>Fwd Header Len</th>\n",
              "      <th>Bwd Header Len</th>\n",
              "      <th>Fwd Pkts/s</th>\n",
              "      <th>Bwd Pkts/s</th>\n",
              "      <th>Pkt Len Min</th>\n",
              "      <th>Pkt Len Max</th>\n",
              "      <th>Pkt Len Mean</th>\n",
              "      <th>Pkt Len Std</th>\n",
              "      <th>Pkt Len Var</th>\n",
              "      <th>FIN Flag Cnt</th>\n",
              "      <th>SYN Flag Cnt</th>\n",
              "      <th>RST Flag Cnt</th>\n",
              "      <th>PSH Flag Cnt</th>\n",
              "      <th>ACK Flag Cnt</th>\n",
              "      <th>URG Flag Cnt</th>\n",
              "      <th>CWE Flag Count</th>\n",
              "      <th>ECE Flag Cnt</th>\n",
              "      <th>Down/Up Ratio</th>\n",
              "      <th>Pkt Size Avg</th>\n",
              "      <th>Fwd Seg Size Avg</th>\n",
              "      <th>Bwd Seg Size Avg</th>\n",
              "      <th>Subflow Fwd Pkts</th>\n",
              "      <th>Subflow Fwd Byts</th>\n",
              "      <th>Subflow Bwd Pkts</th>\n",
              "      <th>Subflow Bwd Byts</th>\n",
              "      <th>Fwd Act Data Pkts</th>\n",
              "      <th>Fwd Seg Size Min</th>\n",
              "      <th>Active Mean</th>\n",
              "      <th>Active Std</th>\n",
              "      <th>Active Max</th>\n",
              "      <th>Active Min</th>\n",
              "      <th>Idle Mean</th>\n",
              "      <th>Idle Std</th>\n",
              "      <th>Idle Max</th>\n",
              "      <th>Idle Min</th>\n",
              "      <th>Label</th>\n",
              "    </tr>\n",
              "  </thead>\n",
              "  <tbody>\n",
              "    <tr>\n",
              "      <th>0</th>\n",
              "      <td>245230</td>\n",
              "      <td>44</td>\n",
              "      <td>40</td>\n",
              "      <td>124937</td>\n",
              "      <td>1071</td>\n",
              "      <td>9100</td>\n",
              "      <td>0</td>\n",
              "      <td>2839.477273</td>\n",
              "      <td>1839.508257</td>\n",
              "      <td>517</td>\n",
              "      <td>0</td>\n",
              "      <td>26.775000</td>\n",
              "      <td>109.188026</td>\n",
              "      <td>513835.99070</td>\n",
              "      <td>342.535579</td>\n",
              "      <td>2954.578313</td>\n",
              "      <td>7953.221927</td>\n",
              "      <td>64066</td>\n",
              "      <td>-44</td>\n",
              "      <td>238564</td>\n",
              "      <td>5548.000000</td>\n",
              "      <td>10446.29576</td>\n",
              "      <td>64066</td>\n",
              "      <td>2</td>\n",
              "      <td>245230</td>\n",
              "      <td>6287.948718</td>\n",
              "      <td>12986.46879</td>\n",
              "      <td>79070</td>\n",
              "      <td>29</td>\n",
              "      <td>0</td>\n",
              "      <td>0</td>\n",
              "      <td>880</td>\n",
              "      <td>804</td>\n",
              "      <td>179.423398</td>\n",
              "      <td>163.112180</td>\n",
              "      <td>0</td>\n",
              "      <td>9100</td>\n",
              "      <td>1482.447059</td>\n",
              "      <td>1933.268313</td>\n",
              "      <td>3.737526e+06</td>\n",
              "      <td>0</td>\n",
              "      <td>1</td>\n",
              "      <td>0</td>\n",
              "      <td>0</td>\n",
              "      <td>1</td>\n",
              "      <td>0</td>\n",
              "      <td>0</td>\n",
              "      <td>0</td>\n",
              "      <td>0</td>\n",
              "      <td>1500.095238</td>\n",
              "      <td>2839.477273</td>\n",
              "      <td>26.775000</td>\n",
              "      <td>44</td>\n",
              "      <td>124937</td>\n",
              "      <td>40</td>\n",
              "      <td>1071</td>\n",
              "      <td>41</td>\n",
              "      <td>0</td>\n",
              "      <td>0.0</td>\n",
              "      <td>0.0</td>\n",
              "      <td>0</td>\n",
              "      <td>0</td>\n",
              "      <td>0.0</td>\n",
              "      <td>0.0</td>\n",
              "      <td>0</td>\n",
              "      <td>0</td>\n",
              "      <td>0</td>\n",
              "    </tr>\n",
              "    <tr>\n",
              "      <th>1</th>\n",
              "      <td>1605449</td>\n",
              "      <td>107</td>\n",
              "      <td>149</td>\n",
              "      <td>1071</td>\n",
              "      <td>439537</td>\n",
              "      <td>517</td>\n",
              "      <td>0</td>\n",
              "      <td>10.009346</td>\n",
              "      <td>67.496680</td>\n",
              "      <td>27300</td>\n",
              "      <td>0</td>\n",
              "      <td>2949.912752</td>\n",
              "      <td>3012.589539</td>\n",
              "      <td>274445.34210</td>\n",
              "      <td>159.456949</td>\n",
              "      <td>6295.878431</td>\n",
              "      <td>56408.330520</td>\n",
              "      <td>859760</td>\n",
              "      <td>-102</td>\n",
              "      <td>1332121</td>\n",
              "      <td>12567.179250</td>\n",
              "      <td>83434.14155</td>\n",
              "      <td>861138</td>\n",
              "      <td>2</td>\n",
              "      <td>1603130</td>\n",
              "      <td>10831.959460</td>\n",
              "      <td>73926.65245</td>\n",
              "      <td>861129</td>\n",
              "      <td>1</td>\n",
              "      <td>0</td>\n",
              "      <td>0</td>\n",
              "      <td>2140</td>\n",
              "      <td>3004</td>\n",
              "      <td>66.648022</td>\n",
              "      <td>92.808928</td>\n",
              "      <td>0</td>\n",
              "      <td>27300</td>\n",
              "      <td>1714.428016</td>\n",
              "      <td>2713.465917</td>\n",
              "      <td>7.362897e+06</td>\n",
              "      <td>0</td>\n",
              "      <td>1</td>\n",
              "      <td>0</td>\n",
              "      <td>0</td>\n",
              "      <td>0</td>\n",
              "      <td>0</td>\n",
              "      <td>0</td>\n",
              "      <td>0</td>\n",
              "      <td>1</td>\n",
              "      <td>1721.125000</td>\n",
              "      <td>10.009346</td>\n",
              "      <td>2949.912752</td>\n",
              "      <td>107</td>\n",
              "      <td>1071</td>\n",
              "      <td>149</td>\n",
              "      <td>439537</td>\n",
              "      <td>4</td>\n",
              "      <td>0</td>\n",
              "      <td>0.0</td>\n",
              "      <td>0.0</td>\n",
              "      <td>0</td>\n",
              "      <td>0</td>\n",
              "      <td>0.0</td>\n",
              "      <td>0.0</td>\n",
              "      <td>0</td>\n",
              "      <td>0</td>\n",
              "      <td>0</td>\n",
              "    </tr>\n",
              "    <tr>\n",
              "      <th>2</th>\n",
              "      <td>53078</td>\n",
              "      <td>5</td>\n",
              "      <td>5</td>\n",
              "      <td>66</td>\n",
              "      <td>758</td>\n",
              "      <td>66</td>\n",
              "      <td>0</td>\n",
              "      <td>13.200000</td>\n",
              "      <td>29.516097</td>\n",
              "      <td>638</td>\n",
              "      <td>0</td>\n",
              "      <td>151.600000</td>\n",
              "      <td>276.826299</td>\n",
              "      <td>15524.32269</td>\n",
              "      <td>188.401975</td>\n",
              "      <td>5897.555556</td>\n",
              "      <td>15184.845200</td>\n",
              "      <td>46232</td>\n",
              "      <td>19</td>\n",
              "      <td>50302</td>\n",
              "      <td>12575.500000</td>\n",
              "      <td>22521.87727</td>\n",
              "      <td>46251</td>\n",
              "      <td>67</td>\n",
              "      <td>52962</td>\n",
              "      <td>13240.500000</td>\n",
              "      <td>22052.04405</td>\n",
              "      <td>46258</td>\n",
              "      <td>405</td>\n",
              "      <td>0</td>\n",
              "      <td>0</td>\n",
              "      <td>100</td>\n",
              "      <td>124</td>\n",
              "      <td>94.200987</td>\n",
              "      <td>94.200987</td>\n",
              "      <td>0</td>\n",
              "      <td>638</td>\n",
              "      <td>74.909091</td>\n",
              "      <td>190.807471</td>\n",
              "      <td>3.640749e+04</td>\n",
              "      <td>0</td>\n",
              "      <td>1</td>\n",
              "      <td>0</td>\n",
              "      <td>0</td>\n",
              "      <td>0</td>\n",
              "      <td>0</td>\n",
              "      <td>0</td>\n",
              "      <td>0</td>\n",
              "      <td>1</td>\n",
              "      <td>82.400000</td>\n",
              "      <td>13.200000</td>\n",
              "      <td>151.600000</td>\n",
              "      <td>5</td>\n",
              "      <td>66</td>\n",
              "      <td>5</td>\n",
              "      <td>758</td>\n",
              "      <td>1</td>\n",
              "      <td>0</td>\n",
              "      <td>0.0</td>\n",
              "      <td>0.0</td>\n",
              "      <td>0</td>\n",
              "      <td>0</td>\n",
              "      <td>0.0</td>\n",
              "      <td>0.0</td>\n",
              "      <td>0</td>\n",
              "      <td>0</td>\n",
              "      <td>0</td>\n",
              "    </tr>\n",
              "    <tr>\n",
              "      <th>3</th>\n",
              "      <td>6975</td>\n",
              "      <td>1</td>\n",
              "      <td>1</td>\n",
              "      <td>0</td>\n",
              "      <td>0</td>\n",
              "      <td>0</td>\n",
              "      <td>0</td>\n",
              "      <td>0.000000</td>\n",
              "      <td>0.000000</td>\n",
              "      <td>0</td>\n",
              "      <td>0</td>\n",
              "      <td>0.000000</td>\n",
              "      <td>0.000000</td>\n",
              "      <td>0.00000</td>\n",
              "      <td>286.738351</td>\n",
              "      <td>6975.000000</td>\n",
              "      <td>0.000000</td>\n",
              "      <td>6975</td>\n",
              "      <td>6975</td>\n",
              "      <td>0</td>\n",
              "      <td>0.000000</td>\n",
              "      <td>0.00000</td>\n",
              "      <td>0</td>\n",
              "      <td>0</td>\n",
              "      <td>0</td>\n",
              "      <td>0.000000</td>\n",
              "      <td>0.00000</td>\n",
              "      <td>0</td>\n",
              "      <td>0</td>\n",
              "      <td>0</td>\n",
              "      <td>0</td>\n",
              "      <td>20</td>\n",
              "      <td>20</td>\n",
              "      <td>143.369176</td>\n",
              "      <td>143.369176</td>\n",
              "      <td>0</td>\n",
              "      <td>0</td>\n",
              "      <td>0.000000</td>\n",
              "      <td>0.000000</td>\n",
              "      <td>0.000000e+00</td>\n",
              "      <td>0</td>\n",
              "      <td>0</td>\n",
              "      <td>0</td>\n",
              "      <td>0</td>\n",
              "      <td>1</td>\n",
              "      <td>0</td>\n",
              "      <td>0</td>\n",
              "      <td>0</td>\n",
              "      <td>1</td>\n",
              "      <td>0.000000</td>\n",
              "      <td>0.000000</td>\n",
              "      <td>0.000000</td>\n",
              "      <td>1</td>\n",
              "      <td>0</td>\n",
              "      <td>1</td>\n",
              "      <td>0</td>\n",
              "      <td>0</td>\n",
              "      <td>0</td>\n",
              "      <td>0.0</td>\n",
              "      <td>0.0</td>\n",
              "      <td>0</td>\n",
              "      <td>0</td>\n",
              "      <td>0.0</td>\n",
              "      <td>0.0</td>\n",
              "      <td>0</td>\n",
              "      <td>0</td>\n",
              "      <td>0</td>\n",
              "    </tr>\n",
              "    <tr>\n",
              "      <th>4</th>\n",
              "      <td>190141</td>\n",
              "      <td>13</td>\n",
              "      <td>16</td>\n",
              "      <td>780</td>\n",
              "      <td>11085</td>\n",
              "      <td>427</td>\n",
              "      <td>0</td>\n",
              "      <td>60.000000</td>\n",
              "      <td>130.042942</td>\n",
              "      <td>2596</td>\n",
              "      <td>0</td>\n",
              "      <td>692.812500</td>\n",
              "      <td>794.157350</td>\n",
              "      <td>62401.06027</td>\n",
              "      <td>152.518394</td>\n",
              "      <td>6790.750000</td>\n",
              "      <td>12933.295910</td>\n",
              "      <td>38521</td>\n",
              "      <td>-54</td>\n",
              "      <td>86882</td>\n",
              "      <td>7240.166667</td>\n",
              "      <td>13050.84163</td>\n",
              "      <td>38805</td>\n",
              "      <td>1</td>\n",
              "      <td>190141</td>\n",
              "      <td>12676.066670</td>\n",
              "      <td>15949.09279</td>\n",
              "      <td>38521</td>\n",
              "      <td>1</td>\n",
              "      <td>0</td>\n",
              "      <td>0</td>\n",
              "      <td>260</td>\n",
              "      <td>344</td>\n",
              "      <td>68.370315</td>\n",
              "      <td>84.148080</td>\n",
              "      <td>0</td>\n",
              "      <td>2596</td>\n",
              "      <td>395.500000</td>\n",
              "      <td>661.691706</td>\n",
              "      <td>4.378359e+05</td>\n",
              "      <td>0</td>\n",
              "      <td>1</td>\n",
              "      <td>0</td>\n",
              "      <td>0</td>\n",
              "      <td>0</td>\n",
              "      <td>0</td>\n",
              "      <td>0</td>\n",
              "      <td>0</td>\n",
              "      <td>1</td>\n",
              "      <td>409.137931</td>\n",
              "      <td>60.000000</td>\n",
              "      <td>692.812500</td>\n",
              "      <td>13</td>\n",
              "      <td>780</td>\n",
              "      <td>16</td>\n",
              "      <td>11085</td>\n",
              "      <td>3</td>\n",
              "      <td>0</td>\n",
              "      <td>0.0</td>\n",
              "      <td>0.0</td>\n",
              "      <td>0</td>\n",
              "      <td>0</td>\n",
              "      <td>0.0</td>\n",
              "      <td>0.0</td>\n",
              "      <td>0</td>\n",
              "      <td>0</td>\n",
              "      <td>0</td>\n",
              "    </tr>\n",
              "  </tbody>\n",
              "</table>\n",
              "</div>\n",
              "      <button class=\"colab-df-convert\" onclick=\"convertToInteractive('df-db4ea5c4-579d-4d43-9a0d-e8509401d8d1')\"\n",
              "              title=\"Convert this dataframe to an interactive table.\"\n",
              "              style=\"display:none;\">\n",
              "        \n",
              "  <svg xmlns=\"http://www.w3.org/2000/svg\" height=\"24px\"viewBox=\"0 0 24 24\"\n",
              "       width=\"24px\">\n",
              "    <path d=\"M0 0h24v24H0V0z\" fill=\"none\"/>\n",
              "    <path d=\"M18.56 5.44l.94 2.06.94-2.06 2.06-.94-2.06-.94-.94-2.06-.94 2.06-2.06.94zm-11 1L8.5 8.5l.94-2.06 2.06-.94-2.06-.94L8.5 2.5l-.94 2.06-2.06.94zm10 10l.94 2.06.94-2.06 2.06-.94-2.06-.94-.94-2.06-.94 2.06-2.06.94z\"/><path d=\"M17.41 7.96l-1.37-1.37c-.4-.4-.92-.59-1.43-.59-.52 0-1.04.2-1.43.59L10.3 9.45l-7.72 7.72c-.78.78-.78 2.05 0 2.83L4 21.41c.39.39.9.59 1.41.59.51 0 1.02-.2 1.41-.59l7.78-7.78 2.81-2.81c.8-.78.8-2.07 0-2.86zM5.41 20L4 18.59l7.72-7.72 1.47 1.35L5.41 20z\"/>\n",
              "  </svg>\n",
              "      </button>\n",
              "      \n",
              "  <style>\n",
              "    .colab-df-container {\n",
              "      display:flex;\n",
              "      flex-wrap:wrap;\n",
              "      gap: 12px;\n",
              "    }\n",
              "\n",
              "    .colab-df-convert {\n",
              "      background-color: #E8F0FE;\n",
              "      border: none;\n",
              "      border-radius: 50%;\n",
              "      cursor: pointer;\n",
              "      display: none;\n",
              "      fill: #1967D2;\n",
              "      height: 32px;\n",
              "      padding: 0 0 0 0;\n",
              "      width: 32px;\n",
              "    }\n",
              "\n",
              "    .colab-df-convert:hover {\n",
              "      background-color: #E2EBFA;\n",
              "      box-shadow: 0px 1px 2px rgba(60, 64, 67, 0.3), 0px 1px 3px 1px rgba(60, 64, 67, 0.15);\n",
              "      fill: #174EA6;\n",
              "    }\n",
              "\n",
              "    [theme=dark] .colab-df-convert {\n",
              "      background-color: #3B4455;\n",
              "      fill: #D2E3FC;\n",
              "    }\n",
              "\n",
              "    [theme=dark] .colab-df-convert:hover {\n",
              "      background-color: #434B5C;\n",
              "      box-shadow: 0px 1px 3px 1px rgba(0, 0, 0, 0.15);\n",
              "      filter: drop-shadow(0px 1px 2px rgba(0, 0, 0, 0.3));\n",
              "      fill: #FFFFFF;\n",
              "    }\n",
              "  </style>\n",
              "\n",
              "      <script>\n",
              "        const buttonEl =\n",
              "          document.querySelector('#df-db4ea5c4-579d-4d43-9a0d-e8509401d8d1 button.colab-df-convert');\n",
              "        buttonEl.style.display =\n",
              "          google.colab.kernel.accessAllowed ? 'block' : 'none';\n",
              "\n",
              "        async function convertToInteractive(key) {\n",
              "          const element = document.querySelector('#df-db4ea5c4-579d-4d43-9a0d-e8509401d8d1');\n",
              "          const dataTable =\n",
              "            await google.colab.kernel.invokeFunction('convertToInteractive',\n",
              "                                                     [key], {});\n",
              "          if (!dataTable) return;\n",
              "\n",
              "          const docLinkHtml = 'Like what you see? Visit the ' +\n",
              "            '<a target=\"_blank\" href=https://colab.research.google.com/notebooks/data_table.ipynb>data table notebook</a>'\n",
              "            + ' to learn more about interactive tables.';\n",
              "          element.innerHTML = '';\n",
              "          dataTable['output_type'] = 'display_data';\n",
              "          await google.colab.output.renderOutput(dataTable, element);\n",
              "          const docLink = document.createElement('div');\n",
              "          docLink.innerHTML = docLinkHtml;\n",
              "          element.appendChild(docLink);\n",
              "        }\n",
              "      </script>\n",
              "    </div>\n",
              "  </div>\n",
              "  "
            ],
            "text/plain": [
              "   Flow Duration  Tot Fwd Pkts  Tot Bwd Pkts  ...  Idle Max  Idle Min  Label\n",
              "0         245230            44            40  ...         0         0      0\n",
              "1        1605449           107           149  ...         0         0      0\n",
              "2          53078             5             5  ...         0         0      0\n",
              "3           6975             1             1  ...         0         0      0\n",
              "4         190141            13            16  ...         0         0      0\n",
              "\n",
              "[5 rows x 67 columns]"
            ]
          },
          "metadata": {},
          "execution_count": 1
        }
      ],
      "source": [
        "import matplotlib.pyplot as plt\n",
        "import numpy as np\n",
        "import pandas as pd\n",
        "import seaborn as sns\n",
        "%matplotlib inline\n",
        "\n",
        "DDoS = pd.read_csv('/content/SDN_DDoS_.csv')\n",
        "DDoS.head()"
      ]
    },
    {
      "cell_type": "code",
      "source": [
        "DDoS.isnull().sum()"
      ],
      "metadata": {
        "colab": {
          "base_uri": "https://localhost:8080/"
        },
        "id": "3Y1zBhvCeyvT",
        "outputId": "a2fa17ba-2245-4ff2-c4fd-4d668793a3d9"
      },
      "execution_count": null,
      "outputs": [
        {
          "output_type": "execute_result",
          "data": {
            "text/plain": [
              "Flow Duration      0\n",
              "Tot Fwd Pkts       0\n",
              "Tot Bwd Pkts       0\n",
              "TotLen Fwd Pkts    0\n",
              "TotLen Bwd Pkts    0\n",
              "                  ..\n",
              "Idle Mean          0\n",
              "Idle Std           0\n",
              "Idle Max           0\n",
              "Idle Min           0\n",
              "Label              0\n",
              "Length: 67, dtype: int64"
            ]
          },
          "metadata": {},
          "execution_count": 2
        }
      ]
    },
    {
      "cell_type": "code",
      "source": [
        "from sklearn.model_selection import train_test_split\n",
        "features = DDoS.drop('Label', axis=1)\n",
        "labels = DDoS['Label']\n",
        "\n",
        "X_train, X_test, y_train, y_test = train_test_split(features, labels, test_size=0.4, random_state=42)\n",
        "X_val, X_test, y_val, y_test = train_test_split(X_test, y_test, test_size=0.5, random_state=42)"
      ],
      "metadata": {
        "id": "era6m5uwe2Ff"
      },
      "execution_count": null,
      "outputs": []
    },
    {
      "cell_type": "code",
      "source": [
        "for dataset in [y_train, y_val, y_test]:\n",
        "    print(round(len(dataset) / len(labels), 2))"
      ],
      "metadata": {
        "colab": {
          "base_uri": "https://localhost:8080/"
        },
        "id": "iUH3XQ0Fe6eD",
        "outputId": "985c1e1e-7118-4758-c065-0200e66542ec"
      },
      "execution_count": null,
      "outputs": [
        {
          "output_type": "stream",
          "name": "stdout",
          "text": [
            "0.6\n",
            "0.2\n",
            "0.2\n"
          ]
        }
      ]
    },
    {
      "cell_type": "code",
      "source": [
        "X_train.to_csv('train_features.csv', index=False)\n",
        "X_val.to_csv('val_features.csv', index=False)\n",
        "X_test.to_csv('test_features.csv', index=False)\n",
        "\n",
        "y_train.to_csv('train_labels.csv', index=False)\n",
        "y_val.to_csv('val_labels.csv', index=False)\n",
        "y_test.to_csv('test_labels.csv', index=False)"
      ],
      "metadata": {
        "id": "BonosaObe9_o"
      },
      "execution_count": null,
      "outputs": []
    },
    {
      "cell_type": "code",
      "source": [
        "import joblib\n",
        "import pandas as pd\n",
        "from sklearn.linear_model import LogisticRegression\n",
        "from sklearn.model_selection import GridSearchCV\n",
        "import warnings\n",
        "warnings.filterwarnings('ignore', category=FutureWarning)\n",
        "warnings.filterwarnings('ignore', category=DeprecationWarning)\n",
        "\n",
        "tr_features = pd.read_csv('train_features.csv')\n",
        "tr_labels = pd.read_csv('train_labels.csv')\n",
        "def print_results(results):\n",
        "    print('BEST PARAMS: {}\\n'.format(results.best_params_))\n",
        "\n",
        "    means = results.cv_results_['mean_test_score']\n",
        "    stds = results.cv_results_['std_test_score']\n",
        "    for mean, std, params in zip(means, stds, results.cv_results_['params']):\n",
        "        print('{} (+/-{}) for {}'.format(round(mean, 3), round(std * 2, 3), params))\n",
        "\n",
        "lr = LogisticRegression()\n",
        "parameters = {\n",
        "    'C': [0.001, 0.01, 0.1, 1, 10, 100, 1000]\n",
        "}\n",
        "\n",
        "cv = GridSearchCV(lr, parameters, cv=5)\n",
        "cv.fit(tr_features, tr_labels.values.ravel())\n",
        "\n",
        "print_results(cv)\n"
      ],
      "metadata": {
        "colab": {
          "base_uri": "https://localhost:8080/"
        },
        "id": "Tn0yzbY_fDEc",
        "outputId": "a79e1289-40c4-410d-8b89-6dcaa9a101fa"
      },
      "execution_count": null,
      "outputs": [
        {
          "output_type": "stream",
          "name": "stderr",
          "text": [
            "/usr/local/lib/python3.7/dist-packages/sklearn/linear_model/_logistic.py:818: ConvergenceWarning: lbfgs failed to converge (status=1):\n",
            "STOP: TOTAL NO. of ITERATIONS REACHED LIMIT.\n",
            "\n",
            "Increase the number of iterations (max_iter) or scale the data as shown in:\n",
            "    https://scikit-learn.org/stable/modules/preprocessing.html\n",
            "Please also refer to the documentation for alternative solver options:\n",
            "    https://scikit-learn.org/stable/modules/linear_model.html#logistic-regression\n",
            "  extra_warning_msg=_LOGISTIC_SOLVER_CONVERGENCE_MSG,\n",
            "/usr/local/lib/python3.7/dist-packages/sklearn/linear_model/_logistic.py:818: ConvergenceWarning: lbfgs failed to converge (status=1):\n",
            "STOP: TOTAL NO. of ITERATIONS REACHED LIMIT.\n",
            "\n",
            "Increase the number of iterations (max_iter) or scale the data as shown in:\n",
            "    https://scikit-learn.org/stable/modules/preprocessing.html\n",
            "Please also refer to the documentation for alternative solver options:\n",
            "    https://scikit-learn.org/stable/modules/linear_model.html#logistic-regression\n",
            "  extra_warning_msg=_LOGISTIC_SOLVER_CONVERGENCE_MSG,\n",
            "/usr/local/lib/python3.7/dist-packages/sklearn/linear_model/_logistic.py:818: ConvergenceWarning: lbfgs failed to converge (status=1):\n",
            "STOP: TOTAL NO. of ITERATIONS REACHED LIMIT.\n",
            "\n",
            "Increase the number of iterations (max_iter) or scale the data as shown in:\n",
            "    https://scikit-learn.org/stable/modules/preprocessing.html\n",
            "Please also refer to the documentation for alternative solver options:\n",
            "    https://scikit-learn.org/stable/modules/linear_model.html#logistic-regression\n",
            "  extra_warning_msg=_LOGISTIC_SOLVER_CONVERGENCE_MSG,\n",
            "/usr/local/lib/python3.7/dist-packages/sklearn/linear_model/_logistic.py:818: ConvergenceWarning: lbfgs failed to converge (status=1):\n",
            "STOP: TOTAL NO. of ITERATIONS REACHED LIMIT.\n",
            "\n",
            "Increase the number of iterations (max_iter) or scale the data as shown in:\n",
            "    https://scikit-learn.org/stable/modules/preprocessing.html\n",
            "Please also refer to the documentation for alternative solver options:\n",
            "    https://scikit-learn.org/stable/modules/linear_model.html#logistic-regression\n",
            "  extra_warning_msg=_LOGISTIC_SOLVER_CONVERGENCE_MSG,\n",
            "/usr/local/lib/python3.7/dist-packages/sklearn/linear_model/_logistic.py:818: ConvergenceWarning: lbfgs failed to converge (status=1):\n",
            "STOP: TOTAL NO. of ITERATIONS REACHED LIMIT.\n",
            "\n",
            "Increase the number of iterations (max_iter) or scale the data as shown in:\n",
            "    https://scikit-learn.org/stable/modules/preprocessing.html\n",
            "Please also refer to the documentation for alternative solver options:\n",
            "    https://scikit-learn.org/stable/modules/linear_model.html#logistic-regression\n",
            "  extra_warning_msg=_LOGISTIC_SOLVER_CONVERGENCE_MSG,\n",
            "/usr/local/lib/python3.7/dist-packages/sklearn/linear_model/_logistic.py:818: ConvergenceWarning: lbfgs failed to converge (status=1):\n",
            "STOP: TOTAL NO. of ITERATIONS REACHED LIMIT.\n",
            "\n",
            "Increase the number of iterations (max_iter) or scale the data as shown in:\n",
            "    https://scikit-learn.org/stable/modules/preprocessing.html\n",
            "Please also refer to the documentation for alternative solver options:\n",
            "    https://scikit-learn.org/stable/modules/linear_model.html#logistic-regression\n",
            "  extra_warning_msg=_LOGISTIC_SOLVER_CONVERGENCE_MSG,\n",
            "/usr/local/lib/python3.7/dist-packages/sklearn/linear_model/_logistic.py:818: ConvergenceWarning: lbfgs failed to converge (status=1):\n",
            "STOP: TOTAL NO. of ITERATIONS REACHED LIMIT.\n",
            "\n",
            "Increase the number of iterations (max_iter) or scale the data as shown in:\n",
            "    https://scikit-learn.org/stable/modules/preprocessing.html\n",
            "Please also refer to the documentation for alternative solver options:\n",
            "    https://scikit-learn.org/stable/modules/linear_model.html#logistic-regression\n",
            "  extra_warning_msg=_LOGISTIC_SOLVER_CONVERGENCE_MSG,\n",
            "/usr/local/lib/python3.7/dist-packages/sklearn/linear_model/_logistic.py:818: ConvergenceWarning: lbfgs failed to converge (status=1):\n",
            "STOP: TOTAL NO. of ITERATIONS REACHED LIMIT.\n",
            "\n",
            "Increase the number of iterations (max_iter) or scale the data as shown in:\n",
            "    https://scikit-learn.org/stable/modules/preprocessing.html\n",
            "Please also refer to the documentation for alternative solver options:\n",
            "    https://scikit-learn.org/stable/modules/linear_model.html#logistic-regression\n",
            "  extra_warning_msg=_LOGISTIC_SOLVER_CONVERGENCE_MSG,\n",
            "/usr/local/lib/python3.7/dist-packages/sklearn/linear_model/_logistic.py:818: ConvergenceWarning: lbfgs failed to converge (status=1):\n",
            "STOP: TOTAL NO. of ITERATIONS REACHED LIMIT.\n",
            "\n",
            "Increase the number of iterations (max_iter) or scale the data as shown in:\n",
            "    https://scikit-learn.org/stable/modules/preprocessing.html\n",
            "Please also refer to the documentation for alternative solver options:\n",
            "    https://scikit-learn.org/stable/modules/linear_model.html#logistic-regression\n",
            "  extra_warning_msg=_LOGISTIC_SOLVER_CONVERGENCE_MSG,\n",
            "/usr/local/lib/python3.7/dist-packages/sklearn/linear_model/_logistic.py:818: ConvergenceWarning: lbfgs failed to converge (status=1):\n",
            "STOP: TOTAL NO. of ITERATIONS REACHED LIMIT.\n",
            "\n",
            "Increase the number of iterations (max_iter) or scale the data as shown in:\n",
            "    https://scikit-learn.org/stable/modules/preprocessing.html\n",
            "Please also refer to the documentation for alternative solver options:\n",
            "    https://scikit-learn.org/stable/modules/linear_model.html#logistic-regression\n",
            "  extra_warning_msg=_LOGISTIC_SOLVER_CONVERGENCE_MSG,\n",
            "/usr/local/lib/python3.7/dist-packages/sklearn/linear_model/_logistic.py:818: ConvergenceWarning: lbfgs failed to converge (status=1):\n",
            "STOP: TOTAL NO. of ITERATIONS REACHED LIMIT.\n",
            "\n",
            "Increase the number of iterations (max_iter) or scale the data as shown in:\n",
            "    https://scikit-learn.org/stable/modules/preprocessing.html\n",
            "Please also refer to the documentation for alternative solver options:\n",
            "    https://scikit-learn.org/stable/modules/linear_model.html#logistic-regression\n",
            "  extra_warning_msg=_LOGISTIC_SOLVER_CONVERGENCE_MSG,\n",
            "/usr/local/lib/python3.7/dist-packages/sklearn/linear_model/_logistic.py:818: ConvergenceWarning: lbfgs failed to converge (status=1):\n",
            "STOP: TOTAL NO. of ITERATIONS REACHED LIMIT.\n",
            "\n",
            "Increase the number of iterations (max_iter) or scale the data as shown in:\n",
            "    https://scikit-learn.org/stable/modules/preprocessing.html\n",
            "Please also refer to the documentation for alternative solver options:\n",
            "    https://scikit-learn.org/stable/modules/linear_model.html#logistic-regression\n",
            "  extra_warning_msg=_LOGISTIC_SOLVER_CONVERGENCE_MSG,\n",
            "/usr/local/lib/python3.7/dist-packages/sklearn/linear_model/_logistic.py:818: ConvergenceWarning: lbfgs failed to converge (status=1):\n",
            "STOP: TOTAL NO. of ITERATIONS REACHED LIMIT.\n",
            "\n",
            "Increase the number of iterations (max_iter) or scale the data as shown in:\n",
            "    https://scikit-learn.org/stable/modules/preprocessing.html\n",
            "Please also refer to the documentation for alternative solver options:\n",
            "    https://scikit-learn.org/stable/modules/linear_model.html#logistic-regression\n",
            "  extra_warning_msg=_LOGISTIC_SOLVER_CONVERGENCE_MSG,\n",
            "/usr/local/lib/python3.7/dist-packages/sklearn/linear_model/_logistic.py:818: ConvergenceWarning: lbfgs failed to converge (status=1):\n",
            "STOP: TOTAL NO. of ITERATIONS REACHED LIMIT.\n",
            "\n",
            "Increase the number of iterations (max_iter) or scale the data as shown in:\n",
            "    https://scikit-learn.org/stable/modules/preprocessing.html\n",
            "Please also refer to the documentation for alternative solver options:\n",
            "    https://scikit-learn.org/stable/modules/linear_model.html#logistic-regression\n",
            "  extra_warning_msg=_LOGISTIC_SOLVER_CONVERGENCE_MSG,\n",
            "/usr/local/lib/python3.7/dist-packages/sklearn/linear_model/_logistic.py:818: ConvergenceWarning: lbfgs failed to converge (status=1):\n",
            "STOP: TOTAL NO. of ITERATIONS REACHED LIMIT.\n",
            "\n",
            "Increase the number of iterations (max_iter) or scale the data as shown in:\n",
            "    https://scikit-learn.org/stable/modules/preprocessing.html\n",
            "Please also refer to the documentation for alternative solver options:\n",
            "    https://scikit-learn.org/stable/modules/linear_model.html#logistic-regression\n",
            "  extra_warning_msg=_LOGISTIC_SOLVER_CONVERGENCE_MSG,\n",
            "/usr/local/lib/python3.7/dist-packages/sklearn/linear_model/_logistic.py:818: ConvergenceWarning: lbfgs failed to converge (status=1):\n",
            "STOP: TOTAL NO. of ITERATIONS REACHED LIMIT.\n",
            "\n",
            "Increase the number of iterations (max_iter) or scale the data as shown in:\n",
            "    https://scikit-learn.org/stable/modules/preprocessing.html\n",
            "Please also refer to the documentation for alternative solver options:\n",
            "    https://scikit-learn.org/stable/modules/linear_model.html#logistic-regression\n",
            "  extra_warning_msg=_LOGISTIC_SOLVER_CONVERGENCE_MSG,\n",
            "/usr/local/lib/python3.7/dist-packages/sklearn/linear_model/_logistic.py:818: ConvergenceWarning: lbfgs failed to converge (status=1):\n",
            "STOP: TOTAL NO. of ITERATIONS REACHED LIMIT.\n",
            "\n",
            "Increase the number of iterations (max_iter) or scale the data as shown in:\n",
            "    https://scikit-learn.org/stable/modules/preprocessing.html\n",
            "Please also refer to the documentation for alternative solver options:\n",
            "    https://scikit-learn.org/stable/modules/linear_model.html#logistic-regression\n",
            "  extra_warning_msg=_LOGISTIC_SOLVER_CONVERGENCE_MSG,\n",
            "/usr/local/lib/python3.7/dist-packages/sklearn/linear_model/_logistic.py:818: ConvergenceWarning: lbfgs failed to converge (status=1):\n",
            "STOP: TOTAL NO. of ITERATIONS REACHED LIMIT.\n",
            "\n",
            "Increase the number of iterations (max_iter) or scale the data as shown in:\n",
            "    https://scikit-learn.org/stable/modules/preprocessing.html\n",
            "Please also refer to the documentation for alternative solver options:\n",
            "    https://scikit-learn.org/stable/modules/linear_model.html#logistic-regression\n",
            "  extra_warning_msg=_LOGISTIC_SOLVER_CONVERGENCE_MSG,\n",
            "/usr/local/lib/python3.7/dist-packages/sklearn/linear_model/_logistic.py:818: ConvergenceWarning: lbfgs failed to converge (status=2):\n",
            "ABNORMAL_TERMINATION_IN_LNSRCH.\n",
            "\n",
            "Increase the number of iterations (max_iter) or scale the data as shown in:\n",
            "    https://scikit-learn.org/stable/modules/preprocessing.html\n",
            "Please also refer to the documentation for alternative solver options:\n",
            "    https://scikit-learn.org/stable/modules/linear_model.html#logistic-regression\n",
            "  extra_warning_msg=_LOGISTIC_SOLVER_CONVERGENCE_MSG,\n",
            "/usr/local/lib/python3.7/dist-packages/sklearn/linear_model/_logistic.py:818: ConvergenceWarning: lbfgs failed to converge (status=1):\n",
            "STOP: TOTAL NO. of ITERATIONS REACHED LIMIT.\n",
            "\n",
            "Increase the number of iterations (max_iter) or scale the data as shown in:\n",
            "    https://scikit-learn.org/stable/modules/preprocessing.html\n",
            "Please also refer to the documentation for alternative solver options:\n",
            "    https://scikit-learn.org/stable/modules/linear_model.html#logistic-regression\n",
            "  extra_warning_msg=_LOGISTIC_SOLVER_CONVERGENCE_MSG,\n",
            "/usr/local/lib/python3.7/dist-packages/sklearn/linear_model/_logistic.py:818: ConvergenceWarning: lbfgs failed to converge (status=1):\n",
            "STOP: TOTAL NO. of ITERATIONS REACHED LIMIT.\n",
            "\n",
            "Increase the number of iterations (max_iter) or scale the data as shown in:\n",
            "    https://scikit-learn.org/stable/modules/preprocessing.html\n",
            "Please also refer to the documentation for alternative solver options:\n",
            "    https://scikit-learn.org/stable/modules/linear_model.html#logistic-regression\n",
            "  extra_warning_msg=_LOGISTIC_SOLVER_CONVERGENCE_MSG,\n",
            "/usr/local/lib/python3.7/dist-packages/sklearn/linear_model/_logistic.py:818: ConvergenceWarning: lbfgs failed to converge (status=1):\n",
            "STOP: TOTAL NO. of ITERATIONS REACHED LIMIT.\n",
            "\n",
            "Increase the number of iterations (max_iter) or scale the data as shown in:\n",
            "    https://scikit-learn.org/stable/modules/preprocessing.html\n",
            "Please also refer to the documentation for alternative solver options:\n",
            "    https://scikit-learn.org/stable/modules/linear_model.html#logistic-regression\n",
            "  extra_warning_msg=_LOGISTIC_SOLVER_CONVERGENCE_MSG,\n",
            "/usr/local/lib/python3.7/dist-packages/sklearn/linear_model/_logistic.py:818: ConvergenceWarning: lbfgs failed to converge (status=2):\n",
            "ABNORMAL_TERMINATION_IN_LNSRCH.\n",
            "\n",
            "Increase the number of iterations (max_iter) or scale the data as shown in:\n",
            "    https://scikit-learn.org/stable/modules/preprocessing.html\n",
            "Please also refer to the documentation for alternative solver options:\n",
            "    https://scikit-learn.org/stable/modules/linear_model.html#logistic-regression\n",
            "  extra_warning_msg=_LOGISTIC_SOLVER_CONVERGENCE_MSG,\n",
            "/usr/local/lib/python3.7/dist-packages/sklearn/linear_model/_logistic.py:818: ConvergenceWarning: lbfgs failed to converge (status=1):\n",
            "STOP: TOTAL NO. of ITERATIONS REACHED LIMIT.\n",
            "\n",
            "Increase the number of iterations (max_iter) or scale the data as shown in:\n",
            "    https://scikit-learn.org/stable/modules/preprocessing.html\n",
            "Please also refer to the documentation for alternative solver options:\n",
            "    https://scikit-learn.org/stable/modules/linear_model.html#logistic-regression\n",
            "  extra_warning_msg=_LOGISTIC_SOLVER_CONVERGENCE_MSG,\n",
            "/usr/local/lib/python3.7/dist-packages/sklearn/linear_model/_logistic.py:818: ConvergenceWarning: lbfgs failed to converge (status=1):\n",
            "STOP: TOTAL NO. of ITERATIONS REACHED LIMIT.\n",
            "\n",
            "Increase the number of iterations (max_iter) or scale the data as shown in:\n",
            "    https://scikit-learn.org/stable/modules/preprocessing.html\n",
            "Please also refer to the documentation for alternative solver options:\n",
            "    https://scikit-learn.org/stable/modules/linear_model.html#logistic-regression\n",
            "  extra_warning_msg=_LOGISTIC_SOLVER_CONVERGENCE_MSG,\n",
            "/usr/local/lib/python3.7/dist-packages/sklearn/linear_model/_logistic.py:818: ConvergenceWarning: lbfgs failed to converge (status=1):\n",
            "STOP: TOTAL NO. of ITERATIONS REACHED LIMIT.\n",
            "\n",
            "Increase the number of iterations (max_iter) or scale the data as shown in:\n",
            "    https://scikit-learn.org/stable/modules/preprocessing.html\n",
            "Please also refer to the documentation for alternative solver options:\n",
            "    https://scikit-learn.org/stable/modules/linear_model.html#logistic-regression\n",
            "  extra_warning_msg=_LOGISTIC_SOLVER_CONVERGENCE_MSG,\n",
            "/usr/local/lib/python3.7/dist-packages/sklearn/linear_model/_logistic.py:818: ConvergenceWarning: lbfgs failed to converge (status=1):\n",
            "STOP: TOTAL NO. of ITERATIONS REACHED LIMIT.\n",
            "\n",
            "Increase the number of iterations (max_iter) or scale the data as shown in:\n",
            "    https://scikit-learn.org/stable/modules/preprocessing.html\n",
            "Please also refer to the documentation for alternative solver options:\n",
            "    https://scikit-learn.org/stable/modules/linear_model.html#logistic-regression\n",
            "  extra_warning_msg=_LOGISTIC_SOLVER_CONVERGENCE_MSG,\n",
            "/usr/local/lib/python3.7/dist-packages/sklearn/linear_model/_logistic.py:818: ConvergenceWarning: lbfgs failed to converge (status=1):\n",
            "STOP: TOTAL NO. of ITERATIONS REACHED LIMIT.\n",
            "\n",
            "Increase the number of iterations (max_iter) or scale the data as shown in:\n",
            "    https://scikit-learn.org/stable/modules/preprocessing.html\n",
            "Please also refer to the documentation for alternative solver options:\n",
            "    https://scikit-learn.org/stable/modules/linear_model.html#logistic-regression\n",
            "  extra_warning_msg=_LOGISTIC_SOLVER_CONVERGENCE_MSG,\n",
            "/usr/local/lib/python3.7/dist-packages/sklearn/linear_model/_logistic.py:818: ConvergenceWarning: lbfgs failed to converge (status=1):\n",
            "STOP: TOTAL NO. of ITERATIONS REACHED LIMIT.\n",
            "\n",
            "Increase the number of iterations (max_iter) or scale the data as shown in:\n",
            "    https://scikit-learn.org/stable/modules/preprocessing.html\n",
            "Please also refer to the documentation for alternative solver options:\n",
            "    https://scikit-learn.org/stable/modules/linear_model.html#logistic-regression\n",
            "  extra_warning_msg=_LOGISTIC_SOLVER_CONVERGENCE_MSG,\n",
            "/usr/local/lib/python3.7/dist-packages/sklearn/linear_model/_logistic.py:818: ConvergenceWarning: lbfgs failed to converge (status=1):\n",
            "STOP: TOTAL NO. of ITERATIONS REACHED LIMIT.\n",
            "\n",
            "Increase the number of iterations (max_iter) or scale the data as shown in:\n",
            "    https://scikit-learn.org/stable/modules/preprocessing.html\n",
            "Please also refer to the documentation for alternative solver options:\n",
            "    https://scikit-learn.org/stable/modules/linear_model.html#logistic-regression\n",
            "  extra_warning_msg=_LOGISTIC_SOLVER_CONVERGENCE_MSG,\n",
            "/usr/local/lib/python3.7/dist-packages/sklearn/linear_model/_logistic.py:818: ConvergenceWarning: lbfgs failed to converge (status=1):\n",
            "STOP: TOTAL NO. of ITERATIONS REACHED LIMIT.\n",
            "\n",
            "Increase the number of iterations (max_iter) or scale the data as shown in:\n",
            "    https://scikit-learn.org/stable/modules/preprocessing.html\n",
            "Please also refer to the documentation for alternative solver options:\n",
            "    https://scikit-learn.org/stable/modules/linear_model.html#logistic-regression\n",
            "  extra_warning_msg=_LOGISTIC_SOLVER_CONVERGENCE_MSG,\n",
            "/usr/local/lib/python3.7/dist-packages/sklearn/linear_model/_logistic.py:818: ConvergenceWarning: lbfgs failed to converge (status=1):\n",
            "STOP: TOTAL NO. of ITERATIONS REACHED LIMIT.\n",
            "\n",
            "Increase the number of iterations (max_iter) or scale the data as shown in:\n",
            "    https://scikit-learn.org/stable/modules/preprocessing.html\n",
            "Please also refer to the documentation for alternative solver options:\n",
            "    https://scikit-learn.org/stable/modules/linear_model.html#logistic-regression\n",
            "  extra_warning_msg=_LOGISTIC_SOLVER_CONVERGENCE_MSG,\n",
            "/usr/local/lib/python3.7/dist-packages/sklearn/linear_model/_logistic.py:818: ConvergenceWarning: lbfgs failed to converge (status=1):\n",
            "STOP: TOTAL NO. of ITERATIONS REACHED LIMIT.\n",
            "\n",
            "Increase the number of iterations (max_iter) or scale the data as shown in:\n",
            "    https://scikit-learn.org/stable/modules/preprocessing.html\n",
            "Please also refer to the documentation for alternative solver options:\n",
            "    https://scikit-learn.org/stable/modules/linear_model.html#logistic-regression\n",
            "  extra_warning_msg=_LOGISTIC_SOLVER_CONVERGENCE_MSG,\n",
            "/usr/local/lib/python3.7/dist-packages/sklearn/linear_model/_logistic.py:818: ConvergenceWarning: lbfgs failed to converge (status=1):\n",
            "STOP: TOTAL NO. of ITERATIONS REACHED LIMIT.\n",
            "\n",
            "Increase the number of iterations (max_iter) or scale the data as shown in:\n",
            "    https://scikit-learn.org/stable/modules/preprocessing.html\n",
            "Please also refer to the documentation for alternative solver options:\n",
            "    https://scikit-learn.org/stable/modules/linear_model.html#logistic-regression\n",
            "  extra_warning_msg=_LOGISTIC_SOLVER_CONVERGENCE_MSG,\n",
            "/usr/local/lib/python3.7/dist-packages/sklearn/linear_model/_logistic.py:818: ConvergenceWarning: lbfgs failed to converge (status=1):\n",
            "STOP: TOTAL NO. of ITERATIONS REACHED LIMIT.\n",
            "\n",
            "Increase the number of iterations (max_iter) or scale the data as shown in:\n",
            "    https://scikit-learn.org/stable/modules/preprocessing.html\n",
            "Please also refer to the documentation for alternative solver options:\n",
            "    https://scikit-learn.org/stable/modules/linear_model.html#logistic-regression\n",
            "  extra_warning_msg=_LOGISTIC_SOLVER_CONVERGENCE_MSG,\n"
          ]
        },
        {
          "output_type": "stream",
          "name": "stdout",
          "text": [
            "BEST PARAMS: {'C': 1000}\n",
            "\n",
            "1.0 (+/-0.001) for {'C': 0.001}\n",
            "0.999 (+/-0.002) for {'C': 0.01}\n",
            "1.0 (+/-0.001) for {'C': 0.1}\n",
            "1.0 (+/-0.0) for {'C': 1}\n",
            "1.0 (+/-0.001) for {'C': 10}\n",
            "1.0 (+/-0.0) for {'C': 100}\n",
            "1.0 (+/-0.0) for {'C': 1000}\n"
          ]
        },
        {
          "output_type": "stream",
          "name": "stderr",
          "text": [
            "/usr/local/lib/python3.7/dist-packages/sklearn/linear_model/_logistic.py:818: ConvergenceWarning: lbfgs failed to converge (status=1):\n",
            "STOP: TOTAL NO. of ITERATIONS REACHED LIMIT.\n",
            "\n",
            "Increase the number of iterations (max_iter) or scale the data as shown in:\n",
            "    https://scikit-learn.org/stable/modules/preprocessing.html\n",
            "Please also refer to the documentation for alternative solver options:\n",
            "    https://scikit-learn.org/stable/modules/linear_model.html#logistic-regression\n",
            "  extra_warning_msg=_LOGISTIC_SOLVER_CONVERGENCE_MSG,\n"
          ]
        }
      ]
    },
    {
      "cell_type": "code",
      "source": [
        "cv.best_estimator_"
      ],
      "metadata": {
        "colab": {
          "base_uri": "https://localhost:8080/"
        },
        "id": "dZLT_YHcfKy0",
        "outputId": "a7fcd16e-309a-455c-dc60-31a69b68ff43"
      },
      "execution_count": null,
      "outputs": [
        {
          "output_type": "execute_result",
          "data": {
            "text/plain": [
              "LogisticRegression(C=1000)"
            ]
          },
          "metadata": {},
          "execution_count": 7
        }
      ]
    },
    {
      "cell_type": "code",
      "source": [
        "joblib.dump(cv.best_estimator_, 'LR_model.pkl')"
      ],
      "metadata": {
        "colab": {
          "base_uri": "https://localhost:8080/"
        },
        "id": "CtEUDo6XfPHd",
        "outputId": "3f5d48ad-5524-4192-f645-0e0ce46074e7"
      },
      "execution_count": null,
      "outputs": [
        {
          "output_type": "execute_result",
          "data": {
            "text/plain": [
              "['LR_model.pkl']"
            ]
          },
          "metadata": {},
          "execution_count": 8
        }
      ]
    },
    {
      "cell_type": "code",
      "source": [
        "from sklearn.svm import SVC\n",
        "svc = SVC()\n",
        "parameters = {\n",
        "    'kernel': ['linear', 'rbf'],\n",
        "    'C': [0.1, 1, 10]\n",
        "}\n",
        "\n",
        "cv = GridSearchCV(svc, parameters, cv=5)\n",
        "cv.fit(tr_features, tr_labels.values.ravel())\n",
        "\n",
        "print_results(cv)"
      ],
      "metadata": {
        "colab": {
          "base_uri": "https://localhost:8080/"
        },
        "id": "Ol3D9F37fRvs",
        "outputId": "6d1d06f8-eb4f-4560-9c70-14aece640984"
      },
      "execution_count": null,
      "outputs": [
        {
          "output_type": "stream",
          "name": "stdout",
          "text": [
            "BEST PARAMS: {'C': 0.1, 'kernel': 'linear'}\n",
            "\n",
            "1.0 (+/-0.0) for {'C': 0.1, 'kernel': 'linear'}\n",
            "0.9 (+/-0.0) for {'C': 0.1, 'kernel': 'rbf'}\n",
            "1.0 (+/-0.0) for {'C': 1, 'kernel': 'linear'}\n",
            "0.9 (+/-0.0) for {'C': 1, 'kernel': 'rbf'}\n",
            "1.0 (+/-0.0) for {'C': 10, 'kernel': 'linear'}\n",
            "0.9 (+/-0.0) for {'C': 10, 'kernel': 'rbf'}\n"
          ]
        }
      ]
    },
    {
      "cell_type": "code",
      "source": [
        "cv.best_estimator_"
      ],
      "metadata": {
        "colab": {
          "base_uri": "https://localhost:8080/"
        },
        "id": "x8Av8uAHfadE",
        "outputId": "a9d995a8-a54e-487b-a7af-86baf9897d24"
      },
      "execution_count": null,
      "outputs": [
        {
          "output_type": "execute_result",
          "data": {
            "text/plain": [
              "SVC(C=0.1, kernel='linear')"
            ]
          },
          "metadata": {},
          "execution_count": 10
        }
      ]
    },
    {
      "cell_type": "code",
      "source": [
        "joblib.dump(cv.best_estimator_, 'SVM_model.pkl')"
      ],
      "metadata": {
        "colab": {
          "base_uri": "https://localhost:8080/"
        },
        "id": "IBmQ37PAfdz7",
        "outputId": "ff289739-da56-452c-c501-86a65faeddd1"
      },
      "execution_count": null,
      "outputs": [
        {
          "output_type": "execute_result",
          "data": {
            "text/plain": [
              "['SVM_model.pkl']"
            ]
          },
          "metadata": {},
          "execution_count": 11
        }
      ]
    },
    {
      "cell_type": "code",
      "source": [
        "from sklearn.neural_network import MLPClassifier\n",
        "mlp = MLPClassifier()\n",
        "parameters = {\n",
        "    'hidden_layer_sizes': [(10,), (50,), (100,)],\n",
        "    'activation': ['relu', 'tanh', 'logistic'],\n",
        "    'learning_rate': ['constant', 'invscaling', 'adaptive']\n",
        "}\n",
        "\n",
        "cv = GridSearchCV(mlp, parameters, cv=5)\n",
        "cv.fit(tr_features, tr_labels.values.ravel())\n",
        "\n",
        "print_results(cv)"
      ],
      "metadata": {
        "colab": {
          "base_uri": "https://localhost:8080/"
        },
        "id": "LoXw5xDmfgg9",
        "outputId": "ef83420d-84c5-4ed4-9884-a79605ea1c82"
      },
      "execution_count": null,
      "outputs": [
        {
          "output_type": "stream",
          "name": "stdout",
          "text": [
            "BEST PARAMS: {'activation': 'relu', 'hidden_layer_sizes': (50,), 'learning_rate': 'invscaling'}\n",
            "\n",
            "0.999 (+/-0.001) for {'activation': 'relu', 'hidden_layer_sizes': (10,), 'learning_rate': 'constant'}\n",
            "0.998 (+/-0.003) for {'activation': 'relu', 'hidden_layer_sizes': (10,), 'learning_rate': 'invscaling'}\n",
            "0.999 (+/-0.003) for {'activation': 'relu', 'hidden_layer_sizes': (10,), 'learning_rate': 'adaptive'}\n",
            "0.999 (+/-0.001) for {'activation': 'relu', 'hidden_layer_sizes': (50,), 'learning_rate': 'constant'}\n",
            "0.999 (+/-0.0) for {'activation': 'relu', 'hidden_layer_sizes': (50,), 'learning_rate': 'invscaling'}\n",
            "0.999 (+/-0.001) for {'activation': 'relu', 'hidden_layer_sizes': (50,), 'learning_rate': 'adaptive'}\n",
            "0.999 (+/-0.0) for {'activation': 'relu', 'hidden_layer_sizes': (100,), 'learning_rate': 'constant'}\n",
            "0.999 (+/-0.001) for {'activation': 'relu', 'hidden_layer_sizes': (100,), 'learning_rate': 'invscaling'}\n",
            "0.997 (+/-0.006) for {'activation': 'relu', 'hidden_layer_sizes': (100,), 'learning_rate': 'adaptive'}\n",
            "0.999 (+/-0.0) for {'activation': 'tanh', 'hidden_layer_sizes': (10,), 'learning_rate': 'constant'}\n",
            "0.999 (+/-0.001) for {'activation': 'tanh', 'hidden_layer_sizes': (10,), 'learning_rate': 'invscaling'}\n",
            "0.999 (+/-0.001) for {'activation': 'tanh', 'hidden_layer_sizes': (10,), 'learning_rate': 'adaptive'}\n",
            "0.999 (+/-0.0) for {'activation': 'tanh', 'hidden_layer_sizes': (50,), 'learning_rate': 'constant'}\n",
            "0.999 (+/-0.001) for {'activation': 'tanh', 'hidden_layer_sizes': (50,), 'learning_rate': 'invscaling'}\n",
            "0.999 (+/-0.0) for {'activation': 'tanh', 'hidden_layer_sizes': (50,), 'learning_rate': 'adaptive'}\n",
            "0.999 (+/-0.001) for {'activation': 'tanh', 'hidden_layer_sizes': (100,), 'learning_rate': 'constant'}\n",
            "0.999 (+/-0.001) for {'activation': 'tanh', 'hidden_layer_sizes': (100,), 'learning_rate': 'invscaling'}\n",
            "0.999 (+/-0.0) for {'activation': 'tanh', 'hidden_layer_sizes': (100,), 'learning_rate': 'adaptive'}\n",
            "0.999 (+/-0.001) for {'activation': 'logistic', 'hidden_layer_sizes': (10,), 'learning_rate': 'constant'}\n",
            "0.999 (+/-0.001) for {'activation': 'logistic', 'hidden_layer_sizes': (10,), 'learning_rate': 'invscaling'}\n",
            "0.999 (+/-0.001) for {'activation': 'logistic', 'hidden_layer_sizes': (10,), 'learning_rate': 'adaptive'}\n",
            "0.999 (+/-0.0) for {'activation': 'logistic', 'hidden_layer_sizes': (50,), 'learning_rate': 'constant'}\n",
            "0.999 (+/-0.0) for {'activation': 'logistic', 'hidden_layer_sizes': (50,), 'learning_rate': 'invscaling'}\n",
            "0.999 (+/-0.0) for {'activation': 'logistic', 'hidden_layer_sizes': (50,), 'learning_rate': 'adaptive'}\n",
            "0.999 (+/-0.0) for {'activation': 'logistic', 'hidden_layer_sizes': (100,), 'learning_rate': 'constant'}\n",
            "0.999 (+/-0.0) for {'activation': 'logistic', 'hidden_layer_sizes': (100,), 'learning_rate': 'invscaling'}\n",
            "0.999 (+/-0.0) for {'activation': 'logistic', 'hidden_layer_sizes': (100,), 'learning_rate': 'adaptive'}\n"
          ]
        }
      ]
    },
    {
      "cell_type": "code",
      "source": [
        "cv.best_estimator_"
      ],
      "metadata": {
        "colab": {
          "base_uri": "https://localhost:8080/"
        },
        "id": "9bWfBjNXfqBO",
        "outputId": "1bda0b65-b23a-401f-c4c1-99b6355990dc"
      },
      "execution_count": null,
      "outputs": [
        {
          "output_type": "execute_result",
          "data": {
            "text/plain": [
              "MLPClassifier(hidden_layer_sizes=(50,), learning_rate='invscaling')"
            ]
          },
          "metadata": {},
          "execution_count": 13
        }
      ]
    },
    {
      "cell_type": "code",
      "source": [
        "joblib.dump(cv.best_estimator_, 'MLP_model.pkl')"
      ],
      "metadata": {
        "colab": {
          "base_uri": "https://localhost:8080/"
        },
        "id": "x7lqY9TbftUK",
        "outputId": "923f833a-7b22-4a4d-9d82-0a036e2adf8c"
      },
      "execution_count": null,
      "outputs": [
        {
          "output_type": "execute_result",
          "data": {
            "text/plain": [
              "['MLP_model.pkl']"
            ]
          },
          "metadata": {},
          "execution_count": 14
        }
      ]
    },
    {
      "cell_type": "code",
      "source": [
        "from sklearn.ensemble import RandomForestClassifier\n",
        "\n",
        "rf = RandomForestClassifier()\n",
        "parameters = {\n",
        "    'n_estimators': [5, 50, 250],\n",
        "    'max_depth': [2, 4, 8, 16, 32, None]\n",
        "}\n",
        "\n",
        "cv = GridSearchCV(rf, parameters, cv=5)\n",
        "cv.fit(tr_features, tr_labels.values.ravel())\n",
        "\n",
        "print_results(cv)"
      ],
      "metadata": {
        "colab": {
          "base_uri": "https://localhost:8080/"
        },
        "id": "lS5tWAa7fvqf",
        "outputId": "65858742-7217-42d2-901e-55a6219cb684"
      },
      "execution_count": null,
      "outputs": [
        {
          "output_type": "stream",
          "name": "stdout",
          "text": [
            "BEST PARAMS: {'max_depth': 8, 'n_estimators': 50}\n",
            "\n",
            "0.994 (+/-0.004) for {'max_depth': 2, 'n_estimators': 5}\n",
            "0.997 (+/-0.003) for {'max_depth': 2, 'n_estimators': 50}\n",
            "0.998 (+/-0.002) for {'max_depth': 2, 'n_estimators': 250}\n",
            "0.999 (+/-0.0) for {'max_depth': 4, 'n_estimators': 5}\n",
            "1.0 (+/-0.0) for {'max_depth': 4, 'n_estimators': 50}\n",
            "1.0 (+/-0.0) for {'max_depth': 4, 'n_estimators': 250}\n",
            "1.0 (+/-0.0) for {'max_depth': 8, 'n_estimators': 5}\n",
            "1.0 (+/-0.0) for {'max_depth': 8, 'n_estimators': 50}\n",
            "1.0 (+/-0.0) for {'max_depth': 8, 'n_estimators': 250}\n",
            "1.0 (+/-0.0) for {'max_depth': 16, 'n_estimators': 5}\n",
            "1.0 (+/-0.0) for {'max_depth': 16, 'n_estimators': 50}\n",
            "1.0 (+/-0.0) for {'max_depth': 16, 'n_estimators': 250}\n",
            "1.0 (+/-0.0) for {'max_depth': 32, 'n_estimators': 5}\n",
            "1.0 (+/-0.0) for {'max_depth': 32, 'n_estimators': 50}\n",
            "1.0 (+/-0.0) for {'max_depth': 32, 'n_estimators': 250}\n",
            "1.0 (+/-0.0) for {'max_depth': None, 'n_estimators': 5}\n",
            "1.0 (+/-0.0) for {'max_depth': None, 'n_estimators': 50}\n",
            "1.0 (+/-0.0) for {'max_depth': None, 'n_estimators': 250}\n"
          ]
        }
      ]
    },
    {
      "cell_type": "code",
      "source": [
        "cv.best_estimator_"
      ],
      "metadata": {
        "colab": {
          "base_uri": "https://localhost:8080/"
        },
        "id": "BnpKgHKRf4Ni",
        "outputId": "9efae150-75fd-43a9-a299-df0ef1b5ab06"
      },
      "execution_count": null,
      "outputs": [
        {
          "output_type": "execute_result",
          "data": {
            "text/plain": [
              "RandomForestClassifier(max_depth=8, n_estimators=50)"
            ]
          },
          "metadata": {},
          "execution_count": 16
        }
      ]
    },
    {
      "cell_type": "code",
      "source": [
        "joblib.dump(cv.best_estimator_, 'RF_model.pkl')"
      ],
      "metadata": {
        "colab": {
          "base_uri": "https://localhost:8080/"
        },
        "id": "QJmBeYrBf7AV",
        "outputId": "da890b9b-eb7a-47f9-a195-2c603694bcb9"
      },
      "execution_count": null,
      "outputs": [
        {
          "output_type": "execute_result",
          "data": {
            "text/plain": [
              "['RF_model.pkl']"
            ]
          },
          "metadata": {},
          "execution_count": 17
        }
      ]
    },
    {
      "cell_type": "code",
      "source": [
        "from sklearn.ensemble import GradientBoostingClassifier\n",
        "gb = GradientBoostingClassifier()\n",
        "parameters = {\n",
        "    'n_estimators': [5, 50, 250, 500],\n",
        "    'max_depth': [1, 3, 5, 7, 9],\n",
        "    'learning_rate': [0.01, 0.1, 1, 10, 100]\n",
        "}\n",
        "\n",
        "cv = GridSearchCV(gb, parameters, cv=5)\n",
        "cv.fit(tr_features, tr_labels.values.ravel())\n",
        "\n",
        "print_results(cv)"
      ],
      "metadata": {
        "id": "cnEG87rTf9v-",
        "colab": {
          "base_uri": "https://localhost:8080/"
        },
        "outputId": "e8ee1f25-aac9-464b-bbe7-b907bf37af52"
      },
      "execution_count": 18,
      "outputs": [
        {
          "output_type": "stream",
          "name": "stdout",
          "text": [
            "BEST PARAMS: {'learning_rate': 0.01, 'max_depth': 1, 'n_estimators': 250}\n",
            "\n",
            "0.9 (+/-0.0) for {'learning_rate': 0.01, 'max_depth': 1, 'n_estimators': 5}\n",
            "0.9 (+/-0.0) for {'learning_rate': 0.01, 'max_depth': 1, 'n_estimators': 50}\n",
            "1.0 (+/-0.0) for {'learning_rate': 0.01, 'max_depth': 1, 'n_estimators': 250}\n",
            "1.0 (+/-0.0) for {'learning_rate': 0.01, 'max_depth': 1, 'n_estimators': 500}\n",
            "0.9 (+/-0.0) for {'learning_rate': 0.01, 'max_depth': 3, 'n_estimators': 5}\n",
            "0.9 (+/-0.0) for {'learning_rate': 0.01, 'max_depth': 3, 'n_estimators': 50}\n",
            "1.0 (+/-0.0) for {'learning_rate': 0.01, 'max_depth': 3, 'n_estimators': 250}\n",
            "1.0 (+/-0.0) for {'learning_rate': 0.01, 'max_depth': 3, 'n_estimators': 500}\n",
            "0.9 (+/-0.0) for {'learning_rate': 0.01, 'max_depth': 5, 'n_estimators': 5}\n",
            "0.9 (+/-0.0) for {'learning_rate': 0.01, 'max_depth': 5, 'n_estimators': 50}\n",
            "1.0 (+/-0.0) for {'learning_rate': 0.01, 'max_depth': 5, 'n_estimators': 250}\n",
            "1.0 (+/-0.0) for {'learning_rate': 0.01, 'max_depth': 5, 'n_estimators': 500}\n",
            "0.9 (+/-0.0) for {'learning_rate': 0.01, 'max_depth': 7, 'n_estimators': 5}\n",
            "0.9 (+/-0.0) for {'learning_rate': 0.01, 'max_depth': 7, 'n_estimators': 50}\n",
            "1.0 (+/-0.0) for {'learning_rate': 0.01, 'max_depth': 7, 'n_estimators': 250}\n",
            "1.0 (+/-0.0) for {'learning_rate': 0.01, 'max_depth': 7, 'n_estimators': 500}\n",
            "0.9 (+/-0.0) for {'learning_rate': 0.01, 'max_depth': 9, 'n_estimators': 5}\n",
            "0.9 (+/-0.0) for {'learning_rate': 0.01, 'max_depth': 9, 'n_estimators': 50}\n",
            "1.0 (+/-0.0) for {'learning_rate': 0.01, 'max_depth': 9, 'n_estimators': 250}\n",
            "1.0 (+/-0.0) for {'learning_rate': 0.01, 'max_depth': 9, 'n_estimators': 500}\n",
            "0.9 (+/-0.0) for {'learning_rate': 0.1, 'max_depth': 1, 'n_estimators': 5}\n",
            "1.0 (+/-0.0) for {'learning_rate': 0.1, 'max_depth': 1, 'n_estimators': 50}\n",
            "1.0 (+/-0.0) for {'learning_rate': 0.1, 'max_depth': 1, 'n_estimators': 250}\n",
            "1.0 (+/-0.0) for {'learning_rate': 0.1, 'max_depth': 1, 'n_estimators': 500}\n",
            "1.0 (+/-0.0) for {'learning_rate': 0.1, 'max_depth': 3, 'n_estimators': 5}\n",
            "1.0 (+/-0.0) for {'learning_rate': 0.1, 'max_depth': 3, 'n_estimators': 50}\n",
            "1.0 (+/-0.0) for {'learning_rate': 0.1, 'max_depth': 3, 'n_estimators': 250}\n",
            "1.0 (+/-0.0) for {'learning_rate': 0.1, 'max_depth': 3, 'n_estimators': 500}\n",
            "1.0 (+/-0.0) for {'learning_rate': 0.1, 'max_depth': 5, 'n_estimators': 5}\n",
            "1.0 (+/-0.0) for {'learning_rate': 0.1, 'max_depth': 5, 'n_estimators': 50}\n",
            "1.0 (+/-0.0) for {'learning_rate': 0.1, 'max_depth': 5, 'n_estimators': 250}\n",
            "1.0 (+/-0.0) for {'learning_rate': 0.1, 'max_depth': 5, 'n_estimators': 500}\n",
            "1.0 (+/-0.0) for {'learning_rate': 0.1, 'max_depth': 7, 'n_estimators': 5}\n",
            "1.0 (+/-0.0) for {'learning_rate': 0.1, 'max_depth': 7, 'n_estimators': 50}\n",
            "1.0 (+/-0.0) for {'learning_rate': 0.1, 'max_depth': 7, 'n_estimators': 250}\n",
            "1.0 (+/-0.0) for {'learning_rate': 0.1, 'max_depth': 7, 'n_estimators': 500}\n",
            "1.0 (+/-0.0) for {'learning_rate': 0.1, 'max_depth': 9, 'n_estimators': 5}\n",
            "1.0 (+/-0.0) for {'learning_rate': 0.1, 'max_depth': 9, 'n_estimators': 50}\n",
            "1.0 (+/-0.0) for {'learning_rate': 0.1, 'max_depth': 9, 'n_estimators': 250}\n",
            "1.0 (+/-0.0) for {'learning_rate': 0.1, 'max_depth': 9, 'n_estimators': 500}\n",
            "0.999 (+/-0.0) for {'learning_rate': 1, 'max_depth': 1, 'n_estimators': 5}\n",
            "1.0 (+/-0.0) for {'learning_rate': 1, 'max_depth': 1, 'n_estimators': 50}\n",
            "1.0 (+/-0.0) for {'learning_rate': 1, 'max_depth': 1, 'n_estimators': 250}\n",
            "1.0 (+/-0.0) for {'learning_rate': 1, 'max_depth': 1, 'n_estimators': 500}\n",
            "1.0 (+/-0.0) for {'learning_rate': 1, 'max_depth': 3, 'n_estimators': 5}\n",
            "1.0 (+/-0.0) for {'learning_rate': 1, 'max_depth': 3, 'n_estimators': 50}\n",
            "1.0 (+/-0.0) for {'learning_rate': 1, 'max_depth': 3, 'n_estimators': 250}\n",
            "1.0 (+/-0.0) for {'learning_rate': 1, 'max_depth': 3, 'n_estimators': 500}\n",
            "1.0 (+/-0.0) for {'learning_rate': 1, 'max_depth': 5, 'n_estimators': 5}\n",
            "1.0 (+/-0.0) for {'learning_rate': 1, 'max_depth': 5, 'n_estimators': 50}\n",
            "1.0 (+/-0.0) for {'learning_rate': 1, 'max_depth': 5, 'n_estimators': 250}\n",
            "1.0 (+/-0.0) for {'learning_rate': 1, 'max_depth': 5, 'n_estimators': 500}\n",
            "1.0 (+/-0.0) for {'learning_rate': 1, 'max_depth': 7, 'n_estimators': 5}\n",
            "1.0 (+/-0.0) for {'learning_rate': 1, 'max_depth': 7, 'n_estimators': 50}\n",
            "1.0 (+/-0.0) for {'learning_rate': 1, 'max_depth': 7, 'n_estimators': 250}\n",
            "1.0 (+/-0.0) for {'learning_rate': 1, 'max_depth': 7, 'n_estimators': 500}\n",
            "1.0 (+/-0.0) for {'learning_rate': 1, 'max_depth': 9, 'n_estimators': 5}\n",
            "1.0 (+/-0.0) for {'learning_rate': 1, 'max_depth': 9, 'n_estimators': 50}\n",
            "1.0 (+/-0.0) for {'learning_rate': 1, 'max_depth': 9, 'n_estimators': 250}\n",
            "1.0 (+/-0.0) for {'learning_rate': 1, 'max_depth': 9, 'n_estimators': 500}\n",
            "0.9 (+/-0.0) for {'learning_rate': 10, 'max_depth': 1, 'n_estimators': 5}\n",
            "0.9 (+/-0.0) for {'learning_rate': 10, 'max_depth': 1, 'n_estimators': 50}\n",
            "0.9 (+/-0.0) for {'learning_rate': 10, 'max_depth': 1, 'n_estimators': 250}\n",
            "0.9 (+/-0.0) for {'learning_rate': 10, 'max_depth': 1, 'n_estimators': 500}\n",
            "1.0 (+/-0.0) for {'learning_rate': 10, 'max_depth': 3, 'n_estimators': 5}\n",
            "1.0 (+/-0.0) for {'learning_rate': 10, 'max_depth': 3, 'n_estimators': 50}\n",
            "1.0 (+/-0.0) for {'learning_rate': 10, 'max_depth': 3, 'n_estimators': 250}\n",
            "1.0 (+/-0.0) for {'learning_rate': 10, 'max_depth': 3, 'n_estimators': 500}\n",
            "1.0 (+/-0.0) for {'learning_rate': 10, 'max_depth': 5, 'n_estimators': 5}\n",
            "1.0 (+/-0.0) for {'learning_rate': 10, 'max_depth': 5, 'n_estimators': 50}\n",
            "1.0 (+/-0.0) for {'learning_rate': 10, 'max_depth': 5, 'n_estimators': 250}\n",
            "1.0 (+/-0.0) for {'learning_rate': 10, 'max_depth': 5, 'n_estimators': 500}\n",
            "1.0 (+/-0.0) for {'learning_rate': 10, 'max_depth': 7, 'n_estimators': 5}\n",
            "1.0 (+/-0.0) for {'learning_rate': 10, 'max_depth': 7, 'n_estimators': 50}\n",
            "1.0 (+/-0.0) for {'learning_rate': 10, 'max_depth': 7, 'n_estimators': 250}\n",
            "1.0 (+/-0.0) for {'learning_rate': 10, 'max_depth': 7, 'n_estimators': 500}\n",
            "1.0 (+/-0.0) for {'learning_rate': 10, 'max_depth': 9, 'n_estimators': 5}\n",
            "1.0 (+/-0.0) for {'learning_rate': 10, 'max_depth': 9, 'n_estimators': 50}\n",
            "1.0 (+/-0.0) for {'learning_rate': 10, 'max_depth': 9, 'n_estimators': 250}\n",
            "1.0 (+/-0.0) for {'learning_rate': 10, 'max_depth': 9, 'n_estimators': 500}\n",
            "0.9 (+/-0.0) for {'learning_rate': 100, 'max_depth': 1, 'n_estimators': 5}\n",
            "0.9 (+/-0.0) for {'learning_rate': 100, 'max_depth': 1, 'n_estimators': 50}\n",
            "0.9 (+/-0.0) for {'learning_rate': 100, 'max_depth': 1, 'n_estimators': 250}\n",
            "0.9 (+/-0.0) for {'learning_rate': 100, 'max_depth': 1, 'n_estimators': 500}\n",
            "1.0 (+/-0.0) for {'learning_rate': 100, 'max_depth': 3, 'n_estimators': 5}\n",
            "1.0 (+/-0.0) for {'learning_rate': 100, 'max_depth': 3, 'n_estimators': 50}\n",
            "1.0 (+/-0.0) for {'learning_rate': 100, 'max_depth': 3, 'n_estimators': 250}\n",
            "1.0 (+/-0.0) for {'learning_rate': 100, 'max_depth': 3, 'n_estimators': 500}\n",
            "1.0 (+/-0.0) for {'learning_rate': 100, 'max_depth': 5, 'n_estimators': 5}\n",
            "1.0 (+/-0.0) for {'learning_rate': 100, 'max_depth': 5, 'n_estimators': 50}\n",
            "1.0 (+/-0.0) for {'learning_rate': 100, 'max_depth': 5, 'n_estimators': 250}\n",
            "1.0 (+/-0.0) for {'learning_rate': 100, 'max_depth': 5, 'n_estimators': 500}\n",
            "1.0 (+/-0.0) for {'learning_rate': 100, 'max_depth': 7, 'n_estimators': 5}\n",
            "1.0 (+/-0.0) for {'learning_rate': 100, 'max_depth': 7, 'n_estimators': 50}\n",
            "1.0 (+/-0.0) for {'learning_rate': 100, 'max_depth': 7, 'n_estimators': 250}\n",
            "1.0 (+/-0.0) for {'learning_rate': 100, 'max_depth': 7, 'n_estimators': 500}\n",
            "1.0 (+/-0.0) for {'learning_rate': 100, 'max_depth': 9, 'n_estimators': 5}\n",
            "1.0 (+/-0.0) for {'learning_rate': 100, 'max_depth': 9, 'n_estimators': 50}\n",
            "1.0 (+/-0.0) for {'learning_rate': 100, 'max_depth': 9, 'n_estimators': 250}\n",
            "1.0 (+/-0.0) for {'learning_rate': 100, 'max_depth': 9, 'n_estimators': 500}\n"
          ]
        }
      ]
    },
    {
      "cell_type": "code",
      "source": [
        "cv.best_estimator_"
      ],
      "metadata": {
        "id": "Tsw4_xhigEmf",
        "colab": {
          "base_uri": "https://localhost:8080/"
        },
        "outputId": "05dfc2ce-d1d9-4171-9076-3f49418ccd16"
      },
      "execution_count": 19,
      "outputs": [
        {
          "output_type": "execute_result",
          "data": {
            "text/plain": [
              "GradientBoostingClassifier(learning_rate=0.01, max_depth=1, n_estimators=250)"
            ]
          },
          "metadata": {},
          "execution_count": 19
        }
      ]
    },
    {
      "cell_type": "code",
      "source": [
        "joblib.dump(cv.best_estimator_, 'GB_model.pkl')"
      ],
      "metadata": {
        "id": "pS0W2fYGgHz8",
        "colab": {
          "base_uri": "https://localhost:8080/"
        },
        "outputId": "c364f238-7ba7-461f-82a4-c671d0e7dd0f"
      },
      "execution_count": 20,
      "outputs": [
        {
          "output_type": "execute_result",
          "data": {
            "text/plain": [
              "['GB_model.pkl']"
            ]
          },
          "metadata": {},
          "execution_count": 20
        }
      ]
    },
    {
      "cell_type": "code",
      "source": [
        "import joblib\n",
        "import pandas as pd\n",
        "from sklearn.metrics import accuracy_score, precision_score, recall_score\n",
        "from time import time\n",
        "\n",
        "val_features = pd.read_csv('val_features.csv')\n",
        "val_labels = pd.read_csv('val_labels.csv')\n",
        "\n",
        "te_features = pd.read_csv('test_features.csv')\n",
        "te_labels = pd.read_csv('test_labels.csv')"
      ],
      "metadata": {
        "id": "dlrIHr7sLZiB"
      },
      "execution_count": 25,
      "outputs": []
    },
    {
      "cell_type": "code",
      "source": [
        "from sklearn.metrics import accuracy_score, precision_score, recall_score\n",
        "models = {}\n",
        "\n",
        "for mdl in ['LR', 'SVM', 'MLP', 'RF', 'GB']:\n",
        "    models[mdl] = joblib.load('{}_model.pkl'.format(mdl))\n",
        "    "
      ],
      "metadata": {
        "id": "6LePAjcUgKU4"
      },
      "execution_count": 26,
      "outputs": []
    },
    {
      "cell_type": "code",
      "source": [
        "def evaluate_model(name, model, features, labels):\n",
        "    start = time()\n",
        "    pred = model.predict(features)\n",
        "    end = time()\n",
        "    accuracy = round(accuracy_score(labels, pred), 3)\n",
        "    precision = round(precision_score(labels, pred), 3)\n",
        "    recall = round(recall_score(labels, pred), 3)\n",
        "    print('{} -- Accuracy: {} / Precision: {} / Recall: {} / Latency: {}ms'.format(name,\n",
        "                                                                                   accuracy,\n",
        "                                                                                   precision,\n",
        "                                                                                   recall,\n",
        "                                                                                   round((end - start)*1000, 1)))"
      ],
      "metadata": {
        "id": "vxfNiI1sgVYo"
      },
      "execution_count": 27,
      "outputs": []
    },
    {
      "cell_type": "code",
      "source": [
        "for name, mdl in models.items():\n",
        "    evaluate_model(name, mdl, val_features, val_labels)"
      ],
      "metadata": {
        "id": "59xG4NuygXPn",
        "colab": {
          "base_uri": "https://localhost:8080/"
        },
        "outputId": "be11cdad-bab4-4531-e469-a241735f1999"
      },
      "execution_count": 28,
      "outputs": [
        {
          "output_type": "stream",
          "name": "stdout",
          "text": [
            "LR -- Accuracy: 1.0 / Precision: 1.0 / Recall: 1.0 / Latency: 24.4ms\n",
            "SVM -- Accuracy: 1.0 / Precision: 0.999 / Recall: 1.0 / Latency: 30.9ms\n",
            "MLP -- Accuracy: 1.0 / Precision: 0.999 / Recall: 0.999 / Latency: 31.5ms\n",
            "RF -- Accuracy: 1.0 / Precision: 1.0 / Recall: 1.0 / Latency: 71.3ms\n",
            "GB -- Accuracy: 1.0 / Precision: 1.0 / Recall: 1.0 / Latency: 52.9ms\n"
          ]
        }
      ]
    },
    {
      "cell_type": "code",
      "source": [
        "evaluate_model('Random Forest', models['RF'], te_features, te_labels)"
      ],
      "metadata": {
        "id": "F-wgvrKWgZw_",
        "colab": {
          "base_uri": "https://localhost:8080/"
        },
        "outputId": "affbd3ef-d228-4e8a-d4c4-3b90941e9e9b"
      },
      "execution_count": 29,
      "outputs": [
        {
          "output_type": "stream",
          "name": "stdout",
          "text": [
            "Random Forest -- Accuracy: 1.0 / Precision: 1.0 / Recall: 0.999 / Latency: 56.4ms\n"
          ]
        }
      ]
    }
  ]
}