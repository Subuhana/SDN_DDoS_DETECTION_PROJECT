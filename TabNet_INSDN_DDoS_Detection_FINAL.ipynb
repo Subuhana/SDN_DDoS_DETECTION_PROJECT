{
  "nbformat": 4,
  "nbformat_minor": 0,
  "metadata": {
    "colab": {
      "name": "15.TabNet_INSDN_DDoS_Detection_FINAL.ipynb",
      "provenance": [],
      "collapsed_sections": []
    },
    "kernelspec": {
      "name": "python3",
      "display_name": "Python 3"
    },
    "language_info": {
      "name": "python"
    }
  },
  "cells": [
    {
      "cell_type": "code",
      "execution_count": null,
      "metadata": {
        "id": "K9FLoO2RBJon"
      },
      "outputs": [],
      "source": [
        "import numpy as np\n",
        "import pandas as pd\n",
        "import matplotlib.pyplot as plt"
      ]
    },
    {
      "cell_type": "code",
      "source": [
        "DDoS=pd.read_csv('/content/metasploitable-2.csv')"
      ],
      "metadata": {
        "id": "zNvvWPcPBWcx"
      },
      "execution_count": null,
      "outputs": []
    },
    {
      "cell_type": "code",
      "source": [
        "DDoS.columns"
      ],
      "metadata": {
        "colab": {
          "base_uri": "https://localhost:8080/"
        },
        "id": "7hgrWuNRBfcC",
        "outputId": "ceebfe81-48fe-4fa4-e09b-ddff872989fa"
      },
      "execution_count": null,
      "outputs": [
        {
          "output_type": "execute_result",
          "data": {
            "text/plain": [
              "Index(['Flow ID', 'Src IP', 'Src Port', 'Dst IP', 'Dst Port', 'Protocol',\n",
              "       'Timestamp', 'Flow Duration', 'Tot Fwd Pkts', 'Tot Bwd Pkts',\n",
              "       'TotLen Fwd Pkts', 'TotLen Bwd Pkts', 'Fwd Pkt Len Max',\n",
              "       'Fwd Pkt Len Min', 'Fwd Pkt Len Mean', 'Fwd Pkt Len Std',\n",
              "       'Bwd Pkt Len Max', 'Bwd Pkt Len Min', 'Bwd Pkt Len Mean',\n",
              "       'Bwd Pkt Len Std', 'Flow Byts/s', 'Flow Pkts/s', 'Flow IAT Mean',\n",
              "       'Flow IAT Std', 'Flow IAT Max', 'Flow IAT Min', 'Fwd IAT Tot',\n",
              "       'Fwd IAT Mean', 'Fwd IAT Std', 'Fwd IAT Max', 'Fwd IAT Min',\n",
              "       'Bwd IAT Tot', 'Bwd IAT Mean', 'Bwd IAT Std', 'Bwd IAT Max',\n",
              "       'Bwd IAT Min', 'Fwd PSH Flags', 'Bwd PSH Flags', 'Fwd URG Flags',\n",
              "       'Bwd URG Flags', 'Fwd Header Len', 'Bwd Header Len', 'Fwd Pkts/s',\n",
              "       'Bwd Pkts/s', 'Pkt Len Min', 'Pkt Len Max', 'Pkt Len Mean',\n",
              "       'Pkt Len Std', 'Pkt Len Var', 'FIN Flag Cnt', 'SYN Flag Cnt',\n",
              "       'RST Flag Cnt', 'PSH Flag Cnt', 'ACK Flag Cnt', 'URG Flag Cnt',\n",
              "       'CWE Flag Count', 'ECE Flag Cnt', 'Down/Up Ratio', 'Pkt Size Avg',\n",
              "       'Fwd Seg Size Avg', 'Bwd Seg Size Avg', 'Fwd Byts/b Avg',\n",
              "       'Fwd Pkts/b Avg', 'Fwd Blk Rate Avg', 'Bwd Byts/b Avg',\n",
              "       'Bwd Pkts/b Avg', 'Bwd Blk Rate Avg', 'Subflow Fwd Pkts',\n",
              "       'Subflow Fwd Byts', 'Subflow Bwd Pkts', 'Subflow Bwd Byts',\n",
              "       'Init Fwd Win Byts', 'Init Bwd Win Byts', 'Fwd Act Data Pkts',\n",
              "       'Fwd Seg Size Min', 'Active Mean', 'Active Std', 'Active Max',\n",
              "       'Active Min', 'Idle Mean', 'Idle Std', 'Idle Max', 'Idle Min', 'Label'],\n",
              "      dtype='object')"
            ]
          },
          "metadata": {},
          "execution_count": 3
        }
      ]
    },
    {
      "cell_type": "code",
      "source": [
        "DDoS['Label'].value_counts()"
      ],
      "metadata": {
        "colab": {
          "base_uri": "https://localhost:8080/"
        },
        "id": "bdjd-tkFDmN1",
        "outputId": "04036841-1a3d-48da-a566-b79c3a64c13d"
      },
      "execution_count": null,
      "outputs": [
        {
          "output_type": "execute_result",
          "data": {
            "text/plain": [
              "DDoS     73529\n",
              "Probe    61757\n",
              "DoS       1145\n",
              "BFA        295\n",
              "U2R         17\n",
              "Name: Label, dtype: int64"
            ]
          },
          "metadata": {},
          "execution_count": 4
        }
      ]
    },
    {
      "cell_type": "code",
      "source": [
        "DDoS['Flow ID']=DDoS['Flow ID'].astype('category')\n",
        "DDoS['Src IP']=DDoS['Src IP'].astype('category')\n",
        "DDoS['Dst IP']=DDoS['Dst IP'].astype('category')\n",
        "DDoS['Timestamp']=DDoS['Timestamp'].astype('category')\n",
        "DDoS['Label'] = DDoS['Label'].astype('category')\n",
        "cat_columns=DDoS.select_dtypes(['category']).columns\n",
        "DDoS[cat_columns]=DDoS[cat_columns].apply(lambda X: X.cat.codes)"
      ],
      "metadata": {
        "id": "BmAzSK1sF7kv"
      },
      "execution_count": null,
      "outputs": []
    },
    {
      "cell_type": "code",
      "source": [
        "#log scaled distribution of attacks\n",
        "import matplotlib\n",
        "plt.clf()\n",
        "plt.figure(figsize=(12,8))\n",
        "params = {'axes.titlesize':'18',\n",
        "          'xtick.labelsize':'14',\n",
        "          'ytick.labelsize':'14'}\n",
        "matplotlib.rcParams.update(params)\n",
        "plt.title('Distribution of attacks')\n",
        "#df.plot(kind='barh')\n",
        "DDoS['Label'].value_counts().apply(np.log).plot(kind='barh')\n",
        "\n",
        "plt.show()"
      ],
      "metadata": {
        "colab": {
          "base_uri": "https://localhost:8080/",
          "height": 524
        },
        "id": "7cPzKze_uuW-",
        "outputId": "110c5ca2-47bd-4580-e1ae-b6ba2511a0a3"
      },
      "execution_count": null,
      "outputs": [
        {
          "output_type": "display_data",
          "data": {
            "text/plain": [
              "<Figure size 432x288 with 0 Axes>"
            ]
          },
          "metadata": {}
        },
        {
          "output_type": "display_data",
          "data": {
            "text/plain": [
              "<Figure size 864x576 with 1 Axes>"
            ],
            "image/png": "[encoded data removed]"
          },
          "metadata": {
            "needs_background": "light"
          }
        }
      ]
    },
    {
      "cell_type": "code",
      "source": [
        "from sklearn.model_selection import train_test_split\n",
        "X = DDoS[['Flow ID', 'Src IP', 'Src Port', 'Dst IP', 'Dst Port', 'Protocol',\n",
        "       'Timestamp', 'Flow Duration', 'Tot Fwd Pkts', 'Tot Bwd Pkts',\n",
        "       'TotLen Fwd Pkts', 'TotLen Bwd Pkts', 'Fwd Pkt Len Max',\n",
        "       'Fwd Pkt Len Min', 'Fwd Pkt Len Mean', 'Fwd Pkt Len Std',\n",
        "       'Bwd Pkt Len Max', 'Bwd Pkt Len Min', 'Bwd Pkt Len Mean',\n",
        "       'Bwd Pkt Len Std', 'Flow Byts/s', 'Flow Pkts/s', 'Flow IAT Mean',\n",
        "       'Flow IAT Std', 'Flow IAT Max', 'Flow IAT Min', 'Fwd IAT Tot',\n",
        "       'Fwd IAT Mean', 'Fwd IAT Std', 'Fwd IAT Max', 'Fwd IAT Min',\n",
        "       'Bwd IAT Tot', 'Bwd IAT Mean', 'Bwd IAT Std', 'Bwd IAT Max',\n",
        "       'Bwd IAT Min', 'Fwd PSH Flags', 'Bwd PSH Flags', 'Fwd URG Flags',\n",
        "       'Bwd URG Flags', 'Fwd Header Len', 'Bwd Header Len', 'Fwd Pkts/s',\n",
        "       'Bwd Pkts/s', 'Pkt Len Min', 'Pkt Len Max', 'Pkt Len Mean',\n",
        "       'Pkt Len Std', 'Pkt Len Var', 'FIN Flag Cnt', 'SYN Flag Cnt',\n",
        "       'RST Flag Cnt', 'PSH Flag Cnt', 'ACK Flag Cnt', 'URG Flag Cnt',\n",
        "       'CWE Flag Count', 'ECE Flag Cnt', 'Down/Up Ratio', 'Pkt Size Avg',\n",
        "       'Fwd Seg Size Avg', 'Bwd Seg Size Avg', 'Fwd Byts/b Avg',\n",
        "       'Fwd Pkts/b Avg', 'Fwd Blk Rate Avg', 'Bwd Byts/b Avg',\n",
        "       'Bwd Pkts/b Avg', 'Bwd Blk Rate Avg', 'Subflow Fwd Pkts',\n",
        "       'Subflow Fwd Byts', 'Subflow Bwd Pkts', 'Subflow Bwd Byts',\n",
        "       'Init Fwd Win Byts', 'Init Bwd Win Byts', 'Fwd Act Data Pkts',\n",
        "       'Fwd Seg Size Min', 'Active Mean', 'Active Std', 'Active Max',\n",
        "       'Active Min', 'Idle Mean', 'Idle Std', 'Idle Max', 'Idle Min']]\n",
        "y = DDoS['Label']\n",
        "\n",
        "X_train, X_test, y_train, y_test = train_test_split(X, y, test_size=0.2, random_state=42)"
      ],
      "metadata": {
        "id": "rV4LF-yfDs8c"
      },
      "execution_count": null,
      "outputs": []
    },
    {
      "cell_type": "code",
      "source": [
        "# Feature scaling (or standardization)\n",
        "from sklearn.preprocessing import StandardScaler\n",
        "scaler = StandardScaler()\n",
        "X_train = scaler.fit_transform(X_train)\n",
        "X_test = scaler.transform(X_test)"
      ],
      "metadata": {
        "id": "YPqv2eX7D5Oq"
      },
      "execution_count": null,
      "outputs": []
    },
    {
      "cell_type": "code",
      "source": [
        "!pip install pytorch-tabnet"
      ],
      "metadata": {
        "colab": {
          "base_uri": "https://localhost:8080/"
        },
        "id": "KjNj2i0YF_cE",
        "outputId": "077ec547-be80-4799-f97a-07db81ce3790"
      },
      "execution_count": null,
      "outputs": [
        {
          "output_type": "stream",
          "name": "stdout",
          "text": [
            "Collecting pytorch-tabnet\n",
            "  Downloading pytorch_tabnet-3.1.1-py3-none-any.whl (39 kB)\n",
            "Requirement already satisfied: scikit_learn>0.21 in /usr/local/lib/python3.7/dist-packages (from pytorch-tabnet) (1.0.2)\n",
            "Requirement already satisfied: torch<2.0,>=1.2 in /usr/local/lib/python3.7/dist-packages (from pytorch-tabnet) (1.11.0+cu113)\n",
            "Requirement already satisfied: scipy>1.4 in /usr/local/lib/python3.7/dist-packages (from pytorch-tabnet) (1.4.1)\n",
            "Requirement already satisfied: numpy<2.0,>=1.17 in /usr/local/lib/python3.7/dist-packages (from pytorch-tabnet) (1.21.6)\n",
            "Requirement already satisfied: tqdm<5.0,>=4.36 in /usr/local/lib/python3.7/dist-packages (from pytorch-tabnet) (4.64.0)\n",
            "Requirement already satisfied: joblib>=0.11 in /usr/local/lib/python3.7/dist-packages (from scikit_learn>0.21->pytorch-tabnet) (1.1.0)\n",
            "Requirement already satisfied: threadpoolctl>=2.0.0 in /usr/local/lib/python3.7/dist-packages (from scikit_learn>0.21->pytorch-tabnet) (3.1.0)\n",
            "Requirement already satisfied: typing-extensions in /usr/local/lib/python3.7/dist-packages (from torch<2.0,>=1.2->pytorch-tabnet) (4.2.0)\n",
            "Installing collected packages: pytorch-tabnet\n",
            "Successfully installed pytorch-tabnet-3.1.1\n"
          ]
        }
      ]
    },
    {
      "cell_type": "code",
      "source": [
        "from pytorch_tabnet.tab_model import TabNetClassifier\n",
        "import torch\n",
        "\n",
        "from sklearn.metrics import roc_auc_score, accuracy_score"
      ],
      "metadata": {
        "id": "M1gZoGcvGB11"
      },
      "execution_count": null,
      "outputs": []
    },
    {
      "cell_type": "code",
      "source": [
        "# define the model\n",
        "model= TabNetClassifier(optimizer_fn=torch.optim.Adam,n_d=8,n_a=8,n_steps=3,\n",
        "                       optimizer_params=dict(lr=2e-2),\n",
        "                       scheduler_params={\"step_size\":10, # how to use learning rate scheduler\n",
        "                                         \"gamma\":0.9},\n",
        "                       scheduler_fn=torch.optim.lr_scheduler.StepLR,\n",
        "                       mask_type='entmax'\n",
        "                      )"
      ],
      "metadata": {
        "colab": {
          "base_uri": "https://localhost:8080/"
        },
        "id": "_N95OJEKGEJA",
        "outputId": "c9d735ca-11c6-4f26-fd35-e70149b146e4"
      },
      "execution_count": null,
      "outputs": [
        {
          "output_type": "stream",
          "name": "stdout",
          "text": [
            "Device used : cpu\n"
          ]
        }
      ]
    },
    {
      "cell_type": "code",
      "source": [
        "# fit the model \n",
        "model.fit(\n",
        "    X_train,y_train,\n",
        "    eval_set=[(X_train, y_train), (X_test, y_test)],\n",
        "    eval_name=['train', 'valid'],\n",
        "    eval_metric=['balanced_accuracy','accuracy'],\n",
        "    max_epochs=20 , patience=10,\n",
        "    batch_size=256, virtual_batch_size=128,\n",
        "    num_workers=0,\n",
        "    weights=1,\n",
        "    drop_last=False\n",
        ")    "
      ],
      "metadata": {
        "colab": {
          "base_uri": "https://localhost:8080/"
        },
        "id": "2oX83S5rGHKj",
        "outputId": "8a1aecfc-f1bd-4364-c2c3-1c4f893db331"
      },
      "execution_count": null,
      "outputs": [
        {
          "output_type": "stream",
          "name": "stdout",
          "text": [
            "epoch 0  | loss: 0.00905 | train_balanced_accuracy: 0.99214 | train_accuracy: 0.97892 | valid_balanced_accuracy: 0.94825 | valid_accuracy: 0.97806 |  0:00:18s\n",
            "epoch 1  | loss: 0.0083  | train_balanced_accuracy: 0.99505 | train_accuracy: 0.98872 | valid_balanced_accuracy: 0.94759 | valid_accuracy: 0.98823 |  0:00:37s\n",
            "epoch 2  | loss: 0.00242 | train_balanced_accuracy: 0.99999 | train_accuracy: 0.99997 | valid_balanced_accuracy: 0.95633 | valid_accuracy: 0.99985 |  0:01:02s\n",
            "epoch 3  | loss: 0.00173 | train_balanced_accuracy: 0.9998  | train_accuracy: 0.99947 | valid_balanced_accuracy: 0.95247 | valid_accuracy: 0.9992  |  0:01:22s\n",
            "epoch 4  | loss: 0.002   | train_balanced_accuracy: 0.99999 | train_accuracy: 0.99998 | valid_balanced_accuracy: 0.95629 | valid_accuracy: 0.99974 |  0:01:41s\n",
            "epoch 5  | loss: 0.00023 | train_balanced_accuracy: 0.99999 | train_accuracy: 0.99998 | valid_balanced_accuracy: 0.95631 | valid_accuracy: 0.99978 |  0:02:03s\n",
            "epoch 6  | loss: 0.00113 | train_balanced_accuracy: 1.0     | train_accuracy: 0.99999 | valid_balanced_accuracy: 0.95635 | valid_accuracy: 0.99989 |  0:02:21s\n",
            "epoch 7  | loss: 0.00064 | train_balanced_accuracy: 0.99999 | train_accuracy: 0.99997 | valid_balanced_accuracy: 0.95635 | valid_accuracy: 0.99989 |  0:02:38s\n",
            "epoch 8  | loss: 0.00169 | train_balanced_accuracy: 0.99999 | train_accuracy: 0.99997 | valid_balanced_accuracy: 0.95632 | valid_accuracy: 0.99982 |  0:02:53s\n",
            "epoch 9  | loss: 0.00065 | train_balanced_accuracy: 0.99998 | train_accuracy: 0.99995 | valid_balanced_accuracy: 0.95635 | valid_accuracy: 0.99989 |  0:03:09s\n",
            "epoch 10 | loss: 0.0022  | train_balanced_accuracy: 0.99998 | train_accuracy: 0.99995 | valid_balanced_accuracy: 0.95271 | valid_accuracy: 0.99985 |  0:03:25s\n",
            "epoch 11 | loss: 0.00148 | train_balanced_accuracy: 0.99999 | train_accuracy: 0.99997 | valid_balanced_accuracy: 0.95271 | valid_accuracy: 0.99985 |  0:03:41s\n",
            "epoch 12 | loss: 0.0006  | train_balanced_accuracy: 0.99999 | train_accuracy: 0.99997 | valid_balanced_accuracy: 0.95271 | valid_accuracy: 0.99985 |  0:03:57s\n",
            "epoch 13 | loss: 0.00011 | train_balanced_accuracy: 1.0     | train_accuracy: 0.99999 | valid_balanced_accuracy: 0.95271 | valid_accuracy: 0.99985 |  0:04:14s\n",
            "epoch 14 | loss: 8e-05   | train_balanced_accuracy: 0.99999 | train_accuracy: 0.99998 | valid_balanced_accuracy: 0.95271 | valid_accuracy: 0.99985 |  0:04:30s\n",
            "epoch 15 | loss: 0.00079 | train_balanced_accuracy: 0.99935 | train_accuracy: 0.99901 | valid_balanced_accuracy: 0.95229 | valid_accuracy: 0.9989  |  0:04:46s\n",
            "epoch 16 | loss: 0.00315 | train_balanced_accuracy: 1.0     | train_accuracy: 0.99999 | valid_balanced_accuracy: 0.95269 | valid_accuracy: 0.99978 |  0:05:02s\n",
            "\n",
            "Early stopping occurred at epoch 16 with best_epoch = 6 and best_valid_accuracy = 0.99989\n",
            "Best weights from best epoch are automatically used!\n"
          ]
        }
      ]
    },
    {
      "cell_type": "code",
      "source": [
        "# plot losses\n",
        "plt.plot(model.history['loss'])\n",
        "plt.title('TabNet Model loss')\n",
        "plt.ylabel('loss')\n",
        "plt.xlabel('Epoch')\n",
        "plt.legend(['Train', 'Test'], loc='lower right')\n",
        "plt.savefig('TabNet Model loss.png')\n",
        "plt.show()"
      ],
      "metadata": {
        "colab": {
          "base_uri": "https://localhost:8080/",
          "height": 295
        },
        "id": "JtSLASY-GNv3",
        "outputId": "8f8044fa-71d4-47ff-fdd0-dadbf36b1971"
      },
      "execution_count": null,
      "outputs": [
        {
          "output_type": "display_data",
          "data": {
            "text/plain": [
              "<Figure size 432x288 with 1 Axes>"
            ],
            "image/png": "[encoded data removed]"
          },
          "metadata": {
            "needs_background": "light"
          }
        }
      ]
    },
    {
      "cell_type": "code",
      "source": [
        "# plot accuracy\n",
        "plt.plot(model.history['train_accuracy'])\n",
        "plt.plot(model.history['valid_accuracy'])\n",
        "plt.title('TabNet Model Accuracy')\n",
        "plt.ylabel('Accuracy')\n",
        "plt.xlabel('Epoch')\n",
        "plt.legend(['Train', 'Test'], loc='lower right')\n",
        "plt.savefig('TabNet Model Accuracy.png')\n",
        "plt.show()"
      ],
      "metadata": {
        "colab": {
          "base_uri": "https://localhost:8080/",
          "height": 295
        },
        "id": "p6wThj3vGQPP",
        "outputId": "91d048dc-3450-4739-cb2d-23eb9e68b474"
      },
      "execution_count": null,
      "outputs": [
        {
          "output_type": "display_data",
          "data": {
            "text/plain": [
              "<Figure size 432x288 with 1 Axes>"
            ],
            "image/png": "[encoded data removed]"
          },
          "metadata": {
            "needs_background": "light"
          }
        }
      ]
    },
    {
      "cell_type": "code",
      "source": [
        "# plot learning rates\n",
        "plt.plot(model.history['lr'])"
      ],
      "metadata": {
        "colab": {
          "base_uri": "https://localhost:8080/",
          "height": 282
        },
        "id": "6f9HxcD_GSOg",
        "outputId": "3f57f13e-7670-4a5a-d106-0329d8d539f7"
      },
      "execution_count": null,
      "outputs": [
        {
          "output_type": "execute_result",
          "data": {
            "text/plain": [
              "[<matplotlib.lines.Line2D at 0x7f617da44990>]"
            ]
          },
          "metadata": {},
          "execution_count": 28
        },
        {
          "output_type": "display_data",
          "data": {
            "text/plain": [
              "<Figure size 432x288 with 1 Axes>"
            ],
            "image/png": "[encoded data removed]"
          },
          "metadata": {
            "needs_background": "light"
          }
        }
      ]
    },
    {
      "cell_type": "code",
      "source": [
        "# local explainability and masks\n",
        "explain_matrix, masks = model.explain(X_test)"
      ],
      "metadata": {
        "id": "kr-NJT3ZH39p"
      },
      "execution_count": null,
      "outputs": []
    },
    {
      "cell_type": "code",
      "source": [
        "fig, axs = plt.subplots(1, 3, figsize=(20,20))\n",
        "\n",
        "for i in range(3):\n",
        "    axs[i].imshow(masks[i][:83])\n",
        "    axs[i].set_title(f\"mask {i}\")"
      ],
      "metadata": {
        "colab": {
          "base_uri": "https://localhost:8080/",
          "height": 392
        },
        "id": "3MgAqRjRH9kO",
        "outputId": "9b6446a3-7ed5-4d68-a4f5-93f1ef414d31"
      },
      "execution_count": null,
      "outputs": [
        {
          "output_type": "display_data",
          "data": {
            "text/plain": [
              "<Figure size 1440x1440 with 3 Axes>"
            ],
            "image/png": "[encoded data removed]"
          },
          "metadata": {
            "needs_background": "light"
          }
        }
      ]
    },
    {
      "cell_type": "code",
      "source": [
        "#prediction\n",
        "y_pred = model.predict(X_test)"
      ],
      "metadata": {
        "id": "l-r7UbRHIAPX"
      },
      "execution_count": null,
      "outputs": []
    },
    {
      "cell_type": "code",
      "source": [
        "# determine best accuracy for test set\n",
        "preds = model.predict(X_test)\n",
        "test_acc = accuracy_score(preds, y_test)\n",
        "print(f\"BEST ACCURACY SCORE ON TEST SET : {test_acc}\")"
      ],
      "metadata": {
        "colab": {
          "base_uri": "https://localhost:8080/"
        },
        "id": "IRx89PmSICw3",
        "outputId": "775ca968-4d39-41d1-84b7-5ea8ac628518"
      },
      "execution_count": null,
      "outputs": [
        {
          "output_type": "stream",
          "name": "stdout",
          "text": [
            "BEST ACCURACY SCORE ON TEST SET : 0.9998903067753848\n"
          ]
        }
      ]
    }
  ]
}