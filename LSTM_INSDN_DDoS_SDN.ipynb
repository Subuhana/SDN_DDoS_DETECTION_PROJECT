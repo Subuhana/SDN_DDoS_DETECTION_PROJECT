{
  "nbformat": 4,
  "nbformat_minor": 0,
  "metadata": {
    "colab": {
      "name": "13.LSTM_INSDN_DDoS_SDN.ipynb",
      "provenance": [],
      "collapsed_sections": []
    },
    "kernelspec": {
      "name": "python3",
      "display_name": "Python 3"
    },
    "language_info": {
      "name": "python"
    }
  },
  "cells": [
    {
      "cell_type": "code",
      "execution_count": 1,
      "metadata": {
        "id": "caA-QqK6Ivcx"
      },
      "outputs": [],
      "source": [
        "import pandas as pd\n",
        "import numpy as np\n",
        "import matplotlib\n",
        "import matplotlib.pyplot as plt"
      ]
    },
    {
      "cell_type": "code",
      "source": [
        "DDoS=pd.read_csv('/content/metasploitable-2.csv')"
      ],
      "metadata": {
        "id": "HPetCb1ELOPX"
      },
      "execution_count": 2,
      "outputs": []
    },
    {
      "cell_type": "code",
      "source": [
        "DDoS.columns"
      ],
      "metadata": {
        "colab": {
          "base_uri": "https://localhost:8080/"
        },
        "id": "TpmlbVo-LQ4A",
        "outputId": "80bee6a0-beb5-4301-cc04-8966d2cc2f73"
      },
      "execution_count": 3,
      "outputs": [
        {
          "output_type": "execute_result",
          "data": {
            "text/plain": [
              "Index(['Flow ID', 'Src IP', 'Src Port', 'Dst IP', 'Dst Port', 'Protocol',\n",
              "       'Timestamp', 'Flow Duration', 'Tot Fwd Pkts', 'Tot Bwd Pkts',\n",
              "       'TotLen Fwd Pkts', 'TotLen Bwd Pkts', 'Fwd Pkt Len Max',\n",
              "       'Fwd Pkt Len Min', 'Fwd Pkt Len Mean', 'Fwd Pkt Len Std',\n",
              "       'Bwd Pkt Len Max', 'Bwd Pkt Len Min', 'Bwd Pkt Len Mean',\n",
              "       'Bwd Pkt Len Std', 'Flow Byts/s', 'Flow Pkts/s', 'Flow IAT Mean',\n",
              "       'Flow IAT Std', 'Flow IAT Max', 'Flow IAT Min', 'Fwd IAT Tot',\n",
              "       'Fwd IAT Mean', 'Fwd IAT Std', 'Fwd IAT Max', 'Fwd IAT Min',\n",
              "       'Bwd IAT Tot', 'Bwd IAT Mean', 'Bwd IAT Std', 'Bwd IAT Max',\n",
              "       'Bwd IAT Min', 'Fwd PSH Flags', 'Bwd PSH Flags', 'Fwd URG Flags',\n",
              "       'Bwd URG Flags', 'Fwd Header Len', 'Bwd Header Len', 'Fwd Pkts/s',\n",
              "       'Bwd Pkts/s', 'Pkt Len Min', 'Pkt Len Max', 'Pkt Len Mean',\n",
              "       'Pkt Len Std', 'Pkt Len Var', 'FIN Flag Cnt', 'SYN Flag Cnt',\n",
              "       'RST Flag Cnt', 'PSH Flag Cnt', 'ACK Flag Cnt', 'URG Flag Cnt',\n",
              "       'CWE Flag Count', 'ECE Flag Cnt', 'Down/Up Ratio', 'Pkt Size Avg',\n",
              "       'Fwd Seg Size Avg', 'Bwd Seg Size Avg', 'Fwd Byts/b Avg',\n",
              "       'Fwd Pkts/b Avg', 'Fwd Blk Rate Avg', 'Bwd Byts/b Avg',\n",
              "       'Bwd Pkts/b Avg', 'Bwd Blk Rate Avg', 'Subflow Fwd Pkts',\n",
              "       'Subflow Fwd Byts', 'Subflow Bwd Pkts', 'Subflow Bwd Byts',\n",
              "       'Init Fwd Win Byts', 'Init Bwd Win Byts', 'Fwd Act Data Pkts',\n",
              "       'Fwd Seg Size Min', 'Active Mean', 'Active Std', 'Active Max',\n",
              "       'Active Min', 'Idle Mean', 'Idle Std', 'Idle Max', 'Idle Min', 'Label'],\n",
              "      dtype='object')"
            ]
          },
          "metadata": {},
          "execution_count": 3
        }
      ]
    },
    {
      "cell_type": "code",
      "source": [
        "DDoS['Label'].value_counts()"
      ],
      "metadata": {
        "colab": {
          "base_uri": "https://localhost:8080/"
        },
        "id": "BPOUa00SLThR",
        "outputId": "26805176-7364-4b94-e7a6-49b09da87282"
      },
      "execution_count": 4,
      "outputs": [
        {
          "output_type": "execute_result",
          "data": {
            "text/plain": [
              "DDoS     73529\n",
              "Probe    61757\n",
              "DoS       1145\n",
              "BFA        295\n",
              "U2R         17\n",
              "Name: Label, dtype: int64"
            ]
          },
          "metadata": {},
          "execution_count": 4
        }
      ]
    },
    {
      "cell_type": "code",
      "source": [
        "#log scaled distribution of attacks\n",
        "plt.clf()\n",
        "plt.figure(figsize=(12,8))\n",
        "params = {'axes.titlesize':'18',\n",
        "          'xtick.labelsize':'14',\n",
        "          'ytick.labelsize':'14'}\n",
        "matplotlib.rcParams.update(params)\n",
        "plt.title('Distribution of attacks')\n",
        "#df.plot(kind='barh')\n",
        "DDoS['Label'].value_counts().apply(np.log).plot(kind='barh')\n",
        "\n",
        "plt.show()"
      ],
      "metadata": {
        "colab": {
          "base_uri": "https://localhost:8080/",
          "height": 524
        },
        "id": "kTjgYhr5LWTN",
        "outputId": "1e8407b6-ef2c-446d-9c5d-1412ea77bf53"
      },
      "execution_count": 5,
      "outputs": [
        {
          "output_type": "display_data",
          "data": {
            "text/plain": [
              "<Figure size 432x288 with 0 Axes>"
            ]
          },
          "metadata": {}
        },
        {
          "output_type": "display_data",
          "data": {
            "text/plain": [
              "<Figure size 864x576 with 1 Axes>"
            ],
            "image/png": "[encoded data removed]"
          },
          "metadata": {
            "needs_background": "light"
          }
        }
      ]
    },
    {
      "cell_type": "code",
      "source": [
        "#Transformations of categorical features\n",
        "DDoS['Flow ID'] = DDoS['Flow ID'].astype('category')\n",
        "DDoS['Src IP'] = DDoS['Src IP'].astype('category')\n",
        "DDoS['Dst IP'] = DDoS['Dst IP'].astype('category')\n",
        "DDoS['Timestamp'] = DDoS['Timestamp'].astype('category')\n",
        "DDoS['Label'] = DDoS['Label'].astype('category')\n",
        "\n",
        "cat_columns = DDoS.select_dtypes(['category']).columns\n",
        "DDoS[cat_columns] = DDoS[cat_columns].apply(lambda x: x.cat.codes)"
      ],
      "metadata": {
        "id": "QER3tcHwLZoS"
      },
      "execution_count": 6,
      "outputs": []
    },
    {
      "cell_type": "code",
      "source": [
        "#Removal of duplicates\n",
        "DDoS.drop_duplicates(subset=None, keep='first', inplace=True)"
      ],
      "metadata": {
        "id": "BIqdKHRlLdZc"
      },
      "execution_count": 7,
      "outputs": []
    },
    {
      "cell_type": "code",
      "source": [
        "DDoS.shape"
      ],
      "metadata": {
        "colab": {
          "base_uri": "https://localhost:8080/"
        },
        "id": "BmBzHaMBLgS6",
        "outputId": "fef6b678-8636-4204-a112-b2f4a57e13a6"
      },
      "execution_count": 8,
      "outputs": [
        {
          "output_type": "execute_result",
          "data": {
            "text/plain": [
              "(136743, 84)"
            ]
          },
          "metadata": {},
          "execution_count": 8
        }
      ]
    },
    {
      "cell_type": "code",
      "source": [
        "DDoS['Label'].value_counts()"
      ],
      "metadata": {
        "colab": {
          "base_uri": "https://localhost:8080/"
        },
        "id": "WMPtuzO7LjOb",
        "outputId": "63af6ae3-a0f4-432d-e901-b75b7e24a6e2"
      },
      "execution_count": 9,
      "outputs": [
        {
          "output_type": "execute_result",
          "data": {
            "text/plain": [
              "1    73529\n",
              "3    61757\n",
              "2     1145\n",
              "0      295\n",
              "4       17\n",
              "Name: Label, dtype: int64"
            ]
          },
          "metadata": {},
          "execution_count": 9
        }
      ]
    },
    {
      "cell_type": "code",
      "source": [
        "from sklearn.model_selection import train_test_split\n",
        "X = DDoS[['Flow ID', 'Src IP', 'Src Port', 'Dst IP', 'Dst Port', 'Protocol',\n",
        "       'Timestamp', 'Flow Duration', 'Tot Fwd Pkts', 'Tot Bwd Pkts',\n",
        "       'TotLen Fwd Pkts', 'TotLen Bwd Pkts', 'Fwd Pkt Len Max',\n",
        "       'Fwd Pkt Len Min', 'Fwd Pkt Len Mean', 'Fwd Pkt Len Std',\n",
        "       'Bwd Pkt Len Max', 'Bwd Pkt Len Min', 'Bwd Pkt Len Mean',\n",
        "       'Bwd Pkt Len Std', 'Flow Byts/s', 'Flow Pkts/s', 'Flow IAT Mean',\n",
        "       'Flow IAT Std', 'Flow IAT Max', 'Flow IAT Min', 'Fwd IAT Tot',\n",
        "       'Fwd IAT Mean', 'Fwd IAT Std', 'Fwd IAT Max', 'Fwd IAT Min',\n",
        "       'Bwd IAT Tot', 'Bwd IAT Mean', 'Bwd IAT Std', 'Bwd IAT Max',\n",
        "       'Bwd IAT Min', 'Fwd PSH Flags', 'Bwd PSH Flags', 'Fwd URG Flags',\n",
        "       'Bwd URG Flags', 'Fwd Header Len', 'Bwd Header Len', 'Fwd Pkts/s',\n",
        "       'Bwd Pkts/s', 'Pkt Len Min', 'Pkt Len Max', 'Pkt Len Mean',\n",
        "       'Pkt Len Std', 'Pkt Len Var', 'FIN Flag Cnt', 'SYN Flag Cnt',\n",
        "       'RST Flag Cnt', 'PSH Flag Cnt', 'ACK Flag Cnt', 'URG Flag Cnt',\n",
        "       'CWE Flag Count', 'ECE Flag Cnt', 'Down/Up Ratio', 'Pkt Size Avg',\n",
        "       'Fwd Seg Size Avg', 'Bwd Seg Size Avg', 'Fwd Byts/b Avg',\n",
        "       'Fwd Pkts/b Avg', 'Fwd Blk Rate Avg', 'Bwd Byts/b Avg',\n",
        "       'Bwd Pkts/b Avg', 'Bwd Blk Rate Avg', 'Subflow Fwd Pkts',\n",
        "       'Subflow Fwd Byts', 'Subflow Bwd Pkts', 'Subflow Bwd Byts',\n",
        "       'Init Fwd Win Byts', 'Init Bwd Win Byts', 'Fwd Act Data Pkts',\n",
        "       'Fwd Seg Size Min', 'Active Mean', 'Active Std', 'Active Max',\n",
        "       'Active Min', 'Idle Mean', 'Idle Std', 'Idle Max', 'Idle Min']]\n",
        "y = DDoS['Label']\n",
        "\n",
        "X_train, X_test, y_train, y_test = train_test_split(X, y, test_size=0.2, random_state=42)"
      ],
      "metadata": {
        "id": "_DBKLZpJLnbp"
      },
      "execution_count": 10,
      "outputs": []
    },
    {
      "cell_type": "code",
      "source": [
        "# Feature scaling (or standardization)\n",
        "from sklearn.preprocessing import StandardScaler\n",
        "scaler = StandardScaler()\n",
        "X_train = scaler.fit_transform(X_train)\n",
        "X_test = scaler.transform(X_test)"
      ],
      "metadata": {
        "id": "LMgG55ZPLsB2"
      },
      "execution_count": 11,
      "outputs": []
    },
    {
      "cell_type": "code",
      "source": [
        "DDoS.groupby([\"Timestamp\",\"Src IP\"]).first()"
      ],
      "metadata": {
        "colab": {
          "base_uri": "https://localhost:8080/",
          "height": 588
        },
        "id": "TNxXJbMuLv3m",
        "outputId": "d4792bc7-926c-4815-e746-d9c00cb3c70b"
      },
      "execution_count": 12,
      "outputs": [
        {
          "output_type": "execute_result",
          "data": {
            "text/plain": [
              "                  Flow ID  Src Port  Dst IP  Dst Port  Protocol  \\\n",
              "Timestamp Src IP                                                  \n",
              "0         34877     44484     48052       2      4444         6   \n",
              "          37596     46761     46191       1      6667         6   \n",
              "1         34877     44484     48052       2      4444         6   \n",
              "          37596     46761     46191       1      6667         6   \n",
              "2         34877     61449      8180       2     36317         6   \n",
              "...                   ...       ...     ...       ...       ...   \n",
              "54        37596     61037     57880       1        80         6   \n",
              "55        37596     61041     57888       1        80         6   \n",
              "56        34877     61148        80       2     58102         6   \n",
              "          37596     61115     58036       1        80         6   \n",
              "57        37596     46192     38811       1      6200         6   \n",
              "\n",
              "                  Flow Duration  Tot Fwd Pkts  Tot Bwd Pkts  TotLen Fwd Pkts  \\\n",
              "Timestamp Src IP                                                               \n",
              "0         34877         8737298             3             4               24   \n",
              "          37596        11685939             6             6               30   \n",
              "1         34877         8734991             3             4               24   \n",
              "          37596        11684506             6             6              236   \n",
              "2         34877            4880             0             2                0   \n",
              "...                         ...           ...           ...              ...   \n",
              "54        37596       109089313            11            12              211   \n",
              "55        37596        56528561             5             5               52   \n",
              "56        34877           66031             0             3                0   \n",
              "          37596           15815             1             1                0   \n",
              "57        37596         3625973             6             7               48   \n",
              "\n",
              "                  TotLen Bwd Pkts  ...  Fwd Seg Size Min   Active Mean  \\\n",
              "Timestamp Src IP                   ...                                   \n",
              "0         34877                 3  ...                 0  3.266000e+03   \n",
              "          37596                90  ...                 0  1.007116e+06   \n",
              "1         34877                 3  ...                 0  2.816000e+03   \n",
              "          37596               236  ...                 0  1.010213e+06   \n",
              "2         34877                 0  ...                 0  0.000000e+00   \n",
              "...                           ...  ...               ...           ...   \n",
              "54        37596                 0  ...                 0  5.578216e+05   \n",
              "55        37596                22  ...                 0  8.500000e+00   \n",
              "56        34877                 0  ...                 0  0.000000e+00   \n",
              "          37596                 0  ...                 0  0.000000e+00   \n",
              "57        37596                41  ...                 0  0.000000e+00   \n",
              "\n",
              "                    Active Std  Active Max  Active Min   Idle Mean  \\\n",
              "Timestamp Src IP                                                     \n",
              "0         34877   0.000000e+00        3266        3266   8730838.0   \n",
              "          37596   0.000000e+00     1007116     1007116   9992141.0   \n",
              "1         34877   0.000000e+00        2816        2816   8728974.0   \n",
              "          37596   0.000000e+00     1010213     1010213   9992159.0   \n",
              "2         34877   0.000000e+00           0           0         0.0   \n",
              "...                        ...         ...         ...         ...   \n",
              "54        37596   1.475776e+06     3904568          18  15000000.0   \n",
              "55        37596   1.290994e+00          10           7  14100000.0   \n",
              "56        34877   0.000000e+00           0           0         0.0   \n",
              "          37596   0.000000e+00           0           0         0.0   \n",
              "57        37596   0.000000e+00           0           0         0.0   \n",
              "\n",
              "                      Idle Std    Idle Max    Idle Min  Label  \n",
              "Timestamp Src IP                                               \n",
              "0         34877   0.000000e+00   8730838.0   8730838.0      4  \n",
              "          37596   0.000000e+00   9992141.0   9992141.0      4  \n",
              "1         34877   0.000000e+00   8728974.0   8728974.0      4  \n",
              "          37596   0.000000e+00   9992159.0   9992159.0      4  \n",
              "2         34877   0.000000e+00         0.0         0.0      0  \n",
              "...                        ...         ...         ...    ...  \n",
              "54        37596   6.596303e+03  15000000.0  15000000.0      2  \n",
              "55        37596   1.792146e+06  15000000.0  11400000.0      2  \n",
              "56        34877   0.000000e+00         0.0         0.0      2  \n",
              "          37596   0.000000e+00         0.0         0.0      2  \n",
              "57        37596   0.000000e+00         0.0         0.0      4  \n",
              "\n",
              "[73598 rows x 82 columns]"
            ],
            "text/html": [
              "\n",
              "  <div id=\"df-b1048684-cf77-46cf-b9b6-d779b4ade59d\">\n",
              "    <div class=\"colab-df-container\">\n",
              "      <div>\n",
              "<style scoped>\n",
              "    .dataframe tbody tr th:only-of-type {\n",
              "        vertical-align: middle;\n",
              "    }\n",
              "\n",
              "    .dataframe tbody tr th {\n",
              "        vertical-align: top;\n",
              "    }\n",
              "\n",
              "    .dataframe thead th {\n",
              "        text-align: right;\n",
              "    }\n",
              "</style>\n",
              "<table border=\"1\" class=\"dataframe\">\n",
              "  <thead>\n",
              "    <tr style=\"text-align: right;\">\n",
              "      <th></th>\n",
              "      <th></th>\n",
              "      <th>Flow ID</th>\n",
              "      <th>Src Port</th>\n",
              "      <th>Dst IP</th>\n",
              "      <th>Dst Port</th>\n",
              "      <th>Protocol</th>\n",
              "      <th>Flow Duration</th>\n",
              "      <th>Tot Fwd Pkts</th>\n",
              "      <th>Tot Bwd Pkts</th>\n",
              "      <th>TotLen Fwd Pkts</th>\n",
              "      <th>TotLen Bwd Pkts</th>\n",
              "      <th>...</th>\n",
              "      <th>Fwd Seg Size Min</th>\n",
              "      <th>Active Mean</th>\n",
              "      <th>Active Std</th>\n",
              "      <th>Active Max</th>\n",
              "      <th>Active Min</th>\n",
              "      <th>Idle Mean</th>\n",
              "      <th>Idle Std</th>\n",
              "      <th>Idle Max</th>\n",
              "      <th>Idle Min</th>\n",
              "      <th>Label</th>\n",
              "    </tr>\n",
              "    <tr>\n",
              "      <th>Timestamp</th>\n",
              "      <th>Src IP</th>\n",
              "      <th></th>\n",
              "      <th></th>\n",
              "      <th></th>\n",
              "      <th></th>\n",
              "      <th></th>\n",
              "      <th></th>\n",
              "      <th></th>\n",
              "      <th></th>\n",
              "      <th></th>\n",
              "      <th></th>\n",
              "      <th></th>\n",
              "      <th></th>\n",
              "      <th></th>\n",
              "      <th></th>\n",
              "      <th></th>\n",
              "      <th></th>\n",
              "      <th></th>\n",
              "      <th></th>\n",
              "      <th></th>\n",
              "      <th></th>\n",
              "      <th></th>\n",
              "    </tr>\n",
              "  </thead>\n",
              "  <tbody>\n",
              "    <tr>\n",
              "      <th rowspan=\"2\" valign=\"top\">0</th>\n",
              "      <th>34877</th>\n",
              "      <td>44484</td>\n",
              "      <td>48052</td>\n",
              "      <td>2</td>\n",
              "      <td>4444</td>\n",
              "      <td>6</td>\n",
              "      <td>8737298</td>\n",
              "      <td>3</td>\n",
              "      <td>4</td>\n",
              "      <td>24</td>\n",
              "      <td>3</td>\n",
              "      <td>...</td>\n",
              "      <td>0</td>\n",
              "      <td>3.266000e+03</td>\n",
              "      <td>0.000000e+00</td>\n",
              "      <td>3266</td>\n",
              "      <td>3266</td>\n",
              "      <td>8730838.0</td>\n",
              "      <td>0.000000e+00</td>\n",
              "      <td>8730838.0</td>\n",
              "      <td>8730838.0</td>\n",
              "      <td>4</td>\n",
              "    </tr>\n",
              "    <tr>\n",
              "      <th>37596</th>\n",
              "      <td>46761</td>\n",
              "      <td>46191</td>\n",
              "      <td>1</td>\n",
              "      <td>6667</td>\n",
              "      <td>6</td>\n",
              "      <td>11685939</td>\n",
              "      <td>6</td>\n",
              "      <td>6</td>\n",
              "      <td>30</td>\n",
              "      <td>90</td>\n",
              "      <td>...</td>\n",
              "      <td>0</td>\n",
              "      <td>1.007116e+06</td>\n",
              "      <td>0.000000e+00</td>\n",
              "      <td>1007116</td>\n",
              "      <td>1007116</td>\n",
              "      <td>9992141.0</td>\n",
              "      <td>0.000000e+00</td>\n",
              "      <td>9992141.0</td>\n",
              "      <td>9992141.0</td>\n",
              "      <td>4</td>\n",
              "    </tr>\n",
              "    <tr>\n",
              "      <th rowspan=\"2\" valign=\"top\">1</th>\n",
              "      <th>34877</th>\n",
              "      <td>44484</td>\n",
              "      <td>48052</td>\n",
              "      <td>2</td>\n",
              "      <td>4444</td>\n",
              "      <td>6</td>\n",
              "      <td>8734991</td>\n",
              "      <td>3</td>\n",
              "      <td>4</td>\n",
              "      <td>24</td>\n",
              "      <td>3</td>\n",
              "      <td>...</td>\n",
              "      <td>0</td>\n",
              "      <td>2.816000e+03</td>\n",
              "      <td>0.000000e+00</td>\n",
              "      <td>2816</td>\n",
              "      <td>2816</td>\n",
              "      <td>8728974.0</td>\n",
              "      <td>0.000000e+00</td>\n",
              "      <td>8728974.0</td>\n",
              "      <td>8728974.0</td>\n",
              "      <td>4</td>\n",
              "    </tr>\n",
              "    <tr>\n",
              "      <th>37596</th>\n",
              "      <td>46761</td>\n",
              "      <td>46191</td>\n",
              "      <td>1</td>\n",
              "      <td>6667</td>\n",
              "      <td>6</td>\n",
              "      <td>11684506</td>\n",
              "      <td>6</td>\n",
              "      <td>6</td>\n",
              "      <td>236</td>\n",
              "      <td>236</td>\n",
              "      <td>...</td>\n",
              "      <td>0</td>\n",
              "      <td>1.010213e+06</td>\n",
              "      <td>0.000000e+00</td>\n",
              "      <td>1010213</td>\n",
              "      <td>1010213</td>\n",
              "      <td>9992159.0</td>\n",
              "      <td>0.000000e+00</td>\n",
              "      <td>9992159.0</td>\n",
              "      <td>9992159.0</td>\n",
              "      <td>4</td>\n",
              "    </tr>\n",
              "    <tr>\n",
              "      <th>2</th>\n",
              "      <th>34877</th>\n",
              "      <td>61449</td>\n",
              "      <td>8180</td>\n",
              "      <td>2</td>\n",
              "      <td>36317</td>\n",
              "      <td>6</td>\n",
              "      <td>4880</td>\n",
              "      <td>0</td>\n",
              "      <td>2</td>\n",
              "      <td>0</td>\n",
              "      <td>0</td>\n",
              "      <td>...</td>\n",
              "      <td>0</td>\n",
              "      <td>0.000000e+00</td>\n",
              "      <td>0.000000e+00</td>\n",
              "      <td>0</td>\n",
              "      <td>0</td>\n",
              "      <td>0.0</td>\n",
              "      <td>0.000000e+00</td>\n",
              "      <td>0.0</td>\n",
              "      <td>0.0</td>\n",
              "      <td>0</td>\n",
              "    </tr>\n",
              "    <tr>\n",
              "      <th>...</th>\n",
              "      <th>...</th>\n",
              "      <td>...</td>\n",
              "      <td>...</td>\n",
              "      <td>...</td>\n",
              "      <td>...</td>\n",
              "      <td>...</td>\n",
              "      <td>...</td>\n",
              "      <td>...</td>\n",
              "      <td>...</td>\n",
              "      <td>...</td>\n",
              "      <td>...</td>\n",
              "      <td>...</td>\n",
              "      <td>...</td>\n",
              "      <td>...</td>\n",
              "      <td>...</td>\n",
              "      <td>...</td>\n",
              "      <td>...</td>\n",
              "      <td>...</td>\n",
              "      <td>...</td>\n",
              "      <td>...</td>\n",
              "      <td>...</td>\n",
              "      <td>...</td>\n",
              "    </tr>\n",
              "    <tr>\n",
              "      <th>54</th>\n",
              "      <th>37596</th>\n",
              "      <td>61037</td>\n",
              "      <td>57880</td>\n",
              "      <td>1</td>\n",
              "      <td>80</td>\n",
              "      <td>6</td>\n",
              "      <td>109089313</td>\n",
              "      <td>11</td>\n",
              "      <td>12</td>\n",
              "      <td>211</td>\n",
              "      <td>0</td>\n",
              "      <td>...</td>\n",
              "      <td>0</td>\n",
              "      <td>5.578216e+05</td>\n",
              "      <td>1.475776e+06</td>\n",
              "      <td>3904568</td>\n",
              "      <td>18</td>\n",
              "      <td>15000000.0</td>\n",
              "      <td>6.596303e+03</td>\n",
              "      <td>15000000.0</td>\n",
              "      <td>15000000.0</td>\n",
              "      <td>2</td>\n",
              "    </tr>\n",
              "    <tr>\n",
              "      <th>55</th>\n",
              "      <th>37596</th>\n",
              "      <td>61041</td>\n",
              "      <td>57888</td>\n",
              "      <td>1</td>\n",
              "      <td>80</td>\n",
              "      <td>6</td>\n",
              "      <td>56528561</td>\n",
              "      <td>5</td>\n",
              "      <td>5</td>\n",
              "      <td>52</td>\n",
              "      <td>22</td>\n",
              "      <td>...</td>\n",
              "      <td>0</td>\n",
              "      <td>8.500000e+00</td>\n",
              "      <td>1.290994e+00</td>\n",
              "      <td>10</td>\n",
              "      <td>7</td>\n",
              "      <td>14100000.0</td>\n",
              "      <td>1.792146e+06</td>\n",
              "      <td>15000000.0</td>\n",
              "      <td>11400000.0</td>\n",
              "      <td>2</td>\n",
              "    </tr>\n",
              "    <tr>\n",
              "      <th rowspan=\"2\" valign=\"top\">56</th>\n",
              "      <th>34877</th>\n",
              "      <td>61148</td>\n",
              "      <td>80</td>\n",
              "      <td>2</td>\n",
              "      <td>58102</td>\n",
              "      <td>6</td>\n",
              "      <td>66031</td>\n",
              "      <td>0</td>\n",
              "      <td>3</td>\n",
              "      <td>0</td>\n",
              "      <td>0</td>\n",
              "      <td>...</td>\n",
              "      <td>0</td>\n",
              "      <td>0.000000e+00</td>\n",
              "      <td>0.000000e+00</td>\n",
              "      <td>0</td>\n",
              "      <td>0</td>\n",
              "      <td>0.0</td>\n",
              "      <td>0.000000e+00</td>\n",
              "      <td>0.0</td>\n",
              "      <td>0.0</td>\n",
              "      <td>2</td>\n",
              "    </tr>\n",
              "    <tr>\n",
              "      <th>37596</th>\n",
              "      <td>61115</td>\n",
              "      <td>58036</td>\n",
              "      <td>1</td>\n",
              "      <td>80</td>\n",
              "      <td>6</td>\n",
              "      <td>15815</td>\n",
              "      <td>1</td>\n",
              "      <td>1</td>\n",
              "      <td>0</td>\n",
              "      <td>0</td>\n",
              "      <td>...</td>\n",
              "      <td>0</td>\n",
              "      <td>0.000000e+00</td>\n",
              "      <td>0.000000e+00</td>\n",
              "      <td>0</td>\n",
              "      <td>0</td>\n",
              "      <td>0.0</td>\n",
              "      <td>0.000000e+00</td>\n",
              "      <td>0.0</td>\n",
              "      <td>0.0</td>\n",
              "      <td>2</td>\n",
              "    </tr>\n",
              "    <tr>\n",
              "      <th>57</th>\n",
              "      <th>37596</th>\n",
              "      <td>46192</td>\n",
              "      <td>38811</td>\n",
              "      <td>1</td>\n",
              "      <td>6200</td>\n",
              "      <td>6</td>\n",
              "      <td>3625973</td>\n",
              "      <td>6</td>\n",
              "      <td>7</td>\n",
              "      <td>48</td>\n",
              "      <td>41</td>\n",
              "      <td>...</td>\n",
              "      <td>0</td>\n",
              "      <td>0.000000e+00</td>\n",
              "      <td>0.000000e+00</td>\n",
              "      <td>0</td>\n",
              "      <td>0</td>\n",
              "      <td>0.0</td>\n",
              "      <td>0.000000e+00</td>\n",
              "      <td>0.0</td>\n",
              "      <td>0.0</td>\n",
              "      <td>4</td>\n",
              "    </tr>\n",
              "  </tbody>\n",
              "</table>\n",
              "<p>73598 rows × 82 columns</p>\n",
              "</div>\n",
              "      <button class=\"colab-df-convert\" onclick=\"convertToInteractive('df-b1048684-cf77-46cf-b9b6-d779b4ade59d')\"\n",
              "              title=\"Convert this dataframe to an interactive table.\"\n",
              "              style=\"display:none;\">\n",
              "        \n",
              "  <svg xmlns=\"http://www.w3.org/2000/svg\" height=\"24px\"viewBox=\"0 0 24 24\"\n",
              "       width=\"24px\">\n",
              "    <path d=\"M0 0h24v24H0V0z\" fill=\"none\"/>\n",
              "    <path d=\"M18.56 5.44l.94 2.06.94-2.06 2.06-.94-2.06-.94-.94-2.06-.94 2.06-2.06.94zm-11 1L8.5 8.5l.94-2.06 2.06-.94-2.06-.94L8.5 2.5l-.94 2.06-2.06.94zm10 10l.94 2.06.94-2.06 2.06-.94-2.06-.94-.94-2.06-.94 2.06-2.06.94z\"/><path d=\"M17.41 7.96l-1.37-1.37c-.4-.4-.92-.59-1.43-.59-.52 0-1.04.2-1.43.59L10.3 9.45l-7.72 7.72c-.78.78-.78 2.05 0 2.83L4 21.41c.39.39.9.59 1.41.59.51 0 1.02-.2 1.41-.59l7.78-7.78 2.81-2.81c.8-.78.8-2.07 0-2.86zM5.41 20L4 18.59l7.72-7.72 1.47 1.35L5.41 20z\"/>\n",
              "  </svg>\n",
              "      </button>\n",
              "      \n",
              "  <style>\n",
              "    .colab-df-container {\n",
              "      display:flex;\n",
              "      flex-wrap:wrap;\n",
              "      gap: 12px;\n",
              "    }\n",
              "\n",
              "    .colab-df-convert {\n",
              "      background-color: #E8F0FE;\n",
              "      border: none;\n",
              "      border-radius: 50%;\n",
              "      cursor: pointer;\n",
              "      display: none;\n",
              "      fill: #1967D2;\n",
              "      height: 32px;\n",
              "      padding: 0 0 0 0;\n",
              "      width: 32px;\n",
              "    }\n",
              "\n",
              "    .colab-df-convert:hover {\n",
              "      background-color: #E2EBFA;\n",
              "      box-shadow: 0px 1px 2px rgba(60, 64, 67, 0.3), 0px 1px 3px 1px rgba(60, 64, 67, 0.15);\n",
              "      fill: #174EA6;\n",
              "    }\n",
              "\n",
              "    [theme=dark] .colab-df-convert {\n",
              "      background-color: #3B4455;\n",
              "      fill: #D2E3FC;\n",
              "    }\n",
              "\n",
              "    [theme=dark] .colab-df-convert:hover {\n",
              "      background-color: #434B5C;\n",
              "      box-shadow: 0px 1px 3px 1px rgba(0, 0, 0, 0.15);\n",
              "      filter: drop-shadow(0px 1px 2px rgba(0, 0, 0, 0.3));\n",
              "      fill: #FFFFFF;\n",
              "    }\n",
              "  </style>\n",
              "\n",
              "      <script>\n",
              "        const buttonEl =\n",
              "          document.querySelector('#df-b1048684-cf77-46cf-b9b6-d779b4ade59d button.colab-df-convert');\n",
              "        buttonEl.style.display =\n",
              "          google.colab.kernel.accessAllowed ? 'block' : 'none';\n",
              "\n",
              "        async function convertToInteractive(key) {\n",
              "          const element = document.querySelector('#df-b1048684-cf77-46cf-b9b6-d779b4ade59d');\n",
              "          const dataTable =\n",
              "            await google.colab.kernel.invokeFunction('convertToInteractive',\n",
              "                                                     [key], {});\n",
              "          if (!dataTable) return;\n",
              "\n",
              "          const docLinkHtml = 'Like what you see? Visit the ' +\n",
              "            '<a target=\"_blank\" href=https://colab.research.google.com/notebooks/data_table.ipynb>data table notebook</a>'\n",
              "            + ' to learn more about interactive tables.';\n",
              "          element.innerHTML = '';\n",
              "          dataTable['output_type'] = 'display_data';\n",
              "          await google.colab.output.renderOutput(dataTable, element);\n",
              "          const docLink = document.createElement('div');\n",
              "          docLink.innerHTML = docLinkHtml;\n",
              "          element.appendChild(docLink);\n",
              "        }\n",
              "      </script>\n",
              "    </div>\n",
              "  </div>\n",
              "  "
            ]
          },
          "metadata": {},
          "execution_count": 12
        }
      ]
    },
    {
      "cell_type": "code",
      "source": [
        "# reshape inputs for LSTM [samples, timesteps, features]\n",
        "\n",
        "\n",
        "X_train = X_train.reshape(X_train.shape[0], 1, X_train.shape[1])\n",
        "print(\"Training data shape:\", X_train.shape)\n",
        "X_test = X_test.reshape(X_test.shape[0], 1, X_test.shape[1])\n",
        "print(\"Test data shape:\", X_test.shape)"
      ],
      "metadata": {
        "colab": {
          "base_uri": "https://localhost:8080/"
        },
        "id": "YbFA1f5xLyc5",
        "outputId": "46578902-ef8c-4c18-cdfc-f2fbe9a96b2d"
      },
      "execution_count": 13,
      "outputs": [
        {
          "output_type": "stream",
          "name": "stdout",
          "text": [
            "Training data shape: (109394, 1, 83)\n",
            "Test data shape: (27349, 1, 83)\n"
          ]
        }
      ]
    },
    {
      "cell_type": "code",
      "source": [
        "from keras.preprocessing import sequence\n",
        "from keras.utils import np_utils\n",
        "from keras.models import Sequential\n",
        "from keras.layers import Dense, Dropout, Activation, Embedding\n",
        "from keras.layers import LSTM, SimpleRNN, GRU\n",
        "from keras.utils.np_utils import to_categorical\n",
        "from sklearn.metrics import (precision_score, recall_score,f1_score, accuracy_score,mean_squared_error,mean_absolute_error)\n",
        "from sklearn import metrics"
      ],
      "metadata": {
        "id": "O8ZMwqalMBwE"
      },
      "execution_count": 14,
      "outputs": []
    },
    {
      "cell_type": "code",
      "source": [
        "def create_baseline():\n",
        "    model = Sequential()\n",
        "    \n",
        "    model.add(LSTM(83, activation='tanh', kernel_regularizer='l2'))\n",
        "    model.add(Dropout(0.2))\n",
        "    model.add(Dense(64, activation = 'relu', kernel_regularizer='l2'))\n",
        "    model.add(Dropout(0.4))\n",
        "    model.add(Dense(5, activation = 'softmax', kernel_regularizer='l2'))\n",
        "    \n",
        "    model.compile(loss = 'sparse_categorical_crossentropy', optimizer = 'adam', metrics = ['accuracy'])\n",
        "    \n",
        "    return model"
      ],
      "metadata": {
        "id": "_8bLcbohMFaR"
      },
      "execution_count": 15,
      "outputs": []
    },
    {
      "cell_type": "code",
      "source": [
        "model = create_baseline()"
      ],
      "metadata": {
        "id": "n5YK8Wm-MIxu"
      },
      "execution_count": 16,
      "outputs": []
    },
    {
      "cell_type": "code",
      "source": [
        "history = model.fit(X_train, y_train, epochs = 10,validation_split=0.2,verbose = 1)"
      ],
      "metadata": {
        "colab": {
          "base_uri": "https://localhost:8080/"
        },
        "id": "cA8-0cGfMpqr",
        "outputId": "f5d3fdbd-18b7-42cf-b6eb-e532b9ee289c"
      },
      "execution_count": 19,
      "outputs": [
        {
          "output_type": "stream",
          "name": "stdout",
          "text": [
            "Epoch 1/10\n",
            "2735/2735 [==============================] - 14s 4ms/step - loss: 0.2363 - accuracy: 0.9878 - val_loss: 0.1236 - val_accuracy: 0.9954\n",
            "Epoch 2/10\n",
            "2735/2735 [==============================] - 11s 4ms/step - loss: 0.1185 - accuracy: 0.9943 - val_loss: 0.1055 - val_accuracy: 0.9956\n",
            "Epoch 3/10\n",
            "2735/2735 [==============================] - 10s 4ms/step - loss: 0.1079 - accuracy: 0.9947 - val_loss: 0.0996 - val_accuracy: 0.9959\n",
            "Epoch 4/10\n",
            "2735/2735 [==============================] - 9s 3ms/step - loss: 0.1040 - accuracy: 0.9952 - val_loss: 0.0961 - val_accuracy: 0.9964\n",
            "Epoch 5/10\n",
            "2735/2735 [==============================] - 9s 3ms/step - loss: 0.1028 - accuracy: 0.9952 - val_loss: 0.0972 - val_accuracy: 0.9953\n",
            "Epoch 6/10\n",
            "2735/2735 [==============================] - 9s 3ms/step - loss: 0.1016 - accuracy: 0.9952 - val_loss: 0.0954 - val_accuracy: 0.9962\n",
            "Epoch 7/10\n",
            "2735/2735 [==============================] - 8s 3ms/step - loss: 0.1010 - accuracy: 0.9952 - val_loss: 0.0956 - val_accuracy: 0.9963\n",
            "Epoch 8/10\n",
            "2735/2735 [==============================] - 8s 3ms/step - loss: 0.1010 - accuracy: 0.9952 - val_loss: 0.1006 - val_accuracy: 0.9938\n",
            "Epoch 9/10\n",
            "2735/2735 [==============================] - 8s 3ms/step - loss: 0.1010 - accuracy: 0.9952 - val_loss: 0.0951 - val_accuracy: 0.9961\n",
            "Epoch 10/10\n",
            "2735/2735 [==============================] - 9s 3ms/step - loss: 0.1011 - accuracy: 0.9953 - val_loss: 0.0955 - val_accuracy: 0.9960\n"
          ]
        }
      ]
    },
    {
      "cell_type": "code",
      "source": [
        "from tensorflow import keras\n",
        "keras.utils.plot_model(model,show_shapes=True)"
      ],
      "metadata": {
        "colab": {
          "base_uri": "https://localhost:8080/",
          "height": 644
        },
        "id": "54ae2T11SFbN",
        "outputId": "0f4208af-7af0-44e9-baa9-c7f0d8ee147a"
      },
      "execution_count": 20,
      "outputs": [
        {
          "output_type": "execute_result",
          "data": {
            "text/plain": [
              "<IPython.core.display.Image object>"
            ],
            "image/png": "[encoded data removed]"
          },
          "metadata": {},
          "execution_count": 20
        }
      ]
    },
    {
      "cell_type": "code",
      "source": [
        "# Plot training & validation accuracy values\n",
        "plt.plot(history.history['accuracy'])\n",
        "plt.plot(history.history['val_accuracy'])\n",
        "plt.title('LSTM Model Accuracy')\n",
        "plt.ylabel('Accuracy')\n",
        "plt.xlabel('Epoch')\n",
        "plt.legend(['Train', 'Test'], loc='lower right')\n",
        "plt.savefig('LSTM INSDN Model Accuracy.png')\n",
        "plt.show()"
      ],
      "metadata": {
        "colab": {
          "base_uri": "https://localhost:8080/",
          "height": 303
        },
        "id": "VyWi5cFAMvPi",
        "outputId": "0a2dd280-d333-4a73-8e77-bbe3bc2afc39"
      },
      "execution_count": 21,
      "outputs": [
        {
          "output_type": "display_data",
          "data": {
            "text/plain": [
              "<Figure size 432x288 with 1 Axes>"
            ],
            "image/png": "[encoded data removed]"
          },
          "metadata": {
            "needs_background": "light"
          }
        }
      ]
    },
    {
      "cell_type": "code",
      "source": [
        "# Plot training & validation loss values\n",
        "plt.plot(history.history['loss'])\n",
        "plt.plot(history.history['val_loss'])\n",
        "plt.title('LSTM Model  Loss')\n",
        "plt.ylabel('Loss')\n",
        "plt.xlabel('Epoch')\n",
        "plt.legend(['Train', 'Test'], loc='upper left')\n",
        "plt.savefig('LSTM INSDN Model Loss.png')\n",
        "plt.show()"
      ],
      "metadata": {
        "colab": {
          "base_uri": "https://localhost:8080/",
          "height": 303
        },
        "id": "qe_XwWPfM1Iv",
        "outputId": "3236a165-2df1-4f72-8fad-b6e7c758b789"
      },
      "execution_count": 22,
      "outputs": [
        {
          "output_type": "display_data",
          "data": {
            "text/plain": [
              "<Figure size 432x288 with 1 Axes>"
            ],
            "image/png": "[encoded data removed]"
          },
          "metadata": {
            "needs_background": "light"
          }
        }
      ]
    },
    {
      "cell_type": "code",
      "source": [
        "predict = model.predict(X_test, verbose=1)"
      ],
      "metadata": {
        "colab": {
          "base_uri": "https://localhost:8080/"
        },
        "id": "AkblzJ7OM4vA",
        "outputId": "e831862d-f1f2-4aba-d80b-4dbed7339438"
      },
      "execution_count": 23,
      "outputs": [
        {
          "output_type": "stream",
          "name": "stdout",
          "text": [
            "855/855 [==============================] - 1s 1ms/step\n"
          ]
        }
      ]
    },
    {
      "cell_type": "code",
      "source": [
        "scores = model.evaluate(X_test, y_test, verbose=0)\n",
        "print(\"%s: %.2f%%\" % (model.metrics_names[1], scores[1]*100))"
      ],
      "metadata": {
        "colab": {
          "base_uri": "https://localhost:8080/"
        },
        "id": "4otJkxnUM7cp",
        "outputId": "ec4af824-c762-4607-e8df-2897feaad4c3"
      },
      "execution_count": 24,
      "outputs": [
        {
          "output_type": "stream",
          "name": "stdout",
          "text": [
            "accuracy: 99.61%\n"
          ]
        }
      ]
    }
  ]
}