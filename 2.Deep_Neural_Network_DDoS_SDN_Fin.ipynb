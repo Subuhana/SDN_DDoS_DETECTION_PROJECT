{
  "nbformat": 4,
  "nbformat_minor": 0,
  "metadata": {
    "colab": {
      "name": "Deep_Neural_Network_DDoS_SDN_Fin.ipynb",
      "provenance": [],
      "collapsed_sections": []
    },
    "kernelspec": {
      "name": "python3",
      "display_name": "Python 3"
    },
    "language_info": {
      "name": "python"
    }
  },
  "cells": [
    {
      "cell_type": "code",
      "execution_count": 29,
      "metadata": {
        "colab": {
          "base_uri": "https://localhost:8080/",
          "height": 270
        },
        "id": "KlnJujC5uoKJ",
        "outputId": "f8e3f0ca-333b-4e95-ff27-c2c12eabf56c"
      },
      "outputs": [
        {
          "output_type": "execute_result",
          "data": {
            "text/html": [
              "\n",
              "  <div id=\"df-1373f26a-a1e0-483a-a53b-732e598409eb\">\n",
              "    <div class=\"colab-df-container\">\n",
              "      <div>\n",
              "<style scoped>\n",
              "    .dataframe tbody tr th:only-of-type {\n",
              "        vertical-align: middle;\n",
              "    }\n",
              "\n",
              "    .dataframe tbody tr th {\n",
              "        vertical-align: top;\n",
              "    }\n",
              "\n",
              "    .dataframe thead th {\n",
              "        text-align: right;\n",
              "    }\n",
              "</style>\n",
              "<table border=\"1\" class=\"dataframe\">\n",
              "  <thead>\n",
              "    <tr style=\"text-align: right;\">\n",
              "      <th></th>\n",
              "      <th>dt</th>\n",
              "      <th>switch</th>\n",
              "      <th>src</th>\n",
              "      <th>dst</th>\n",
              "      <th>pktcount</th>\n",
              "      <th>bytecount</th>\n",
              "      <th>dur</th>\n",
              "      <th>dur_nsec</th>\n",
              "      <th>tot_dur</th>\n",
              "      <th>flows</th>\n",
              "      <th>packetins</th>\n",
              "      <th>pktperflow</th>\n",
              "      <th>byteperflow</th>\n",
              "      <th>pktrate</th>\n",
              "      <th>Pairflow</th>\n",
              "      <th>Protocol</th>\n",
              "      <th>port_no</th>\n",
              "      <th>tx_bytes</th>\n",
              "      <th>rx_bytes</th>\n",
              "      <th>tx_kbps</th>\n",
              "      <th>rx_kbps</th>\n",
              "      <th>tot_kbps</th>\n",
              "      <th>label</th>\n",
              "    </tr>\n",
              "  </thead>\n",
              "  <tbody>\n",
              "    <tr>\n",
              "      <th>0</th>\n",
              "      <td>11425</td>\n",
              "      <td>1</td>\n",
              "      <td>10.0.0.1</td>\n",
              "      <td>10.0.0.8</td>\n",
              "      <td>45304</td>\n",
              "      <td>48294064</td>\n",
              "      <td>100</td>\n",
              "      <td>716000000</td>\n",
              "      <td>1.010000e+11</td>\n",
              "      <td>3</td>\n",
              "      <td>1943</td>\n",
              "      <td>13535</td>\n",
              "      <td>14428310</td>\n",
              "      <td>451</td>\n",
              "      <td>0</td>\n",
              "      <td>UDP</td>\n",
              "      <td>3</td>\n",
              "      <td>143928631</td>\n",
              "      <td>3917</td>\n",
              "      <td>0</td>\n",
              "      <td>0.0</td>\n",
              "      <td>0.0</td>\n",
              "      <td>0</td>\n",
              "    </tr>\n",
              "    <tr>\n",
              "      <th>1</th>\n",
              "      <td>11605</td>\n",
              "      <td>1</td>\n",
              "      <td>10.0.0.1</td>\n",
              "      <td>10.0.0.8</td>\n",
              "      <td>126395</td>\n",
              "      <td>134737070</td>\n",
              "      <td>280</td>\n",
              "      <td>734000000</td>\n",
              "      <td>2.810000e+11</td>\n",
              "      <td>2</td>\n",
              "      <td>1943</td>\n",
              "      <td>13531</td>\n",
              "      <td>14424046</td>\n",
              "      <td>451</td>\n",
              "      <td>0</td>\n",
              "      <td>UDP</td>\n",
              "      <td>4</td>\n",
              "      <td>3842</td>\n",
              "      <td>3520</td>\n",
              "      <td>0</td>\n",
              "      <td>0.0</td>\n",
              "      <td>0.0</td>\n",
              "      <td>0</td>\n",
              "    </tr>\n",
              "    <tr>\n",
              "      <th>2</th>\n",
              "      <td>11425</td>\n",
              "      <td>1</td>\n",
              "      <td>10.0.0.2</td>\n",
              "      <td>10.0.0.8</td>\n",
              "      <td>90333</td>\n",
              "      <td>96294978</td>\n",
              "      <td>200</td>\n",
              "      <td>744000000</td>\n",
              "      <td>2.010000e+11</td>\n",
              "      <td>3</td>\n",
              "      <td>1943</td>\n",
              "      <td>13534</td>\n",
              "      <td>14427244</td>\n",
              "      <td>451</td>\n",
              "      <td>0</td>\n",
              "      <td>UDP</td>\n",
              "      <td>1</td>\n",
              "      <td>3795</td>\n",
              "      <td>1242</td>\n",
              "      <td>0</td>\n",
              "      <td>0.0</td>\n",
              "      <td>0.0</td>\n",
              "      <td>0</td>\n",
              "    </tr>\n",
              "    <tr>\n",
              "      <th>3</th>\n",
              "      <td>11425</td>\n",
              "      <td>1</td>\n",
              "      <td>10.0.0.2</td>\n",
              "      <td>10.0.0.8</td>\n",
              "      <td>90333</td>\n",
              "      <td>96294978</td>\n",
              "      <td>200</td>\n",
              "      <td>744000000</td>\n",
              "      <td>2.010000e+11</td>\n",
              "      <td>3</td>\n",
              "      <td>1943</td>\n",
              "      <td>13534</td>\n",
              "      <td>14427244</td>\n",
              "      <td>451</td>\n",
              "      <td>0</td>\n",
              "      <td>UDP</td>\n",
              "      <td>2</td>\n",
              "      <td>3688</td>\n",
              "      <td>1492</td>\n",
              "      <td>0</td>\n",
              "      <td>0.0</td>\n",
              "      <td>0.0</td>\n",
              "      <td>0</td>\n",
              "    </tr>\n",
              "    <tr>\n",
              "      <th>4</th>\n",
              "      <td>11425</td>\n",
              "      <td>1</td>\n",
              "      <td>10.0.0.2</td>\n",
              "      <td>10.0.0.8</td>\n",
              "      <td>90333</td>\n",
              "      <td>96294978</td>\n",
              "      <td>200</td>\n",
              "      <td>744000000</td>\n",
              "      <td>2.010000e+11</td>\n",
              "      <td>3</td>\n",
              "      <td>1943</td>\n",
              "      <td>13534</td>\n",
              "      <td>14427244</td>\n",
              "      <td>451</td>\n",
              "      <td>0</td>\n",
              "      <td>UDP</td>\n",
              "      <td>3</td>\n",
              "      <td>3413</td>\n",
              "      <td>3665</td>\n",
              "      <td>0</td>\n",
              "      <td>0.0</td>\n",
              "      <td>0.0</td>\n",
              "      <td>0</td>\n",
              "    </tr>\n",
              "  </tbody>\n",
              "</table>\n",
              "</div>\n",
              "      <button class=\"colab-df-convert\" onclick=\"convertToInteractive('df-1373f26a-a1e0-483a-a53b-732e598409eb')\"\n",
              "              title=\"Convert this dataframe to an interactive table.\"\n",
              "              style=\"display:none;\">\n",
              "        \n",
              "  <svg xmlns=\"http://www.w3.org/2000/svg\" height=\"24px\"viewBox=\"0 0 24 24\"\n",
              "       width=\"24px\">\n",
              "    <path d=\"M0 0h24v24H0V0z\" fill=\"none\"/>\n",
              "    <path d=\"M18.56 5.44l.94 2.06.94-2.06 2.06-.94-2.06-.94-.94-2.06-.94 2.06-2.06.94zm-11 1L8.5 8.5l.94-2.06 2.06-.94-2.06-.94L8.5 2.5l-.94 2.06-2.06.94zm10 10l.94 2.06.94-2.06 2.06-.94-2.06-.94-.94-2.06-.94 2.06-2.06.94z\"/><path d=\"M17.41 7.96l-1.37-1.37c-.4-.4-.92-.59-1.43-.59-.52 0-1.04.2-1.43.59L10.3 9.45l-7.72 7.72c-.78.78-.78 2.05 0 2.83L4 21.41c.39.39.9.59 1.41.59.51 0 1.02-.2 1.41-.59l7.78-7.78 2.81-2.81c.8-.78.8-2.07 0-2.86zM5.41 20L4 18.59l7.72-7.72 1.47 1.35L5.41 20z\"/>\n",
              "  </svg>\n",
              "      </button>\n",
              "      \n",
              "  <style>\n",
              "    .colab-df-container {\n",
              "      display:flex;\n",
              "      flex-wrap:wrap;\n",
              "      gap: 12px;\n",
              "    }\n",
              "\n",
              "    .colab-df-convert {\n",
              "      background-color: #E8F0FE;\n",
              "      border: none;\n",
              "      border-radius: 50%;\n",
              "      cursor: pointer;\n",
              "      display: none;\n",
              "      fill: #1967D2;\n",
              "      height: 32px;\n",
              "      padding: 0 0 0 0;\n",
              "      width: 32px;\n",
              "    }\n",
              "\n",
              "    .colab-df-convert:hover {\n",
              "      background-color: #E2EBFA;\n",
              "      box-shadow: 0px 1px 2px rgba(60, 64, 67, 0.3), 0px 1px 3px 1px rgba(60, 64, 67, 0.15);\n",
              "      fill: #174EA6;\n",
              "    }\n",
              "\n",
              "    [theme=dark] .colab-df-convert {\n",
              "      background-color: #3B4455;\n",
              "      fill: #D2E3FC;\n",
              "    }\n",
              "\n",
              "    [theme=dark] .colab-df-convert:hover {\n",
              "      background-color: #434B5C;\n",
              "      box-shadow: 0px 1px 3px 1px rgba(0, 0, 0, 0.15);\n",
              "      filter: drop-shadow(0px 1px 2px rgba(0, 0, 0, 0.3));\n",
              "      fill: #FFFFFF;\n",
              "    }\n",
              "  </style>\n",
              "\n",
              "      <script>\n",
              "        const buttonEl =\n",
              "          document.querySelector('#df-1373f26a-a1e0-483a-a53b-732e598409eb button.colab-df-convert');\n",
              "        buttonEl.style.display =\n",
              "          google.colab.kernel.accessAllowed ? 'block' : 'none';\n",
              "\n",
              "        async function convertToInteractive(key) {\n",
              "          const element = document.querySelector('#df-1373f26a-a1e0-483a-a53b-732e598409eb');\n",
              "          const dataTable =\n",
              "            await google.colab.kernel.invokeFunction('convertToInteractive',\n",
              "                                                     [key], {});\n",
              "          if (!dataTable) return;\n",
              "\n",
              "          const docLinkHtml = 'Like what you see? Visit the ' +\n",
              "            '<a target=\"_blank\" href=https://colab.research.google.com/notebooks/data_table.ipynb>data table notebook</a>'\n",
              "            + ' to learn more about interactive tables.';\n",
              "          element.innerHTML = '';\n",
              "          dataTable['output_type'] = 'display_data';\n",
              "          await google.colab.output.renderOutput(dataTable, element);\n",
              "          const docLink = document.createElement('div');\n",
              "          docLink.innerHTML = docLinkHtml;\n",
              "          element.appendChild(docLink);\n",
              "        }\n",
              "      </script>\n",
              "    </div>\n",
              "  </div>\n",
              "  "
            ],
            "text/plain": [
              "      dt  switch       src       dst  ...  tx_kbps  rx_kbps  tot_kbps  label\n",
              "0  11425       1  10.0.0.1  10.0.0.8  ...        0      0.0       0.0      0\n",
              "1  11605       1  10.0.0.1  10.0.0.8  ...        0      0.0       0.0      0\n",
              "2  11425       1  10.0.0.2  10.0.0.8  ...        0      0.0       0.0      0\n",
              "3  11425       1  10.0.0.2  10.0.0.8  ...        0      0.0       0.0      0\n",
              "4  11425       1  10.0.0.2  10.0.0.8  ...        0      0.0       0.0      0\n",
              "\n",
              "[5 rows x 23 columns]"
            ]
          },
          "metadata": {},
          "execution_count": 29
        }
      ],
      "source": [
        "import matplotlib.pyplot as plt\n",
        "import numpy as np\n",
        "import pandas as pd\n",
        "import seaborn as sns\n",
        "%matplotlib inline\n",
        "\n",
        "DDoS = pd.read_csv('/content/dataset_sdn.csv')\n",
        "DDoS.head()"
      ]
    },
    {
      "cell_type": "code",
      "source": [
        "DDoS.Protocol.unique()\n",
        "DDoS['Protocol'] = DDoS['Protocol'].replace('TCP', '0')\n",
        "DDoS['Protocol'] = DDoS['Protocol'].replace('UDP', '1')\n",
        "DDoS['Protocol'] = DDoS['Protocol'].replace('ICMP', '2')\n",
        "DDoS.Protocol.unique()"
      ],
      "metadata": {
        "colab": {
          "base_uri": "https://localhost:8080/"
        },
        "id": "aB_oMPTi4ETN",
        "outputId": "6372a91b-9839-4417-e2d9-6eaf6a280e46"
      },
      "execution_count": 30,
      "outputs": [
        {
          "output_type": "execute_result",
          "data": {
            "text/plain": [
              "array(['1', '0', '2'], dtype=object)"
            ]
          },
          "metadata": {},
          "execution_count": 30
        }
      ]
    },
    {
      "cell_type": "code",
      "source": [
        "DDoS[\"rx_kbps\"] = DDoS[\"rx_kbps\"].fillna(DDoS[\"rx_kbps\"].mean())"
      ],
      "metadata": {
        "id": "8xCyvukqJitc"
      },
      "execution_count": 31,
      "outputs": []
    },
    {
      "cell_type": "code",
      "source": [
        "DDoS[\"tot_kbps\"] = DDoS[\"tot_kbps\"].fillna(DDoS[\"tot_kbps\"].mean())"
      ],
      "metadata": {
        "id": "nbsZtBfUJm4n"
      },
      "execution_count": 32,
      "outputs": []
    },
    {
      "cell_type": "code",
      "source": [
        "from sklearn.model_selection import train_test_split\n",
        "features =DDoS[['dt', 'switch', 'pktcount', 'bytecount', 'dur', 'tot_dur',\n",
        "       'flows', 'packetins', 'pktperflow', 'byteperflow', 'pktrate',\n",
        "       'Pairflow','Protocol' ,'port_no', 'tx_bytes', 'rx_bytes', 'tx_kbps', 'rx_kbps',\n",
        "       'tot_kbps']]\n",
        "labels = DDoS['label']\n",
        "\n",
        "X_train, X_test, y_train, y_test = train_test_split(features, labels, test_size=0.2, random_state=42)"
      ],
      "metadata": {
        "id": "M7no4zlZusVd"
      },
      "execution_count": 33,
      "outputs": []
    },
    {
      "cell_type": "code",
      "source": [
        "DDoS.isnull().sum()"
      ],
      "metadata": {
        "colab": {
          "base_uri": "https://localhost:8080/"
        },
        "id": "sNG1DXnNvUF2",
        "outputId": "d5986369-7fc1-4e9d-86f0-0c7f622bbc2f"
      },
      "execution_count": 34,
      "outputs": [
        {
          "output_type": "execute_result",
          "data": {
            "text/plain": [
              "dt             0\n",
              "switch         0\n",
              "src            0\n",
              "dst            0\n",
              "pktcount       0\n",
              "bytecount      0\n",
              "dur            0\n",
              "dur_nsec       0\n",
              "tot_dur        0\n",
              "flows          0\n",
              "packetins      0\n",
              "pktperflow     0\n",
              "byteperflow    0\n",
              "pktrate        0\n",
              "Pairflow       0\n",
              "Protocol       0\n",
              "port_no        0\n",
              "tx_bytes       0\n",
              "rx_bytes       0\n",
              "tx_kbps        0\n",
              "rx_kbps        0\n",
              "tot_kbps       0\n",
              "label          0\n",
              "dtype: int64"
            ]
          },
          "metadata": {},
          "execution_count": 34
        }
      ]
    },
    {
      "cell_type": "code",
      "source": [
        "# Feature scaling (or standardization)\n",
        "from sklearn.preprocessing import StandardScaler\n",
        "scaler = StandardScaler()\n",
        "X_train = scaler.fit_transform(X_train)\n",
        "X_test = scaler.transform(X_test)"
      ],
      "metadata": {
        "id": "x1ylTGFrwsuB"
      },
      "execution_count": 35,
      "outputs": []
    },
    {
      "cell_type": "code",
      "source": [
        "print(X_train.shape)\n",
        "print(y_train.shape)\n",
        "print(X_test.shape)\n",
        "print(y_test.shape)"
      ],
      "metadata": {
        "colab": {
          "base_uri": "https://localhost:8080/"
        },
        "id": "i8ZPTmgIJ5j-",
        "outputId": "887c179a-625b-4fac-904c-33e6e1132d96"
      },
      "execution_count": 36,
      "outputs": [
        {
          "output_type": "stream",
          "name": "stdout",
          "text": [
            "(83476, 19)\n",
            "(83476,)\n",
            "(20869, 19)\n",
            "(20869,)\n"
          ]
        }
      ]
    },
    {
      "cell_type": "code",
      "source": [
        "import tensorflow\n",
        "model=tensorflow.keras.models.Sequential()\n",
        "#Hidden layer definitions\n",
        "model.add(tensorflow.keras.layers.Dense(units=19, activation='relu', input_shape = X_train.shape[1:]))\n",
        "model.add(tensorflow.keras.layers.Dense(units=50, activation='relu'))\n",
        "model.add(tensorflow.keras.layers.Dropout(0.2))\n",
        "model.add(tensorflow.keras.layers.Dense(units=50, activation='relu' ))\n",
        "model.add(tensorflow.keras.layers.Dropout(0.2))\n",
        "model.add(tensorflow.keras.layers.Dense(units=50, activation='relu' ))\n",
        "#OP layer\n",
        "model.add(tensorflow.keras.layers.Dense(units=2, activation='sigmoid' ))\n",
        "model.summary()"
      ],
      "metadata": {
        "colab": {
          "base_uri": "https://localhost:8080/"
        },
        "id": "yJD-94uLJ99T",
        "outputId": "fad939fe-3e0f-4e54-d690-5156b835eda0"
      },
      "execution_count": 37,
      "outputs": [
        {
          "output_type": "stream",
          "name": "stdout",
          "text": [
            "Model: \"sequential\"\n",
            "_________________________________________________________________\n",
            " Layer (type)                Output Shape              Param #   \n",
            "=================================================================\n",
            " dense (Dense)               (None, 19)                380       \n",
            "                                                                 \n",
            " dense_1 (Dense)             (None, 50)                1000      \n",
            "                                                                 \n",
            " dropout (Dropout)           (None, 50)                0         \n",
            "                                                                 \n",
            " dense_2 (Dense)             (None, 50)                2550      \n",
            "                                                                 \n",
            " dropout_1 (Dropout)         (None, 50)                0         \n",
            "                                                                 \n",
            " dense_3 (Dense)             (None, 50)                2550      \n",
            "                                                                 \n",
            " dense_4 (Dense)             (None, 2)                 102       \n",
            "                                                                 \n",
            "=================================================================\n",
            "Total params: 6,582\n",
            "Trainable params: 6,582\n",
            "Non-trainable params: 0\n",
            "_________________________________________________________________\n"
          ]
        }
      ]
    },
    {
      "cell_type": "code",
      "source": [
        "#compile\n",
        "model.compile(loss='sparse_categorical_crossentropy' , optimizer='adam' , metrics=['accuracy'])\n",
        "\n",
        "#fit\n",
        "history=model.fit(x=X_train, y=y_train, validation_split=0.1, epochs=50, batch_size=16)"
      ],
      "metadata": {
        "colab": {
          "base_uri": "https://localhost:8080/"
        },
        "id": "cJas52v4KHR6",
        "outputId": "18c7e63c-b497-4c5d-80a8-a9f863b15159"
      },
      "execution_count": 38,
      "outputs": [
        {
          "output_type": "stream",
          "name": "stdout",
          "text": [
            "Epoch 1/50\n",
            "4696/4696 [==============================] - 12s 2ms/step - loss: 0.1506 - accuracy: 0.9324 - val_loss: 0.0790 - val_accuracy: 0.9684\n",
            "Epoch 2/50\n",
            "4696/4696 [==============================] - 13s 3ms/step - loss: 0.0740 - accuracy: 0.9699 - val_loss: 0.0392 - val_accuracy: 0.9867\n",
            "Epoch 3/50\n",
            "4696/4696 [==============================] - 12s 3ms/step - loss: 0.0529 - accuracy: 0.9794 - val_loss: 0.0414 - val_accuracy: 0.9824\n",
            "Epoch 4/50\n",
            "4696/4696 [==============================] - 15s 3ms/step - loss: 0.0455 - accuracy: 0.9825 - val_loss: 0.0341 - val_accuracy: 0.9868\n",
            "Epoch 5/50\n",
            "4696/4696 [==============================] - 17s 4ms/step - loss: 0.0409 - accuracy: 0.9840 - val_loss: 0.0294 - val_accuracy: 0.9881\n",
            "Epoch 6/50\n",
            "4696/4696 [==============================] - 15s 3ms/step - loss: 0.0377 - accuracy: 0.9852 - val_loss: 0.0308 - val_accuracy: 0.9873\n",
            "Epoch 7/50\n",
            "4696/4696 [==============================] - 11s 2ms/step - loss: 0.0347 - accuracy: 0.9868 - val_loss: 0.0275 - val_accuracy: 0.9895\n",
            "Epoch 8/50\n",
            "4696/4696 [==============================] - 11s 2ms/step - loss: 0.0344 - accuracy: 0.9871 - val_loss: 0.0225 - val_accuracy: 0.9914\n",
            "Epoch 9/50\n",
            "4696/4696 [==============================] - 11s 2ms/step - loss: 0.0311 - accuracy: 0.9881 - val_loss: 0.0229 - val_accuracy: 0.9901\n",
            "Epoch 10/50\n",
            "4696/4696 [==============================] - 11s 2ms/step - loss: 0.0295 - accuracy: 0.9889 - val_loss: 0.0192 - val_accuracy: 0.9932\n",
            "Epoch 11/50\n",
            "4696/4696 [==============================] - 11s 2ms/step - loss: 0.0283 - accuracy: 0.9890 - val_loss: 0.0316 - val_accuracy: 0.9878\n",
            "Epoch 12/50\n",
            "4696/4696 [==============================] - 11s 2ms/step - loss: 0.0263 - accuracy: 0.9896 - val_loss: 0.0241 - val_accuracy: 0.9903\n",
            "Epoch 13/50\n",
            "4696/4696 [==============================] - 11s 2ms/step - loss: 0.0258 - accuracy: 0.9899 - val_loss: 0.0279 - val_accuracy: 0.9897\n",
            "Epoch 14/50\n",
            "4696/4696 [==============================] - 11s 2ms/step - loss: 0.0242 - accuracy: 0.9910 - val_loss: 0.0275 - val_accuracy: 0.9896\n",
            "Epoch 15/50\n",
            "4696/4696 [==============================] - 12s 3ms/step - loss: 0.0241 - accuracy: 0.9906 - val_loss: 0.0159 - val_accuracy: 0.9937\n",
            "Epoch 16/50\n",
            "4696/4696 [==============================] - 11s 2ms/step - loss: 0.0238 - accuracy: 0.9908 - val_loss: 0.0148 - val_accuracy: 0.9939\n",
            "Epoch 17/50\n",
            "4696/4696 [==============================] - 11s 2ms/step - loss: 0.0235 - accuracy: 0.9915 - val_loss: 0.0151 - val_accuracy: 0.9941\n",
            "Epoch 18/50\n",
            "4696/4696 [==============================] - 11s 2ms/step - loss: 0.0221 - accuracy: 0.9919 - val_loss: 0.0210 - val_accuracy: 0.9898\n",
            "Epoch 19/50\n",
            "4696/4696 [==============================] - 11s 2ms/step - loss: 0.0215 - accuracy: 0.9916 - val_loss: 0.0113 - val_accuracy: 0.9956\n",
            "Epoch 20/50\n",
            "4696/4696 [==============================] - 11s 2ms/step - loss: 0.0210 - accuracy: 0.9923 - val_loss: 0.0106 - val_accuracy: 0.9958\n",
            "Epoch 21/50\n",
            "4696/4696 [==============================] - 11s 2ms/step - loss: 0.0195 - accuracy: 0.9925 - val_loss: 0.0132 - val_accuracy: 0.9958\n",
            "Epoch 22/50\n",
            "4696/4696 [==============================] - 11s 2ms/step - loss: 0.0192 - accuracy: 0.9926 - val_loss: 0.0172 - val_accuracy: 0.9929\n",
            "Epoch 23/50\n",
            "4696/4696 [==============================] - 11s 2ms/step - loss: 0.0177 - accuracy: 0.9932 - val_loss: 0.0210 - val_accuracy: 0.9943\n",
            "Epoch 24/50\n",
            "4696/4696 [==============================] - 11s 2ms/step - loss: 0.0177 - accuracy: 0.9934 - val_loss: 0.0099 - val_accuracy: 0.9968\n",
            "Epoch 25/50\n",
            "4696/4696 [==============================] - 11s 2ms/step - loss: 0.0180 - accuracy: 0.9934 - val_loss: 0.0138 - val_accuracy: 0.9944\n",
            "Epoch 26/50\n",
            "4696/4696 [==============================] - 11s 2ms/step - loss: 0.0183 - accuracy: 0.9935 - val_loss: 0.0148 - val_accuracy: 0.9944\n",
            "Epoch 27/50\n",
            "4696/4696 [==============================] - 11s 2ms/step - loss: 0.0170 - accuracy: 0.9939 - val_loss: 0.0102 - val_accuracy: 0.9968\n",
            "Epoch 28/50\n",
            "4696/4696 [==============================] - 11s 2ms/step - loss: 0.0162 - accuracy: 0.9939 - val_loss: 0.0141 - val_accuracy: 0.9945\n",
            "Epoch 29/50\n",
            "4696/4696 [==============================] - 11s 2ms/step - loss: 0.0167 - accuracy: 0.9944 - val_loss: 0.0079 - val_accuracy: 0.9975\n",
            "Epoch 30/50\n",
            "4696/4696 [==============================] - 11s 2ms/step - loss: 0.0169 - accuracy: 0.9939 - val_loss: 0.0168 - val_accuracy: 0.9922\n",
            "Epoch 31/50\n",
            "4696/4696 [==============================] - 11s 2ms/step - loss: 0.0161 - accuracy: 0.9942 - val_loss: 0.0074 - val_accuracy: 0.9976\n",
            "Epoch 32/50\n",
            "4696/4696 [==============================] - 12s 2ms/step - loss: 0.0159 - accuracy: 0.9943 - val_loss: 0.0091 - val_accuracy: 0.9965\n",
            "Epoch 33/50\n",
            "4696/4696 [==============================] - 11s 2ms/step - loss: 0.0170 - accuracy: 0.9941 - val_loss: 0.0100 - val_accuracy: 0.9971\n",
            "Epoch 34/50\n",
            "4696/4696 [==============================] - 11s 2ms/step - loss: 0.0155 - accuracy: 0.9947 - val_loss: 0.0090 - val_accuracy: 0.9968\n",
            "Epoch 35/50\n",
            "4696/4696 [==============================] - 11s 2ms/step - loss: 0.0159 - accuracy: 0.9943 - val_loss: 0.0101 - val_accuracy: 0.9968\n",
            "Epoch 36/50\n",
            "4696/4696 [==============================] - 17s 4ms/step - loss: 0.0154 - accuracy: 0.9945 - val_loss: 0.0219 - val_accuracy: 0.9935\n",
            "Epoch 37/50\n",
            "4696/4696 [==============================] - 11s 2ms/step - loss: 0.0136 - accuracy: 0.9952 - val_loss: 0.0141 - val_accuracy: 0.9941\n",
            "Epoch 38/50\n",
            "4696/4696 [==============================] - 11s 2ms/step - loss: 0.0147 - accuracy: 0.9948 - val_loss: 0.0095 - val_accuracy: 0.9965\n",
            "Epoch 39/50\n",
            "4696/4696 [==============================] - 11s 2ms/step - loss: 0.0141 - accuracy: 0.9950 - val_loss: 0.0189 - val_accuracy: 0.9931\n",
            "Epoch 40/50\n",
            "4696/4696 [==============================] - 11s 2ms/step - loss: 0.0139 - accuracy: 0.9952 - val_loss: 0.0085 - val_accuracy: 0.9982\n",
            "Epoch 41/50\n",
            "4696/4696 [==============================] - 11s 2ms/step - loss: 0.0141 - accuracy: 0.9950 - val_loss: 0.0102 - val_accuracy: 0.9959\n",
            "Epoch 42/50\n",
            "4696/4696 [==============================] - 11s 2ms/step - loss: 0.0147 - accuracy: 0.9952 - val_loss: 0.0086 - val_accuracy: 0.9968\n",
            "Epoch 43/50\n",
            "4696/4696 [==============================] - 11s 2ms/step - loss: 0.0138 - accuracy: 0.9951 - val_loss: 0.0099 - val_accuracy: 0.9964\n",
            "Epoch 44/50\n",
            "4696/4696 [==============================] - 11s 2ms/step - loss: 0.0146 - accuracy: 0.9950 - val_loss: 0.0131 - val_accuracy: 0.9956\n",
            "Epoch 45/50\n",
            "4696/4696 [==============================] - 11s 2ms/step - loss: 0.0128 - accuracy: 0.9957 - val_loss: 0.0086 - val_accuracy: 0.9971\n",
            "Epoch 46/50\n",
            "4696/4696 [==============================] - 11s 2ms/step - loss: 0.0124 - accuracy: 0.9957 - val_loss: 0.0125 - val_accuracy: 0.9954\n",
            "Epoch 47/50\n",
            "4696/4696 [==============================] - 11s 2ms/step - loss: 0.0121 - accuracy: 0.9956 - val_loss: 0.0086 - val_accuracy: 0.9969\n",
            "Epoch 48/50\n",
            "4696/4696 [==============================] - 11s 2ms/step - loss: 0.0133 - accuracy: 0.9958 - val_loss: 0.0103 - val_accuracy: 0.9952\n",
            "Epoch 49/50\n",
            "4696/4696 [==============================] - 11s 2ms/step - loss: 0.0118 - accuracy: 0.9958 - val_loss: 0.0065 - val_accuracy: 0.9980\n",
            "Epoch 50/50\n",
            "4696/4696 [==============================] - 11s 2ms/step - loss: 0.0126 - accuracy: 0.9961 - val_loss: 0.0076 - val_accuracy: 0.9977\n"
          ]
        }
      ]
    },
    {
      "cell_type": "code",
      "source": [
        "testloss,testaccuracy= model.evaluate(X_test, y_test)\n",
        "print('test loss : ', testloss)\n",
        "print('test accuracy :', testaccuracy)"
      ],
      "metadata": {
        "colab": {
          "base_uri": "https://localhost:8080/"
        },
        "id": "9Z-paXtVKSbf",
        "outputId": "ccdaa1ee-a4f4-4396-e33d-d75cdc705e2b"
      },
      "execution_count": 39,
      "outputs": [
        {
          "output_type": "stream",
          "name": "stdout",
          "text": [
            "653/653 [==============================] - 1s 1ms/step - loss: 0.0086 - accuracy: 0.9965\n",
            "test loss :  0.00858741719275713\n",
            "test accuracy : 0.9965499043464661\n"
          ]
        }
      ]
    },
    {
      "cell_type": "code",
      "source": [
        "y_pred=model.predict(X_test)"
      ],
      "metadata": {
        "id": "pGGPZSm1KT3T"
      },
      "execution_count": 40,
      "outputs": []
    }
  ]
}