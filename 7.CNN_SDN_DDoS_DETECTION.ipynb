{
  "nbformat": 4,
  "nbformat_minor": 0,
  "metadata": {
    "colab": {
      "name": "CNN_SDN_DDoS_DETECTION.ipynb",
      "provenance": []
    },
    "kernelspec": {
      "name": "python3",
      "display_name": "Python 3"
    },
    "language_info": {
      "name": "python"
    }
  },
  "cells": [
    {
      "cell_type": "code",
      "execution_count": 1,
      "metadata": {
        "colab": {
          "base_uri": "https://localhost:8080/",
          "height": 299
        },
        "id": "BsLyABYNYgvq",
        "outputId": "b2457132-8ec6-4527-e6b5-47d165096113"
      },
      "outputs": [
        {
          "output_type": "execute_result",
          "data": {
            "text/plain": [
              "      dt  switch       src       dst  pktcount  bytecount  dur   dur_nsec  \\\n",
              "0  11425       1  10.0.0.1  10.0.0.8     45304   48294064  100  716000000   \n",
              "1  11605       1  10.0.0.1  10.0.0.8    126395  134737070  280  734000000   \n",
              "2  11425       1  10.0.0.2  10.0.0.8     90333   96294978  200  744000000   \n",
              "3  11425       1  10.0.0.2  10.0.0.8     90333   96294978  200  744000000   \n",
              "4  11425       1  10.0.0.2  10.0.0.8     90333   96294978  200  744000000   \n",
              "\n",
              "        tot_dur  flows  ...  pktrate  Pairflow  Protocol  port_no   tx_bytes  \\\n",
              "0  1.010000e+11      3  ...      451         0       UDP        3  143928631   \n",
              "1  2.810000e+11      2  ...      451         0       UDP        4       3842   \n",
              "2  2.010000e+11      3  ...      451         0       UDP        1       3795   \n",
              "3  2.010000e+11      3  ...      451         0       UDP        2       3688   \n",
              "4  2.010000e+11      3  ...      451         0       UDP        3       3413   \n",
              "\n",
              "  rx_bytes  tx_kbps  rx_kbps  tot_kbps  label  \n",
              "0     3917        0      0.0       0.0      0  \n",
              "1     3520        0      0.0       0.0      0  \n",
              "2     1242        0      0.0       0.0      0  \n",
              "3     1492        0      0.0       0.0      0  \n",
              "4     3665        0      0.0       0.0      0  \n",
              "\n",
              "[5 rows x 23 columns]"
            ],
            "text/html": [
              "\n",
              "  <div id=\"df-9ce9c334-bad6-4722-a543-f2fdfe47b017\">\n",
              "    <div class=\"colab-df-container\">\n",
              "      <div>\n",
              "<style scoped>\n",
              "    .dataframe tbody tr th:only-of-type {\n",
              "        vertical-align: middle;\n",
              "    }\n",
              "\n",
              "    .dataframe tbody tr th {\n",
              "        vertical-align: top;\n",
              "    }\n",
              "\n",
              "    .dataframe thead th {\n",
              "        text-align: right;\n",
              "    }\n",
              "</style>\n",
              "<table border=\"1\" class=\"dataframe\">\n",
              "  <thead>\n",
              "    <tr style=\"text-align: right;\">\n",
              "      <th></th>\n",
              "      <th>dt</th>\n",
              "      <th>switch</th>\n",
              "      <th>src</th>\n",
              "      <th>dst</th>\n",
              "      <th>pktcount</th>\n",
              "      <th>bytecount</th>\n",
              "      <th>dur</th>\n",
              "      <th>dur_nsec</th>\n",
              "      <th>tot_dur</th>\n",
              "      <th>flows</th>\n",
              "      <th>...</th>\n",
              "      <th>pktrate</th>\n",
              "      <th>Pairflow</th>\n",
              "      <th>Protocol</th>\n",
              "      <th>port_no</th>\n",
              "      <th>tx_bytes</th>\n",
              "      <th>rx_bytes</th>\n",
              "      <th>tx_kbps</th>\n",
              "      <th>rx_kbps</th>\n",
              "      <th>tot_kbps</th>\n",
              "      <th>label</th>\n",
              "    </tr>\n",
              "  </thead>\n",
              "  <tbody>\n",
              "    <tr>\n",
              "      <th>0</th>\n",
              "      <td>11425</td>\n",
              "      <td>1</td>\n",
              "      <td>10.0.0.1</td>\n",
              "      <td>10.0.0.8</td>\n",
              "      <td>45304</td>\n",
              "      <td>48294064</td>\n",
              "      <td>100</td>\n",
              "      <td>716000000</td>\n",
              "      <td>1.010000e+11</td>\n",
              "      <td>3</td>\n",
              "      <td>...</td>\n",
              "      <td>451</td>\n",
              "      <td>0</td>\n",
              "      <td>UDP</td>\n",
              "      <td>3</td>\n",
              "      <td>143928631</td>\n",
              "      <td>3917</td>\n",
              "      <td>0</td>\n",
              "      <td>0.0</td>\n",
              "      <td>0.0</td>\n",
              "      <td>0</td>\n",
              "    </tr>\n",
              "    <tr>\n",
              "      <th>1</th>\n",
              "      <td>11605</td>\n",
              "      <td>1</td>\n",
              "      <td>10.0.0.1</td>\n",
              "      <td>10.0.0.8</td>\n",
              "      <td>126395</td>\n",
              "      <td>134737070</td>\n",
              "      <td>280</td>\n",
              "      <td>734000000</td>\n",
              "      <td>2.810000e+11</td>\n",
              "      <td>2</td>\n",
              "      <td>...</td>\n",
              "      <td>451</td>\n",
              "      <td>0</td>\n",
              "      <td>UDP</td>\n",
              "      <td>4</td>\n",
              "      <td>3842</td>\n",
              "      <td>3520</td>\n",
              "      <td>0</td>\n",
              "      <td>0.0</td>\n",
              "      <td>0.0</td>\n",
              "      <td>0</td>\n",
              "    </tr>\n",
              "    <tr>\n",
              "      <th>2</th>\n",
              "      <td>11425</td>\n",
              "      <td>1</td>\n",
              "      <td>10.0.0.2</td>\n",
              "      <td>10.0.0.8</td>\n",
              "      <td>90333</td>\n",
              "      <td>96294978</td>\n",
              "      <td>200</td>\n",
              "      <td>744000000</td>\n",
              "      <td>2.010000e+11</td>\n",
              "      <td>3</td>\n",
              "      <td>...</td>\n",
              "      <td>451</td>\n",
              "      <td>0</td>\n",
              "      <td>UDP</td>\n",
              "      <td>1</td>\n",
              "      <td>3795</td>\n",
              "      <td>1242</td>\n",
              "      <td>0</td>\n",
              "      <td>0.0</td>\n",
              "      <td>0.0</td>\n",
              "      <td>0</td>\n",
              "    </tr>\n",
              "    <tr>\n",
              "      <th>3</th>\n",
              "      <td>11425</td>\n",
              "      <td>1</td>\n",
              "      <td>10.0.0.2</td>\n",
              "      <td>10.0.0.8</td>\n",
              "      <td>90333</td>\n",
              "      <td>96294978</td>\n",
              "      <td>200</td>\n",
              "      <td>744000000</td>\n",
              "      <td>2.010000e+11</td>\n",
              "      <td>3</td>\n",
              "      <td>...</td>\n",
              "      <td>451</td>\n",
              "      <td>0</td>\n",
              "      <td>UDP</td>\n",
              "      <td>2</td>\n",
              "      <td>3688</td>\n",
              "      <td>1492</td>\n",
              "      <td>0</td>\n",
              "      <td>0.0</td>\n",
              "      <td>0.0</td>\n",
              "      <td>0</td>\n",
              "    </tr>\n",
              "    <tr>\n",
              "      <th>4</th>\n",
              "      <td>11425</td>\n",
              "      <td>1</td>\n",
              "      <td>10.0.0.2</td>\n",
              "      <td>10.0.0.8</td>\n",
              "      <td>90333</td>\n",
              "      <td>96294978</td>\n",
              "      <td>200</td>\n",
              "      <td>744000000</td>\n",
              "      <td>2.010000e+11</td>\n",
              "      <td>3</td>\n",
              "      <td>...</td>\n",
              "      <td>451</td>\n",
              "      <td>0</td>\n",
              "      <td>UDP</td>\n",
              "      <td>3</td>\n",
              "      <td>3413</td>\n",
              "      <td>3665</td>\n",
              "      <td>0</td>\n",
              "      <td>0.0</td>\n",
              "      <td>0.0</td>\n",
              "      <td>0</td>\n",
              "    </tr>\n",
              "  </tbody>\n",
              "</table>\n",
              "<p>5 rows × 23 columns</p>\n",
              "</div>\n",
              "      <button class=\"colab-df-convert\" onclick=\"convertToInteractive('df-9ce9c334-bad6-4722-a543-f2fdfe47b017')\"\n",
              "              title=\"Convert this dataframe to an interactive table.\"\n",
              "              style=\"display:none;\">\n",
              "        \n",
              "  <svg xmlns=\"http://www.w3.org/2000/svg\" height=\"24px\"viewBox=\"0 0 24 24\"\n",
              "       width=\"24px\">\n",
              "    <path d=\"M0 0h24v24H0V0z\" fill=\"none\"/>\n",
              "    <path d=\"M18.56 5.44l.94 2.06.94-2.06 2.06-.94-2.06-.94-.94-2.06-.94 2.06-2.06.94zm-11 1L8.5 8.5l.94-2.06 2.06-.94-2.06-.94L8.5 2.5l-.94 2.06-2.06.94zm10 10l.94 2.06.94-2.06 2.06-.94-2.06-.94-.94-2.06-.94 2.06-2.06.94z\"/><path d=\"M17.41 7.96l-1.37-1.37c-.4-.4-.92-.59-1.43-.59-.52 0-1.04.2-1.43.59L10.3 9.45l-7.72 7.72c-.78.78-.78 2.05 0 2.83L4 21.41c.39.39.9.59 1.41.59.51 0 1.02-.2 1.41-.59l7.78-7.78 2.81-2.81c.8-.78.8-2.07 0-2.86zM5.41 20L4 18.59l7.72-7.72 1.47 1.35L5.41 20z\"/>\n",
              "  </svg>\n",
              "      </button>\n",
              "      \n",
              "  <style>\n",
              "    .colab-df-container {\n",
              "      display:flex;\n",
              "      flex-wrap:wrap;\n",
              "      gap: 12px;\n",
              "    }\n",
              "\n",
              "    .colab-df-convert {\n",
              "      background-color: #E8F0FE;\n",
              "      border: none;\n",
              "      border-radius: 50%;\n",
              "      cursor: pointer;\n",
              "      display: none;\n",
              "      fill: #1967D2;\n",
              "      height: 32px;\n",
              "      padding: 0 0 0 0;\n",
              "      width: 32px;\n",
              "    }\n",
              "\n",
              "    .colab-df-convert:hover {\n",
              "      background-color: #E2EBFA;\n",
              "      box-shadow: 0px 1px 2px rgba(60, 64, 67, 0.3), 0px 1px 3px 1px rgba(60, 64, 67, 0.15);\n",
              "      fill: #174EA6;\n",
              "    }\n",
              "\n",
              "    [theme=dark] .colab-df-convert {\n",
              "      background-color: #3B4455;\n",
              "      fill: #D2E3FC;\n",
              "    }\n",
              "\n",
              "    [theme=dark] .colab-df-convert:hover {\n",
              "      background-color: #434B5C;\n",
              "      box-shadow: 0px 1px 3px 1px rgba(0, 0, 0, 0.15);\n",
              "      filter: drop-shadow(0px 1px 2px rgba(0, 0, 0, 0.3));\n",
              "      fill: #FFFFFF;\n",
              "    }\n",
              "  </style>\n",
              "\n",
              "      <script>\n",
              "        const buttonEl =\n",
              "          document.querySelector('#df-9ce9c334-bad6-4722-a543-f2fdfe47b017 button.colab-df-convert');\n",
              "        buttonEl.style.display =\n",
              "          google.colab.kernel.accessAllowed ? 'block' : 'none';\n",
              "\n",
              "        async function convertToInteractive(key) {\n",
              "          const element = document.querySelector('#df-9ce9c334-bad6-4722-a543-f2fdfe47b017');\n",
              "          const dataTable =\n",
              "            await google.colab.kernel.invokeFunction('convertToInteractive',\n",
              "                                                     [key], {});\n",
              "          if (!dataTable) return;\n",
              "\n",
              "          const docLinkHtml = 'Like what you see? Visit the ' +\n",
              "            '<a target=\"_blank\" href=https://colab.research.google.com/notebooks/data_table.ipynb>data table notebook</a>'\n",
              "            + ' to learn more about interactive tables.';\n",
              "          element.innerHTML = '';\n",
              "          dataTable['output_type'] = 'display_data';\n",
              "          await google.colab.output.renderOutput(dataTable, element);\n",
              "          const docLink = document.createElement('div');\n",
              "          docLink.innerHTML = docLinkHtml;\n",
              "          element.appendChild(docLink);\n",
              "        }\n",
              "      </script>\n",
              "    </div>\n",
              "  </div>\n",
              "  "
            ]
          },
          "metadata": {},
          "execution_count": 1
        }
      ],
      "source": [
        "import matplotlib.pyplot as plt\n",
        "import numpy as np\n",
        "import pandas as pd\n",
        "import seaborn as sns; sns.set()\n",
        "from sklearn.metrics import confusion_matrix\n",
        "%matplotlib inline\n",
        "\n",
        "DDoS = pd.read_csv('/content/dataset_sdn.csv')\n",
        "DDoS.head()"
      ]
    },
    {
      "cell_type": "code",
      "source": [
        "DDoS.Protocol.unique()\n",
        "DDoS['Protocol'] = DDoS['Protocol'].replace('TCP', '0')\n",
        "DDoS['Protocol'] = DDoS['Protocol'].replace('UDP', '1')\n",
        "DDoS['Protocol'] = DDoS['Protocol'].replace('ICMP', '2')\n",
        "DDoS.Protocol.unique()"
      ],
      "metadata": {
        "colab": {
          "base_uri": "https://localhost:8080/"
        },
        "id": "rCCSX6DOY56P",
        "outputId": "58bc870a-82f4-4e66-ec60-322b7b4a3962"
      },
      "execution_count": 2,
      "outputs": [
        {
          "output_type": "execute_result",
          "data": {
            "text/plain": [
              "array(['1', '0', '2'], dtype=object)"
            ]
          },
          "metadata": {},
          "execution_count": 2
        }
      ]
    },
    {
      "cell_type": "code",
      "source": [
        "DDoS[\"rx_kbps\"] = DDoS[\"rx_kbps\"].fillna(DDoS[\"rx_kbps\"].mean())"
      ],
      "metadata": {
        "id": "cxrNJXgtY9G-"
      },
      "execution_count": 3,
      "outputs": []
    },
    {
      "cell_type": "code",
      "source": [
        "DDoS[\"tot_kbps\"] = DDoS[\"tot_kbps\"].fillna(DDoS[\"tot_kbps\"].mean())"
      ],
      "metadata": {
        "id": "ExNTKo8iZA0H"
      },
      "execution_count": 4,
      "outputs": []
    },
    {
      "cell_type": "code",
      "source": [
        "from sklearn.model_selection import train_test_split\n",
        "features =DDoS[['dt', 'switch', 'pktcount', 'bytecount', 'dur', 'tot_dur',\n",
        "       'flows', 'packetins', 'pktperflow', 'byteperflow', 'pktrate',\n",
        "       'Pairflow','Protocol' ,'port_no', 'tx_bytes', 'rx_bytes', 'tx_kbps', 'rx_kbps',\n",
        "       'tot_kbps']]\n",
        "labels = DDoS['label']\n",
        "\n",
        "X_train, X_test, y_train, y_test = train_test_split(features, labels, test_size=0.2, random_state=42)"
      ],
      "metadata": {
        "id": "ihrAlHlgZDZZ"
      },
      "execution_count": 5,
      "outputs": []
    },
    {
      "cell_type": "code",
      "source": [
        "# Feature scaling (or standardization)\n",
        "from sklearn.preprocessing import StandardScaler\n",
        "scaler = StandardScaler()\n",
        "X_train = scaler.fit_transform(X_train)\n",
        "X_test = scaler.transform(X_test)"
      ],
      "metadata": {
        "id": "aJFyF1CcZGlb"
      },
      "execution_count": 6,
      "outputs": []
    },
    {
      "cell_type": "code",
      "source": [
        "print(X_train.shape)\n",
        "print(y_train.shape)\n",
        "print(X_test.shape)\n",
        "print(y_test.shape)"
      ],
      "metadata": {
        "colab": {
          "base_uri": "https://localhost:8080/"
        },
        "id": "8433Ai-QZJbl",
        "outputId": "e75792e9-4d18-42dc-fb1a-a9b721d2769c"
      },
      "execution_count": 7,
      "outputs": [
        {
          "output_type": "stream",
          "name": "stdout",
          "text": [
            "(83476, 19)\n",
            "(83476,)\n",
            "(20869, 19)\n",
            "(20869,)\n"
          ]
        }
      ]
    },
    {
      "cell_type": "code",
      "source": [
        "from tensorflow import keras\n",
        "from tensorflow.keras.layers import Input\n",
        "from keras.layers import Convolution1D, Dense, Dropout, MaxPooling1D, LSTM\n",
        "from keras.layers import Dense, Dropout, Activation, Lambda, Flatten\n",
        "convnet=keras.models.Sequential()\n",
        "convnet.add(keras.layers.Convolution1D(32,3,activation=\"relu\",input_shape=(19,1)))\n",
        "convnet.add(keras.layers.Convolution1D(64,3,activation=\"relu\"))\n",
        "convnet.add(keras.layers.BatchNormalization())\n",
        "convnet.add(keras.layers.MaxPooling1D(2,2))\n",
        "convnet.add(keras.layers.Dropout(0.25))\n",
        "convnet.add(keras.layers.Flatten())\n",
        "convnet.add(keras.layers.Dense(128,activation=\"relu\"))\n",
        "convnet.add(keras.layers.Dropout(0.25))\n",
        "convnet.add(keras.layers.Dense(2,activation=\"softmax\"))\n",
        "convnet.summary()"
      ],
      "metadata": {
        "colab": {
          "base_uri": "https://localhost:8080/"
        },
        "id": "AcFai-EwZLtq",
        "outputId": "7125e36e-1666-415a-813e-e673d8fc1a76"
      },
      "execution_count": 10,
      "outputs": [
        {
          "output_type": "stream",
          "name": "stdout",
          "text": [
            "Model: \"sequential_1\"\n",
            "_________________________________________________________________\n",
            " Layer (type)                Output Shape              Param #   \n",
            "=================================================================\n",
            " conv1d_2 (Conv1D)           (None, 17, 32)            128       \n",
            "                                                                 \n",
            " conv1d_3 (Conv1D)           (None, 15, 64)            6208      \n",
            "                                                                 \n",
            " batch_normalization_1 (Batc  (None, 15, 64)           256       \n",
            " hNormalization)                                                 \n",
            "                                                                 \n",
            " max_pooling1d_1 (MaxPooling  (None, 7, 64)            0         \n",
            " 1D)                                                             \n",
            "                                                                 \n",
            " dropout_2 (Dropout)         (None, 7, 64)             0         \n",
            "                                                                 \n",
            " flatten_1 (Flatten)         (None, 448)               0         \n",
            "                                                                 \n",
            " dense_2 (Dense)             (None, 128)               57472     \n",
            "                                                                 \n",
            " dropout_3 (Dropout)         (None, 128)               0         \n",
            "                                                                 \n",
            " dense_3 (Dense)             (None, 2)                 258       \n",
            "                                                                 \n",
            "=================================================================\n",
            "Total params: 64,322\n",
            "Trainable params: 64,194\n",
            "Non-trainable params: 128\n",
            "_________________________________________________________________\n"
          ]
        }
      ]
    },
    {
      "cell_type": "code",
      "source": [
        "\n",
        "#compile\n",
        "convnet.compile(loss='sparse_categorical_crossentropy' , optimizer='adam' , metrics=['accuracy'])\n",
        "\n",
        "#fit\n",
        "history=convnet.fit(x=X_train, y=y_train, validation_split=0.1, epochs=20, batch_size=16)\n",
        "\n",
        "testloss,testaccuracy=convnet.evaluate(X_test,y_test)\n",
        "print(\"Test Loss =\",testloss)\n",
        "print(\"Test Accuracy =\",testaccuracy)"
      ],
      "metadata": {
        "colab": {
          "base_uri": "https://localhost:8080/"
        },
        "id": "nUbvMHQwZqio",
        "outputId": "f054e8a7-4432-4710-bac2-a8f2da1b850b"
      },
      "execution_count": 16,
      "outputs": [
        {
          "output_type": "stream",
          "name": "stdout",
          "text": [
            "Epoch 1/20\n",
            "4696/4696 [==============================] - 24s 5ms/step - loss: 0.0224 - accuracy: 0.9919 - val_loss: 0.0117 - val_accuracy: 0.9965\n",
            "Epoch 2/20\n",
            "4696/4696 [==============================] - 24s 5ms/step - loss: 0.0191 - accuracy: 0.9930 - val_loss: 0.0062 - val_accuracy: 0.9981\n",
            "Epoch 3/20\n",
            "4696/4696 [==============================] - 22s 5ms/step - loss: 0.0199 - accuracy: 0.9930 - val_loss: 0.0166 - val_accuracy: 0.9941\n",
            "Epoch 4/20\n",
            "4696/4696 [==============================] - 24s 5ms/step - loss: 0.0169 - accuracy: 0.9939 - val_loss: 0.0077 - val_accuracy: 0.9978\n",
            "Epoch 5/20\n",
            "4696/4696 [==============================] - 23s 5ms/step - loss: 0.0161 - accuracy: 0.9940 - val_loss: 0.0050 - val_accuracy: 0.9977\n",
            "Epoch 6/20\n",
            "4696/4696 [==============================] - 23s 5ms/step - loss: 0.0159 - accuracy: 0.9943 - val_loss: 0.0056 - val_accuracy: 0.9978\n",
            "Epoch 7/20\n",
            "4696/4696 [==============================] - 24s 5ms/step - loss: 0.0144 - accuracy: 0.9950 - val_loss: 0.0136 - val_accuracy: 0.9980\n",
            "Epoch 8/20\n",
            "4696/4696 [==============================] - 24s 5ms/step - loss: 0.0151 - accuracy: 0.9948 - val_loss: 0.0042 - val_accuracy: 0.9986\n",
            "Epoch 9/20\n",
            "4696/4696 [==============================] - 23s 5ms/step - loss: 0.0136 - accuracy: 0.9949 - val_loss: 0.0153 - val_accuracy: 0.9947\n",
            "Epoch 10/20\n",
            "4696/4696 [==============================] - 23s 5ms/step - loss: 0.0160 - accuracy: 0.9944 - val_loss: 0.0064 - val_accuracy: 0.9983\n",
            "Epoch 11/20\n",
            "4696/4696 [==============================] - 24s 5ms/step - loss: 0.0144 - accuracy: 0.9954 - val_loss: 0.0059 - val_accuracy: 0.9977\n",
            "Epoch 12/20\n",
            "4696/4696 [==============================] - 22s 5ms/step - loss: 0.0127 - accuracy: 0.9956 - val_loss: 0.0248 - val_accuracy: 0.9966\n",
            "Epoch 13/20\n",
            "4696/4696 [==============================] - 22s 5ms/step - loss: 0.0143 - accuracy: 0.9949 - val_loss: 0.0144 - val_accuracy: 0.9977\n",
            "Epoch 14/20\n",
            "4696/4696 [==============================] - 22s 5ms/step - loss: 0.0124 - accuracy: 0.9957 - val_loss: 0.0129 - val_accuracy: 0.9956\n",
            "Epoch 15/20\n",
            "4696/4696 [==============================] - 21s 5ms/step - loss: 0.0124 - accuracy: 0.9956 - val_loss: 0.0137 - val_accuracy: 0.9969\n",
            "Epoch 16/20\n",
            "4696/4696 [==============================] - 22s 5ms/step - loss: 0.0115 - accuracy: 0.9960 - val_loss: 0.0043 - val_accuracy: 0.9983\n",
            "Epoch 17/20\n",
            "4696/4696 [==============================] - 22s 5ms/step - loss: 0.0125 - accuracy: 0.9957 - val_loss: 0.0044 - val_accuracy: 0.9987\n",
            "Epoch 18/20\n",
            "4696/4696 [==============================] - 23s 5ms/step - loss: 0.0116 - accuracy: 0.9962 - val_loss: 0.0045 - val_accuracy: 0.9983\n",
            "Epoch 19/20\n",
            "4696/4696 [==============================] - 23s 5ms/step - loss: 0.0120 - accuracy: 0.9958 - val_loss: 0.0031 - val_accuracy: 0.9984\n",
            "Epoch 20/20\n",
            "4696/4696 [==============================] - 23s 5ms/step - loss: 0.0118 - accuracy: 0.9963 - val_loss: 0.0043 - val_accuracy: 0.9983\n",
            "653/653 [==============================] - 2s 2ms/step - loss: 0.0046 - accuracy: 0.9988\n",
            "Test Loss = 0.004644802305847406\n",
            "Test Accuracy = 0.9987541437149048\n"
          ]
        }
      ]
    },
    {
      "cell_type": "code",
      "source": [
        "# Plot training & validation accuracy values\n",
        "plt.plot(history.history['accuracy'])\n",
        "plt.plot(history.history['val_accuracy'])\n",
        "plt.title('CNN Model Accuracy')\n",
        "plt.ylabel('Accuracy')\n",
        "plt.xlabel('Epoch')\n",
        "plt.legend(['Train', 'Test'], loc='lower right')\n",
        "plt.savefig('CNN Model Accuracy.png')\n",
        "plt.show()"
      ],
      "metadata": {
        "colab": {
          "base_uri": "https://localhost:8080/",
          "height": 301
        },
        "id": "BqaiOW9MbEas",
        "outputId": "33e92b35-0d90-4543-b5e8-a578340e641b"
      },
      "execution_count": 17,
      "outputs": [
        {
          "output_type": "display_data",
          "data": {
            "text/plain": [
              "<Figure size 432x288 with 1 Axes>"
            ],
            "image/png": "[encoded data removed]"
          },
          "metadata": {
            "needs_background": "light"
          }
        }
      ]
    },
    {
      "cell_type": "code",
      "source": [
        "# Plot training & validation loss values\n",
        "plt.plot(history.history['loss'])\n",
        "plt.plot(history.history['val_loss'])\n",
        "plt.title('CNN Model  Loss')\n",
        "plt.ylabel('Loss')\n",
        "plt.xlabel('Epoch')\n",
        "plt.legend(['Train', 'Test'], loc='upper left')\n",
        "plt.savefig('CNN Model Loss.png')\n",
        "plt.show()"
      ],
      "metadata": {
        "colab": {
          "base_uri": "https://localhost:8080/",
          "height": 301
        },
        "id": "HAwBRiIqfI86",
        "outputId": "0a364e31-72cf-4979-fdb8-59ba0442cebd"
      },
      "execution_count": 19,
      "outputs": [
        {
          "output_type": "display_data",
          "data": {
            "text/plain": [
              "<Figure size 432x288 with 1 Axes>"
            ],
            "image/png": "[encoded data removed]"
          },
          "metadata": {
            "needs_background": "light"
          }
        }
      ]
    },
    {
      "cell_type": "code",
      "source": [
        "predict = convnet.predict(X_test, verbose=1)"
      ],
      "metadata": {
        "colab": {
          "base_uri": "https://localhost:8080/"
        },
        "id": "SmA4oh1RfRcR",
        "outputId": "c033a8ca-ec47-42ae-fb3c-e839fbfaf6d6"
      },
      "execution_count": 21,
      "outputs": [
        {
          "output_type": "stream",
          "name": "stdout",
          "text": [
            "653/653 [==============================] - 3s 5ms/step\n"
          ]
        }
      ]
    },
    {
      "cell_type": "code",
      "source": [
        "tp = 0\n",
        "tn = 0\n",
        "fp = 0\n",
        "fn = 0\n",
        "predictn = predict.flatten().round()\n",
        "predictn = predictn.tolist()\n",
        "Y_testn = y_test.tolist()\n",
        "for i in range(len(Y_testn)):\n",
        "  if predictn[i]==1 and Y_testn[i]==1:\n",
        "    tp+=1\n",
        "  elif predictn[i]==0 and Y_testn[i]==0:\n",
        "    tn+=1\n",
        "  elif predictn[i]==0 and Y_testn[i]==1:\n",
        "    fp+=1\n",
        "  elif predictn[i]==1 and Y_testn[i]==0:\n",
        "    fn+=1"
      ],
      "metadata": {
        "id": "RE_7vKcHfqjo"
      },
      "execution_count": 22,
      "outputs": []
    },
    {
      "cell_type": "code",
      "source": [
        "to_heat_map =[[tn,fp],[fn,tp]]\n",
        "to_heat_map = pd.DataFrame(to_heat_map, index = [\"Normal\",\"Attack\"],columns = [\"Normal\",\"Attack\"])\n",
        "ax = sns.heatmap(to_heat_map,annot=True, fmt=\"d\")"
      ],
      "metadata": {
        "colab": {
          "base_uri": "https://localhost:8080/",
          "height": 268
        },
        "id": "oC_Rr_kBfvTu",
        "outputId": "9fb1a927-3a28-4f6f-b232-661e7e76cbce"
      },
      "execution_count": 23,
      "outputs": [
        {
          "output_type": "display_data",
          "data": {
            "text/plain": [
              "<Figure size 432x288 with 2 Axes>"
            ],
            "image/png": "[encoded data removed]"
          },
          "metadata": {
            "needs_background": "light"
          }
        }
      ]
    },
    {
      "cell_type": "code",
      "source": [
        "scores = convnet.evaluate(X_test, y_test, verbose=0)\n",
        "print(\"%s: %.2f%%\" % (convnet.metrics_names[1], scores[1]*100))"
      ],
      "metadata": {
        "colab": {
          "base_uri": "https://localhost:8080/"
        },
        "id": "1fgbeM5Vf0tt",
        "outputId": "d1b0dc3e-b83e-4f13-9c09-22746255bbf8"
      },
      "execution_count": 24,
      "outputs": [
        {
          "output_type": "stream",
          "name": "stdout",
          "text": [
            "accuracy: 99.88%\n"
          ]
        }
      ]
    }
  ]
}