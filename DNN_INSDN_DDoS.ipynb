{
  "nbformat": 4,
  "nbformat_minor": 0,
  "metadata": {
    "colab": {
      "name": "DNN_INSDN_DDoS.ipynb",
      "provenance": [],
      "collapsed_sections": []
    },
    "kernelspec": {
      "name": "python3",
      "display_name": "Python 3"
    },
    "language_info": {
      "name": "python"
    }
  },
  "cells": [
    {
      "cell_type": "code",
      "execution_count": 1,
      "metadata": {
        "id": "v2vGuwo7wXHF"
      },
      "outputs": [],
      "source": [
        "import matplotlib.pyplot as plt\n",
        "import numpy as np\n",
        "import pandas as pd\n",
        "import seaborn as sns; sns.set()\n",
        "from sklearn.metrics import confusion_matrix\n",
        "%matplotlib inline"
      ]
    },
    {
      "cell_type": "code",
      "source": [
        "DDoS=pd.read_csv('/content/metasploitable-2.csv')"
      ],
      "metadata": {
        "id": "-tKxcLdJwx8e"
      },
      "execution_count": 2,
      "outputs": []
    },
    {
      "cell_type": "code",
      "source": [
        "DDoS.head()"
      ],
      "metadata": {
        "colab": {
          "base_uri": "https://localhost:8080/",
          "height": 525
        },
        "id": "yZNfAFDxw0sX",
        "outputId": "f797497f-36ef-4809-a42c-644dfa9d434f"
      },
      "execution_count": 3,
      "outputs": [
        {
          "output_type": "execute_result",
          "data": {
            "text/plain": [
              "                                    Flow ID         Src IP  Src Port  \\\n",
              "0  192.168.3.130-200.175.2.130-38694-4444-6  192.168.3.130     38694   \n",
              "1  192.168.3.130-200.175.2.130-38693-4444-6  192.168.3.130     38693   \n",
              "2  192.168.3.130-200.175.2.130-3632-33747-6  200.175.2.130     33747   \n",
              "3  192.168.3.130-200.175.2.130-8180-38745-6  200.175.2.130     38745   \n",
              "4  192.168.3.130-200.175.2.130-8180-37217-6  200.175.2.130     37217   \n",
              "\n",
              "          Dst IP  Dst Port  Protocol       Timestamp  Flow Duration  \\\n",
              "0  200.175.2.130      4444         6  10/1/2020 5:02         269709   \n",
              "1  200.175.2.130      4444         6  10/1/2020 5:02         268599   \n",
              "2  192.168.3.130      3632         6  10/1/2020 5:02          22194   \n",
              "3  192.168.3.130      8180         6  10/1/2020 1:39           9556   \n",
              "4  192.168.3.130      8180         6  10/1/2020 1:39           8782   \n",
              "\n",
              "   Tot Fwd Pkts  Tot Bwd Pkts  ...  Fwd Seg Size Min  Active Mean  Active Std  \\\n",
              "0             4             5  ...                 0          0.0         0.0   \n",
              "1             2             3  ...                 0          0.0         0.0   \n",
              "2             5             5  ...                 0          0.0         0.0   \n",
              "3             4             4  ...                 0          0.0         0.0   \n",
              "4             4             4  ...                 0          0.0         0.0   \n",
              "\n",
              "   Active Max  Active Min  Idle Mean  Idle Std  Idle Max  Idle Min  Label  \n",
              "0           0           0        0.0       0.0       0.0       0.0    U2R  \n",
              "1           0           0        0.0       0.0       0.0       0.0    U2R  \n",
              "2           0           0        0.0       0.0       0.0       0.0    U2R  \n",
              "3           0           0        0.0       0.0       0.0       0.0    BFA  \n",
              "4           0           0        0.0       0.0       0.0       0.0    BFA  \n",
              "\n",
              "[5 rows x 84 columns]"
            ],
            "text/html": [
              "\n",
              "  <div id=\"df-f15aded9-ad45-42b5-a10b-d1d3039a41d6\">\n",
              "    <div class=\"colab-df-container\">\n",
              "      <div>\n",
              "<style scoped>\n",
              "    .dataframe tbody tr th:only-of-type {\n",
              "        vertical-align: middle;\n",
              "    }\n",
              "\n",
              "    .dataframe tbody tr th {\n",
              "        vertical-align: top;\n",
              "    }\n",
              "\n",
              "    .dataframe thead th {\n",
              "        text-align: right;\n",
              "    }\n",
              "</style>\n",
              "<table border=\"1\" class=\"dataframe\">\n",
              "  <thead>\n",
              "    <tr style=\"text-align: right;\">\n",
              "      <th></th>\n",
              "      <th>Flow ID</th>\n",
              "      <th>Src IP</th>\n",
              "      <th>Src Port</th>\n",
              "      <th>Dst IP</th>\n",
              "      <th>Dst Port</th>\n",
              "      <th>Protocol</th>\n",
              "      <th>Timestamp</th>\n",
              "      <th>Flow Duration</th>\n",
              "      <th>Tot Fwd Pkts</th>\n",
              "      <th>Tot Bwd Pkts</th>\n",
              "      <th>...</th>\n",
              "      <th>Fwd Seg Size Min</th>\n",
              "      <th>Active Mean</th>\n",
              "      <th>Active Std</th>\n",
              "      <th>Active Max</th>\n",
              "      <th>Active Min</th>\n",
              "      <th>Idle Mean</th>\n",
              "      <th>Idle Std</th>\n",
              "      <th>Idle Max</th>\n",
              "      <th>Idle Min</th>\n",
              "      <th>Label</th>\n",
              "    </tr>\n",
              "  </thead>\n",
              "  <tbody>\n",
              "    <tr>\n",
              "      <th>0</th>\n",
              "      <td>192.168.3.130-200.175.2.130-38694-4444-6</td>\n",
              "      <td>192.168.3.130</td>\n",
              "      <td>38694</td>\n",
              "      <td>200.175.2.130</td>\n",
              "      <td>4444</td>\n",
              "      <td>6</td>\n",
              "      <td>10/1/2020 5:02</td>\n",
              "      <td>269709</td>\n",
              "      <td>4</td>\n",
              "      <td>5</td>\n",
              "      <td>...</td>\n",
              "      <td>0</td>\n",
              "      <td>0.0</td>\n",
              "      <td>0.0</td>\n",
              "      <td>0</td>\n",
              "      <td>0</td>\n",
              "      <td>0.0</td>\n",
              "      <td>0.0</td>\n",
              "      <td>0.0</td>\n",
              "      <td>0.0</td>\n",
              "      <td>U2R</td>\n",
              "    </tr>\n",
              "    <tr>\n",
              "      <th>1</th>\n",
              "      <td>192.168.3.130-200.175.2.130-38693-4444-6</td>\n",
              "      <td>192.168.3.130</td>\n",
              "      <td>38693</td>\n",
              "      <td>200.175.2.130</td>\n",
              "      <td>4444</td>\n",
              "      <td>6</td>\n",
              "      <td>10/1/2020 5:02</td>\n",
              "      <td>268599</td>\n",
              "      <td>2</td>\n",
              "      <td>3</td>\n",
              "      <td>...</td>\n",
              "      <td>0</td>\n",
              "      <td>0.0</td>\n",
              "      <td>0.0</td>\n",
              "      <td>0</td>\n",
              "      <td>0</td>\n",
              "      <td>0.0</td>\n",
              "      <td>0.0</td>\n",
              "      <td>0.0</td>\n",
              "      <td>0.0</td>\n",
              "      <td>U2R</td>\n",
              "    </tr>\n",
              "    <tr>\n",
              "      <th>2</th>\n",
              "      <td>192.168.3.130-200.175.2.130-3632-33747-6</td>\n",
              "      <td>200.175.2.130</td>\n",
              "      <td>33747</td>\n",
              "      <td>192.168.3.130</td>\n",
              "      <td>3632</td>\n",
              "      <td>6</td>\n",
              "      <td>10/1/2020 5:02</td>\n",
              "      <td>22194</td>\n",
              "      <td>5</td>\n",
              "      <td>5</td>\n",
              "      <td>...</td>\n",
              "      <td>0</td>\n",
              "      <td>0.0</td>\n",
              "      <td>0.0</td>\n",
              "      <td>0</td>\n",
              "      <td>0</td>\n",
              "      <td>0.0</td>\n",
              "      <td>0.0</td>\n",
              "      <td>0.0</td>\n",
              "      <td>0.0</td>\n",
              "      <td>U2R</td>\n",
              "    </tr>\n",
              "    <tr>\n",
              "      <th>3</th>\n",
              "      <td>192.168.3.130-200.175.2.130-8180-38745-6</td>\n",
              "      <td>200.175.2.130</td>\n",
              "      <td>38745</td>\n",
              "      <td>192.168.3.130</td>\n",
              "      <td>8180</td>\n",
              "      <td>6</td>\n",
              "      <td>10/1/2020 1:39</td>\n",
              "      <td>9556</td>\n",
              "      <td>4</td>\n",
              "      <td>4</td>\n",
              "      <td>...</td>\n",
              "      <td>0</td>\n",
              "      <td>0.0</td>\n",
              "      <td>0.0</td>\n",
              "      <td>0</td>\n",
              "      <td>0</td>\n",
              "      <td>0.0</td>\n",
              "      <td>0.0</td>\n",
              "      <td>0.0</td>\n",
              "      <td>0.0</td>\n",
              "      <td>BFA</td>\n",
              "    </tr>\n",
              "    <tr>\n",
              "      <th>4</th>\n",
              "      <td>192.168.3.130-200.175.2.130-8180-37217-6</td>\n",
              "      <td>200.175.2.130</td>\n",
              "      <td>37217</td>\n",
              "      <td>192.168.3.130</td>\n",
              "      <td>8180</td>\n",
              "      <td>6</td>\n",
              "      <td>10/1/2020 1:39</td>\n",
              "      <td>8782</td>\n",
              "      <td>4</td>\n",
              "      <td>4</td>\n",
              "      <td>...</td>\n",
              "      <td>0</td>\n",
              "      <td>0.0</td>\n",
              "      <td>0.0</td>\n",
              "      <td>0</td>\n",
              "      <td>0</td>\n",
              "      <td>0.0</td>\n",
              "      <td>0.0</td>\n",
              "      <td>0.0</td>\n",
              "      <td>0.0</td>\n",
              "      <td>BFA</td>\n",
              "    </tr>\n",
              "  </tbody>\n",
              "</table>\n",
              "<p>5 rows × 84 columns</p>\n",
              "</div>\n",
              "      <button class=\"colab-df-convert\" onclick=\"convertToInteractive('df-f15aded9-ad45-42b5-a10b-d1d3039a41d6')\"\n",
              "              title=\"Convert this dataframe to an interactive table.\"\n",
              "              style=\"display:none;\">\n",
              "        \n",
              "  <svg xmlns=\"http://www.w3.org/2000/svg\" height=\"24px\"viewBox=\"0 0 24 24\"\n",
              "       width=\"24px\">\n",
              "    <path d=\"M0 0h24v24H0V0z\" fill=\"none\"/>\n",
              "    <path d=\"M18.56 5.44l.94 2.06.94-2.06 2.06-.94-2.06-.94-.94-2.06-.94 2.06-2.06.94zm-11 1L8.5 8.5l.94-2.06 2.06-.94-2.06-.94L8.5 2.5l-.94 2.06-2.06.94zm10 10l.94 2.06.94-2.06 2.06-.94-2.06-.94-.94-2.06-.94 2.06-2.06.94z\"/><path d=\"M17.41 7.96l-1.37-1.37c-.4-.4-.92-.59-1.43-.59-.52 0-1.04.2-1.43.59L10.3 9.45l-7.72 7.72c-.78.78-.78 2.05 0 2.83L4 21.41c.39.39.9.59 1.41.59.51 0 1.02-.2 1.41-.59l7.78-7.78 2.81-2.81c.8-.78.8-2.07 0-2.86zM5.41 20L4 18.59l7.72-7.72 1.47 1.35L5.41 20z\"/>\n",
              "  </svg>\n",
              "      </button>\n",
              "      \n",
              "  <style>\n",
              "    .colab-df-container {\n",
              "      display:flex;\n",
              "      flex-wrap:wrap;\n",
              "      gap: 12px;\n",
              "    }\n",
              "\n",
              "    .colab-df-convert {\n",
              "      background-color: #E8F0FE;\n",
              "      border: none;\n",
              "      border-radius: 50%;\n",
              "      cursor: pointer;\n",
              "      display: none;\n",
              "      fill: #1967D2;\n",
              "      height: 32px;\n",
              "      padding: 0 0 0 0;\n",
              "      width: 32px;\n",
              "    }\n",
              "\n",
              "    .colab-df-convert:hover {\n",
              "      background-color: #E2EBFA;\n",
              "      box-shadow: 0px 1px 2px rgba(60, 64, 67, 0.3), 0px 1px 3px 1px rgba(60, 64, 67, 0.15);\n",
              "      fill: #174EA6;\n",
              "    }\n",
              "\n",
              "    [theme=dark] .colab-df-convert {\n",
              "      background-color: #3B4455;\n",
              "      fill: #D2E3FC;\n",
              "    }\n",
              "\n",
              "    [theme=dark] .colab-df-convert:hover {\n",
              "      background-color: #434B5C;\n",
              "      box-shadow: 0px 1px 3px 1px rgba(0, 0, 0, 0.15);\n",
              "      filter: drop-shadow(0px 1px 2px rgba(0, 0, 0, 0.3));\n",
              "      fill: #FFFFFF;\n",
              "    }\n",
              "  </style>\n",
              "\n",
              "      <script>\n",
              "        const buttonEl =\n",
              "          document.querySelector('#df-f15aded9-ad45-42b5-a10b-d1d3039a41d6 button.colab-df-convert');\n",
              "        buttonEl.style.display =\n",
              "          google.colab.kernel.accessAllowed ? 'block' : 'none';\n",
              "\n",
              "        async function convertToInteractive(key) {\n",
              "          const element = document.querySelector('#df-f15aded9-ad45-42b5-a10b-d1d3039a41d6');\n",
              "          const dataTable =\n",
              "            await google.colab.kernel.invokeFunction('convertToInteractive',\n",
              "                                                     [key], {});\n",
              "          if (!dataTable) return;\n",
              "\n",
              "          const docLinkHtml = 'Like what you see? Visit the ' +\n",
              "            '<a target=\"_blank\" href=https://colab.research.google.com/notebooks/data_table.ipynb>data table notebook</a>'\n",
              "            + ' to learn more about interactive tables.';\n",
              "          element.innerHTML = '';\n",
              "          dataTable['output_type'] = 'display_data';\n",
              "          await google.colab.output.renderOutput(dataTable, element);\n",
              "          const docLink = document.createElement('div');\n",
              "          docLink.innerHTML = docLinkHtml;\n",
              "          element.appendChild(docLink);\n",
              "        }\n",
              "      </script>\n",
              "    </div>\n",
              "  </div>\n",
              "  "
            ]
          },
          "metadata": {},
          "execution_count": 3
        }
      ]
    },
    {
      "cell_type": "code",
      "source": [
        "DDoS.columns"
      ],
      "metadata": {
        "colab": {
          "base_uri": "https://localhost:8080/"
        },
        "id": "9G8SvTMow29J",
        "outputId": "0b33fa8c-8e00-437d-c4d9-694447c3ccdd"
      },
      "execution_count": 4,
      "outputs": [
        {
          "output_type": "execute_result",
          "data": {
            "text/plain": [
              "Index(['Flow ID', 'Src IP', 'Src Port', 'Dst IP', 'Dst Port', 'Protocol',\n",
              "       'Timestamp', 'Flow Duration', 'Tot Fwd Pkts', 'Tot Bwd Pkts',\n",
              "       'TotLen Fwd Pkts', 'TotLen Bwd Pkts', 'Fwd Pkt Len Max',\n",
              "       'Fwd Pkt Len Min', 'Fwd Pkt Len Mean', 'Fwd Pkt Len Std',\n",
              "       'Bwd Pkt Len Max', 'Bwd Pkt Len Min', 'Bwd Pkt Len Mean',\n",
              "       'Bwd Pkt Len Std', 'Flow Byts/s', 'Flow Pkts/s', 'Flow IAT Mean',\n",
              "       'Flow IAT Std', 'Flow IAT Max', 'Flow IAT Min', 'Fwd IAT Tot',\n",
              "       'Fwd IAT Mean', 'Fwd IAT Std', 'Fwd IAT Max', 'Fwd IAT Min',\n",
              "       'Bwd IAT Tot', 'Bwd IAT Mean', 'Bwd IAT Std', 'Bwd IAT Max',\n",
              "       'Bwd IAT Min', 'Fwd PSH Flags', 'Bwd PSH Flags', 'Fwd URG Flags',\n",
              "       'Bwd URG Flags', 'Fwd Header Len', 'Bwd Header Len', 'Fwd Pkts/s',\n",
              "       'Bwd Pkts/s', 'Pkt Len Min', 'Pkt Len Max', 'Pkt Len Mean',\n",
              "       'Pkt Len Std', 'Pkt Len Var', 'FIN Flag Cnt', 'SYN Flag Cnt',\n",
              "       'RST Flag Cnt', 'PSH Flag Cnt', 'ACK Flag Cnt', 'URG Flag Cnt',\n",
              "       'CWE Flag Count', 'ECE Flag Cnt', 'Down/Up Ratio', 'Pkt Size Avg',\n",
              "       'Fwd Seg Size Avg', 'Bwd Seg Size Avg', 'Fwd Byts/b Avg',\n",
              "       'Fwd Pkts/b Avg', 'Fwd Blk Rate Avg', 'Bwd Byts/b Avg',\n",
              "       'Bwd Pkts/b Avg', 'Bwd Blk Rate Avg', 'Subflow Fwd Pkts',\n",
              "       'Subflow Fwd Byts', 'Subflow Bwd Pkts', 'Subflow Bwd Byts',\n",
              "       'Init Fwd Win Byts', 'Init Bwd Win Byts', 'Fwd Act Data Pkts',\n",
              "       'Fwd Seg Size Min', 'Active Mean', 'Active Std', 'Active Max',\n",
              "       'Active Min', 'Idle Mean', 'Idle Std', 'Idle Max', 'Idle Min', 'Label'],\n",
              "      dtype='object')"
            ]
          },
          "metadata": {},
          "execution_count": 4
        }
      ]
    },
    {
      "cell_type": "code",
      "source": [
        "#Transformations of categorical features\n",
        "DDoS['Flow ID'] = DDoS['Flow ID'].astype('category')\n",
        "DDoS['Src IP'] = DDoS['Src IP'].astype('category')\n",
        "DDoS['Dst IP'] = DDoS['Dst IP'].astype('category')\n",
        "DDoS['Timestamp'] = DDoS['Timestamp'].astype('category')\n",
        "DDoS['Label'] = DDoS['Label'].astype('category')\n",
        "\n",
        "cat_columns = DDoS.select_dtypes(['category']).columns\n",
        "DDoS[cat_columns] = DDoS[cat_columns].apply(lambda x: x.cat.codes)"
      ],
      "metadata": {
        "id": "Q5luEFATw5dj"
      },
      "execution_count": 5,
      "outputs": []
    },
    {
      "cell_type": "code",
      "source": [
        "#Removal of duplicates\n",
        "DDoS.drop_duplicates(subset=None, keep='first', inplace=True)"
      ],
      "metadata": {
        "id": "8ELqi_1Ww8Cm"
      },
      "execution_count": 6,
      "outputs": []
    },
    {
      "cell_type": "code",
      "source": [
        "DDoS.shape"
      ],
      "metadata": {
        "colab": {
          "base_uri": "https://localhost:8080/"
        },
        "id": "G2cScccUw-K0",
        "outputId": "824e0346-7e28-4e23-8549-1bc5d90d1ed3"
      },
      "execution_count": 7,
      "outputs": [
        {
          "output_type": "execute_result",
          "data": {
            "text/plain": [
              "(136743, 84)"
            ]
          },
          "metadata": {},
          "execution_count": 7
        }
      ]
    },
    {
      "cell_type": "code",
      "source": [
        "DDoS['Label'].value_counts()"
      ],
      "metadata": {
        "colab": {
          "base_uri": "https://localhost:8080/"
        },
        "id": "EsFmA-HixASI",
        "outputId": "c364d5bf-b640-494f-912b-99e56d063bd6"
      },
      "execution_count": 8,
      "outputs": [
        {
          "output_type": "execute_result",
          "data": {
            "text/plain": [
              "1    73529\n",
              "3    61757\n",
              "2     1145\n",
              "0      295\n",
              "4       17\n",
              "Name: Label, dtype: int64"
            ]
          },
          "metadata": {},
          "execution_count": 8
        }
      ]
    },
    {
      "cell_type": "code",
      "source": [
        "#log scaled distribution of attacks\n",
        "import matplotlib\n",
        "plt.clf()\n",
        "plt.figure(figsize=(12,8))\n",
        "params = {'axes.titlesize':'18',\n",
        "          'xtick.labelsize':'14',\n",
        "          'ytick.labelsize':'14'}\n",
        "matplotlib.rcParams.update(params)\n",
        "plt.title('Distribution of attacks')\n",
        "#df.plot(kind='barh')\n",
        "DDoS['Label'].value_counts().apply(np.log).plot(kind='barh')\n",
        "\n",
        "plt.show()"
      ],
      "metadata": {
        "colab": {
          "base_uri": "https://localhost:8080/",
          "height": 526
        },
        "id": "Fy4FkDlIxC1O",
        "outputId": "026a4f26-7917-4ce6-c52f-d583a2ed8eda"
      },
      "execution_count": 10,
      "outputs": [
        {
          "output_type": "display_data",
          "data": {
            "text/plain": [
              "<Figure size 432x288 with 0 Axes>"
            ]
          },
          "metadata": {}
        },
        {
          "output_type": "display_data",
          "data": {
            "text/plain": [
              "<Figure size 864x576 with 1 Axes>"
            ],
            "image/png": "[encoded data removed]"
          },
          "metadata": {
            "needs_background": "light"
          }
        }
      ]
    },
    {
      "cell_type": "code",
      "source": [
        "from sklearn.model_selection import train_test_split\n",
        "X = DDoS[['Flow ID', 'Src IP', 'Src Port', 'Dst IP', 'Dst Port', 'Protocol',\n",
        "       'Timestamp', 'Flow Duration', 'Tot Fwd Pkts', 'Tot Bwd Pkts',\n",
        "       'TotLen Fwd Pkts', 'TotLen Bwd Pkts', 'Fwd Pkt Len Max',\n",
        "       'Fwd Pkt Len Min', 'Fwd Pkt Len Mean', 'Fwd Pkt Len Std',\n",
        "       'Bwd Pkt Len Max', 'Bwd Pkt Len Min', 'Bwd Pkt Len Mean',\n",
        "       'Bwd Pkt Len Std', 'Flow Byts/s', 'Flow Pkts/s', 'Flow IAT Mean',\n",
        "       'Flow IAT Std', 'Flow IAT Max', 'Flow IAT Min', 'Fwd IAT Tot',\n",
        "       'Fwd IAT Mean', 'Fwd IAT Std', 'Fwd IAT Max', 'Fwd IAT Min',\n",
        "       'Bwd IAT Tot', 'Bwd IAT Mean', 'Bwd IAT Std', 'Bwd IAT Max',\n",
        "       'Bwd IAT Min', 'Fwd PSH Flags', 'Bwd PSH Flags', 'Fwd URG Flags',\n",
        "       'Bwd URG Flags', 'Fwd Header Len', 'Bwd Header Len', 'Fwd Pkts/s',\n",
        "       'Bwd Pkts/s', 'Pkt Len Min', 'Pkt Len Max', 'Pkt Len Mean',\n",
        "       'Pkt Len Std', 'Pkt Len Var', 'FIN Flag Cnt', 'SYN Flag Cnt',\n",
        "       'RST Flag Cnt', 'PSH Flag Cnt', 'ACK Flag Cnt', 'URG Flag Cnt',\n",
        "       'CWE Flag Count', 'ECE Flag Cnt', 'Down/Up Ratio', 'Pkt Size Avg',\n",
        "       'Fwd Seg Size Avg', 'Bwd Seg Size Avg', 'Fwd Byts/b Avg',\n",
        "       'Fwd Pkts/b Avg', 'Fwd Blk Rate Avg', 'Bwd Byts/b Avg',\n",
        "       'Bwd Pkts/b Avg', 'Bwd Blk Rate Avg', 'Subflow Fwd Pkts',\n",
        "       'Subflow Fwd Byts', 'Subflow Bwd Pkts', 'Subflow Bwd Byts',\n",
        "       'Init Fwd Win Byts', 'Init Bwd Win Byts', 'Fwd Act Data Pkts',\n",
        "       'Fwd Seg Size Min', 'Active Mean', 'Active Std', 'Active Max',\n",
        "       'Active Min', 'Idle Mean', 'Idle Std', 'Idle Max', 'Idle Min']]\n",
        "y = DDoS['Label']\n",
        "\n",
        "X_train, X_test, y_train, y_test = train_test_split(X, y, test_size=0.2, random_state=42)"
      ],
      "metadata": {
        "id": "2L9ob4_jxFaM"
      },
      "execution_count": 11,
      "outputs": []
    },
    {
      "cell_type": "code",
      "source": [
        "# Feature scaling (or standardization)\n",
        "from sklearn.preprocessing import StandardScaler\n",
        "scaler = StandardScaler()\n",
        "X_train = scaler.fit_transform(X_train)\n",
        "X_test = scaler.transform(X_test)"
      ],
      "metadata": {
        "id": "nxNHSHSExKdY"
      },
      "execution_count": 12,
      "outputs": []
    },
    {
      "cell_type": "code",
      "source": [
        "DDoS.groupby([\"Timestamp\",\"Src IP\"]).first()"
      ],
      "metadata": {
        "colab": {
          "base_uri": "https://localhost:8080/",
          "height": 588
        },
        "id": "7MR3HpBcxP2G",
        "outputId": "84247b8c-b88e-4c6d-bb89-9a5269de386d"
      },
      "execution_count": 13,
      "outputs": [
        {
          "output_type": "execute_result",
          "data": {
            "text/plain": [
              "                  Flow ID  Src Port  Dst IP  Dst Port  Protocol  \\\n",
              "Timestamp Src IP                                                  \n",
              "0         34877     44484     48052       2      4444         6   \n",
              "          37596     46761     46191       1      6667         6   \n",
              "1         34877     44484     48052       2      4444         6   \n",
              "          37596     46761     46191       1      6667         6   \n",
              "2         34877     61449      8180       2     36317         6   \n",
              "...                   ...       ...     ...       ...       ...   \n",
              "54        37596     61037     57880       1        80         6   \n",
              "55        37596     61041     57888       1        80         6   \n",
              "56        34877     61148        80       2     58102         6   \n",
              "          37596     61115     58036       1        80         6   \n",
              "57        37596     46192     38811       1      6200         6   \n",
              "\n",
              "                  Flow Duration  Tot Fwd Pkts  Tot Bwd Pkts  TotLen Fwd Pkts  \\\n",
              "Timestamp Src IP                                                               \n",
              "0         34877         8737298             3             4               24   \n",
              "          37596        11685939             6             6               30   \n",
              "1         34877         8734991             3             4               24   \n",
              "          37596        11684506             6             6              236   \n",
              "2         34877            4880             0             2                0   \n",
              "...                         ...           ...           ...              ...   \n",
              "54        37596       109089313            11            12              211   \n",
              "55        37596        56528561             5             5               52   \n",
              "56        34877           66031             0             3                0   \n",
              "          37596           15815             1             1                0   \n",
              "57        37596         3625973             6             7               48   \n",
              "\n",
              "                  TotLen Bwd Pkts  ...  Fwd Seg Size Min   Active Mean  \\\n",
              "Timestamp Src IP                   ...                                   \n",
              "0         34877                 3  ...                 0  3.266000e+03   \n",
              "          37596                90  ...                 0  1.007116e+06   \n",
              "1         34877                 3  ...                 0  2.816000e+03   \n",
              "          37596               236  ...                 0  1.010213e+06   \n",
              "2         34877                 0  ...                 0  0.000000e+00   \n",
              "...                           ...  ...               ...           ...   \n",
              "54        37596                 0  ...                 0  5.578216e+05   \n",
              "55        37596                22  ...                 0  8.500000e+00   \n",
              "56        34877                 0  ...                 0  0.000000e+00   \n",
              "          37596                 0  ...                 0  0.000000e+00   \n",
              "57        37596                41  ...                 0  0.000000e+00   \n",
              "\n",
              "                    Active Std  Active Max  Active Min   Idle Mean  \\\n",
              "Timestamp Src IP                                                     \n",
              "0         34877   0.000000e+00        3266        3266   8730838.0   \n",
              "          37596   0.000000e+00     1007116     1007116   9992141.0   \n",
              "1         34877   0.000000e+00        2816        2816   8728974.0   \n",
              "          37596   0.000000e+00     1010213     1010213   9992159.0   \n",
              "2         34877   0.000000e+00           0           0         0.0   \n",
              "...                        ...         ...         ...         ...   \n",
              "54        37596   1.475776e+06     3904568          18  15000000.0   \n",
              "55        37596   1.290994e+00          10           7  14100000.0   \n",
              "56        34877   0.000000e+00           0           0         0.0   \n",
              "          37596   0.000000e+00           0           0         0.0   \n",
              "57        37596   0.000000e+00           0           0         0.0   \n",
              "\n",
              "                      Idle Std    Idle Max    Idle Min  Label  \n",
              "Timestamp Src IP                                               \n",
              "0         34877   0.000000e+00   8730838.0   8730838.0      4  \n",
              "          37596   0.000000e+00   9992141.0   9992141.0      4  \n",
              "1         34877   0.000000e+00   8728974.0   8728974.0      4  \n",
              "          37596   0.000000e+00   9992159.0   9992159.0      4  \n",
              "2         34877   0.000000e+00         0.0         0.0      0  \n",
              "...                        ...         ...         ...    ...  \n",
              "54        37596   6.596303e+03  15000000.0  15000000.0      2  \n",
              "55        37596   1.792146e+06  15000000.0  11400000.0      2  \n",
              "56        34877   0.000000e+00         0.0         0.0      2  \n",
              "          37596   0.000000e+00         0.0         0.0      2  \n",
              "57        37596   0.000000e+00         0.0         0.0      4  \n",
              "\n",
              "[73598 rows x 82 columns]"
            ],
            "text/html": [
              "\n",
              "  <div id=\"df-2d168e9e-eb69-4c9b-ad05-4a6691d74cbf\">\n",
              "    <div class=\"colab-df-container\">\n",
              "      <div>\n",
              "<style scoped>\n",
              "    .dataframe tbody tr th:only-of-type {\n",
              "        vertical-align: middle;\n",
              "    }\n",
              "\n",
              "    .dataframe tbody tr th {\n",
              "        vertical-align: top;\n",
              "    }\n",
              "\n",
              "    .dataframe thead th {\n",
              "        text-align: right;\n",
              "    }\n",
              "</style>\n",
              "<table border=\"1\" class=\"dataframe\">\n",
              "  <thead>\n",
              "    <tr style=\"text-align: right;\">\n",
              "      <th></th>\n",
              "      <th></th>\n",
              "      <th>Flow ID</th>\n",
              "      <th>Src Port</th>\n",
              "      <th>Dst IP</th>\n",
              "      <th>Dst Port</th>\n",
              "      <th>Protocol</th>\n",
              "      <th>Flow Duration</th>\n",
              "      <th>Tot Fwd Pkts</th>\n",
              "      <th>Tot Bwd Pkts</th>\n",
              "      <th>TotLen Fwd Pkts</th>\n",
              "      <th>TotLen Bwd Pkts</th>\n",
              "      <th>...</th>\n",
              "      <th>Fwd Seg Size Min</th>\n",
              "      <th>Active Mean</th>\n",
              "      <th>Active Std</th>\n",
              "      <th>Active Max</th>\n",
              "      <th>Active Min</th>\n",
              "      <th>Idle Mean</th>\n",
              "      <th>Idle Std</th>\n",
              "      <th>Idle Max</th>\n",
              "      <th>Idle Min</th>\n",
              "      <th>Label</th>\n",
              "    </tr>\n",
              "    <tr>\n",
              "      <th>Timestamp</th>\n",
              "      <th>Src IP</th>\n",
              "      <th></th>\n",
              "      <th></th>\n",
              "      <th></th>\n",
              "      <th></th>\n",
              "      <th></th>\n",
              "      <th></th>\n",
              "      <th></th>\n",
              "      <th></th>\n",
              "      <th></th>\n",
              "      <th></th>\n",
              "      <th></th>\n",
              "      <th></th>\n",
              "      <th></th>\n",
              "      <th></th>\n",
              "      <th></th>\n",
              "      <th></th>\n",
              "      <th></th>\n",
              "      <th></th>\n",
              "      <th></th>\n",
              "      <th></th>\n",
              "      <th></th>\n",
              "    </tr>\n",
              "  </thead>\n",
              "  <tbody>\n",
              "    <tr>\n",
              "      <th rowspan=\"2\" valign=\"top\">0</th>\n",
              "      <th>34877</th>\n",
              "      <td>44484</td>\n",
              "      <td>48052</td>\n",
              "      <td>2</td>\n",
              "      <td>4444</td>\n",
              "      <td>6</td>\n",
              "      <td>8737298</td>\n",
              "      <td>3</td>\n",
              "      <td>4</td>\n",
              "      <td>24</td>\n",
              "      <td>3</td>\n",
              "      <td>...</td>\n",
              "      <td>0</td>\n",
              "      <td>3.266000e+03</td>\n",
              "      <td>0.000000e+00</td>\n",
              "      <td>3266</td>\n",
              "      <td>3266</td>\n",
              "      <td>8730838.0</td>\n",
              "      <td>0.000000e+00</td>\n",
              "      <td>8730838.0</td>\n",
              "      <td>8730838.0</td>\n",
              "      <td>4</td>\n",
              "    </tr>\n",
              "    <tr>\n",
              "      <th>37596</th>\n",
              "      <td>46761</td>\n",
              "      <td>46191</td>\n",
              "      <td>1</td>\n",
              "      <td>6667</td>\n",
              "      <td>6</td>\n",
              "      <td>11685939</td>\n",
              "      <td>6</td>\n",
              "      <td>6</td>\n",
              "      <td>30</td>\n",
              "      <td>90</td>\n",
              "      <td>...</td>\n",
              "      <td>0</td>\n",
              "      <td>1.007116e+06</td>\n",
              "      <td>0.000000e+00</td>\n",
              "      <td>1007116</td>\n",
              "      <td>1007116</td>\n",
              "      <td>9992141.0</td>\n",
              "      <td>0.000000e+00</td>\n",
              "      <td>9992141.0</td>\n",
              "      <td>9992141.0</td>\n",
              "      <td>4</td>\n",
              "    </tr>\n",
              "    <tr>\n",
              "      <th rowspan=\"2\" valign=\"top\">1</th>\n",
              "      <th>34877</th>\n",
              "      <td>44484</td>\n",
              "      <td>48052</td>\n",
              "      <td>2</td>\n",
              "      <td>4444</td>\n",
              "      <td>6</td>\n",
              "      <td>8734991</td>\n",
              "      <td>3</td>\n",
              "      <td>4</td>\n",
              "      <td>24</td>\n",
              "      <td>3</td>\n",
              "      <td>...</td>\n",
              "      <td>0</td>\n",
              "      <td>2.816000e+03</td>\n",
              "      <td>0.000000e+00</td>\n",
              "      <td>2816</td>\n",
              "      <td>2816</td>\n",
              "      <td>8728974.0</td>\n",
              "      <td>0.000000e+00</td>\n",
              "      <td>8728974.0</td>\n",
              "      <td>8728974.0</td>\n",
              "      <td>4</td>\n",
              "    </tr>\n",
              "    <tr>\n",
              "      <th>37596</th>\n",
              "      <td>46761</td>\n",
              "      <td>46191</td>\n",
              "      <td>1</td>\n",
              "      <td>6667</td>\n",
              "      <td>6</td>\n",
              "      <td>11684506</td>\n",
              "      <td>6</td>\n",
              "      <td>6</td>\n",
              "      <td>236</td>\n",
              "      <td>236</td>\n",
              "      <td>...</td>\n",
              "      <td>0</td>\n",
              "      <td>1.010213e+06</td>\n",
              "      <td>0.000000e+00</td>\n",
              "      <td>1010213</td>\n",
              "      <td>1010213</td>\n",
              "      <td>9992159.0</td>\n",
              "      <td>0.000000e+00</td>\n",
              "      <td>9992159.0</td>\n",
              "      <td>9992159.0</td>\n",
              "      <td>4</td>\n",
              "    </tr>\n",
              "    <tr>\n",
              "      <th>2</th>\n",
              "      <th>34877</th>\n",
              "      <td>61449</td>\n",
              "      <td>8180</td>\n",
              "      <td>2</td>\n",
              "      <td>36317</td>\n",
              "      <td>6</td>\n",
              "      <td>4880</td>\n",
              "      <td>0</td>\n",
              "      <td>2</td>\n",
              "      <td>0</td>\n",
              "      <td>0</td>\n",
              "      <td>...</td>\n",
              "      <td>0</td>\n",
              "      <td>0.000000e+00</td>\n",
              "      <td>0.000000e+00</td>\n",
              "      <td>0</td>\n",
              "      <td>0</td>\n",
              "      <td>0.0</td>\n",
              "      <td>0.000000e+00</td>\n",
              "      <td>0.0</td>\n",
              "      <td>0.0</td>\n",
              "      <td>0</td>\n",
              "    </tr>\n",
              "    <tr>\n",
              "      <th>...</th>\n",
              "      <th>...</th>\n",
              "      <td>...</td>\n",
              "      <td>...</td>\n",
              "      <td>...</td>\n",
              "      <td>...</td>\n",
              "      <td>...</td>\n",
              "      <td>...</td>\n",
              "      <td>...</td>\n",
              "      <td>...</td>\n",
              "      <td>...</td>\n",
              "      <td>...</td>\n",
              "      <td>...</td>\n",
              "      <td>...</td>\n",
              "      <td>...</td>\n",
              "      <td>...</td>\n",
              "      <td>...</td>\n",
              "      <td>...</td>\n",
              "      <td>...</td>\n",
              "      <td>...</td>\n",
              "      <td>...</td>\n",
              "      <td>...</td>\n",
              "      <td>...</td>\n",
              "    </tr>\n",
              "    <tr>\n",
              "      <th>54</th>\n",
              "      <th>37596</th>\n",
              "      <td>61037</td>\n",
              "      <td>57880</td>\n",
              "      <td>1</td>\n",
              "      <td>80</td>\n",
              "      <td>6</td>\n",
              "      <td>109089313</td>\n",
              "      <td>11</td>\n",
              "      <td>12</td>\n",
              "      <td>211</td>\n",
              "      <td>0</td>\n",
              "      <td>...</td>\n",
              "      <td>0</td>\n",
              "      <td>5.578216e+05</td>\n",
              "      <td>1.475776e+06</td>\n",
              "      <td>3904568</td>\n",
              "      <td>18</td>\n",
              "      <td>15000000.0</td>\n",
              "      <td>6.596303e+03</td>\n",
              "      <td>15000000.0</td>\n",
              "      <td>15000000.0</td>\n",
              "      <td>2</td>\n",
              "    </tr>\n",
              "    <tr>\n",
              "      <th>55</th>\n",
              "      <th>37596</th>\n",
              "      <td>61041</td>\n",
              "      <td>57888</td>\n",
              "      <td>1</td>\n",
              "      <td>80</td>\n",
              "      <td>6</td>\n",
              "      <td>56528561</td>\n",
              "      <td>5</td>\n",
              "      <td>5</td>\n",
              "      <td>52</td>\n",
              "      <td>22</td>\n",
              "      <td>...</td>\n",
              "      <td>0</td>\n",
              "      <td>8.500000e+00</td>\n",
              "      <td>1.290994e+00</td>\n",
              "      <td>10</td>\n",
              "      <td>7</td>\n",
              "      <td>14100000.0</td>\n",
              "      <td>1.792146e+06</td>\n",
              "      <td>15000000.0</td>\n",
              "      <td>11400000.0</td>\n",
              "      <td>2</td>\n",
              "    </tr>\n",
              "    <tr>\n",
              "      <th rowspan=\"2\" valign=\"top\">56</th>\n",
              "      <th>34877</th>\n",
              "      <td>61148</td>\n",
              "      <td>80</td>\n",
              "      <td>2</td>\n",
              "      <td>58102</td>\n",
              "      <td>6</td>\n",
              "      <td>66031</td>\n",
              "      <td>0</td>\n",
              "      <td>3</td>\n",
              "      <td>0</td>\n",
              "      <td>0</td>\n",
              "      <td>...</td>\n",
              "      <td>0</td>\n",
              "      <td>0.000000e+00</td>\n",
              "      <td>0.000000e+00</td>\n",
              "      <td>0</td>\n",
              "      <td>0</td>\n",
              "      <td>0.0</td>\n",
              "      <td>0.000000e+00</td>\n",
              "      <td>0.0</td>\n",
              "      <td>0.0</td>\n",
              "      <td>2</td>\n",
              "    </tr>\n",
              "    <tr>\n",
              "      <th>37596</th>\n",
              "      <td>61115</td>\n",
              "      <td>58036</td>\n",
              "      <td>1</td>\n",
              "      <td>80</td>\n",
              "      <td>6</td>\n",
              "      <td>15815</td>\n",
              "      <td>1</td>\n",
              "      <td>1</td>\n",
              "      <td>0</td>\n",
              "      <td>0</td>\n",
              "      <td>...</td>\n",
              "      <td>0</td>\n",
              "      <td>0.000000e+00</td>\n",
              "      <td>0.000000e+00</td>\n",
              "      <td>0</td>\n",
              "      <td>0</td>\n",
              "      <td>0.0</td>\n",
              "      <td>0.000000e+00</td>\n",
              "      <td>0.0</td>\n",
              "      <td>0.0</td>\n",
              "      <td>2</td>\n",
              "    </tr>\n",
              "    <tr>\n",
              "      <th>57</th>\n",
              "      <th>37596</th>\n",
              "      <td>46192</td>\n",
              "      <td>38811</td>\n",
              "      <td>1</td>\n",
              "      <td>6200</td>\n",
              "      <td>6</td>\n",
              "      <td>3625973</td>\n",
              "      <td>6</td>\n",
              "      <td>7</td>\n",
              "      <td>48</td>\n",
              "      <td>41</td>\n",
              "      <td>...</td>\n",
              "      <td>0</td>\n",
              "      <td>0.000000e+00</td>\n",
              "      <td>0.000000e+00</td>\n",
              "      <td>0</td>\n",
              "      <td>0</td>\n",
              "      <td>0.0</td>\n",
              "      <td>0.000000e+00</td>\n",
              "      <td>0.0</td>\n",
              "      <td>0.0</td>\n",
              "      <td>4</td>\n",
              "    </tr>\n",
              "  </tbody>\n",
              "</table>\n",
              "<p>73598 rows × 82 columns</p>\n",
              "</div>\n",
              "      <button class=\"colab-df-convert\" onclick=\"convertToInteractive('df-2d168e9e-eb69-4c9b-ad05-4a6691d74cbf')\"\n",
              "              title=\"Convert this dataframe to an interactive table.\"\n",
              "              style=\"display:none;\">\n",
              "        \n",
              "  <svg xmlns=\"http://www.w3.org/2000/svg\" height=\"24px\"viewBox=\"0 0 24 24\"\n",
              "       width=\"24px\">\n",
              "    <path d=\"M0 0h24v24H0V0z\" fill=\"none\"/>\n",
              "    <path d=\"M18.56 5.44l.94 2.06.94-2.06 2.06-.94-2.06-.94-.94-2.06-.94 2.06-2.06.94zm-11 1L8.5 8.5l.94-2.06 2.06-.94-2.06-.94L8.5 2.5l-.94 2.06-2.06.94zm10 10l.94 2.06.94-2.06 2.06-.94-2.06-.94-.94-2.06-.94 2.06-2.06.94z\"/><path d=\"M17.41 7.96l-1.37-1.37c-.4-.4-.92-.59-1.43-.59-.52 0-1.04.2-1.43.59L10.3 9.45l-7.72 7.72c-.78.78-.78 2.05 0 2.83L4 21.41c.39.39.9.59 1.41.59.51 0 1.02-.2 1.41-.59l7.78-7.78 2.81-2.81c.8-.78.8-2.07 0-2.86zM5.41 20L4 18.59l7.72-7.72 1.47 1.35L5.41 20z\"/>\n",
              "  </svg>\n",
              "      </button>\n",
              "      \n",
              "  <style>\n",
              "    .colab-df-container {\n",
              "      display:flex;\n",
              "      flex-wrap:wrap;\n",
              "      gap: 12px;\n",
              "    }\n",
              "\n",
              "    .colab-df-convert {\n",
              "      background-color: #E8F0FE;\n",
              "      border: none;\n",
              "      border-radius: 50%;\n",
              "      cursor: pointer;\n",
              "      display: none;\n",
              "      fill: #1967D2;\n",
              "      height: 32px;\n",
              "      padding: 0 0 0 0;\n",
              "      width: 32px;\n",
              "    }\n",
              "\n",
              "    .colab-df-convert:hover {\n",
              "      background-color: #E2EBFA;\n",
              "      box-shadow: 0px 1px 2px rgba(60, 64, 67, 0.3), 0px 1px 3px 1px rgba(60, 64, 67, 0.15);\n",
              "      fill: #174EA6;\n",
              "    }\n",
              "\n",
              "    [theme=dark] .colab-df-convert {\n",
              "      background-color: #3B4455;\n",
              "      fill: #D2E3FC;\n",
              "    }\n",
              "\n",
              "    [theme=dark] .colab-df-convert:hover {\n",
              "      background-color: #434B5C;\n",
              "      box-shadow: 0px 1px 3px 1px rgba(0, 0, 0, 0.15);\n",
              "      filter: drop-shadow(0px 1px 2px rgba(0, 0, 0, 0.3));\n",
              "      fill: #FFFFFF;\n",
              "    }\n",
              "  </style>\n",
              "\n",
              "      <script>\n",
              "        const buttonEl =\n",
              "          document.querySelector('#df-2d168e9e-eb69-4c9b-ad05-4a6691d74cbf button.colab-df-convert');\n",
              "        buttonEl.style.display =\n",
              "          google.colab.kernel.accessAllowed ? 'block' : 'none';\n",
              "\n",
              "        async function convertToInteractive(key) {\n",
              "          const element = document.querySelector('#df-2d168e9e-eb69-4c9b-ad05-4a6691d74cbf');\n",
              "          const dataTable =\n",
              "            await google.colab.kernel.invokeFunction('convertToInteractive',\n",
              "                                                     [key], {});\n",
              "          if (!dataTable) return;\n",
              "\n",
              "          const docLinkHtml = 'Like what you see? Visit the ' +\n",
              "            '<a target=\"_blank\" href=https://colab.research.google.com/notebooks/data_table.ipynb>data table notebook</a>'\n",
              "            + ' to learn more about interactive tables.';\n",
              "          element.innerHTML = '';\n",
              "          dataTable['output_type'] = 'display_data';\n",
              "          await google.colab.output.renderOutput(dataTable, element);\n",
              "          const docLink = document.createElement('div');\n",
              "          docLink.innerHTML = docLinkHtml;\n",
              "          element.appendChild(docLink);\n",
              "        }\n",
              "      </script>\n",
              "    </div>\n",
              "  </div>\n",
              "  "
            ]
          },
          "metadata": {},
          "execution_count": 13
        }
      ]
    },
    {
      "cell_type": "code",
      "source": [
        "DDoS.groupby([\"Timestamp\",\"Src IP\"]).Label.count()"
      ],
      "metadata": {
        "colab": {
          "base_uri": "https://localhost:8080/"
        },
        "id": "qG6oYfDUxSd7",
        "outputId": "2d7a0701-219c-4c14-ece5-0877d430d427"
      },
      "execution_count": 14,
      "outputs": [
        {
          "output_type": "execute_result",
          "data": {
            "text/plain": [
              "Timestamp  Src IP\n",
              "0          34877       1\n",
              "           37596       1\n",
              "1          34877       2\n",
              "           37596       1\n",
              "2          34877     100\n",
              "                    ... \n",
              "54         37596     150\n",
              "55         37596     150\n",
              "56         34877     108\n",
              "           37596      60\n",
              "57         37596       1\n",
              "Name: Label, Length: 73598, dtype: int64"
            ]
          },
          "metadata": {},
          "execution_count": 14
        }
      ]
    },
    {
      "cell_type": "code",
      "source": [
        "# Feature scaling (or standardization)\n",
        "from sklearn.preprocessing import StandardScaler\n",
        "scaler = StandardScaler()\n",
        "X_train = scaler.fit_transform(X_train)\n",
        "X_test = scaler.transform(X_test)"
      ],
      "metadata": {
        "id": "Cb_ToztNxe_T"
      },
      "execution_count": 15,
      "outputs": []
    },
    {
      "cell_type": "code",
      "source": [
        "import tensorflow\n",
        "model=tensorflow.keras.models.Sequential()\n",
        "#Hidden layer definitions\n",
        "model.add(tensorflow.keras.layers.Dense(units=83, activation='relu', input_shape = X_train.shape[1:]))\n",
        "model.add(tensorflow.keras.layers.Dense(units=64, activation='relu'))\n",
        "model.add(tensorflow.keras.layers.Dropout(0.5))\n",
        "model.add(tensorflow.keras.layers.Dense(units=64, activation='relu' ))\n",
        "model.add(tensorflow.keras.layers.Dropout(0.5))\n",
        "#OP layer\n",
        "model.add(tensorflow.keras.layers.Dense(units=5, activation='softmax' ))\n",
        "model.summary()"
      ],
      "metadata": {
        "colab": {
          "base_uri": "https://localhost:8080/"
        },
        "id": "2npOkDCixkGE",
        "outputId": "8a2ab18a-88b9-47e2-8207-e30bf735866e"
      },
      "execution_count": 24,
      "outputs": [
        {
          "output_type": "stream",
          "name": "stdout",
          "text": [
            "Model: \"sequential_1\"\n",
            "_________________________________________________________________\n",
            " Layer (type)                Output Shape              Param #   \n",
            "=================================================================\n",
            " dense_4 (Dense)             (None, 83)                6972      \n",
            "                                                                 \n",
            " dense_5 (Dense)             (None, 64)                5376      \n",
            "                                                                 \n",
            " dropout_2 (Dropout)         (None, 64)                0         \n",
            "                                                                 \n",
            " dense_6 (Dense)             (None, 64)                4160      \n",
            "                                                                 \n",
            " dropout_3 (Dropout)         (None, 64)                0         \n",
            "                                                                 \n",
            " dense_7 (Dense)             (None, 5)                 325       \n",
            "                                                                 \n",
            "=================================================================\n",
            "Total params: 16,833\n",
            "Trainable params: 16,833\n",
            "Non-trainable params: 0\n",
            "_________________________________________________________________\n"
          ]
        }
      ]
    },
    {
      "cell_type": "code",
      "source": [
        "from tensorflow import keras\n",
        "keras.utils.plot_model(model,show_shapes=True)"
      ],
      "metadata": {
        "colab": {
          "base_uri": "https://localhost:8080/",
          "height": 754
        },
        "id": "Xr_GPy7_x9FW",
        "outputId": "bd62ec19-be00-41e0-ef9b-d334cce218a7"
      },
      "execution_count": 25,
      "outputs": [
        {
          "output_type": "execute_result",
          "data": {
            "text/plain": [
              "<IPython.core.display.Image object>"
            ],
            "image/png": "[encoded data removed]"
          },
          "metadata": {},
          "execution_count": 25
        }
      ]
    },
    {
      "cell_type": "code",
      "source": [
        "from keras.backend import sparse_categorical_crossentropy\n",
        "model.compile(loss=sparse_categorical_crossentropy,optimizer='adam',metrics=['accuracy'])"
      ],
      "metadata": {
        "id": "T79pbWpbxzue"
      },
      "execution_count": 26,
      "outputs": []
    },
    {
      "cell_type": "code",
      "source": [
        "#fit\n",
        "history=model.fit(x=X_train, y=y_train, validation_split=0.1, epochs=10, batch_size=16)"
      ],
      "metadata": {
        "colab": {
          "base_uri": "https://localhost:8080/"
        },
        "id": "k1QkafFjx6HU",
        "outputId": "7c6f937d-4595-451c-f374-bcc86a011d12"
      },
      "execution_count": 27,
      "outputs": [
        {
          "output_type": "stream",
          "name": "stdout",
          "text": [
            "Epoch 1/10\n",
            "6154/6154 [==============================] - 17s 3ms/step - loss: 0.0340 - accuracy: 0.9937 - val_loss: 8.7354e-04 - val_accuracy: 0.9998\n",
            "Epoch 2/10\n",
            "6154/6154 [==============================] - 12s 2ms/step - loss: 0.0061 - accuracy: 0.9994 - val_loss: 4.0417e-04 - val_accuracy: 0.9998\n",
            "Epoch 3/10\n",
            "6154/6154 [==============================] - 13s 2ms/step - loss: 0.0037 - accuracy: 0.9996 - val_loss: 0.0022 - val_accuracy: 0.9998\n",
            "Epoch 4/10\n",
            "6154/6154 [==============================] - 13s 2ms/step - loss: 0.0074 - accuracy: 0.9996 - val_loss: 0.0017 - val_accuracy: 0.9998\n",
            "Epoch 5/10\n",
            "6154/6154 [==============================] - 14s 2ms/step - loss: 0.0034 - accuracy: 0.9997 - val_loss: 8.0836e-04 - val_accuracy: 0.9998\n",
            "Epoch 6/10\n",
            "6154/6154 [==============================] - 14s 2ms/step - loss: 0.0024 - accuracy: 0.9997 - val_loss: 0.0028 - val_accuracy: 0.9998\n",
            "Epoch 7/10\n",
            "6154/6154 [==============================] - 14s 2ms/step - loss: 0.0107 - accuracy: 0.9997 - val_loss: 7.5161e-04 - val_accuracy: 0.9999\n",
            "Epoch 8/10\n",
            "6154/6154 [==============================] - 14s 2ms/step - loss: 0.0038 - accuracy: 0.9997 - val_loss: 0.0024 - val_accuracy: 0.9998\n",
            "Epoch 9/10\n",
            "6154/6154 [==============================] - 15s 2ms/step - loss: 0.0058 - accuracy: 0.9997 - val_loss: 0.0026 - val_accuracy: 0.9998\n",
            "Epoch 10/10\n",
            "6154/6154 [==============================] - 14s 2ms/step - loss: 0.0051 - accuracy: 0.9998 - val_loss: 0.0039 - val_accuracy: 0.9998\n"
          ]
        }
      ]
    },
    {
      "cell_type": "code",
      "source": [
        "# Plot training & validation accuracy values\n",
        "plt.plot(history.history['accuracy'])\n",
        "plt.plot(history.history['val_accuracy'])\n",
        "plt.title('DNN INSDN Model Accuracy')\n",
        "plt.ylabel('Accuracy')\n",
        "plt.xlabel('Epoch')\n",
        "plt.legend(['Train', 'Test'], loc='lower right')\n",
        "plt.savefig('DNN INSDN Model Accuracy.png')\n",
        "plt.show()"
      ],
      "metadata": {
        "colab": {
          "base_uri": "https://localhost:8080/",
          "height": 309
        },
        "id": "MsNSR0UryB24",
        "outputId": "c54bc6ce-7ea7-4e66-b54c-48dc171287d3"
      },
      "execution_count": 30,
      "outputs": [
        {
          "output_type": "display_data",
          "data": {
            "text/plain": [
              "<Figure size 432x288 with 1 Axes>"
            ],
            "image/png": "[encoded data removed]"
          },
          "metadata": {
            "needs_background": "light"
          }
        }
      ]
    },
    {
      "cell_type": "code",
      "source": [
        "# Plot training & validation loss values\n",
        "plt.plot(history.history['loss'])\n",
        "plt.plot(history.history['val_loss'])\n",
        "plt.title('DNN INSDN Model  Loss')\n",
        "plt.ylabel('Loss')\n",
        "plt.xlabel('Epoch')\n",
        "plt.legend(['Train', 'Test'], loc='upper left')\n",
        "plt.savefig('DNN Model INSDN Loss.png')\n",
        "plt.show()"
      ],
      "metadata": {
        "colab": {
          "base_uri": "https://localhost:8080/",
          "height": 309
        },
        "id": "4cagXdobyEyy",
        "outputId": "cc8184d7-f4da-4f0b-82f5-538e36177872"
      },
      "execution_count": 31,
      "outputs": [
        {
          "output_type": "display_data",
          "data": {
            "text/plain": [
              "<Figure size 432x288 with 1 Axes>"
            ],
            "image/png": "[encoded data removed]"
          },
          "metadata": {
            "needs_background": "light"
          }
        }
      ]
    },
    {
      "cell_type": "code",
      "source": [
        "predict = model.predict(X_test, verbose=1)"
      ],
      "metadata": {
        "colab": {
          "base_uri": "https://localhost:8080/"
        },
        "id": "WoMJhdC5yHpn",
        "outputId": "3803127c-df5e-454b-d934-abb83419e0c0"
      },
      "execution_count": 28,
      "outputs": [
        {
          "output_type": "stream",
          "name": "stdout",
          "text": [
            "855/855 [==============================] - 1s 1ms/step\n"
          ]
        }
      ]
    },
    {
      "cell_type": "code",
      "source": [
        "scores = model.evaluate(X_test, y_test, verbose=0)\n",
        "print(\"%s: %.2f%%\" % (model.metrics_names[1], scores[1]*100))"
      ],
      "metadata": {
        "colab": {
          "base_uri": "https://localhost:8080/"
        },
        "id": "WUwcBN_OyKfT",
        "outputId": "78cc1fe9-3eb2-4b85-e25f-d4742367561e"
      },
      "execution_count": 29,
      "outputs": [
        {
          "output_type": "stream",
          "name": "stdout",
          "text": [
            "accuracy: 99.95%\n"
          ]
        }
      ]
    }
  ]
}