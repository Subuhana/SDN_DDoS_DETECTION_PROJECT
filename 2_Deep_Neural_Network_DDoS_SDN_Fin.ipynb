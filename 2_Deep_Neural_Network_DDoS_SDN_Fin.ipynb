{
  "nbformat": 4,
  "nbformat_minor": 0,
  "metadata": {
    "colab": {
      "name": "2.Deep_Neural_Network_DDoS_SDN_Fin.ipynb",
      "provenance": [],
      "collapsed_sections": []
    },
    "kernelspec": {
      "name": "python3",
      "display_name": "Python 3"
    },
    "language_info": {
      "name": "python"
    }
  },
  "cells": [
    {
      "cell_type": "code",
      "execution_count": 1,
      "metadata": {
        "colab": {
          "base_uri": "https://localhost:8080/",
          "height": 299
        },
        "id": "KlnJujC5uoKJ",
        "outputId": "a1aff4d1-9035-49d4-db2c-a1d8942ef9d6"
      },
      "outputs": [
        {
          "output_type": "execute_result",
          "data": {
            "text/plain": [
              "      dt  switch       src       dst  pktcount  bytecount  dur   dur_nsec  \\\n",
              "0  11425       1  10.0.0.1  10.0.0.8     45304   48294064  100  716000000   \n",
              "1  11605       1  10.0.0.1  10.0.0.8    126395  134737070  280  734000000   \n",
              "2  11425       1  10.0.0.2  10.0.0.8     90333   96294978  200  744000000   \n",
              "3  11425       1  10.0.0.2  10.0.0.8     90333   96294978  200  744000000   \n",
              "4  11425       1  10.0.0.2  10.0.0.8     90333   96294978  200  744000000   \n",
              "\n",
              "        tot_dur  flows  ...  pktrate  Pairflow  Protocol  port_no   tx_bytes  \\\n",
              "0  1.010000e+11      3  ...      451         0       UDP        3  143928631   \n",
              "1  2.810000e+11      2  ...      451         0       UDP        4       3842   \n",
              "2  2.010000e+11      3  ...      451         0       UDP        1       3795   \n",
              "3  2.010000e+11      3  ...      451         0       UDP        2       3688   \n",
              "4  2.010000e+11      3  ...      451         0       UDP        3       3413   \n",
              "\n",
              "  rx_bytes  tx_kbps  rx_kbps  tot_kbps  label  \n",
              "0     3917        0      0.0       0.0      0  \n",
              "1     3520        0      0.0       0.0      0  \n",
              "2     1242        0      0.0       0.0      0  \n",
              "3     1492        0      0.0       0.0      0  \n",
              "4     3665        0      0.0       0.0      0  \n",
              "\n",
              "[5 rows x 23 columns]"
            ],
            "text/html": [
              "\n",
              "  <div id=\"df-9c6a3caa-1036-462e-aec4-278eb161966b\">\n",
              "    <div class=\"colab-df-container\">\n",
              "      <div>\n",
              "<style scoped>\n",
              "    .dataframe tbody tr th:only-of-type {\n",
              "        vertical-align: middle;\n",
              "    }\n",
              "\n",
              "    .dataframe tbody tr th {\n",
              "        vertical-align: top;\n",
              "    }\n",
              "\n",
              "    .dataframe thead th {\n",
              "        text-align: right;\n",
              "    }\n",
              "</style>\n",
              "<table border=\"1\" class=\"dataframe\">\n",
              "  <thead>\n",
              "    <tr style=\"text-align: right;\">\n",
              "      <th></th>\n",
              "      <th>dt</th>\n",
              "      <th>switch</th>\n",
              "      <th>src</th>\n",
              "      <th>dst</th>\n",
              "      <th>pktcount</th>\n",
              "      <th>bytecount</th>\n",
              "      <th>dur</th>\n",
              "      <th>dur_nsec</th>\n",
              "      <th>tot_dur</th>\n",
              "      <th>flows</th>\n",
              "      <th>...</th>\n",
              "      <th>pktrate</th>\n",
              "      <th>Pairflow</th>\n",
              "      <th>Protocol</th>\n",
              "      <th>port_no</th>\n",
              "      <th>tx_bytes</th>\n",
              "      <th>rx_bytes</th>\n",
              "      <th>tx_kbps</th>\n",
              "      <th>rx_kbps</th>\n",
              "      <th>tot_kbps</th>\n",
              "      <th>label</th>\n",
              "    </tr>\n",
              "  </thead>\n",
              "  <tbody>\n",
              "    <tr>\n",
              "      <th>0</th>\n",
              "      <td>11425</td>\n",
              "      <td>1</td>\n",
              "      <td>10.0.0.1</td>\n",
              "      <td>10.0.0.8</td>\n",
              "      <td>45304</td>\n",
              "      <td>48294064</td>\n",
              "      <td>100</td>\n",
              "      <td>716000000</td>\n",
              "      <td>1.010000e+11</td>\n",
              "      <td>3</td>\n",
              "      <td>...</td>\n",
              "      <td>451</td>\n",
              "      <td>0</td>\n",
              "      <td>UDP</td>\n",
              "      <td>3</td>\n",
              "      <td>143928631</td>\n",
              "      <td>3917</td>\n",
              "      <td>0</td>\n",
              "      <td>0.0</td>\n",
              "      <td>0.0</td>\n",
              "      <td>0</td>\n",
              "    </tr>\n",
              "    <tr>\n",
              "      <th>1</th>\n",
              "      <td>11605</td>\n",
              "      <td>1</td>\n",
              "      <td>10.0.0.1</td>\n",
              "      <td>10.0.0.8</td>\n",
              "      <td>126395</td>\n",
              "      <td>134737070</td>\n",
              "      <td>280</td>\n",
              "      <td>734000000</td>\n",
              "      <td>2.810000e+11</td>\n",
              "      <td>2</td>\n",
              "      <td>...</td>\n",
              "      <td>451</td>\n",
              "      <td>0</td>\n",
              "      <td>UDP</td>\n",
              "      <td>4</td>\n",
              "      <td>3842</td>\n",
              "      <td>3520</td>\n",
              "      <td>0</td>\n",
              "      <td>0.0</td>\n",
              "      <td>0.0</td>\n",
              "      <td>0</td>\n",
              "    </tr>\n",
              "    <tr>\n",
              "      <th>2</th>\n",
              "      <td>11425</td>\n",
              "      <td>1</td>\n",
              "      <td>10.0.0.2</td>\n",
              "      <td>10.0.0.8</td>\n",
              "      <td>90333</td>\n",
              "      <td>96294978</td>\n",
              "      <td>200</td>\n",
              "      <td>744000000</td>\n",
              "      <td>2.010000e+11</td>\n",
              "      <td>3</td>\n",
              "      <td>...</td>\n",
              "      <td>451</td>\n",
              "      <td>0</td>\n",
              "      <td>UDP</td>\n",
              "      <td>1</td>\n",
              "      <td>3795</td>\n",
              "      <td>1242</td>\n",
              "      <td>0</td>\n",
              "      <td>0.0</td>\n",
              "      <td>0.0</td>\n",
              "      <td>0</td>\n",
              "    </tr>\n",
              "    <tr>\n",
              "      <th>3</th>\n",
              "      <td>11425</td>\n",
              "      <td>1</td>\n",
              "      <td>10.0.0.2</td>\n",
              "      <td>10.0.0.8</td>\n",
              "      <td>90333</td>\n",
              "      <td>96294978</td>\n",
              "      <td>200</td>\n",
              "      <td>744000000</td>\n",
              "      <td>2.010000e+11</td>\n",
              "      <td>3</td>\n",
              "      <td>...</td>\n",
              "      <td>451</td>\n",
              "      <td>0</td>\n",
              "      <td>UDP</td>\n",
              "      <td>2</td>\n",
              "      <td>3688</td>\n",
              "      <td>1492</td>\n",
              "      <td>0</td>\n",
              "      <td>0.0</td>\n",
              "      <td>0.0</td>\n",
              "      <td>0</td>\n",
              "    </tr>\n",
              "    <tr>\n",
              "      <th>4</th>\n",
              "      <td>11425</td>\n",
              "      <td>1</td>\n",
              "      <td>10.0.0.2</td>\n",
              "      <td>10.0.0.8</td>\n",
              "      <td>90333</td>\n",
              "      <td>96294978</td>\n",
              "      <td>200</td>\n",
              "      <td>744000000</td>\n",
              "      <td>2.010000e+11</td>\n",
              "      <td>3</td>\n",
              "      <td>...</td>\n",
              "      <td>451</td>\n",
              "      <td>0</td>\n",
              "      <td>UDP</td>\n",
              "      <td>3</td>\n",
              "      <td>3413</td>\n",
              "      <td>3665</td>\n",
              "      <td>0</td>\n",
              "      <td>0.0</td>\n",
              "      <td>0.0</td>\n",
              "      <td>0</td>\n",
              "    </tr>\n",
              "  </tbody>\n",
              "</table>\n",
              "<p>5 rows × 23 columns</p>\n",
              "</div>\n",
              "      <button class=\"colab-df-convert\" onclick=\"convertToInteractive('df-9c6a3caa-1036-462e-aec4-278eb161966b')\"\n",
              "              title=\"Convert this dataframe to an interactive table.\"\n",
              "              style=\"display:none;\">\n",
              "        \n",
              "  <svg xmlns=\"http://www.w3.org/2000/svg\" height=\"24px\"viewBox=\"0 0 24 24\"\n",
              "       width=\"24px\">\n",
              "    <path d=\"M0 0h24v24H0V0z\" fill=\"none\"/>\n",
              "    <path d=\"M18.56 5.44l.94 2.06.94-2.06 2.06-.94-2.06-.94-.94-2.06-.94 2.06-2.06.94zm-11 1L8.5 8.5l.94-2.06 2.06-.94-2.06-.94L8.5 2.5l-.94 2.06-2.06.94zm10 10l.94 2.06.94-2.06 2.06-.94-2.06-.94-.94-2.06-.94 2.06-2.06.94z\"/><path d=\"M17.41 7.96l-1.37-1.37c-.4-.4-.92-.59-1.43-.59-.52 0-1.04.2-1.43.59L10.3 9.45l-7.72 7.72c-.78.78-.78 2.05 0 2.83L4 21.41c.39.39.9.59 1.41.59.51 0 1.02-.2 1.41-.59l7.78-7.78 2.81-2.81c.8-.78.8-2.07 0-2.86zM5.41 20L4 18.59l7.72-7.72 1.47 1.35L5.41 20z\"/>\n",
              "  </svg>\n",
              "      </button>\n",
              "      \n",
              "  <style>\n",
              "    .colab-df-container {\n",
              "      display:flex;\n",
              "      flex-wrap:wrap;\n",
              "      gap: 12px;\n",
              "    }\n",
              "\n",
              "    .colab-df-convert {\n",
              "      background-color: #E8F0FE;\n",
              "      border: none;\n",
              "      border-radius: 50%;\n",
              "      cursor: pointer;\n",
              "      display: none;\n",
              "      fill: #1967D2;\n",
              "      height: 32px;\n",
              "      padding: 0 0 0 0;\n",
              "      width: 32px;\n",
              "    }\n",
              "\n",
              "    .colab-df-convert:hover {\n",
              "      background-color: #E2EBFA;\n",
              "      box-shadow: 0px 1px 2px rgba(60, 64, 67, 0.3), 0px 1px 3px 1px rgba(60, 64, 67, 0.15);\n",
              "      fill: #174EA6;\n",
              "    }\n",
              "\n",
              "    [theme=dark] .colab-df-convert {\n",
              "      background-color: #3B4455;\n",
              "      fill: #D2E3FC;\n",
              "    }\n",
              "\n",
              "    [theme=dark] .colab-df-convert:hover {\n",
              "      background-color: #434B5C;\n",
              "      box-shadow: 0px 1px 3px 1px rgba(0, 0, 0, 0.15);\n",
              "      filter: drop-shadow(0px 1px 2px rgba(0, 0, 0, 0.3));\n",
              "      fill: #FFFFFF;\n",
              "    }\n",
              "  </style>\n",
              "\n",
              "      <script>\n",
              "        const buttonEl =\n",
              "          document.querySelector('#df-9c6a3caa-1036-462e-aec4-278eb161966b button.colab-df-convert');\n",
              "        buttonEl.style.display =\n",
              "          google.colab.kernel.accessAllowed ? 'block' : 'none';\n",
              "\n",
              "        async function convertToInteractive(key) {\n",
              "          const element = document.querySelector('#df-9c6a3caa-1036-462e-aec4-278eb161966b');\n",
              "          const dataTable =\n",
              "            await google.colab.kernel.invokeFunction('convertToInteractive',\n",
              "                                                     [key], {});\n",
              "          if (!dataTable) return;\n",
              "\n",
              "          const docLinkHtml = 'Like what you see? Visit the ' +\n",
              "            '<a target=\"_blank\" href=https://colab.research.google.com/notebooks/data_table.ipynb>data table notebook</a>'\n",
              "            + ' to learn more about interactive tables.';\n",
              "          element.innerHTML = '';\n",
              "          dataTable['output_type'] = 'display_data';\n",
              "          await google.colab.output.renderOutput(dataTable, element);\n",
              "          const docLink = document.createElement('div');\n",
              "          docLink.innerHTML = docLinkHtml;\n",
              "          element.appendChild(docLink);\n",
              "        }\n",
              "      </script>\n",
              "    </div>\n",
              "  </div>\n",
              "  "
            ]
          },
          "metadata": {},
          "execution_count": 1
        }
      ],
      "source": [
        "import matplotlib.pyplot as plt\n",
        "import numpy as np\n",
        "import pandas as pd\n",
        "import seaborn as sns; sns.set()\n",
        "from sklearn.metrics import confusion_matrix\n",
        "%matplotlib inline\n",
        "\n",
        "DDoS = pd.read_csv('/content/dataset_sdn.csv')\n",
        "DDoS.head()"
      ]
    },
    {
      "cell_type": "code",
      "source": [
        "DDoS.Protocol.unique()\n",
        "DDoS['Protocol'] = DDoS['Protocol'].replace('TCP', '0')\n",
        "DDoS['Protocol'] = DDoS['Protocol'].replace('UDP', '1')\n",
        "DDoS['Protocol'] = DDoS['Protocol'].replace('ICMP', '2')\n",
        "DDoS.Protocol.unique()"
      ],
      "metadata": {
        "colab": {
          "base_uri": "https://localhost:8080/"
        },
        "id": "aB_oMPTi4ETN",
        "outputId": "17372037-cfcf-4e58-f9d4-ac4a5819dab4"
      },
      "execution_count": 2,
      "outputs": [
        {
          "output_type": "execute_result",
          "data": {
            "text/plain": [
              "array(['1', '0', '2'], dtype=object)"
            ]
          },
          "metadata": {},
          "execution_count": 2
        }
      ]
    },
    {
      "cell_type": "code",
      "source": [
        "DDoS['src'] = DDoS['src'].replace('10.0.0.0', '0')\n",
        "DDoS['src'] = DDoS['src'].replace('10.0.0.2', '1')\n",
        "DDoS['src'] = DDoS['src'].replace('10.0.0.4', '2')\n",
        "DDoS['src'] = DDoS['src'].replace('10.0.0.10', '3')\n",
        "DDoS['src'] = DDoS['src'].replace('10.0.0.5', '4')\n",
        "DDoS['src'] = DDoS['src'].replace('10.0.0.13', '5')\n",
        "DDoS['src'] = DDoS['src'].replace('10.0.0.6', '6')\n",
        "DDoS['src'] = DDoS['src'].replace('10.0.0.11', '7')\n",
        "DDoS['src'] = DDoS['src'].replace('10.0.0.20', '8')\n",
        "DDoS['src'] = DDoS['src'].replace('10.0.0.18', '9')\n",
        "DDoS['src'] = DDoS['src'].replace('10.0.0.12', '10')\n",
        "DDoS['src'] = DDoS['src'].replace('10.0.0.14', '11')\n",
        "DDoS['src'] = DDoS['src'].replace('10.0.0.15', '12')\n",
        "DDoS['src'] = DDoS['src'].replace('10.0.0.16', '13')\n",
        "DDoS['src'] = DDoS['src'].replace('10.0.0.17', '14')\n",
        "DDoS['src'] = DDoS['src'].replace('10.0.0.1', '15')\n",
        "DDoS['src'] = DDoS['src'].replace('10.0.0.3', '16')\n",
        "DDoS['src'] = DDoS['src'].replace('10.0.0.8', '17')\n",
        "DDoS['src'] = DDoS['src'].replace('10.0.0.7', '18')\n",
        "DDoS['src'] = DDoS['src'].replace('10.0.0.9', '19')\n",
        "DDoS.src.unique()"
      ],
      "metadata": {
        "colab": {
          "base_uri": "https://localhost:8080/"
        },
        "id": "TaDk9FzyX-9H",
        "outputId": "c1204253-1f86-4fb7-8605-77f697b90777"
      },
      "execution_count": 3,
      "outputs": [
        {
          "output_type": "execute_result",
          "data": {
            "text/plain": [
              "array(['15', '1', '2', '3', '16', '4', '5', '6', '8', '7', '10', '9',\n",
              "       '17', '18', '19', '11', '12', '13', '14'], dtype=object)"
            ]
          },
          "metadata": {},
          "execution_count": 3
        }
      ]
    },
    {
      "cell_type": "code",
      "source": [
        "DDoS['dst'] = DDoS['dst'].replace('10.0.0.8', '0')\n",
        "DDoS['dst'] = DDoS['dst'].replace('10.0.0.7', '1')\n",
        "DDoS['dst'] = DDoS['dst'].replace('10.0.0.2', '2')\n",
        "DDoS['dst'] = DDoS['dst'].replace('10.0.0.4', '3')\n",
        "DDoS['dst'] = DDoS['dst'].replace('10.0.0.6', '4')\n",
        "DDoS['dst'] = DDoS['dst'].replace('10.0.0.10', '5')\n",
        "DDoS['dst'] = DDoS['dst'].replace('10.0.0.3', '6')\n",
        "DDoS['dst'] = DDoS['dst'].replace('10.0.0.6', '7')\n",
        "DDoS['dst'] = DDoS['dst'].replace('10.0.0.5', '8')\n",
        "DDoS['dst'] = DDoS['dst'].replace('10.0.0.9', '9')\n",
        "DDoS['dst'] = DDoS['dst'].replace('10.0.0.12', '10')\n",
        "DDoS['dst'] = DDoS['dst'].replace('10.0.0.13', '11')\n",
        "DDoS['dst'] = DDoS['dst'].replace('10.0.0.14', '12')\n",
        "DDoS['dst'] = DDoS['dst'].replace('10.0.0.11', '13')\n",
        "DDoS['dst'] = DDoS['dst'].replace('10.0.0.16', '14')\n",
        "DDoS['dst'] = DDoS['dst'].replace('10.0.0.1', '15')\n",
        "DDoS['dst'] = DDoS['dst'].replace('10.0.0.15', '16')\n",
        "DDoS['dst'] = DDoS['dst'].replace('10.0.0.17', '17')\n",
        "DDoS['dst'] = DDoS['dst'].replace('10.0.0.18', '18')\n",
        "DDoS.dst.unique()"
      ],
      "metadata": {
        "colab": {
          "base_uri": "https://localhost:8080/"
        },
        "id": "HoD1WLKmYKII",
        "outputId": "51b4071a-efa0-4d40-d066-60542ed1e08e"
      },
      "execution_count": 4,
      "outputs": [
        {
          "output_type": "execute_result",
          "data": {
            "text/plain": [
              "array(['0', '1', '6', '8', '5', '11', '15', '13', '2', '3', '9', '4',\n",
              "       '12', '16', '10', '14', '17', '18'], dtype=object)"
            ]
          },
          "metadata": {},
          "execution_count": 4
        }
      ]
    },
    {
      "cell_type": "code",
      "source": [
        "DDoS[\"rx_kbps\"] = DDoS[\"rx_kbps\"].fillna(DDoS[\"rx_kbps\"].mean())"
      ],
      "metadata": {
        "id": "8xCyvukqJitc"
      },
      "execution_count": 5,
      "outputs": []
    },
    {
      "cell_type": "code",
      "source": [
        "DDoS[\"tot_kbps\"] = DDoS[\"tot_kbps\"].fillna(DDoS[\"tot_kbps\"].mean())"
      ],
      "metadata": {
        "id": "nbsZtBfUJm4n"
      },
      "execution_count": 6,
      "outputs": []
    },
    {
      "cell_type": "code",
      "source": [
        "from sklearn.model_selection import train_test_split\n",
        "X = DDoS[['src','dst','dt', 'switch', 'pktcount', 'bytecount', 'dur', 'dur_nsec', 'tot_dur',\n",
        "       'flows', 'packetins', 'pktperflow', 'byteperflow', 'pktrate',\n",
        "       'Pairflow','Protocol' ,'port_no', 'tx_bytes', 'rx_bytes', 'tx_kbps', 'rx_kbps',\n",
        "       'tot_kbps']]\n",
        "y = DDoS['label']\n",
        "\n",
        "X_train, X_test, y_train, y_test = train_test_split(X, y, test_size=0.4, random_state=42)"
      ],
      "metadata": {
        "id": "M7no4zlZusVd"
      },
      "execution_count": 7,
      "outputs": []
    },
    {
      "cell_type": "code",
      "source": [
        "DDoS.isnull().sum()"
      ],
      "metadata": {
        "colab": {
          "base_uri": "https://localhost:8080/"
        },
        "id": "sNG1DXnNvUF2",
        "outputId": "bb83d920-b73c-4984-f9ef-61a815cb9d95"
      },
      "execution_count": 8,
      "outputs": [
        {
          "output_type": "execute_result",
          "data": {
            "text/plain": [
              "dt             0\n",
              "switch         0\n",
              "src            0\n",
              "dst            0\n",
              "pktcount       0\n",
              "bytecount      0\n",
              "dur            0\n",
              "dur_nsec       0\n",
              "tot_dur        0\n",
              "flows          0\n",
              "packetins      0\n",
              "pktperflow     0\n",
              "byteperflow    0\n",
              "pktrate        0\n",
              "Pairflow       0\n",
              "Protocol       0\n",
              "port_no        0\n",
              "tx_bytes       0\n",
              "rx_bytes       0\n",
              "tx_kbps        0\n",
              "rx_kbps        0\n",
              "tot_kbps       0\n",
              "label          0\n",
              "dtype: int64"
            ]
          },
          "metadata": {},
          "execution_count": 8
        }
      ]
    },
    {
      "cell_type": "code",
      "source": [
        "# Feature scaling (or standardization)\n",
        "from sklearn.preprocessing import StandardScaler\n",
        "scaler = StandardScaler()\n",
        "X_train = scaler.fit_transform(X_train)\n",
        "X_test = scaler.transform(X_test)"
      ],
      "metadata": {
        "id": "x1ylTGFrwsuB"
      },
      "execution_count": 9,
      "outputs": []
    },
    {
      "cell_type": "code",
      "source": [
        "print(X_train.shape)\n",
        "print(y_train.shape)\n",
        "print(X_test.shape)\n",
        "print(y_test.shape)"
      ],
      "metadata": {
        "colab": {
          "base_uri": "https://localhost:8080/"
        },
        "id": "i8ZPTmgIJ5j-",
        "outputId": "6bdd36e2-7a1a-4e1c-b38c-ac6ccb13bbc4"
      },
      "execution_count": 10,
      "outputs": [
        {
          "output_type": "stream",
          "name": "stdout",
          "text": [
            "(62607, 22)\n",
            "(62607,)\n",
            "(41738, 22)\n",
            "(41738,)\n"
          ]
        }
      ]
    },
    {
      "cell_type": "code",
      "source": [
        "import tensorflow\n",
        "model=tensorflow.keras.models.Sequential()\n",
        "#Hidden layer definitions\n",
        "model.add(tensorflow.keras.layers.Dense(units=22, activation='relu', input_shape = X_train.shape[1:]))\n",
        "model.add(tensorflow.keras.layers.Dense(units=30, activation='relu'))\n",
        "model.add(tensorflow.keras.layers.Dropout(0.2))\n",
        "model.add(tensorflow.keras.layers.Dense(units=30, activation='relu' ))\n",
        "model.add(tensorflow.keras.layers.Dropout(0.2))\n",
        "model.add(tensorflow.keras.layers.Dense(units=30, activation='relu' ))\n",
        "#OP layer\n",
        "model.add(tensorflow.keras.layers.Dense(units=2, activation='sigmoid' ))\n",
        "model.summary()"
      ],
      "metadata": {
        "colab": {
          "base_uri": "https://localhost:8080/"
        },
        "id": "yJD-94uLJ99T",
        "outputId": "47dc750b-e9ef-4786-fe5d-b4c4cff6483f"
      },
      "execution_count": 11,
      "outputs": [
        {
          "output_type": "stream",
          "name": "stdout",
          "text": [
            "Model: \"sequential\"\n",
            "_________________________________________________________________\n",
            " Layer (type)                Output Shape              Param #   \n",
            "=================================================================\n",
            " dense (Dense)               (None, 22)                506       \n",
            "                                                                 \n",
            " dense_1 (Dense)             (None, 30)                690       \n",
            "                                                                 \n",
            " dropout (Dropout)           (None, 30)                0         \n",
            "                                                                 \n",
            " dense_2 (Dense)             (None, 30)                930       \n",
            "                                                                 \n",
            " dropout_1 (Dropout)         (None, 30)                0         \n",
            "                                                                 \n",
            " dense_3 (Dense)             (None, 30)                930       \n",
            "                                                                 \n",
            " dense_4 (Dense)             (None, 2)                 62        \n",
            "                                                                 \n",
            "=================================================================\n",
            "Total params: 3,118\n",
            "Trainable params: 3,118\n",
            "Non-trainable params: 0\n",
            "_________________________________________________________________\n"
          ]
        }
      ]
    },
    {
      "cell_type": "code",
      "source": [
        "#compile\n",
        "model.compile(loss='sparse_categorical_crossentropy' , optimizer='adam' , metrics=['accuracy'])\n",
        "\n",
        "#fit\n",
        "history=model.fit(x=X_train, y=y_train, validation_split=0.1, epochs=20, batch_size=16)"
      ],
      "metadata": {
        "colab": {
          "base_uri": "https://localhost:8080/"
        },
        "id": "cJas52v4KHR6",
        "outputId": "7399d8e6-3a08-4a1c-a957-1a41e4e755ad"
      },
      "execution_count": 13,
      "outputs": [
        {
          "output_type": "stream",
          "name": "stdout",
          "text": [
            "Epoch 1/20\n",
            "3522/3522 [==============================] - 12s 3ms/step - loss: 0.1310 - accuracy: 0.9449 - val_loss: 0.0838 - val_accuracy: 0.9660\n",
            "Epoch 2/20\n",
            "3522/3522 [==============================] - 10s 3ms/step - loss: 0.0813 - accuracy: 0.9669 - val_loss: 0.0587 - val_accuracy: 0.9757\n",
            "Epoch 3/20\n",
            "3522/3522 [==============================] - 9s 3ms/step - loss: 0.0620 - accuracy: 0.9747 - val_loss: 0.0490 - val_accuracy: 0.9778\n",
            "Epoch 4/20\n",
            "3522/3522 [==============================] - 10s 3ms/step - loss: 0.0523 - accuracy: 0.9790 - val_loss: 0.0463 - val_accuracy: 0.9813\n",
            "Epoch 5/20\n",
            "3522/3522 [==============================] - 10s 3ms/step - loss: 0.0456 - accuracy: 0.9818 - val_loss: 0.0344 - val_accuracy: 0.9861\n",
            "Epoch 6/20\n",
            "3522/3522 [==============================] - 9s 3ms/step - loss: 0.0416 - accuracy: 0.9836 - val_loss: 0.0337 - val_accuracy: 0.9853\n",
            "Epoch 7/20\n",
            "3522/3522 [==============================] - 9s 2ms/step - loss: 0.0379 - accuracy: 0.9851 - val_loss: 0.0305 - val_accuracy: 0.9867\n",
            "Epoch 8/20\n",
            "3522/3522 [==============================] - 9s 3ms/step - loss: 0.0349 - accuracy: 0.9867 - val_loss: 0.0285 - val_accuracy: 0.9893\n",
            "Epoch 9/20\n",
            "3522/3522 [==============================] - 9s 3ms/step - loss: 0.0333 - accuracy: 0.9875 - val_loss: 0.0221 - val_accuracy: 0.9915\n",
            "Epoch 10/20\n",
            "3522/3522 [==============================] - 8s 2ms/step - loss: 0.0304 - accuracy: 0.9883 - val_loss: 0.0248 - val_accuracy: 0.9909\n",
            "Epoch 11/20\n",
            "3522/3522 [==============================] - 10s 3ms/step - loss: 0.0288 - accuracy: 0.9891 - val_loss: 0.0193 - val_accuracy: 0.9931\n",
            "Epoch 12/20\n",
            "3522/3522 [==============================] - 9s 2ms/step - loss: 0.0279 - accuracy: 0.9894 - val_loss: 0.0377 - val_accuracy: 0.9864\n",
            "Epoch 13/20\n",
            "3522/3522 [==============================] - 9s 3ms/step - loss: 0.0266 - accuracy: 0.9894 - val_loss: 0.0288 - val_accuracy: 0.9864\n",
            "Epoch 14/20\n",
            "3522/3522 [==============================] - 9s 3ms/step - loss: 0.0271 - accuracy: 0.9897 - val_loss: 0.0204 - val_accuracy: 0.9923\n",
            "Epoch 15/20\n",
            "3522/3522 [==============================] - 9s 2ms/step - loss: 0.0247 - accuracy: 0.9906 - val_loss: 0.0168 - val_accuracy: 0.9936\n",
            "Epoch 16/20\n",
            "3522/3522 [==============================] - 8s 2ms/step - loss: 0.0237 - accuracy: 0.9908 - val_loss: 0.0313 - val_accuracy: 0.9867\n",
            "Epoch 17/20\n",
            "3522/3522 [==============================] - 9s 2ms/step - loss: 0.0226 - accuracy: 0.9913 - val_loss: 0.0251 - val_accuracy: 0.9912\n",
            "Epoch 18/20\n",
            "3522/3522 [==============================] - 8s 2ms/step - loss: 0.0227 - accuracy: 0.9915 - val_loss: 0.0164 - val_accuracy: 0.9935\n",
            "Epoch 19/20\n",
            "3522/3522 [==============================] - 8s 2ms/step - loss: 0.0219 - accuracy: 0.9919 - val_loss: 0.0183 - val_accuracy: 0.9943\n",
            "Epoch 20/20\n",
            "3522/3522 [==============================] - 8s 2ms/step - loss: 0.0207 - accuracy: 0.9926 - val_loss: 0.0158 - val_accuracy: 0.9947\n"
          ]
        }
      ]
    },
    {
      "cell_type": "code",
      "source": [
        "# Plot training & validation accuracy values\n",
        "plt.plot(history.history['accuracy'])\n",
        "plt.plot(history.history['val_accuracy'])\n",
        "plt.title('DNN Model Accuracy')\n",
        "plt.ylabel('Accuracy')\n",
        "plt.xlabel('Epoch')\n",
        "plt.legend(['Train', 'Test'], loc='lower right')\n",
        "plt.savefig('DNN Model Accuracy.png')\n",
        "plt.show()"
      ],
      "metadata": {
        "colab": {
          "base_uri": "https://localhost:8080/",
          "height": 301
        },
        "id": "49TaxbXBXPZ0",
        "outputId": "7efeb305-5ab9-4ba6-994d-6e2c9e69a959"
      },
      "execution_count": 14,
      "outputs": [
        {
          "output_type": "display_data",
          "data": {
            "text/plain": [
              "<Figure size 432x288 with 1 Axes>"
            ],
            "image/png": "[encoded data removed]"
          },
          "metadata": {
            "needs_background": "light"
          }
        }
      ]
    },
    {
      "cell_type": "code",
      "source": [
        "# Plot training & validation loss values\n",
        "plt.plot(history.history['loss'])\n",
        "plt.plot(history.history['val_loss'])\n",
        "plt.title('DNN Model  Loss')\n",
        "plt.ylabel('Loss')\n",
        "plt.xlabel('Epoch')\n",
        "plt.legend(['Train', 'Test'], loc='upper left')\n",
        "plt.savefig('DNN Model Loss.png')\n",
        "plt.show()"
      ],
      "metadata": {
        "colab": {
          "base_uri": "https://localhost:8080/",
          "height": 301
        },
        "id": "QZk5NXTAXQfA",
        "outputId": "7eb8d5fc-9a0c-4a2d-a0d6-edd4f70ad9a1"
      },
      "execution_count": 15,
      "outputs": [
        {
          "output_type": "display_data",
          "data": {
            "text/plain": [
              "<Figure size 432x288 with 1 Axes>"
            ],
            "image/png": "[encoded data removed]"
          },
          "metadata": {
            "needs_background": "light"
          }
        }
      ]
    },
    {
      "cell_type": "code",
      "source": [
        "predict = model.predict(X_test, verbose=1)"
      ],
      "metadata": {
        "colab": {
          "base_uri": "https://localhost:8080/"
        },
        "id": "3BqKnUHuXb1H",
        "outputId": "cf596b08-59a5-4241-8354-acd78bc0d9d1"
      },
      "execution_count": 16,
      "outputs": [
        {
          "output_type": "stream",
          "name": "stdout",
          "text": [
            "1305/1305 [==============================] - 2s 1ms/step\n"
          ]
        }
      ]
    },
    {
      "cell_type": "code",
      "source": [
        "tp = 0\n",
        "tn = 0\n",
        "fp = 0\n",
        "fn = 0\n",
        "predictn = predict.flatten().round()\n",
        "predictn = predictn.tolist()\n",
        "Y_testn = y_test.tolist()\n",
        "for i in range(len(Y_testn)):\n",
        "  if predictn[i]==1 and Y_testn[i]==1:\n",
        "    tp+=1\n",
        "  elif predictn[i]==0 and Y_testn[i]==0:\n",
        "    tn+=1\n",
        "  elif predictn[i]==0 and Y_testn[i]==1:\n",
        "    fp+=1\n",
        "  elif predictn[i]==1 and Y_testn[i]==0:\n",
        "    fn+=1"
      ],
      "metadata": {
        "id": "lyMOS3HXXjPD"
      },
      "execution_count": 17,
      "outputs": []
    },
    {
      "cell_type": "code",
      "source": [
        "to_heat_map =[[tn,fp],[fn,tp]]\n",
        "to_heat_map = pd.DataFrame(to_heat_map, index = [\"Normal\",\"Attack\"],columns = [\"Normal\",\"Attack\"])\n",
        "ax = sns.heatmap(to_heat_map,annot=True, fmt=\"d\")"
      ],
      "metadata": {
        "colab": {
          "base_uri": "https://localhost:8080/",
          "height": 268
        },
        "id": "a3sW4pR9XsWc",
        "outputId": "6cfbbf55-42f1-48bd-cc21-ac4aaf7a7839"
      },
      "execution_count": 18,
      "outputs": [
        {
          "output_type": "display_data",
          "data": {
            "text/plain": [
              "<Figure size 432x288 with 2 Axes>"
            ],
            "image/png": "[encoded data removed]"
          },
          "metadata": {
            "needs_background": "light"
          }
        }
      ]
    },
    {
      "cell_type": "code",
      "source": [
        "scores = model.evaluate(X_test, y_test, verbose=0)\n",
        "print(\"%s: %.2f%%\" % (model.metrics_names[1], scores[1]*100))"
      ],
      "metadata": {
        "colab": {
          "base_uri": "https://localhost:8080/"
        },
        "id": "4RQ8I7t5XvVy",
        "outputId": "f8ec6315-60c3-45df-a720-4566983c0f6e"
      },
      "execution_count": 19,
      "outputs": [
        {
          "output_type": "stream",
          "name": "stdout",
          "text": [
            "accuracy: 99.39%\n"
          ]
        }
      ]
    }
  ]
}