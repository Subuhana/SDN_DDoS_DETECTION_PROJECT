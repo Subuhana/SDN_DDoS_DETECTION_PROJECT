{
  "nbformat": 4,
  "nbformat_minor": 0,
  "metadata": {
    "colab": {
      "name": "9.BiLSTM_DDoS_Detection.ipynb",
      "provenance": [],
      "collapsed_sections": []
    },
    "kernelspec": {
      "name": "python3",
      "display_name": "Python 3"
    },
    "language_info": {
      "name": "python"
    }
  },
  "cells": [
    {
      "cell_type": "code",
      "execution_count": 1,
      "metadata": {
        "id": "Na65q-vDLveU"
      },
      "outputs": [],
      "source": [
        "import numpy as np\n",
        "import pandas as pd\n",
        "import matplotlib.pyplot as plt\n",
        "\n",
        "import seaborn as sns; sns.set()"
      ]
    },
    {
      "cell_type": "code",
      "source": [
        "from keras.models import Sequential, load_model\n",
        "from keras.layers import Dense, LSTM, Bidirectional\n",
        "from tensorflow.keras.utils import plot_model\n",
        "from keras.utils import np_utils\n",
        "\n",
        "from sklearn.model_selection import train_test_split\n",
        "from sklearn.preprocessing import LabelEncoder, StandardScaler\n",
        "from sklearn.metrics import confusion_matrix"
      ],
      "metadata": {
        "id": "JW9plQbHL-JQ"
      },
      "execution_count": 2,
      "outputs": []
    },
    {
      "cell_type": "code",
      "source": [
        "DDoS=pd.read_csv('/content/dataset_sdn.csv')"
      ],
      "metadata": {
        "id": "5OWebkyBMAuw"
      },
      "execution_count": 3,
      "outputs": []
    },
    {
      "cell_type": "code",
      "source": [
        "DDoS.Protocol.unique()\n",
        "DDoS['Protocol'] = DDoS['Protocol'].replace('TCP', '0')\n",
        "DDoS['Protocol'] = DDoS['Protocol'].replace('UDP', '1')\n",
        "DDoS['Protocol'] = DDoS['Protocol'].replace('ICMP', '2')\n",
        "DDoS.Protocol.unique()"
      ],
      "metadata": {
        "colab": {
          "base_uri": "https://localhost:8080/"
        },
        "id": "LpI7UUKyMLau",
        "outputId": "42b462e4-0f6e-4953-9257-a1e5e34d771e"
      },
      "execution_count": 5,
      "outputs": [
        {
          "output_type": "execute_result",
          "data": {
            "text/plain": [
              "array(['1', '0', '2'], dtype=object)"
            ]
          },
          "metadata": {},
          "execution_count": 5
        }
      ]
    },
    {
      "cell_type": "code",
      "source": [
        "DDoS['src'] = DDoS['src'].replace('10.0.0.0', '0')\n",
        "DDoS['src'] = DDoS['src'].replace('10.0.0.2', '1')\n",
        "DDoS['src'] = DDoS['src'].replace('10.0.0.4', '2')\n",
        "DDoS['src'] = DDoS['src'].replace('10.0.0.10', '3')\n",
        "DDoS['src'] = DDoS['src'].replace('10.0.0.5', '4')\n",
        "DDoS['src'] = DDoS['src'].replace('10.0.0.13', '5')\n",
        "DDoS['src'] = DDoS['src'].replace('10.0.0.6', '6')\n",
        "DDoS['src'] = DDoS['src'].replace('10.0.0.11', '7')\n",
        "DDoS['src'] = DDoS['src'].replace('10.0.0.20', '8')\n",
        "DDoS['src'] = DDoS['src'].replace('10.0.0.18', '9')\n",
        "DDoS['src'] = DDoS['src'].replace('10.0.0.12', '10')\n",
        "DDoS['src'] = DDoS['src'].replace('10.0.0.1', '11')\n",
        "DDoS['src'] = DDoS['src'].replace('10.0.0.3', '12')\n",
        "DDoS['src'] = DDoS['src'].replace('10.0.0.8', '13')\n",
        "DDoS['src'] = DDoS['src'].replace('10.0.0.7', '14')\n",
        "DDoS['src'] = DDoS['src'].replace('10.0.0.9', '15')\n",
        "DDoS['src'] = DDoS['src'].replace('10.0.0.14', '16')\n",
        "DDoS['src'] = DDoS['src'].replace('10.0.0.15', '17')\n",
        "DDoS['src'] = DDoS['src'].replace('10.0.0.16', '18')\n",
        "DDoS['src'] = DDoS['src'].replace('10.0.0.17', '19')\n",
        "DDoS.src.unique()"
      ],
      "metadata": {
        "colab": {
          "base_uri": "https://localhost:8080/"
        },
        "id": "GS2tcHdHMMZh",
        "outputId": "3312a01a-8ddd-40e7-a47b-327f6d470957"
      },
      "execution_count": 6,
      "outputs": [
        {
          "output_type": "execute_result",
          "data": {
            "text/plain": [
              "array(['11', '1', '2', '3', '12', '4', '5', '6', '8', '7', '10', '9',\n",
              "       '13', '14', '15', '16', '17', '18', '19'], dtype=object)"
            ]
          },
          "metadata": {},
          "execution_count": 6
        }
      ]
    },
    {
      "cell_type": "code",
      "source": [
        "DDoS['dst'] = DDoS['dst'].replace('10.0.0.8', '0')\n",
        "DDoS['dst'] = DDoS['dst'].replace('10.0.0.7', '1')\n",
        "DDoS['dst'] = DDoS['dst'].replace('10.0.0.2', '2')\n",
        "DDoS['dst'] = DDoS['dst'].replace('10.0.0.4', '3')\n",
        "DDoS['dst'] = DDoS['dst'].replace('10.0.0.6', '4')\n",
        "DDoS['dst'] = DDoS['dst'].replace('10.0.0.10', '5')\n",
        "DDoS['dst'] = DDoS['dst'].replace('10.0.0.3', '6')\n",
        "DDoS['dst'] = DDoS['dst'].replace('10.0.0.6', '7')\n",
        "DDoS['dst'] = DDoS['dst'].replace('10.0.0.5', '8')\n",
        "DDoS['dst'] = DDoS['dst'].replace('10.0.0.9', '9')\n",
        "DDoS['dst'] = DDoS['dst'].replace('10.0.0.12', '10')\n",
        "DDoS['dst'] = DDoS['dst'].replace('10.0.0.13', '11')\n",
        "DDoS['dst'] = DDoS['dst'].replace('10.0.0.14', '12')\n",
        "DDoS['dst'] = DDoS['dst'].replace('10.0.0.11', '13')\n",
        "DDoS['dst'] = DDoS['dst'].replace('10.0.0.16', '14')\n",
        "DDoS['dst'] = DDoS['dst'].replace('10.0.0.1', '15')\n",
        "DDoS['dst'] = DDoS['dst'].replace('10.0.0.15', '16')\n",
        "DDoS['dst'] = DDoS['dst'].replace('10.0.0.17', '17')\n",
        "DDoS['dst'] = DDoS['dst'].replace('10.0.0.18', '18')\n",
        "DDoS.dst.unique()"
      ],
      "metadata": {
        "colab": {
          "base_uri": "https://localhost:8080/"
        },
        "id": "vnq3Td9IMQRU",
        "outputId": "c8021c5f-fdd1-478d-f854-2a8785faca81"
      },
      "execution_count": 7,
      "outputs": [
        {
          "output_type": "execute_result",
          "data": {
            "text/plain": [
              "array(['0', '1', '6', '8', '5', '11', '15', '13', '2', '3', '9', '4',\n",
              "       '12', '16', '10', '14', '17', '18'], dtype=object)"
            ]
          },
          "metadata": {},
          "execution_count": 7
        }
      ]
    },
    {
      "cell_type": "code",
      "source": [
        "DDoS[\"rx_kbps\"] = DDoS[\"rx_kbps\"].fillna(DDoS[\"rx_kbps\"].mean())"
      ],
      "metadata": {
        "id": "AsWsaxuYMUPy"
      },
      "execution_count": 8,
      "outputs": []
    },
    {
      "cell_type": "code",
      "source": [
        "DDoS[\"tot_kbps\"] = DDoS[\"tot_kbps\"].fillna(DDoS[\"tot_kbps\"].mean())"
      ],
      "metadata": {
        "id": "J0K7XgOMMZux"
      },
      "execution_count": 9,
      "outputs": []
    },
    {
      "cell_type": "code",
      "source": [
        "from sklearn.model_selection import train_test_split\n",
        "X = DDoS[['src','dst','dt', 'switch', 'pktcount', 'bytecount', 'dur', 'dur_nsec', 'tot_dur',\n",
        "       'flows', 'packetins', 'pktperflow', 'byteperflow', 'pktrate',\n",
        "       'Pairflow','Protocol' ,'port_no', 'tx_bytes', 'rx_bytes', 'tx_kbps', 'rx_kbps',\n",
        "       'tot_kbps']]\n",
        "y = DDoS['label']\n",
        "\n",
        "X_train, X_test, y_train, y_test = train_test_split(X, y, test_size=0.4, random_state=42)"
      ],
      "metadata": {
        "id": "esQJf1E3Mcze"
      },
      "execution_count": 10,
      "outputs": []
    },
    {
      "cell_type": "code",
      "source": [
        "# Feature scaling (or standardization)\n",
        "from sklearn.preprocessing import StandardScaler\n",
        "scaler = StandardScaler()\n",
        "X_train = scaler.fit_transform(X_train)\n",
        "X_test = scaler.transform(X_test)"
      ],
      "metadata": {
        "id": "E3p0sbNrMsQS"
      },
      "execution_count": 11,
      "outputs": []
    },
    {
      "cell_type": "code",
      "source": [
        "# reshape inputs for LSTM [samples, timesteps, features]\n",
        "\n",
        "\n",
        "X_train = X_train.reshape(X_train.shape[0], 1, X_train.shape[1])\n",
        "print(\"Training data shape:\", X_train.shape)\n",
        "X_test = X_test.reshape(X_test.shape[0], 1, X_test.shape[1])\n",
        "print(\"Test data shape:\", X_test.shape)"
      ],
      "metadata": {
        "colab": {
          "base_uri": "https://localhost:8080/"
        },
        "id": "pPD1pRJ-MwEm",
        "outputId": "937a298e-64b7-497e-e565-41ddcc569f02"
      },
      "execution_count": 12,
      "outputs": [
        {
          "output_type": "stream",
          "name": "stdout",
          "text": [
            "Training data shape: (62607, 1, 22)\n",
            "Test data shape: (41738, 1, 22)\n"
          ]
        }
      ]
    },
    {
      "cell_type": "code",
      "source": [
        "def create_baseline():\n",
        "    model = Sequential()\n",
        "    \n",
        "    model.add(Bidirectional(LSTM(22, activation='tanh', kernel_regularizer='l2')))\n",
        "    model.add(Dense(64, activation = 'relu', kernel_regularizer='l2'))\n",
        "    model.add(Dense(1, activation = 'sigmoid', kernel_regularizer='l2'))\n",
        "    \n",
        "    model.compile(loss = 'binary_crossentropy', optimizer = 'adam', metrics = ['accuracy'])\n",
        "    \n",
        "    return model"
      ],
      "metadata": {
        "id": "7PHPOenmM04g"
      },
      "execution_count": 13,
      "outputs": []
    },
    {
      "cell_type": "code",
      "source": [
        "model = create_baseline()"
      ],
      "metadata": {
        "id": "fsPAlSRbM8VG"
      },
      "execution_count": 14,
      "outputs": []
    },
    {
      "cell_type": "code",
      "source": [
        "history = model.fit(X_train, y_train, epochs = 50,validation_split=0.2,verbose = 1)"
      ],
      "metadata": {
        "colab": {
          "base_uri": "https://localhost:8080/"
        },
        "id": "xu1qys7VM97t",
        "outputId": "cc2a7145-a958-46b5-87c7-eb9e64d5c9ad"
      },
      "execution_count": 15,
      "outputs": [
        {
          "output_type": "stream",
          "name": "stdout",
          "text": [
            "Epoch 1/50\n",
            "1566/1566 [==============================] - 15s 5ms/step - loss: 0.5287 - accuracy: 0.8887 - val_loss: 0.3996 - val_accuracy: 0.9352\n",
            "Epoch 2/50\n",
            "1566/1566 [==============================] - 6s 4ms/step - loss: 0.3850 - accuracy: 0.9389 - val_loss: 0.3774 - val_accuracy: 0.9398\n",
            "Epoch 3/50\n",
            "1566/1566 [==============================] - 7s 4ms/step - loss: 0.3692 - accuracy: 0.9425 - val_loss: 0.3682 - val_accuracy: 0.9420\n",
            "Epoch 4/50\n",
            "1566/1566 [==============================] - 6s 4ms/step - loss: 0.3603 - accuracy: 0.9435 - val_loss: 0.3588 - val_accuracy: 0.9419\n",
            "Epoch 5/50\n",
            "1566/1566 [==============================] - 6s 4ms/step - loss: 0.3552 - accuracy: 0.9438 - val_loss: 0.3559 - val_accuracy: 0.9432\n",
            "Epoch 6/50\n",
            "1566/1566 [==============================] - 7s 4ms/step - loss: 0.3515 - accuracy: 0.9442 - val_loss: 0.3523 - val_accuracy: 0.9404\n",
            "Epoch 7/50\n",
            "1566/1566 [==============================] - 6s 4ms/step - loss: 0.3492 - accuracy: 0.9433 - val_loss: 0.3512 - val_accuracy: 0.9433\n",
            "Epoch 8/50\n",
            "1566/1566 [==============================] - 6s 4ms/step - loss: 0.3476 - accuracy: 0.9443 - val_loss: 0.3506 - val_accuracy: 0.9427\n",
            "Epoch 9/50\n",
            "1566/1566 [==============================] - 6s 4ms/step - loss: 0.3464 - accuracy: 0.9442 - val_loss: 0.3469 - val_accuracy: 0.9431\n",
            "Epoch 10/50\n",
            "1566/1566 [==============================] - 7s 4ms/step - loss: 0.3450 - accuracy: 0.9436 - val_loss: 0.3486 - val_accuracy: 0.9419\n",
            "Epoch 11/50\n",
            "1566/1566 [==============================] - 6s 4ms/step - loss: 0.3443 - accuracy: 0.9445 - val_loss: 0.3446 - val_accuracy: 0.9432\n",
            "Epoch 12/50\n",
            "1566/1566 [==============================] - 6s 4ms/step - loss: 0.3433 - accuracy: 0.9439 - val_loss: 0.3457 - val_accuracy: 0.9423\n",
            "Epoch 13/50\n",
            "1566/1566 [==============================] - 6s 4ms/step - loss: 0.3429 - accuracy: 0.9439 - val_loss: 0.3448 - val_accuracy: 0.9459\n",
            "Epoch 14/50\n",
            "1566/1566 [==============================] - 8s 5ms/step - loss: 0.3416 - accuracy: 0.9436 - val_loss: 0.3453 - val_accuracy: 0.9436\n",
            "Epoch 15/50\n",
            "1566/1566 [==============================] - 7s 4ms/step - loss: 0.3413 - accuracy: 0.9445 - val_loss: 0.3447 - val_accuracy: 0.9430\n",
            "Epoch 16/50\n",
            "1566/1566 [==============================] - 6s 4ms/step - loss: 0.3407 - accuracy: 0.9439 - val_loss: 0.3438 - val_accuracy: 0.9422\n",
            "Epoch 17/50\n",
            "1566/1566 [==============================] - 6s 4ms/step - loss: 0.3402 - accuracy: 0.9442 - val_loss: 0.3417 - val_accuracy: 0.9434\n",
            "Epoch 18/50\n",
            "1566/1566 [==============================] - 6s 4ms/step - loss: 0.3391 - accuracy: 0.9450 - val_loss: 0.3410 - val_accuracy: 0.9449\n",
            "Epoch 19/50\n",
            "1566/1566 [==============================] - 6s 4ms/step - loss: 0.3383 - accuracy: 0.9447 - val_loss: 0.3415 - val_accuracy: 0.9438\n",
            "Epoch 20/50\n",
            "1566/1566 [==============================] - 7s 4ms/step - loss: 0.3379 - accuracy: 0.9444 - val_loss: 0.3422 - val_accuracy: 0.9463\n",
            "Epoch 21/50\n",
            "1566/1566 [==============================] - 7s 4ms/step - loss: 0.3372 - accuracy: 0.9442 - val_loss: 0.3397 - val_accuracy: 0.9440\n",
            "Epoch 22/50\n",
            "1566/1566 [==============================] - 6s 4ms/step - loss: 0.3369 - accuracy: 0.9446 - val_loss: 0.3407 - val_accuracy: 0.9451\n",
            "Epoch 23/50\n",
            "1566/1566 [==============================] - 6s 4ms/step - loss: 0.3366 - accuracy: 0.9443 - val_loss: 0.3390 - val_accuracy: 0.9459\n",
            "Epoch 24/50\n",
            "1566/1566 [==============================] - 6s 4ms/step - loss: 0.3364 - accuracy: 0.9447 - val_loss: 0.3378 - val_accuracy: 0.9430\n",
            "Epoch 25/50\n",
            "1566/1566 [==============================] - 6s 4ms/step - loss: 0.3360 - accuracy: 0.9435 - val_loss: 0.3393 - val_accuracy: 0.9423\n",
            "Epoch 26/50\n",
            "1566/1566 [==============================] - 6s 4ms/step - loss: 0.3363 - accuracy: 0.9447 - val_loss: 0.3386 - val_accuracy: 0.9447\n",
            "Epoch 27/50\n",
            "1566/1566 [==============================] - 6s 4ms/step - loss: 0.3359 - accuracy: 0.9444 - val_loss: 0.3377 - val_accuracy: 0.9417\n",
            "Epoch 28/50\n",
            "1566/1566 [==============================] - 6s 4ms/step - loss: 0.3356 - accuracy: 0.9439 - val_loss: 0.3375 - val_accuracy: 0.9437\n",
            "Epoch 29/50\n",
            "1566/1566 [==============================] - 6s 4ms/step - loss: 0.3357 - accuracy: 0.9443 - val_loss: 0.3389 - val_accuracy: 0.9433\n",
            "Epoch 30/50\n",
            "1566/1566 [==============================] - 6s 4ms/step - loss: 0.3359 - accuracy: 0.9430 - val_loss: 0.3374 - val_accuracy: 0.9441\n",
            "Epoch 31/50\n",
            "1566/1566 [==============================] - 7s 4ms/step - loss: 0.3349 - accuracy: 0.9442 - val_loss: 0.3374 - val_accuracy: 0.9425\n",
            "Epoch 32/50\n",
            "1566/1566 [==============================] - 6s 4ms/step - loss: 0.3352 - accuracy: 0.9434 - val_loss: 0.3377 - val_accuracy: 0.9438\n",
            "Epoch 33/50\n",
            "1566/1566 [==============================] - 7s 4ms/step - loss: 0.3347 - accuracy: 0.9428 - val_loss: 0.3371 - val_accuracy: 0.9421\n",
            "Epoch 34/50\n",
            "1566/1566 [==============================] - 6s 4ms/step - loss: 0.3350 - accuracy: 0.9429 - val_loss: 0.3376 - val_accuracy: 0.9418\n",
            "Epoch 35/50\n",
            "1566/1566 [==============================] - 6s 4ms/step - loss: 0.3344 - accuracy: 0.9431 - val_loss: 0.3371 - val_accuracy: 0.9416\n",
            "Epoch 36/50\n",
            "1566/1566 [==============================] - 6s 4ms/step - loss: 0.3327 - accuracy: 0.9436 - val_loss: 0.3360 - val_accuracy: 0.9421\n",
            "Epoch 37/50\n",
            "1566/1566 [==============================] - 6s 4ms/step - loss: 0.3312 - accuracy: 0.9444 - val_loss: 0.3341 - val_accuracy: 0.9435\n",
            "Epoch 38/50\n",
            "1566/1566 [==============================] - 6s 4ms/step - loss: 0.3306 - accuracy: 0.9444 - val_loss: 0.3361 - val_accuracy: 0.9415\n",
            "Epoch 39/50\n",
            "1566/1566 [==============================] - 7s 5ms/step - loss: 0.3303 - accuracy: 0.9440 - val_loss: 0.3320 - val_accuracy: 0.9443\n",
            "Epoch 40/50\n",
            "1566/1566 [==============================] - 7s 5ms/step - loss: 0.3302 - accuracy: 0.9448 - val_loss: 0.3333 - val_accuracy: 0.9443\n",
            "Epoch 41/50\n",
            "1566/1566 [==============================] - 7s 5ms/step - loss: 0.3300 - accuracy: 0.9450 - val_loss: 0.3317 - val_accuracy: 0.9449\n",
            "Epoch 42/50\n",
            "1566/1566 [==============================] - 7s 5ms/step - loss: 0.3302 - accuracy: 0.9446 - val_loss: 0.3324 - val_accuracy: 0.9459\n",
            "Epoch 43/50\n",
            "1566/1566 [==============================] - 6s 4ms/step - loss: 0.3299 - accuracy: 0.9452 - val_loss: 0.3318 - val_accuracy: 0.9437\n",
            "Epoch 44/50\n",
            "1566/1566 [==============================] - 7s 4ms/step - loss: 0.3298 - accuracy: 0.9458 - val_loss: 0.3330 - val_accuracy: 0.9404\n",
            "Epoch 45/50\n",
            "1566/1566 [==============================] - 6s 4ms/step - loss: 0.3299 - accuracy: 0.9452 - val_loss: 0.3329 - val_accuracy: 0.9427\n",
            "Epoch 46/50\n",
            "1566/1566 [==============================] - 6s 4ms/step - loss: 0.3300 - accuracy: 0.9449 - val_loss: 0.3327 - val_accuracy: 0.9470\n",
            "Epoch 47/50\n",
            "1566/1566 [==============================] - 6s 4ms/step - loss: 0.3298 - accuracy: 0.9449 - val_loss: 0.3317 - val_accuracy: 0.9455\n",
            "Epoch 48/50\n",
            "1566/1566 [==============================] - 6s 4ms/step - loss: 0.3297 - accuracy: 0.9452 - val_loss: 0.3319 - val_accuracy: 0.9443\n",
            "Epoch 49/50\n",
            "1566/1566 [==============================] - 6s 4ms/step - loss: 0.3297 - accuracy: 0.9450 - val_loss: 0.3328 - val_accuracy: 0.9431\n",
            "Epoch 50/50\n",
            "1566/1566 [==============================] - 6s 4ms/step - loss: 0.3301 - accuracy: 0.9456 - val_loss: 0.3322 - val_accuracy: 0.9460\n"
          ]
        }
      ]
    },
    {
      "cell_type": "code",
      "source": [
        "# Plot training & validation accuracy values\n",
        "plt.plot(history.history['accuracy'])\n",
        "plt.plot(history.history['val_accuracy'])\n",
        "plt.title('BiLSTM Model Accuracy')\n",
        "plt.ylabel('Accuracy')\n",
        "plt.xlabel('Epoch')\n",
        "plt.legend(['Train', 'Test'], loc='lower right')\n",
        "plt.savefig('BiLSTM Model Accuracy.png')\n",
        "plt.show()"
      ],
      "metadata": {
        "colab": {
          "base_uri": "https://localhost:8080/",
          "height": 301
        },
        "id": "J-pIszrpOYVP",
        "outputId": "b416d383-59ba-4e51-86f8-cfe35916e6b3"
      },
      "execution_count": 16,
      "outputs": [
        {
          "output_type": "display_data",
          "data": {
            "text/plain": [
              "<Figure size 432x288 with 1 Axes>"
            ],
            "image/png": "[encoded data removed]"
          },
          "metadata": {
            "needs_background": "light"
          }
        }
      ]
    },
    {
      "cell_type": "code",
      "source": [
        "# Plot training & validation loss values\n",
        "plt.plot(history.history['loss'])\n",
        "plt.plot(history.history['val_loss'])\n",
        "plt.title('BiLSTM Model  Loss')\n",
        "plt.ylabel('Loss')\n",
        "plt.xlabel('Epoch')\n",
        "plt.legend(['Train', 'Test'], loc='upper left')\n",
        "plt.savefig('BiLSTM Model Loss.png')\n",
        "plt.show()"
      ],
      "metadata": {
        "colab": {
          "base_uri": "https://localhost:8080/",
          "height": 301
        },
        "id": "jOtKrRS_OcOv",
        "outputId": "79910823-0701-4bb2-8bf8-8b1c0657e25d"
      },
      "execution_count": 17,
      "outputs": [
        {
          "output_type": "display_data",
          "data": {
            "text/plain": [
              "<Figure size 432x288 with 1 Axes>"
            ],
            "image/png": "[encoded data removed]"
          },
          "metadata": {
            "needs_background": "light"
          }
        }
      ]
    },
    {
      "cell_type": "code",
      "source": [
        "predict = model.predict(X_test, verbose=1)"
      ],
      "metadata": {
        "colab": {
          "base_uri": "https://localhost:8080/"
        },
        "id": "twGvrWjpOgk-",
        "outputId": "75ea8745-d7ce-4cc5-a28b-1e7bed7dcfb9"
      },
      "execution_count": 18,
      "outputs": [
        {
          "output_type": "stream",
          "name": "stdout",
          "text": [
            "1305/1305 [==============================] - 7s 4ms/step\n"
          ]
        }
      ]
    },
    {
      "cell_type": "code",
      "source": [
        "tp = 0\n",
        "tn = 0\n",
        "fp = 0\n",
        "fn = 0\n",
        "predictn = predict.flatten().round()\n",
        "predictn = predictn.tolist()\n",
        "Y_testn = y_test.tolist()\n",
        "for i in range(len(Y_testn)):\n",
        "  if predictn[i]==1 and Y_testn[i]==1:\n",
        "    tp+=1\n",
        "  elif predictn[i]==0 and Y_testn[i]==0:\n",
        "    tn+=1\n",
        "  elif predictn[i]==0 and Y_testn[i]==1:\n",
        "    fp+=1\n",
        "  elif predictn[i]==1 and Y_testn[i]==0:\n",
        "    fn+=1"
      ],
      "metadata": {
        "id": "eW2e4lvPOksC"
      },
      "execution_count": 19,
      "outputs": []
    },
    {
      "cell_type": "code",
      "source": [
        "to_heat_map =[[tn,fp],[fn,tp]]\n",
        "to_heat_map = pd.DataFrame(to_heat_map, index = [\"Normal\",\"Attack\"],columns = [\"Normal\",\"Attack\"])\n",
        "ax = sns.heatmap(to_heat_map,annot=True, fmt=\"d\")"
      ],
      "metadata": {
        "colab": {
          "base_uri": "https://localhost:8080/",
          "height": 268
        },
        "id": "ujtUs5loOosM",
        "outputId": "4c92a573-b390-425a-c307-f9ffebc61403"
      },
      "execution_count": 20,
      "outputs": [
        {
          "output_type": "display_data",
          "data": {
            "text/plain": [
              "<Figure size 432x288 with 2 Axes>"
            ],
            "image/png": "[encoded data removed]"
          },
          "metadata": {
            "needs_background": "light"
          }
        }
      ]
    },
    {
      "cell_type": "code",
      "source": [
        "figure = ax.get_figure()    \n",
        "figure.savefig('confusion_matrix_BiLSTM.png', dpi=400)"
      ],
      "metadata": {
        "id": "LYjMFOczOsAY"
      },
      "execution_count": 21,
      "outputs": []
    },
    {
      "cell_type": "code",
      "source": [
        "scores = model.evaluate(X_test, y_test, verbose=0)\n",
        "print(\"%s: %.2f%%\" % (model.metrics_names[1], scores[1]*100))"
      ],
      "metadata": {
        "colab": {
          "base_uri": "https://localhost:8080/"
        },
        "id": "vyjf2X42Ou_j",
        "outputId": "7f714843-9601-4a70-ef26-f7daf694137c"
      },
      "execution_count": 22,
      "outputs": [
        {
          "output_type": "stream",
          "name": "stdout",
          "text": [
            "accuracy: 94.78%\n"
          ]
        }
      ]
    }
  ]
}