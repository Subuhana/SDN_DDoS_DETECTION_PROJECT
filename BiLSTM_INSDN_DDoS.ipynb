{
  "nbformat": 4,
  "nbformat_minor": 0,
  "metadata": {
    "colab": {
      "name": "14.BiLSTM_INSDN_DDoS.ipynb",
      "provenance": [],
      "collapsed_sections": []
    },
    "kernelspec": {
      "name": "python3",
      "display_name": "Python 3"
    },
    "language_info": {
      "name": "python"
    }
  },
  "cells": [
    {
      "cell_type": "code",
      "execution_count": 1,
      "metadata": {
        "id": "VT04XApPUwDk"
      },
      "outputs": [],
      "source": [
        "import pandas as pd\n",
        "import numpy as np\n",
        "import matplotlib\n",
        "import matplotlib.pyplot as plt"
      ]
    },
    {
      "cell_type": "code",
      "source": [
        "DDoS=pd.read_csv('/content/metasploitable-2.csv')"
      ],
      "metadata": {
        "id": "xJ3cHKE-Vj2J"
      },
      "execution_count": 2,
      "outputs": []
    },
    {
      "cell_type": "code",
      "source": [
        "DDoS.columns"
      ],
      "metadata": {
        "colab": {
          "base_uri": "https://localhost:8080/"
        },
        "id": "CWSJ3WZNVm8b",
        "outputId": "6207d963-90e4-46f6-c8d4-865ac5b3d669"
      },
      "execution_count": 3,
      "outputs": [
        {
          "output_type": "execute_result",
          "data": {
            "text/plain": [
              "Index(['Flow ID', 'Src IP', 'Src Port', 'Dst IP', 'Dst Port', 'Protocol',\n",
              "       'Timestamp', 'Flow Duration', 'Tot Fwd Pkts', 'Tot Bwd Pkts',\n",
              "       'TotLen Fwd Pkts', 'TotLen Bwd Pkts', 'Fwd Pkt Len Max',\n",
              "       'Fwd Pkt Len Min', 'Fwd Pkt Len Mean', 'Fwd Pkt Len Std',\n",
              "       'Bwd Pkt Len Max', 'Bwd Pkt Len Min', 'Bwd Pkt Len Mean',\n",
              "       'Bwd Pkt Len Std', 'Flow Byts/s', 'Flow Pkts/s', 'Flow IAT Mean',\n",
              "       'Flow IAT Std', 'Flow IAT Max', 'Flow IAT Min', 'Fwd IAT Tot',\n",
              "       'Fwd IAT Mean', 'Fwd IAT Std', 'Fwd IAT Max', 'Fwd IAT Min',\n",
              "       'Bwd IAT Tot', 'Bwd IAT Mean', 'Bwd IAT Std', 'Bwd IAT Max',\n",
              "       'Bwd IAT Min', 'Fwd PSH Flags', 'Bwd PSH Flags', 'Fwd URG Flags',\n",
              "       'Bwd URG Flags', 'Fwd Header Len', 'Bwd Header Len', 'Fwd Pkts/s',\n",
              "       'Bwd Pkts/s', 'Pkt Len Min', 'Pkt Len Max', 'Pkt Len Mean',\n",
              "       'Pkt Len Std', 'Pkt Len Var', 'FIN Flag Cnt', 'SYN Flag Cnt',\n",
              "       'RST Flag Cnt', 'PSH Flag Cnt', 'ACK Flag Cnt', 'URG Flag Cnt',\n",
              "       'CWE Flag Count', 'ECE Flag Cnt', 'Down/Up Ratio', 'Pkt Size Avg',\n",
              "       'Fwd Seg Size Avg', 'Bwd Seg Size Avg', 'Fwd Byts/b Avg',\n",
              "       'Fwd Pkts/b Avg', 'Fwd Blk Rate Avg', 'Bwd Byts/b Avg',\n",
              "       'Bwd Pkts/b Avg', 'Bwd Blk Rate Avg', 'Subflow Fwd Pkts',\n",
              "       'Subflow Fwd Byts', 'Subflow Bwd Pkts', 'Subflow Bwd Byts',\n",
              "       'Init Fwd Win Byts', 'Init Bwd Win Byts', 'Fwd Act Data Pkts',\n",
              "       'Fwd Seg Size Min', 'Active Mean', 'Active Std', 'Active Max',\n",
              "       'Active Min', 'Idle Mean', 'Idle Std', 'Idle Max', 'Idle Min', 'Label'],\n",
              "      dtype='object')"
            ]
          },
          "metadata": {},
          "execution_count": 3
        }
      ]
    },
    {
      "cell_type": "code",
      "source": [
        "DDoS['Label'].value_counts()"
      ],
      "metadata": {
        "colab": {
          "base_uri": "https://localhost:8080/"
        },
        "id": "V4Qk0LDcVpe9",
        "outputId": "f3a41cdf-37b0-4319-f86a-e9cc5c513cdd"
      },
      "execution_count": 4,
      "outputs": [
        {
          "output_type": "execute_result",
          "data": {
            "text/plain": [
              "DDoS     73529\n",
              "Probe    61757\n",
              "DoS       1145\n",
              "BFA        295\n",
              "U2R         17\n",
              "Name: Label, dtype: int64"
            ]
          },
          "metadata": {},
          "execution_count": 4
        }
      ]
    },
    {
      "cell_type": "code",
      "source": [
        "#log scaled distribution of attacks\n",
        "plt.clf()\n",
        "plt.figure(figsize=(12,8))\n",
        "params = {'axes.titlesize':'18',\n",
        "          'xtick.labelsize':'14',\n",
        "          'ytick.labelsize':'14'}\n",
        "matplotlib.rcParams.update(params)\n",
        "plt.title('Distribution of attacks')\n",
        "#df.plot(kind='barh')\n",
        "DDoS['Label'].value_counts().apply(np.log).plot(kind='barh')\n",
        "\n",
        "plt.show()"
      ],
      "metadata": {
        "colab": {
          "base_uri": "https://localhost:8080/",
          "height": 524
        },
        "id": "pIQdEH6EVtJh",
        "outputId": "dad68afd-1bfc-4926-cd2b-5516a1e41429"
      },
      "execution_count": 5,
      "outputs": [
        {
          "output_type": "display_data",
          "data": {
            "text/plain": [
              "<Figure size 432x288 with 0 Axes>"
            ]
          },
          "metadata": {}
        },
        {
          "output_type": "display_data",
          "data": {
            "text/plain": [
              "<Figure size 864x576 with 1 Axes>"
            ],
            "image/png": "[encoded data removed]"
          },
          "metadata": {
            "needs_background": "light"
          }
        }
      ]
    },
    {
      "cell_type": "code",
      "source": [
        "#Transformations of categorical features\n",
        "DDoS['Flow ID'] = DDoS['Flow ID'].astype('category')\n",
        "DDoS['Src IP'] = DDoS['Src IP'].astype('category')\n",
        "DDoS['Dst IP'] = DDoS['Dst IP'].astype('category')\n",
        "DDoS['Timestamp'] = DDoS['Timestamp'].astype('category')\n",
        "DDoS['Label'] = DDoS['Label'].astype('category')\n",
        "\n",
        "cat_columns = DDoS.select_dtypes(['category']).columns\n",
        "DDoS[cat_columns] = DDoS[cat_columns].apply(lambda x: x.cat.codes)"
      ],
      "metadata": {
        "id": "5aGLpDhhVtXn"
      },
      "execution_count": 6,
      "outputs": []
    },
    {
      "cell_type": "code",
      "source": [
        "#Removal of duplicates\n",
        "DDoS.drop_duplicates(subset=None, keep='first', inplace=True)"
      ],
      "metadata": {
        "id": "upLPM-V3V2tq"
      },
      "execution_count": 7,
      "outputs": []
    },
    {
      "cell_type": "code",
      "source": [
        "DDoS.shape"
      ],
      "metadata": {
        "colab": {
          "base_uri": "https://localhost:8080/"
        },
        "id": "w1Kvl49IV5px",
        "outputId": "15e43c28-ffb8-4fed-d8f2-906fe3b53373"
      },
      "execution_count": 8,
      "outputs": [
        {
          "output_type": "execute_result",
          "data": {
            "text/plain": [
              "(136743, 84)"
            ]
          },
          "metadata": {},
          "execution_count": 8
        }
      ]
    },
    {
      "cell_type": "code",
      "source": [
        "DDoS['Label'].value_counts()"
      ],
      "metadata": {
        "colab": {
          "base_uri": "https://localhost:8080/"
        },
        "id": "YNHmi5RnV8se",
        "outputId": "9e6bd1ca-b50c-4a5b-a772-d6144e33f110"
      },
      "execution_count": 9,
      "outputs": [
        {
          "output_type": "execute_result",
          "data": {
            "text/plain": [
              "1    73529\n",
              "3    61757\n",
              "2     1145\n",
              "0      295\n",
              "4       17\n",
              "Name: Label, dtype: int64"
            ]
          },
          "metadata": {},
          "execution_count": 9
        }
      ]
    },
    {
      "cell_type": "code",
      "source": [
        "from sklearn.model_selection import train_test_split\n",
        "X = DDoS[['Flow ID', 'Src IP', 'Src Port', 'Dst IP', 'Dst Port', 'Protocol',\n",
        "       'Timestamp', 'Flow Duration', 'Tot Fwd Pkts', 'Tot Bwd Pkts',\n",
        "       'TotLen Fwd Pkts', 'TotLen Bwd Pkts', 'Fwd Pkt Len Max',\n",
        "       'Fwd Pkt Len Min', 'Fwd Pkt Len Mean', 'Fwd Pkt Len Std',\n",
        "       'Bwd Pkt Len Max', 'Bwd Pkt Len Min', 'Bwd Pkt Len Mean',\n",
        "       'Bwd Pkt Len Std', 'Flow Byts/s', 'Flow Pkts/s', 'Flow IAT Mean',\n",
        "       'Flow IAT Std', 'Flow IAT Max', 'Flow IAT Min', 'Fwd IAT Tot',\n",
        "       'Fwd IAT Mean', 'Fwd IAT Std', 'Fwd IAT Max', 'Fwd IAT Min',\n",
        "       'Bwd IAT Tot', 'Bwd IAT Mean', 'Bwd IAT Std', 'Bwd IAT Max',\n",
        "       'Bwd IAT Min', 'Fwd PSH Flags', 'Bwd PSH Flags', 'Fwd URG Flags',\n",
        "       'Bwd URG Flags', 'Fwd Header Len', 'Bwd Header Len', 'Fwd Pkts/s',\n",
        "       'Bwd Pkts/s', 'Pkt Len Min', 'Pkt Len Max', 'Pkt Len Mean',\n",
        "       'Pkt Len Std', 'Pkt Len Var', 'FIN Flag Cnt', 'SYN Flag Cnt',\n",
        "       'RST Flag Cnt', 'PSH Flag Cnt', 'ACK Flag Cnt', 'URG Flag Cnt',\n",
        "       'CWE Flag Count', 'ECE Flag Cnt', 'Down/Up Ratio', 'Pkt Size Avg',\n",
        "       'Fwd Seg Size Avg', 'Bwd Seg Size Avg', 'Fwd Byts/b Avg',\n",
        "       'Fwd Pkts/b Avg', 'Fwd Blk Rate Avg', 'Bwd Byts/b Avg',\n",
        "       'Bwd Pkts/b Avg', 'Bwd Blk Rate Avg', 'Subflow Fwd Pkts',\n",
        "       'Subflow Fwd Byts', 'Subflow Bwd Pkts', 'Subflow Bwd Byts',\n",
        "       'Init Fwd Win Byts', 'Init Bwd Win Byts', 'Fwd Act Data Pkts',\n",
        "       'Fwd Seg Size Min', 'Active Mean', 'Active Std', 'Active Max',\n",
        "       'Active Min', 'Idle Mean', 'Idle Std', 'Idle Max', 'Idle Min']]\n",
        "y = DDoS['Label']\n",
        "\n",
        "X_train, X_test, y_train, y_test = train_test_split(X, y, test_size=0.2, random_state=42)"
      ],
      "metadata": {
        "id": "pojzg5CpV_mF"
      },
      "execution_count": 10,
      "outputs": []
    },
    {
      "cell_type": "code",
      "source": [
        "# Feature scaling (or standardization)\n",
        "from sklearn.preprocessing import StandardScaler\n",
        "scaler = StandardScaler()\n",
        "X_train = scaler.fit_transform(X_train)\n",
        "X_test = scaler.transform(X_test)"
      ],
      "metadata": {
        "id": "0c7WNo7AWEWa"
      },
      "execution_count": 11,
      "outputs": []
    },
    {
      "cell_type": "code",
      "source": [
        "DDoS.groupby([\"Timestamp\",\"Src IP\"]).first()"
      ],
      "metadata": {
        "colab": {
          "base_uri": "https://localhost:8080/",
          "height": 588
        },
        "id": "8eUHxCQvWHoO",
        "outputId": "2b3c6ae5-5b31-4c9b-93e8-aece921d4fd1"
      },
      "execution_count": 12,
      "outputs": [
        {
          "output_type": "execute_result",
          "data": {
            "text/plain": [
              "                  Flow ID  Src Port  Dst IP  Dst Port  Protocol  \\\n",
              "Timestamp Src IP                                                  \n",
              "0         34877     44484     48052       2      4444         6   \n",
              "          37596     46761     46191       1      6667         6   \n",
              "1         34877     44484     48052       2      4444         6   \n",
              "          37596     46761     46191       1      6667         6   \n",
              "2         34877     61449      8180       2     36317         6   \n",
              "...                   ...       ...     ...       ...       ...   \n",
              "54        37596     61037     57880       1        80         6   \n",
              "55        37596     61041     57888       1        80         6   \n",
              "56        34877     61148        80       2     58102         6   \n",
              "          37596     61115     58036       1        80         6   \n",
              "57        37596     46192     38811       1      6200         6   \n",
              "\n",
              "                  Flow Duration  Tot Fwd Pkts  Tot Bwd Pkts  TotLen Fwd Pkts  \\\n",
              "Timestamp Src IP                                                               \n",
              "0         34877         8737298             3             4               24   \n",
              "          37596        11685939             6             6               30   \n",
              "1         34877         8734991             3             4               24   \n",
              "          37596        11684506             6             6              236   \n",
              "2         34877            4880             0             2                0   \n",
              "...                         ...           ...           ...              ...   \n",
              "54        37596       109089313            11            12              211   \n",
              "55        37596        56528561             5             5               52   \n",
              "56        34877           66031             0             3                0   \n",
              "          37596           15815             1             1                0   \n",
              "57        37596         3625973             6             7               48   \n",
              "\n",
              "                  TotLen Bwd Pkts  ...  Fwd Seg Size Min   Active Mean  \\\n",
              "Timestamp Src IP                   ...                                   \n",
              "0         34877                 3  ...                 0  3.266000e+03   \n",
              "          37596                90  ...                 0  1.007116e+06   \n",
              "1         34877                 3  ...                 0  2.816000e+03   \n",
              "          37596               236  ...                 0  1.010213e+06   \n",
              "2         34877                 0  ...                 0  0.000000e+00   \n",
              "...                           ...  ...               ...           ...   \n",
              "54        37596                 0  ...                 0  5.578216e+05   \n",
              "55        37596                22  ...                 0  8.500000e+00   \n",
              "56        34877                 0  ...                 0  0.000000e+00   \n",
              "          37596                 0  ...                 0  0.000000e+00   \n",
              "57        37596                41  ...                 0  0.000000e+00   \n",
              "\n",
              "                    Active Std  Active Max  Active Min   Idle Mean  \\\n",
              "Timestamp Src IP                                                     \n",
              "0         34877   0.000000e+00        3266        3266   8730838.0   \n",
              "          37596   0.000000e+00     1007116     1007116   9992141.0   \n",
              "1         34877   0.000000e+00        2816        2816   8728974.0   \n",
              "          37596   0.000000e+00     1010213     1010213   9992159.0   \n",
              "2         34877   0.000000e+00           0           0         0.0   \n",
              "...                        ...         ...         ...         ...   \n",
              "54        37596   1.475776e+06     3904568          18  15000000.0   \n",
              "55        37596   1.290994e+00          10           7  14100000.0   \n",
              "56        34877   0.000000e+00           0           0         0.0   \n",
              "          37596   0.000000e+00           0           0         0.0   \n",
              "57        37596   0.000000e+00           0           0         0.0   \n",
              "\n",
              "                      Idle Std    Idle Max    Idle Min  Label  \n",
              "Timestamp Src IP                                               \n",
              "0         34877   0.000000e+00   8730838.0   8730838.0      4  \n",
              "          37596   0.000000e+00   9992141.0   9992141.0      4  \n",
              "1         34877   0.000000e+00   8728974.0   8728974.0      4  \n",
              "          37596   0.000000e+00   9992159.0   9992159.0      4  \n",
              "2         34877   0.000000e+00         0.0         0.0      0  \n",
              "...                        ...         ...         ...    ...  \n",
              "54        37596   6.596303e+03  15000000.0  15000000.0      2  \n",
              "55        37596   1.792146e+06  15000000.0  11400000.0      2  \n",
              "56        34877   0.000000e+00         0.0         0.0      2  \n",
              "          37596   0.000000e+00         0.0         0.0      2  \n",
              "57        37596   0.000000e+00         0.0         0.0      4  \n",
              "\n",
              "[73598 rows x 82 columns]"
            ],
            "text/html": [
              "\n",
              "  <div id=\"df-5c84dcc6-659c-40a5-be02-452d011b75a8\">\n",
              "    <div class=\"colab-df-container\">\n",
              "      <div>\n",
              "<style scoped>\n",
              "    .dataframe tbody tr th:only-of-type {\n",
              "        vertical-align: middle;\n",
              "    }\n",
              "\n",
              "    .dataframe tbody tr th {\n",
              "        vertical-align: top;\n",
              "    }\n",
              "\n",
              "    .dataframe thead th {\n",
              "        text-align: right;\n",
              "    }\n",
              "</style>\n",
              "<table border=\"1\" class=\"dataframe\">\n",
              "  <thead>\n",
              "    <tr style=\"text-align: right;\">\n",
              "      <th></th>\n",
              "      <th></th>\n",
              "      <th>Flow ID</th>\n",
              "      <th>Src Port</th>\n",
              "      <th>Dst IP</th>\n",
              "      <th>Dst Port</th>\n",
              "      <th>Protocol</th>\n",
              "      <th>Flow Duration</th>\n",
              "      <th>Tot Fwd Pkts</th>\n",
              "      <th>Tot Bwd Pkts</th>\n",
              "      <th>TotLen Fwd Pkts</th>\n",
              "      <th>TotLen Bwd Pkts</th>\n",
              "      <th>...</th>\n",
              "      <th>Fwd Seg Size Min</th>\n",
              "      <th>Active Mean</th>\n",
              "      <th>Active Std</th>\n",
              "      <th>Active Max</th>\n",
              "      <th>Active Min</th>\n",
              "      <th>Idle Mean</th>\n",
              "      <th>Idle Std</th>\n",
              "      <th>Idle Max</th>\n",
              "      <th>Idle Min</th>\n",
              "      <th>Label</th>\n",
              "    </tr>\n",
              "    <tr>\n",
              "      <th>Timestamp</th>\n",
              "      <th>Src IP</th>\n",
              "      <th></th>\n",
              "      <th></th>\n",
              "      <th></th>\n",
              "      <th></th>\n",
              "      <th></th>\n",
              "      <th></th>\n",
              "      <th></th>\n",
              "      <th></th>\n",
              "      <th></th>\n",
              "      <th></th>\n",
              "      <th></th>\n",
              "      <th></th>\n",
              "      <th></th>\n",
              "      <th></th>\n",
              "      <th></th>\n",
              "      <th></th>\n",
              "      <th></th>\n",
              "      <th></th>\n",
              "      <th></th>\n",
              "      <th></th>\n",
              "      <th></th>\n",
              "    </tr>\n",
              "  </thead>\n",
              "  <tbody>\n",
              "    <tr>\n",
              "      <th rowspan=\"2\" valign=\"top\">0</th>\n",
              "      <th>34877</th>\n",
              "      <td>44484</td>\n",
              "      <td>48052</td>\n",
              "      <td>2</td>\n",
              "      <td>4444</td>\n",
              "      <td>6</td>\n",
              "      <td>8737298</td>\n",
              "      <td>3</td>\n",
              "      <td>4</td>\n",
              "      <td>24</td>\n",
              "      <td>3</td>\n",
              "      <td>...</td>\n",
              "      <td>0</td>\n",
              "      <td>3.266000e+03</td>\n",
              "      <td>0.000000e+00</td>\n",
              "      <td>3266</td>\n",
              "      <td>3266</td>\n",
              "      <td>8730838.0</td>\n",
              "      <td>0.000000e+00</td>\n",
              "      <td>8730838.0</td>\n",
              "      <td>8730838.0</td>\n",
              "      <td>4</td>\n",
              "    </tr>\n",
              "    <tr>\n",
              "      <th>37596</th>\n",
              "      <td>46761</td>\n",
              "      <td>46191</td>\n",
              "      <td>1</td>\n",
              "      <td>6667</td>\n",
              "      <td>6</td>\n",
              "      <td>11685939</td>\n",
              "      <td>6</td>\n",
              "      <td>6</td>\n",
              "      <td>30</td>\n",
              "      <td>90</td>\n",
              "      <td>...</td>\n",
              "      <td>0</td>\n",
              "      <td>1.007116e+06</td>\n",
              "      <td>0.000000e+00</td>\n",
              "      <td>1007116</td>\n",
              "      <td>1007116</td>\n",
              "      <td>9992141.0</td>\n",
              "      <td>0.000000e+00</td>\n",
              "      <td>9992141.0</td>\n",
              "      <td>9992141.0</td>\n",
              "      <td>4</td>\n",
              "    </tr>\n",
              "    <tr>\n",
              "      <th rowspan=\"2\" valign=\"top\">1</th>\n",
              "      <th>34877</th>\n",
              "      <td>44484</td>\n",
              "      <td>48052</td>\n",
              "      <td>2</td>\n",
              "      <td>4444</td>\n",
              "      <td>6</td>\n",
              "      <td>8734991</td>\n",
              "      <td>3</td>\n",
              "      <td>4</td>\n",
              "      <td>24</td>\n",
              "      <td>3</td>\n",
              "      <td>...</td>\n",
              "      <td>0</td>\n",
              "      <td>2.816000e+03</td>\n",
              "      <td>0.000000e+00</td>\n",
              "      <td>2816</td>\n",
              "      <td>2816</td>\n",
              "      <td>8728974.0</td>\n",
              "      <td>0.000000e+00</td>\n",
              "      <td>8728974.0</td>\n",
              "      <td>8728974.0</td>\n",
              "      <td>4</td>\n",
              "    </tr>\n",
              "    <tr>\n",
              "      <th>37596</th>\n",
              "      <td>46761</td>\n",
              "      <td>46191</td>\n",
              "      <td>1</td>\n",
              "      <td>6667</td>\n",
              "      <td>6</td>\n",
              "      <td>11684506</td>\n",
              "      <td>6</td>\n",
              "      <td>6</td>\n",
              "      <td>236</td>\n",
              "      <td>236</td>\n",
              "      <td>...</td>\n",
              "      <td>0</td>\n",
              "      <td>1.010213e+06</td>\n",
              "      <td>0.000000e+00</td>\n",
              "      <td>1010213</td>\n",
              "      <td>1010213</td>\n",
              "      <td>9992159.0</td>\n",
              "      <td>0.000000e+00</td>\n",
              "      <td>9992159.0</td>\n",
              "      <td>9992159.0</td>\n",
              "      <td>4</td>\n",
              "    </tr>\n",
              "    <tr>\n",
              "      <th>2</th>\n",
              "      <th>34877</th>\n",
              "      <td>61449</td>\n",
              "      <td>8180</td>\n",
              "      <td>2</td>\n",
              "      <td>36317</td>\n",
              "      <td>6</td>\n",
              "      <td>4880</td>\n",
              "      <td>0</td>\n",
              "      <td>2</td>\n",
              "      <td>0</td>\n",
              "      <td>0</td>\n",
              "      <td>...</td>\n",
              "      <td>0</td>\n",
              "      <td>0.000000e+00</td>\n",
              "      <td>0.000000e+00</td>\n",
              "      <td>0</td>\n",
              "      <td>0</td>\n",
              "      <td>0.0</td>\n",
              "      <td>0.000000e+00</td>\n",
              "      <td>0.0</td>\n",
              "      <td>0.0</td>\n",
              "      <td>0</td>\n",
              "    </tr>\n",
              "    <tr>\n",
              "      <th>...</th>\n",
              "      <th>...</th>\n",
              "      <td>...</td>\n",
              "      <td>...</td>\n",
              "      <td>...</td>\n",
              "      <td>...</td>\n",
              "      <td>...</td>\n",
              "      <td>...</td>\n",
              "      <td>...</td>\n",
              "      <td>...</td>\n",
              "      <td>...</td>\n",
              "      <td>...</td>\n",
              "      <td>...</td>\n",
              "      <td>...</td>\n",
              "      <td>...</td>\n",
              "      <td>...</td>\n",
              "      <td>...</td>\n",
              "      <td>...</td>\n",
              "      <td>...</td>\n",
              "      <td>...</td>\n",
              "      <td>...</td>\n",
              "      <td>...</td>\n",
              "      <td>...</td>\n",
              "    </tr>\n",
              "    <tr>\n",
              "      <th>54</th>\n",
              "      <th>37596</th>\n",
              "      <td>61037</td>\n",
              "      <td>57880</td>\n",
              "      <td>1</td>\n",
              "      <td>80</td>\n",
              "      <td>6</td>\n",
              "      <td>109089313</td>\n",
              "      <td>11</td>\n",
              "      <td>12</td>\n",
              "      <td>211</td>\n",
              "      <td>0</td>\n",
              "      <td>...</td>\n",
              "      <td>0</td>\n",
              "      <td>5.578216e+05</td>\n",
              "      <td>1.475776e+06</td>\n",
              "      <td>3904568</td>\n",
              "      <td>18</td>\n",
              "      <td>15000000.0</td>\n",
              "      <td>6.596303e+03</td>\n",
              "      <td>15000000.0</td>\n",
              "      <td>15000000.0</td>\n",
              "      <td>2</td>\n",
              "    </tr>\n",
              "    <tr>\n",
              "      <th>55</th>\n",
              "      <th>37596</th>\n",
              "      <td>61041</td>\n",
              "      <td>57888</td>\n",
              "      <td>1</td>\n",
              "      <td>80</td>\n",
              "      <td>6</td>\n",
              "      <td>56528561</td>\n",
              "      <td>5</td>\n",
              "      <td>5</td>\n",
              "      <td>52</td>\n",
              "      <td>22</td>\n",
              "      <td>...</td>\n",
              "      <td>0</td>\n",
              "      <td>8.500000e+00</td>\n",
              "      <td>1.290994e+00</td>\n",
              "      <td>10</td>\n",
              "      <td>7</td>\n",
              "      <td>14100000.0</td>\n",
              "      <td>1.792146e+06</td>\n",
              "      <td>15000000.0</td>\n",
              "      <td>11400000.0</td>\n",
              "      <td>2</td>\n",
              "    </tr>\n",
              "    <tr>\n",
              "      <th rowspan=\"2\" valign=\"top\">56</th>\n",
              "      <th>34877</th>\n",
              "      <td>61148</td>\n",
              "      <td>80</td>\n",
              "      <td>2</td>\n",
              "      <td>58102</td>\n",
              "      <td>6</td>\n",
              "      <td>66031</td>\n",
              "      <td>0</td>\n",
              "      <td>3</td>\n",
              "      <td>0</td>\n",
              "      <td>0</td>\n",
              "      <td>...</td>\n",
              "      <td>0</td>\n",
              "      <td>0.000000e+00</td>\n",
              "      <td>0.000000e+00</td>\n",
              "      <td>0</td>\n",
              "      <td>0</td>\n",
              "      <td>0.0</td>\n",
              "      <td>0.000000e+00</td>\n",
              "      <td>0.0</td>\n",
              "      <td>0.0</td>\n",
              "      <td>2</td>\n",
              "    </tr>\n",
              "    <tr>\n",
              "      <th>37596</th>\n",
              "      <td>61115</td>\n",
              "      <td>58036</td>\n",
              "      <td>1</td>\n",
              "      <td>80</td>\n",
              "      <td>6</td>\n",
              "      <td>15815</td>\n",
              "      <td>1</td>\n",
              "      <td>1</td>\n",
              "      <td>0</td>\n",
              "      <td>0</td>\n",
              "      <td>...</td>\n",
              "      <td>0</td>\n",
              "      <td>0.000000e+00</td>\n",
              "      <td>0.000000e+00</td>\n",
              "      <td>0</td>\n",
              "      <td>0</td>\n",
              "      <td>0.0</td>\n",
              "      <td>0.000000e+00</td>\n",
              "      <td>0.0</td>\n",
              "      <td>0.0</td>\n",
              "      <td>2</td>\n",
              "    </tr>\n",
              "    <tr>\n",
              "      <th>57</th>\n",
              "      <th>37596</th>\n",
              "      <td>46192</td>\n",
              "      <td>38811</td>\n",
              "      <td>1</td>\n",
              "      <td>6200</td>\n",
              "      <td>6</td>\n",
              "      <td>3625973</td>\n",
              "      <td>6</td>\n",
              "      <td>7</td>\n",
              "      <td>48</td>\n",
              "      <td>41</td>\n",
              "      <td>...</td>\n",
              "      <td>0</td>\n",
              "      <td>0.000000e+00</td>\n",
              "      <td>0.000000e+00</td>\n",
              "      <td>0</td>\n",
              "      <td>0</td>\n",
              "      <td>0.0</td>\n",
              "      <td>0.000000e+00</td>\n",
              "      <td>0.0</td>\n",
              "      <td>0.0</td>\n",
              "      <td>4</td>\n",
              "    </tr>\n",
              "  </tbody>\n",
              "</table>\n",
              "<p>73598 rows × 82 columns</p>\n",
              "</div>\n",
              "      <button class=\"colab-df-convert\" onclick=\"convertToInteractive('df-5c84dcc6-659c-40a5-be02-452d011b75a8')\"\n",
              "              title=\"Convert this dataframe to an interactive table.\"\n",
              "              style=\"display:none;\">\n",
              "        \n",
              "  <svg xmlns=\"http://www.w3.org/2000/svg\" height=\"24px\"viewBox=\"0 0 24 24\"\n",
              "       width=\"24px\">\n",
              "    <path d=\"M0 0h24v24H0V0z\" fill=\"none\"/>\n",
              "    <path d=\"M18.56 5.44l.94 2.06.94-2.06 2.06-.94-2.06-.94-.94-2.06-.94 2.06-2.06.94zm-11 1L8.5 8.5l.94-2.06 2.06-.94-2.06-.94L8.5 2.5l-.94 2.06-2.06.94zm10 10l.94 2.06.94-2.06 2.06-.94-2.06-.94-.94-2.06-.94 2.06-2.06.94z\"/><path d=\"M17.41 7.96l-1.37-1.37c-.4-.4-.92-.59-1.43-.59-.52 0-1.04.2-1.43.59L10.3 9.45l-7.72 7.72c-.78.78-.78 2.05 0 2.83L4 21.41c.39.39.9.59 1.41.59.51 0 1.02-.2 1.41-.59l7.78-7.78 2.81-2.81c.8-.78.8-2.07 0-2.86zM5.41 20L4 18.59l7.72-7.72 1.47 1.35L5.41 20z\"/>\n",
              "  </svg>\n",
              "      </button>\n",
              "      \n",
              "  <style>\n",
              "    .colab-df-container {\n",
              "      display:flex;\n",
              "      flex-wrap:wrap;\n",
              "      gap: 12px;\n",
              "    }\n",
              "\n",
              "    .colab-df-convert {\n",
              "      background-color: #E8F0FE;\n",
              "      border: none;\n",
              "      border-radius: 50%;\n",
              "      cursor: pointer;\n",
              "      display: none;\n",
              "      fill: #1967D2;\n",
              "      height: 32px;\n",
              "      padding: 0 0 0 0;\n",
              "      width: 32px;\n",
              "    }\n",
              "\n",
              "    .colab-df-convert:hover {\n",
              "      background-color: #E2EBFA;\n",
              "      box-shadow: 0px 1px 2px rgba(60, 64, 67, 0.3), 0px 1px 3px 1px rgba(60, 64, 67, 0.15);\n",
              "      fill: #174EA6;\n",
              "    }\n",
              "\n",
              "    [theme=dark] .colab-df-convert {\n",
              "      background-color: #3B4455;\n",
              "      fill: #D2E3FC;\n",
              "    }\n",
              "\n",
              "    [theme=dark] .colab-df-convert:hover {\n",
              "      background-color: #434B5C;\n",
              "      box-shadow: 0px 1px 3px 1px rgba(0, 0, 0, 0.15);\n",
              "      filter: drop-shadow(0px 1px 2px rgba(0, 0, 0, 0.3));\n",
              "      fill: #FFFFFF;\n",
              "    }\n",
              "  </style>\n",
              "\n",
              "      <script>\n",
              "        const buttonEl =\n",
              "          document.querySelector('#df-5c84dcc6-659c-40a5-be02-452d011b75a8 button.colab-df-convert');\n",
              "        buttonEl.style.display =\n",
              "          google.colab.kernel.accessAllowed ? 'block' : 'none';\n",
              "\n",
              "        async function convertToInteractive(key) {\n",
              "          const element = document.querySelector('#df-5c84dcc6-659c-40a5-be02-452d011b75a8');\n",
              "          const dataTable =\n",
              "            await google.colab.kernel.invokeFunction('convertToInteractive',\n",
              "                                                     [key], {});\n",
              "          if (!dataTable) return;\n",
              "\n",
              "          const docLinkHtml = 'Like what you see? Visit the ' +\n",
              "            '<a target=\"_blank\" href=https://colab.research.google.com/notebooks/data_table.ipynb>data table notebook</a>'\n",
              "            + ' to learn more about interactive tables.';\n",
              "          element.innerHTML = '';\n",
              "          dataTable['output_type'] = 'display_data';\n",
              "          await google.colab.output.renderOutput(dataTable, element);\n",
              "          const docLink = document.createElement('div');\n",
              "          docLink.innerHTML = docLinkHtml;\n",
              "          element.appendChild(docLink);\n",
              "        }\n",
              "      </script>\n",
              "    </div>\n",
              "  </div>\n",
              "  "
            ]
          },
          "metadata": {},
          "execution_count": 12
        }
      ]
    },
    {
      "cell_type": "code",
      "source": [
        "# reshape inputs for LSTM [samples, timesteps, features]\n",
        "\n",
        "\n",
        "X_train = X_train.reshape(X_train.shape[0], 1, X_train.shape[1])\n",
        "print(\"Training data shape:\", X_train.shape)\n",
        "X_test = X_test.reshape(X_test.shape[0], 1, X_test.shape[1])\n",
        "print(\"Test data shape:\", X_test.shape)"
      ],
      "metadata": {
        "colab": {
          "base_uri": "https://localhost:8080/"
        },
        "id": "HzlxBnVLWKfX",
        "outputId": "7f6a2263-d9a4-406c-e9c5-189c6d99c274"
      },
      "execution_count": 13,
      "outputs": [
        {
          "output_type": "stream",
          "name": "stdout",
          "text": [
            "Training data shape: (109394, 1, 83)\n",
            "Test data shape: (27349, 1, 83)\n"
          ]
        }
      ]
    },
    {
      "cell_type": "code",
      "source": [
        "from keras.models import Sequential, load_model\n",
        "from keras.layers import Dense, Dropout, LSTM, Bidirectional\n",
        "from tensorflow.keras.utils import plot_model"
      ],
      "metadata": {
        "id": "KcoFoXlNX6KQ"
      },
      "execution_count": 16,
      "outputs": []
    },
    {
      "cell_type": "code",
      "source": [
        "def create_baseline():\n",
        "    model = Sequential()\n",
        "    \n",
        "    model.add(Bidirectional(LSTM(83, activation='tanh', kernel_regularizer='l2')))\n",
        "    model.add(Dense(64, activation = 'relu', kernel_regularizer='l2'))\n",
        "    model.add(Dropout(0.5))\n",
        "    model.add(Dense(5, activation = 'softmax', kernel_regularizer='l2'))\n",
        "    \n",
        "    model.compile(loss = 'sparse_categorical_crossentropy', optimizer = 'adam', metrics = ['accuracy'])\n",
        "    \n",
        "    return model"
      ],
      "metadata": {
        "id": "M0DJhy0MWP2W"
      },
      "execution_count": 20,
      "outputs": []
    },
    {
      "cell_type": "code",
      "source": [
        "model = create_baseline()"
      ],
      "metadata": {
        "id": "2uHWd-G2WsJ1"
      },
      "execution_count": 21,
      "outputs": []
    },
    {
      "cell_type": "code",
      "source": [
        "history = model.fit(X_train, y_train, epochs = 10,validation_split=0.2,verbose = 1)"
      ],
      "metadata": {
        "colab": {
          "base_uri": "https://localhost:8080/"
        },
        "id": "pxm6T7ArW1e7",
        "outputId": "19c0ad93-67c4-4bd7-d57d-de22ff6f2f30"
      },
      "execution_count": 22,
      "outputs": [
        {
          "output_type": "stream",
          "name": "stdout",
          "text": [
            "Epoch 1/10\n",
            "2735/2735 [==============================] - 18s 5ms/step - loss: 0.2541 - accuracy: 0.9888 - val_loss: 0.1211 - val_accuracy: 0.9937\n",
            "Epoch 2/10\n",
            "2735/2735 [==============================] - 12s 5ms/step - loss: 0.1178 - accuracy: 0.9936 - val_loss: 0.1065 - val_accuracy: 0.9930\n",
            "Epoch 3/10\n",
            "2735/2735 [==============================] - 13s 5ms/step - loss: 0.1092 - accuracy: 0.9939 - val_loss: 0.0991 - val_accuracy: 0.9961\n",
            "Epoch 4/10\n",
            "2735/2735 [==============================] - 13s 5ms/step - loss: 0.1052 - accuracy: 0.9943 - val_loss: 0.0965 - val_accuracy: 0.9957\n",
            "Epoch 5/10\n",
            "2735/2735 [==============================] - 13s 5ms/step - loss: 0.1036 - accuracy: 0.9949 - val_loss: 0.0964 - val_accuracy: 0.9961\n",
            "Epoch 6/10\n",
            "2735/2735 [==============================] - 13s 5ms/step - loss: 0.1030 - accuracy: 0.9949 - val_loss: 0.0964 - val_accuracy: 0.9965\n",
            "Epoch 7/10\n",
            "2735/2735 [==============================] - 13s 5ms/step - loss: 0.1028 - accuracy: 0.9948 - val_loss: 0.0960 - val_accuracy: 0.9960\n",
            "Epoch 8/10\n",
            "2735/2735 [==============================] - 13s 5ms/step - loss: 0.1028 - accuracy: 0.9950 - val_loss: 0.0971 - val_accuracy: 0.9955\n",
            "Epoch 9/10\n",
            "2735/2735 [==============================] - 13s 5ms/step - loss: 0.1028 - accuracy: 0.9949 - val_loss: 0.0945 - val_accuracy: 0.9961\n",
            "Epoch 10/10\n",
            "2735/2735 [==============================] - 13s 5ms/step - loss: 0.1028 - accuracy: 0.9948 - val_loss: 0.0950 - val_accuracy: 0.9961\n"
          ]
        }
      ]
    },
    {
      "cell_type": "code",
      "source": [
        "from tensorflow import keras\n",
        "keras.utils.plot_model(model,show_shapes=True)"
      ],
      "metadata": {
        "colab": {
          "base_uri": "https://localhost:8080/",
          "height": 533
        },
        "id": "9M9xk6CMW44V",
        "outputId": "d1bd2530-8366-46c8-e116-7d5d0682ca1d"
      },
      "execution_count": 23,
      "outputs": [
        {
          "output_type": "execute_result",
          "data": {
            "text/plain": [
              "<IPython.core.display.Image object>"
            ],
            "image/png": "[encoded data removed]"
          },
          "metadata": {},
          "execution_count": 23
        }
      ]
    },
    {
      "cell_type": "code",
      "source": [
        "# Plot training & validation accuracy values\n",
        "plt.plot(history.history['accuracy'])\n",
        "plt.plot(history.history['val_accuracy'])\n",
        "plt.title('BiLSTM Model Accuracy')\n",
        "plt.ylabel('Accuracy')\n",
        "plt.xlabel('Epoch')\n",
        "plt.legend(['Train', 'Test'], loc='lower right')\n",
        "plt.savefig('BiLSTM INSDN Model Accuracy.png')\n",
        "plt.show()"
      ],
      "metadata": {
        "colab": {
          "base_uri": "https://localhost:8080/",
          "height": 303
        },
        "id": "6NO6KmQvXJ7I",
        "outputId": "392cc43e-a234-4564-a2c0-0a86a0666bde"
      },
      "execution_count": 24,
      "outputs": [
        {
          "output_type": "display_data",
          "data": {
            "text/plain": [
              "<Figure size 432x288 with 1 Axes>"
            ],
            "image/png": "[encoded data removed]"
          },
          "metadata": {
            "needs_background": "light"
          }
        }
      ]
    },
    {
      "cell_type": "code",
      "source": [
        "# Plot training & validation loss values\n",
        "plt.plot(history.history['loss'])\n",
        "plt.plot(history.history['val_loss'])\n",
        "plt.title('BiLSTM Model  Loss')\n",
        "plt.ylabel('Loss')\n",
        "plt.xlabel('Epoch')\n",
        "plt.legend(['Train', 'Test'], loc='upper left')\n",
        "plt.savefig('BiLSTM INSDN Model Loss.png')\n",
        "plt.show()"
      ],
      "metadata": {
        "colab": {
          "base_uri": "https://localhost:8080/",
          "height": 303
        },
        "id": "2fR-yKiGXQD0",
        "outputId": "8e0ffecb-59d3-4542-91ba-bdf685a332ee"
      },
      "execution_count": 25,
      "outputs": [
        {
          "output_type": "display_data",
          "data": {
            "text/plain": [
              "<Figure size 432x288 with 1 Axes>"
            ],
            "image/png": "[encoded data removed]"
          },
          "metadata": {
            "needs_background": "light"
          }
        }
      ]
    },
    {
      "cell_type": "code",
      "source": [
        "predict = model.predict(X_test, verbose=1)"
      ],
      "metadata": {
        "colab": {
          "base_uri": "https://localhost:8080/"
        },
        "id": "TaPwyE-CXUGF",
        "outputId": "a09dbde3-950e-4856-9eda-990b84b8eb03"
      },
      "execution_count": 26,
      "outputs": [
        {
          "output_type": "stream",
          "name": "stdout",
          "text": [
            "855/855 [==============================] - 2s 2ms/step\n"
          ]
        }
      ]
    },
    {
      "cell_type": "code",
      "source": [
        "scores = model.evaluate(X_test, y_test, verbose=0)\n",
        "print(\"%s: %.2f%%\" % (model.metrics_names[1], scores[1]*100))"
      ],
      "metadata": {
        "colab": {
          "base_uri": "https://localhost:8080/"
        },
        "id": "AxlRbkaYXXus",
        "outputId": "d0a8561e-ba17-4b68-c44b-d9ce551ab386"
      },
      "execution_count": 27,
      "outputs": [
        {
          "output_type": "stream",
          "name": "stdout",
          "text": [
            "accuracy: 99.62%\n"
          ]
        }
      ]
    }
  ]
}