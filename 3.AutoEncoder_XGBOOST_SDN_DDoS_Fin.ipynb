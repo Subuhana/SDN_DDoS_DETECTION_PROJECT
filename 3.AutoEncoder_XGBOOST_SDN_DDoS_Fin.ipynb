{
  "cells": [
    {
      "cell_type": "code",
      "execution_count": 1,
      "metadata": {
        "id": "gyjVSG5krSUL"
      },
      "outputs": [],
      "source": [
        "import pandas as pd\n",
        "from sklearn.preprocessing import MinMaxScaler\n",
        "from sklearn.model_selection import train_test_split\n",
        "from tensorflow.keras.layers import LeakyReLU\n",
        "from tensorflow.keras.models import Model\n",
        "from tensorflow.keras.layers import Input\n",
        "from tensorflow.keras.layers import Dense\n",
        "from tensorflow.keras.layers import BatchNormalization\n",
        "from tensorflow.keras.models import load_model"
      ]
    },
    {
      "cell_type": "code",
      "execution_count": 2,
      "metadata": {
        "id": "Qg7ETYUrrkMD"
      },
      "outputs": [],
      "source": [
        "DDoS=pd.read_csv('/content/dataset_sdn.csv')"
      ]
    },
    {
      "cell_type": "code",
      "source": [
        "DDoS.Protocol.unique()\n",
        "DDoS['Protocol'] = DDoS['Protocol'].replace('TCP', '0')\n",
        "DDoS['Protocol'] = DDoS['Protocol'].replace('UDP', '1')\n",
        "DDoS['Protocol'] = DDoS['Protocol'].replace('ICMP', '2')\n",
        "DDoS.Protocol.unique()"
      ],
      "metadata": {
        "colab": {
          "base_uri": "https://localhost:8080/"
        },
        "id": "hb4yZ3SOCcrS",
        "outputId": "3793c7df-c999-40da-c27a-1056c44280e4"
      },
      "execution_count": 3,
      "outputs": [
        {
          "output_type": "execute_result",
          "data": {
            "text/plain": [
              "array(['1', '0', '2'], dtype=object)"
            ]
          },
          "metadata": {},
          "execution_count": 3
        }
      ]
    },
    {
      "cell_type": "code",
      "source": [
        "DDoS[\"rx_kbps\"] = DDoS[\"rx_kbps\"].fillna(DDoS[\"rx_kbps\"].mean())"
      ],
      "metadata": {
        "id": "VguWicLzCi_y"
      },
      "execution_count": 4,
      "outputs": []
    },
    {
      "cell_type": "code",
      "source": [
        "DDoS[\"tot_kbps\"] = DDoS[\"tot_kbps\"].fillna(DDoS[\"tot_kbps\"].mean())"
      ],
      "metadata": {
        "id": "nvwx6c-GCl_t"
      },
      "execution_count": 5,
      "outputs": []
    },
    {
      "cell_type": "code",
      "source": [
        "DDoS.isnull().sum()"
      ],
      "metadata": {
        "colab": {
          "base_uri": "https://localhost:8080/"
        },
        "id": "F7VbTgz2CqCz",
        "outputId": "20ce3a63-42c1-4303-ef29-bce3877f9ab2"
      },
      "execution_count": 6,
      "outputs": [
        {
          "output_type": "execute_result",
          "data": {
            "text/plain": [
              "dt             0\n",
              "switch         0\n",
              "src            0\n",
              "dst            0\n",
              "pktcount       0\n",
              "bytecount      0\n",
              "dur            0\n",
              "dur_nsec       0\n",
              "tot_dur        0\n",
              "flows          0\n",
              "packetins      0\n",
              "pktperflow     0\n",
              "byteperflow    0\n",
              "pktrate        0\n",
              "Pairflow       0\n",
              "Protocol       0\n",
              "port_no        0\n",
              "tx_bytes       0\n",
              "rx_bytes       0\n",
              "tx_kbps        0\n",
              "rx_kbps        0\n",
              "tot_kbps       0\n",
              "label          0\n",
              "dtype: int64"
            ]
          },
          "metadata": {},
          "execution_count": 6
        }
      ]
    },
    {
      "cell_type": "code",
      "execution_count": 7,
      "metadata": {
        "id": "BlhJwLbNrpwu"
      },
      "outputs": [],
      "source": [
        "# Splitting dataset into features and label\n",
        "X= DDoS[['dt', 'switch', 'pktcount', 'bytecount', 'dur', 'dur_nsec', 'tot_dur',\n",
        "       'flows', 'packetins', 'pktperflow', 'byteperflow', 'pktrate',\n",
        "       'Pairflow','Protocol' ,'port_no', 'tx_bytes', 'rx_bytes', 'tx_kbps', 'rx_kbps',\n",
        "       'tot_kbps']]\n",
        "y = DDoS['label']\n",
        "\n",
        "# Splitting the dataset into the training set and the test set\n",
        "X_train, X_test, y_train, y_test = train_test_split(X, y, test_size=0.2, random_state=0)"
      ]
    },
    {
      "cell_type": "code",
      "execution_count": 8,
      "metadata": {
        "id": "Z5yfIQEnrszx"
      },
      "outputs": [],
      "source": [
        "# scale data\n",
        "t = MinMaxScaler()\n",
        "t.fit(X_train)\n",
        "X_train = t.transform(X_train)\n",
        "X_test = t.transform(X_test)"
      ]
    },
    {
      "cell_type": "code",
      "execution_count": 9,
      "metadata": {
        "id": "wQ2D-yxmrwvI"
      },
      "outputs": [],
      "source": [
        "# AutoEncoder Model Preparation\n",
        "n_inputs = X.shape[1]\n",
        "# define encoder\n",
        "input_data_shape= Input(shape=(n_inputs,))\n",
        "# encoder level 1\n",
        "encoder= Dense(n_inputs*2)(input_data_shape)\n",
        "encoder = BatchNormalization()(encoder)\n",
        "encoder= LeakyReLU()(encoder)\n",
        "# encoder level 2\n",
        "encoder= Dense(n_inputs)(encoder)\n",
        "encoder= BatchNormalization()(encoder)\n",
        "encoder= LeakyReLU()(encoder)\n",
        "# bottleneck\n",
        "n_bottleneck = round(float(n_inputs) / 2.0)\n",
        "bottleneck = Dense(n_bottleneck)(encoder)\n",
        "# define decoder, level 1\n",
        "decoder = Dense(n_inputs)(bottleneck)\n",
        "decoder = BatchNormalization()(decoder)\n",
        "decoder = LeakyReLU()(decoder)\n",
        "# decoder level 2\n",
        "decoder = Dense(n_inputs*2)(decoder)\n",
        "decoder = BatchNormalization()(decoder)\n",
        "decoder = LeakyReLU()(decoder)"
      ]
    },
    {
      "cell_type": "code",
      "execution_count": 10,
      "metadata": {
        "id": "qWrqTrV5r1tY"
      },
      "outputs": [],
      "source": [
        "# output layer\n",
        "output = Dense(n_inputs, activation='linear')(decoder)\n",
        "# define autoencoder model\n",
        "model = Model(inputs=input_data_shape, outputs=output)\n",
        "# compile autoencoder model\n",
        "model.compile(optimizer='adam', loss='mse')"
      ]
    },
    {
      "cell_type": "code",
      "execution_count": 11,
      "metadata": {
        "colab": {
          "base_uri": "https://localhost:8080/"
        },
        "id": "1FiN9FY0r5Sl",
        "outputId": "a26daa20-0ea3-44bf-869e-c88e9c17bd19"
      },
      "outputs": [
        {
          "output_type": "stream",
          "name": "stdout",
          "text": [
            "Model: \"model\"\n",
            "_________________________________________________________________\n",
            " Layer (type)                Output Shape              Param #   \n",
            "=================================================================\n",
            " input_1 (InputLayer)        [(None, 20)]              0         \n",
            "                                                                 \n",
            " dense (Dense)               (None, 40)                840       \n",
            "                                                                 \n",
            " batch_normalization (BatchN  (None, 40)               160       \n",
            " ormalization)                                                   \n",
            "                                                                 \n",
            " leaky_re_lu (LeakyReLU)     (None, 40)                0         \n",
            "                                                                 \n",
            " dense_1 (Dense)             (None, 20)                820       \n",
            "                                                                 \n",
            " batch_normalization_1 (Batc  (None, 20)               80        \n",
            " hNormalization)                                                 \n",
            "                                                                 \n",
            " leaky_re_lu_1 (LeakyReLU)   (None, 20)                0         \n",
            "                                                                 \n",
            " dense_2 (Dense)             (None, 10)                210       \n",
            "                                                                 \n",
            " dense_3 (Dense)             (None, 20)                220       \n",
            "                                                                 \n",
            " batch_normalization_2 (Batc  (None, 20)               80        \n",
            " hNormalization)                                                 \n",
            "                                                                 \n",
            " leaky_re_lu_2 (LeakyReLU)   (None, 20)                0         \n",
            "                                                                 \n",
            " dense_4 (Dense)             (None, 40)                840       \n",
            "                                                                 \n",
            " batch_normalization_3 (Batc  (None, 40)               160       \n",
            " hNormalization)                                                 \n",
            "                                                                 \n",
            " leaky_re_lu_3 (LeakyReLU)   (None, 40)                0         \n",
            "                                                                 \n",
            " dense_5 (Dense)             (None, 20)                820       \n",
            "                                                                 \n",
            "=================================================================\n",
            "Total params: 4,230\n",
            "Trainable params: 3,990\n",
            "Non-trainable params: 240\n",
            "_________________________________________________________________\n"
          ]
        }
      ],
      "source": [
        "model.summary()"
      ]
    },
    {
      "cell_type": "code",
      "execution_count": 12,
      "metadata": {
        "colab": {
          "base_uri": "https://localhost:8080/"
        },
        "id": "lhobjlyUsADo",
        "outputId": "cf5d9208-d732-428b-a0d3-c0f9c4fa68ac"
      },
      "outputs": [
        {
          "output_type": "stream",
          "name": "stdout",
          "text": [
            "Epoch 1/20\n",
            "1305/1305 - 5s - loss: 0.0935 - val_loss: 0.0771 - 5s/epoch - 4ms/step\n",
            "Epoch 2/20\n",
            "1305/1305 - 3s - loss: 0.0422 - val_loss: 0.0332 - 3s/epoch - 3ms/step\n",
            "Epoch 3/20\n",
            "1305/1305 - 4s - loss: 0.0343 - val_loss: 0.0240 - 4s/epoch - 3ms/step\n",
            "Epoch 4/20\n",
            "1305/1305 - 4s - loss: 0.0289 - val_loss: 0.0248 - 4s/epoch - 3ms/step\n",
            "Epoch 5/20\n",
            "1305/1305 - 4s - loss: 0.0264 - val_loss: 0.0269 - 4s/epoch - 3ms/step\n",
            "Epoch 6/20\n",
            "1305/1305 - 3s - loss: 0.0243 - val_loss: 0.0198 - 3s/epoch - 3ms/step\n",
            "Epoch 7/20\n",
            "1305/1305 - 3s - loss: 0.0224 - val_loss: 0.0165 - 3s/epoch - 3ms/step\n",
            "Epoch 8/20\n",
            "1305/1305 - 4s - loss: 0.0205 - val_loss: 0.0189 - 4s/epoch - 3ms/step\n",
            "Epoch 9/20\n",
            "1305/1305 - 4s - loss: 0.0193 - val_loss: 0.0167 - 4s/epoch - 3ms/step\n",
            "Epoch 10/20\n",
            "1305/1305 - 4s - loss: 0.0184 - val_loss: 0.0153 - 4s/epoch - 3ms/step\n",
            "Epoch 11/20\n",
            "1305/1305 - 3s - loss: 0.0171 - val_loss: 0.0125 - 3s/epoch - 3ms/step\n",
            "Epoch 12/20\n",
            "1305/1305 - 3s - loss: 0.0173 - val_loss: 0.0130 - 3s/epoch - 3ms/step\n",
            "Epoch 13/20\n",
            "1305/1305 - 4s - loss: 0.0164 - val_loss: 0.0137 - 4s/epoch - 3ms/step\n",
            "Epoch 14/20\n",
            "1305/1305 - 4s - loss: 0.0150 - val_loss: 0.0177 - 4s/epoch - 3ms/step\n",
            "Epoch 15/20\n",
            "1305/1305 - 3s - loss: 0.0154 - val_loss: 0.0245 - 3s/epoch - 3ms/step\n",
            "Epoch 16/20\n",
            "1305/1305 - 4s - loss: 0.0148 - val_loss: 0.0120 - 4s/epoch - 3ms/step\n",
            "Epoch 17/20\n",
            "1305/1305 - 3s - loss: 0.0143 - val_loss: 0.0103 - 3s/epoch - 3ms/step\n",
            "Epoch 18/20\n",
            "1305/1305 - 3s - loss: 0.0142 - val_loss: 0.0128 - 3s/epoch - 3ms/step\n",
            "Epoch 19/20\n",
            "1305/1305 - 4s - loss: 0.0136 - val_loss: 0.0106 - 4s/epoch - 3ms/step\n",
            "Epoch 20/20\n",
            "1305/1305 - 3s - loss: 0.0132 - val_loss: 0.0120 - 3s/epoch - 3ms/step\n"
          ]
        }
      ],
      "source": [
        "# fit the autoencoder model to reconstruct input\n",
        "history = model.fit(X_train, y_train, epochs=20, batch_size=64, verbose=2, validation_data=(X_test,y_test))"
      ]
    },
    {
      "cell_type": "code",
      "execution_count": 13,
      "metadata": {
        "id": "ZTS7_00AsE81"
      },
      "outputs": [],
      "source": [
        "# define an encoder model (without the decoder)\n",
        "encoder = Model(inputs=input_data_shape, outputs=bottleneck)\n"
      ]
    },
    {
      "cell_type": "code",
      "execution_count": 14,
      "metadata": {
        "colab": {
          "base_uri": "https://localhost:8080/"
        },
        "id": "w__uhETA9tjN",
        "outputId": "05131459-9675-445a-8c2f-9d36184c331d"
      },
      "outputs": [
        {
          "output_type": "stream",
          "name": "stdout",
          "text": [
            "Epoch 1/20\n",
            "5218/5218 - 19s - loss: 0.0995 - val_loss: 0.0548 - 19s/epoch - 4ms/step\n",
            "Epoch 2/20\n",
            "5218/5218 - 16s - loss: 0.0550 - val_loss: 0.0472 - 16s/epoch - 3ms/step\n",
            "Epoch 3/20\n",
            "5218/5218 - 16s - loss: 0.0492 - val_loss: 0.0391 - 16s/epoch - 3ms/step\n",
            "Epoch 4/20\n",
            "5218/5218 - 17s - loss: 0.0465 - val_loss: 0.0349 - 17s/epoch - 3ms/step\n",
            "Epoch 5/20\n",
            "5218/5218 - 17s - loss: 0.0440 - val_loss: 0.0331 - 17s/epoch - 3ms/step\n",
            "Epoch 6/20\n",
            "5218/5218 - 12s - loss: 0.0426 - val_loss: 0.0348 - 12s/epoch - 2ms/step\n",
            "Epoch 7/20\n",
            "5218/5218 - 10s - loss: 0.0412 - val_loss: 0.0295 - 10s/epoch - 2ms/step\n",
            "Epoch 8/20\n",
            "5218/5218 - 19s - loss: 0.0395 - val_loss: 0.0370 - 19s/epoch - 4ms/step\n",
            "Epoch 9/20\n",
            "5218/5218 - 16s - loss: 0.0389 - val_loss: 0.0269 - 16s/epoch - 3ms/step\n",
            "Epoch 10/20\n",
            "5218/5218 - 11s - loss: 0.0372 - val_loss: 0.0287 - 11s/epoch - 2ms/step\n",
            "Epoch 11/20\n",
            "5218/5218 - 11s - loss: 0.0366 - val_loss: 0.0342 - 11s/epoch - 2ms/step\n",
            "Epoch 12/20\n",
            "5218/5218 - 10s - loss: 0.0356 - val_loss: 0.0313 - 10s/epoch - 2ms/step\n",
            "Epoch 13/20\n",
            "5218/5218 - 10s - loss: 0.0353 - val_loss: 0.0286 - 10s/epoch - 2ms/step\n",
            "Epoch 14/20\n",
            "5218/5218 - 10s - loss: 0.0341 - val_loss: 0.0233 - 10s/epoch - 2ms/step\n",
            "Epoch 15/20\n",
            "5218/5218 - 11s - loss: 0.0338 - val_loss: 0.0255 - 11s/epoch - 2ms/step\n",
            "Epoch 16/20\n",
            "5218/5218 - 11s - loss: 0.0334 - val_loss: 0.0249 - 11s/epoch - 2ms/step\n",
            "Epoch 17/20\n",
            "5218/5218 - 11s - loss: 0.0333 - val_loss: 0.0292 - 11s/epoch - 2ms/step\n",
            "Epoch 18/20\n",
            "5218/5218 - 11s - loss: 0.0330 - val_loss: 0.0351 - 11s/epoch - 2ms/step\n",
            "Epoch 19/20\n",
            "5218/5218 - 11s - loss: 0.0325 - val_loss: 0.0260 - 11s/epoch - 2ms/step\n",
            "Epoch 20/20\n",
            "5218/5218 - 11s - loss: 0.0325 - val_loss: 0.0233 - 11s/epoch - 2ms/step\n"
          ]
        }
      ],
      "source": [
        "# compile autoencoder model\n",
        "encoder.compile(optimizer='adam',loss='mse')\n",
        "history = encoder.fit(X_train, y_train, epochs=20, batch_size=16, verbose=2, validation_data=(X_test,y_test))\n",
        "# save the encoder to file\n",
        "encoder.save('encoder.h5')"
      ]
    },
    {
      "cell_type": "code",
      "execution_count": 15,
      "metadata": {
        "id": "U4tpRu0gsYrl"
      },
      "outputs": [],
      "source": [
        "from xgboost import XGBClassifier\n",
        "\n",
        "#Compressing the input data using Encoder Model and fitting it on the XG Boost model.\n",
        "# load the model from file\n",
        "encoder = load_model('encoder.h5')\n",
        "\n",
        "# encode the train data\n",
        "X_train_encode = encoder.predict(X_train)\n",
        "# encode the test data\n",
        "X_test_encode = encoder.predict(X_test)\n",
        "# define the model\n",
        "model = XGBClassifier(max_iter=20)\n",
        "# fit the model on the training set\n",
        "model.fit(X_train_encode, y_train)\n",
        "# make predictions on the test set\n",
        "yhat = model.predict(X_test_encode)\n"
      ]
    },
    {
      "cell_type": "code",
      "source": [
        "# calculate Evaluation metrics \n",
        "from sklearn.metrics import accuracy_score\n",
        "from sklearn.metrics import precision_score\n",
        "from sklearn.metrics import recall_score\n",
        "from sklearn.metrics import f1_score\n",
        "acc = accuracy_score(y_test, yhat)\n",
        "print('accuarcy of XGBoost = ', acc)\n",
        "precision1 = precision_score(y_test, yhat)\n",
        "print(' precision of XGBoost = ', precision1)\n",
        "\n",
        "recall1 = recall_score(y_test, yhat)\n",
        "print(' recall of XGBoost = ',recall1 )\n",
        "\n",
        "f11=f1_score(y_test, yhat, average='macro')\n",
        "print('f1 score ofXGBoost = ',f11)"
      ],
      "metadata": {
        "colab": {
          "base_uri": "https://localhost:8080/"
        },
        "id": "vosUBqyPEw98",
        "outputId": "d26b0d1e-9137-427c-d0fd-f1f007877fb2"
      },
      "execution_count": 16,
      "outputs": [
        {
          "output_type": "stream",
          "name": "stdout",
          "text": [
            "accuarcy of XGBoost =  0.9758014279553404\n",
            " precision of XGBoost =  0.9741194293649792\n",
            " recall of XGBoost =  0.9625748502994012\n",
            "f1 score ofXGBoost =  0.97436992330395\n"
          ]
        }
      ]
    }
  ],
  "metadata": {
    "colab": {
      "collapsed_sections": [],
      "name": "3.AutoEncoder_XGBOOST_SDN_DDoS_Fin.ipynb",
      "provenance": []
    },
    "kernelspec": {
      "display_name": "Python 3",
      "name": "python3"
    },
    "language_info": {
      "name": "python"
    }
  },
  "nbformat": 4,
  "nbformat_minor": 0
}